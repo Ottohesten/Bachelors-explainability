{
 "cells": [
  {
   "cell_type": "code",
   "execution_count": 1,
   "metadata": {},
   "outputs": [],
   "source": [
    "import h5py\n",
    "import os\n",
    "import mne"
   ]
  },
  {
   "cell_type": "code",
   "execution_count": 2,
   "metadata": {},
   "outputs": [
    {
     "data": {
      "text/plain": [
       "<KeysViewHDF5 ['data', 'labels', 'sessions_labels']>"
      ]
     },
     "execution_count": 2,
     "metadata": {},
     "output_type": "execute_result"
    }
   ],
   "source": [
    "data_dir = \"/scratch/s194101/data/preprocessed_downstream/mmidb_noica_5.0_titans_no_combine/\"\n",
    "data_dir_combined = \"/scratch/s194101/data/preprocessed_downstream/mmidb_noica_5.0_titans_combined/\"\n",
    "filename = \"data_1.hdf5\"\n",
    "filename_combined = \"combined_00000.hdf5\"\n",
    "# os.listdir(file_path)\n",
    "file_path = os.path.join(data_dir, filename)\n",
    "file_path_combined = os.path.join(data_dir_combined, filename_combined)\n",
    "\n",
    "file = h5py.File(file_path, 'r')\n",
    "file_combined = h5py.File(file_path_combined, 'r')\n",
    "    \n",
    "file.keys()"
   ]
  },
  {
   "cell_type": "code",
   "execution_count": 3,
   "metadata": {},
   "outputs": [
    {
     "name": "stdout",
     "output_type": "stream",
     "text": [
      "<KeysViewHDF5 ['data', 'labels', 'sessions_labels']>\n"
     ]
    },
    {
     "data": {
      "text/plain": [
       "<KeysViewHDF5 ['descriptions', 'file_idxs', 'file_paths', 'files', 'time_slices']>"
      ]
     },
     "execution_count": 3,
     "metadata": {},
     "output_type": "execute_result"
    }
   ],
   "source": [
    "print(file.keys())\n",
    "file.attrs.keys()\n",
    "# file.attrs[\"file_paths\"]\n",
    "# file.attrs[\"files\"]"
   ]
  },
  {
   "cell_type": "code",
   "execution_count": 4,
   "metadata": {},
   "outputs": [
    {
     "name": "stdout",
     "output_type": "stream",
     "text": [
      "<KeysViewHDF5 ['data', 'file_idxs', 'labels', 'sessions_labels', 'time_slices']>\n"
     ]
    },
    {
     "data": {
      "text/plain": [
       "array(['S023R06', 'S029R05', 'S060R07', ..., 'S089R04', 'S087R09',\n",
       "       'S071R04'], dtype=object)"
      ]
     },
     "execution_count": 4,
     "metadata": {},
     "output_type": "execute_result"
    }
   ],
   "source": [
    "print(file_combined.keys())\n",
    "file_combined.attrs.keys()\n",
    "file_combined.attrs[\"files\"][:]"
   ]
  },
  {
   "cell_type": "code",
   "execution_count": 5,
   "metadata": {},
   "outputs": [
    {
     "data": {
      "text/plain": [
       "<HDF5 dataset \"data\": shape (57, 19, 1280), type \"<f4\">"
      ]
     },
     "execution_count": 5,
     "metadata": {},
     "output_type": "execute_result"
    }
   ],
   "source": [
    "file[\"data\"]\n",
    "\n"
   ]
  },
  {
   "cell_type": "code",
   "execution_count": 6,
   "metadata": {},
   "outputs": [
    {
     "name": "stdout",
     "output_type": "stream",
     "text": [
      "Extracting EDF parameters from /home/s194101/Bachelors-explainability/raws_test/S033R03_0.edf...\n",
      "EDF file detected\n",
      "Setting channel info structure...\n",
      "Creating raw.info structure...\n",
      "Reading 0 ... 1279  =      0.000 ...     4.996 secs...\n",
      "Extracting EDF parameters from /home/s194101/Bachelors-explainability/raws_test/S040R06_5_no_anno.edf...\n",
      "EDF file detected\n",
      "Setting channel info structure...\n",
      "Creating raw.info structure...\n",
      "Reading 0 ... 1279  =      0.000 ...     4.996 secs...\n",
      "<Info | 8 non-empty values\n",
      " bads: []\n",
      " ch_names: Fp1, Fp2, F7, F3, Fz, F4, F8, T7, C3, Cz, C4, T8, T5, P3, Pz, ...\n",
      " chs: 19 EEG\n",
      " custom_ref_applied: False\n",
      " highpass: 0.0 Hz\n",
      " lowpass: 128.0 Hz\n",
      " meas_date: 1985-01-01 00:00:00 UTC\n",
      " nchan: 19\n",
      " projs: []\n",
      " sfreq: 256.0 Hz\n",
      " subject_info: 3 items (dict)\n",
      ">\n"
     ]
    },
    {
     "data": {
      "text/plain": [
       "<Annotations | 0 segments>"
      ]
     },
     "execution_count": 6,
     "metadata": {},
     "output_type": "execute_result"
    }
   ],
   "source": [
    "# sample_test = \"/home/s194101/Bachelors-explainability/raws_test/S050R14_0.edf\"\n",
    "sample_test = \"/home/s194101/Bachelors-explainability/raws_test/S033R03_0.edf\"\n",
    "sample_test_no_anno = \"/home/s194101/Bachelors-explainability/raws_test/S040R06_5_no_anno.edf\"\n",
    "\n",
    "raw = mne.io.read_raw_edf(sample_test, preload=True)\n",
    "raw_no_anno = mne.io.read_raw_edf(sample_test_no_anno, preload=True)\n",
    "# raw = mne.io.read_raw_fif(sample_test, preload=True)\n",
    "\n",
    "print(raw.info)\n",
    "\n",
    "\n",
    "raw.annotations\n",
    "raw_no_anno.annotations"
   ]
  },
  {
   "cell_type": "code",
   "execution_count": 8,
   "metadata": {},
   "outputs": [
    {
     "name": "stdout",
     "output_type": "stream",
     "text": [
      "Using up to 25 segments\n",
      "Number of samples used : 1275\n",
      "[done]\n",
      "Using up to 25 segments\n",
      "Number of samples used : 1275\n",
      "[done]\n"
     ]
    }
   ],
   "source": [
    "cov = mne.compute_raw_covariance(raw)\n",
    "cov_anno = mne.compute_raw_covariance(raw_no_anno)\n"
   ]
  },
  {
   "cell_type": "code",
   "execution_count": 16,
   "metadata": {},
   "outputs": [
    {
     "data": {
      "text/plain": [
       "(19, 19)"
      ]
     },
     "execution_count": 16,
     "metadata": {},
     "output_type": "execute_result"
    }
   ],
   "source": [
    "cov.data.shape"
   ]
  }
 ],
 "metadata": {
  "kernelspec": {
   "display_name": "myenv",
   "language": "python",
   "name": "python3"
  },
  "language_info": {
   "codemirror_mode": {
    "name": "ipython",
    "version": 3
   },
   "file_extension": ".py",
   "mimetype": "text/x-python",
   "name": "python",
   "nbconvert_exporter": "python",
   "pygments_lexer": "ipython3",
   "version": "3.11.9"
  }
 },
 "nbformat": 4,
 "nbformat_minor": 2
}
