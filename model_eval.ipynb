{
 "cells": [
  {
   "cell_type": "code",
   "execution_count": 9,
   "metadata": {},
   "outputs": [],
   "source": [
    "import h5py\n",
    "import mne\n",
    "from eegatscale.models import LinearHeadBENDR\n",
    "from scripts.finetune_cv import H5PYDatasetLabeled\n",
    "from scripts.finetune_cv_nogroups import H5PYDatasetLabeled as H5PYDatasetLabeledNoGroups\n",
    "from torch.utils.data import DataLoader\n",
    "from eegatscale.transforms import StandardizeLabel, Standardize\n",
    "import numpy as np\n",
    "import torch\n",
    "import pickle\n",
    "import os\n",
    "# from dataset_utils import PickleDataset\n",
    "from tqdm import tqdm\n",
    "from glob import glob\n",
    "import warnings\n",
    "warnings.filterwarnings(\"ignore\")"
   ]
  },
  {
   "cell_type": "markdown",
   "metadata": {},
   "source": [
    "# TUSZ data"
   ]
  },
  {
   "cell_type": "code",
   "execution_count": 10,
   "metadata": {},
   "outputs": [
    {
     "name": "stdout",
     "output_type": "stream",
     "text": [
      "872 samples in eval set\n"
     ]
    }
   ],
   "source": [
    "number = 2\n",
    "# tusz_model_dir = f\"/scratch/s194101/finetune_logs_all/tusz_noica_noica_60.0_nogroups_{number}/\"\n",
    "# tusz_model_dir = f\"/scratch/s194101/finetune_logs_all/tusz_noica_noica_60.0_nogroups_whole_dataset/\"\n",
    "\n",
    "# whole dataset split train\n",
    "tusz_model_dir = \"/scratch/s194101/finetune_logs_all/tusz_noica_noica_60.0_nogroups_whole_dataset_split_train\"\n",
    "\n",
    "models = glob(f\"{tusz_model_dir}/*/*/*.ckpt\")\n",
    "\n",
    "# we need to test all the models on the eval set\n",
    "data_dir_eval = \"/scratch/s194101/data/preprocessed_downstream/tusz/noica_60.0_titans_combine_eval_combined\"\n",
    "data_dir_train = \"/scratch/s194101/data/preprocessed_downstream/tusz/noica_60.0_titans_combine_whole_dataset_combined\"\n",
    "data_dir_split_train = \"/scratch/s194101/data/preprocessed_downstream/tusz/noica_60.0_titans_combine_whole_dataset_split_train_combined\"\n",
    "data_dir_split_eval = \"/scratch/s194101/data/preprocessed_downstream/tusz/noica_60.0_titans_combine_whole_dataset_split_eval_combined\"\n",
    "transform = StandardizeLabel()\n",
    "\n",
    "\n",
    "data_eval = H5PYDatasetLabeledNoGroups(data_dir_eval, transform=transform)\n",
    "# data_eval = H5PYDatasetLabeledNoGroups(data_dir_train, transform=transform)\n",
    "# data_eval = H5PYDatasetLabeledNoGroups(data_dir_split_train, transform=transform)\n",
    "# data_eval = H5PYDatasetLabeledNoGroups(data_dir_split_eval, transform=transform)\n",
    "print(f\"{len(data_eval)} samples in eval set\")\n",
    "\n",
    "\n",
    "\n",
    "dataloader_eval = DataLoader(data_eval, batch_size=80, shuffle=True)"
   ]
  },
  {
   "cell_type": "code",
   "execution_count": 11,
   "metadata": {},
   "outputs": [],
   "source": [
    "# x, y = next(iter(dataloader_eval))\n",
    "# print(x.shape, y.shape)\n",
    "\n",
    "# y_pred = model(x)\n",
    "\n",
    "# y_pred.argmax(dim=1), y\n",
    "\n",
    "# # y_pred.argmax(dim=1) == y"
   ]
  },
  {
   "cell_type": "code",
   "execution_count": 12,
   "metadata": {},
   "outputs": [
    {
     "name": "stderr",
     "output_type": "stream",
     "text": [
      "  0%|          | 0/50 [00:00<?, ?it/s]"
     ]
    },
    {
     "name": "stdout",
     "output_type": "stream",
     "text": [
      "Testing model /scratch/s194101/finetune_logs_all/tusz_noica_noica_60.0_nogroups_whole_dataset_split_train/version_36/checkpoints/epoch=3-step=148.ckpt\n",
      "Initialized mask embedding and position encoder from  /scratch/s194101/finetune_logs_all/tusz_noica_noica_60.0_nogroups_whole_dataset_split_train/version_36/checkpoints/epoch=3-step=148.ckpt\n",
      "model loaded\n"
     ]
    },
    {
     "name": "stderr",
     "output_type": "stream",
     "text": [
      "  2%|▏         | 1/50 [00:18<15:12, 18.62s/it]"
     ]
    },
    {
     "name": "stdout",
     "output_type": "stream",
     "text": [
      "Model /scratch/s194101/finetune_logs_all/tusz_noica_noica_60.0_nogroups_whole_dataset_split_train/version_36/checkpoints/epoch=3-step=148.ckpt accuracy on eval set: 0.7361111044883728 +- 0.008454882142943827\n",
      "Best model so far: accuracy: 0.7361111044883728 +- 0.008454882142943827 | /scratch/s194101/finetune_logs_all/tusz_noica_noica_60.0_nogroups_whole_dataset_split_train/version_36/checkpoints/epoch=3-step=148.ckpt\n",
      "Testing model /scratch/s194101/finetune_logs_all/tusz_noica_noica_60.0_nogroups_whole_dataset_split_train/version_41/checkpoints/epoch=12-step=481.ckpt\n",
      "Initialized mask embedding and position encoder from  /scratch/s194101/finetune_logs_all/tusz_noica_noica_60.0_nogroups_whole_dataset_split_train/version_41/checkpoints/epoch=12-step=481.ckpt\n",
      "model loaded\n"
     ]
    },
    {
     "name": "stderr",
     "output_type": "stream",
     "text": [
      "  4%|▍         | 2/50 [00:35<13:52, 17.33s/it]"
     ]
    },
    {
     "name": "stdout",
     "output_type": "stream",
     "text": [
      "Model /scratch/s194101/finetune_logs_all/tusz_noica_noica_60.0_nogroups_whole_dataset_split_train/version_41/checkpoints/epoch=12-step=481.ckpt accuracy on eval set: 0.7271464683792808 +- 0.01773112411852235\n",
      "Best model so far: accuracy: 0.7361111044883728 +- 0.008454882142943827 | /scratch/s194101/finetune_logs_all/tusz_noica_noica_60.0_nogroups_whole_dataset_split_train/version_36/checkpoints/epoch=3-step=148.ckpt\n",
      "Testing model /scratch/s194101/finetune_logs_all/tusz_noica_noica_60.0_nogroups_whole_dataset_split_train/version_17/checkpoints/epoch=7-step=296.ckpt\n",
      "Initialized mask embedding and position encoder from  /scratch/s194101/finetune_logs_all/tusz_noica_noica_60.0_nogroups_whole_dataset_split_train/version_17/checkpoints/epoch=7-step=296.ckpt\n",
      "model loaded\n"
     ]
    },
    {
     "name": "stderr",
     "output_type": "stream",
     "text": [
      "  6%|▌         | 3/50 [00:51<13:20, 17.03s/it]"
     ]
    },
    {
     "name": "stdout",
     "output_type": "stream",
     "text": [
      "Model /scratch/s194101/finetune_logs_all/tusz_noica_noica_60.0_nogroups_whole_dataset_split_train/version_17/checkpoints/epoch=7-step=296.ckpt accuracy on eval set: 0.731186872178858 +- 0.012076889358565174\n",
      "Best model so far: accuracy: 0.7361111044883728 +- 0.008454882142943827 | /scratch/s194101/finetune_logs_all/tusz_noica_noica_60.0_nogroups_whole_dataset_split_train/version_36/checkpoints/epoch=3-step=148.ckpt\n",
      "Testing model /scratch/s194101/finetune_logs_all/tusz_noica_noica_60.0_nogroups_whole_dataset_split_train/version_25/checkpoints/epoch=9-step=370.ckpt\n",
      "Initialized mask embedding and position encoder from  /scratch/s194101/finetune_logs_all/tusz_noica_noica_60.0_nogroups_whole_dataset_split_train/version_25/checkpoints/epoch=9-step=370.ckpt\n",
      "model loaded\n"
     ]
    },
    {
     "name": "stderr",
     "output_type": "stream",
     "text": [
      "  8%|▊         | 4/50 [01:08<13:02, 17.02s/it]"
     ]
    },
    {
     "name": "stdout",
     "output_type": "stream",
     "text": [
      "Model /scratch/s194101/finetune_logs_all/tusz_noica_noica_60.0_nogroups_whole_dataset_split_train/version_25/checkpoints/epoch=9-step=370.ckpt accuracy on eval set: 0.730303021994504 +- 0.01406207252208932\n",
      "Best model so far: accuracy: 0.7361111044883728 +- 0.008454882142943827 | /scratch/s194101/finetune_logs_all/tusz_noica_noica_60.0_nogroups_whole_dataset_split_train/version_36/checkpoints/epoch=3-step=148.ckpt\n",
      "Testing model /scratch/s194101/finetune_logs_all/tusz_noica_noica_60.0_nogroups_whole_dataset_split_train/version_52/checkpoints/epoch=4-step=185.ckpt\n",
      "Initialized mask embedding and position encoder from  /scratch/s194101/finetune_logs_all/tusz_noica_noica_60.0_nogroups_whole_dataset_split_train/version_52/checkpoints/epoch=4-step=185.ckpt\n",
      "model loaded\n"
     ]
    },
    {
     "name": "stderr",
     "output_type": "stream",
     "text": [
      " 10%|█         | 5/50 [01:25<12:39, 16.87s/it]"
     ]
    },
    {
     "name": "stdout",
     "output_type": "stream",
     "text": [
      "Model /scratch/s194101/finetune_logs_all/tusz_noica_noica_60.0_nogroups_whole_dataset_split_train/version_52/checkpoints/epoch=4-step=185.ckpt accuracy on eval set: 0.6912878751754761 +- 0.014045366769468132\n",
      "Best model so far: accuracy: 0.7361111044883728 +- 0.008454882142943827 | /scratch/s194101/finetune_logs_all/tusz_noica_noica_60.0_nogroups_whole_dataset_split_train/version_36/checkpoints/epoch=3-step=148.ckpt\n",
      "Testing model /scratch/s194101/finetune_logs_all/tusz_noica_noica_60.0_nogroups_whole_dataset_split_train/version_28/checkpoints/epoch=1-step=74.ckpt\n",
      "Initialized mask embedding and position encoder from  /scratch/s194101/finetune_logs_all/tusz_noica_noica_60.0_nogroups_whole_dataset_split_train/version_28/checkpoints/epoch=1-step=74.ckpt\n",
      "model loaded\n"
     ]
    },
    {
     "name": "stderr",
     "output_type": "stream",
     "text": [
      " 12%|█▏        | 6/50 [01:41<12:13, 16.67s/it]"
     ]
    },
    {
     "name": "stdout",
     "output_type": "stream",
     "text": [
      "Model /scratch/s194101/finetune_logs_all/tusz_noica_noica_60.0_nogroups_whole_dataset_split_train/version_28/checkpoints/epoch=1-step=74.ckpt accuracy on eval set: 0.6751262653957714 +- 0.013699877034676322\n",
      "Best model so far: accuracy: 0.7361111044883728 +- 0.008454882142943827 | /scratch/s194101/finetune_logs_all/tusz_noica_noica_60.0_nogroups_whole_dataset_split_train/version_36/checkpoints/epoch=3-step=148.ckpt\n",
      "Testing model /scratch/s194101/finetune_logs_all/tusz_noica_noica_60.0_nogroups_whole_dataset_split_train/version_55/checkpoints/epoch=7-step=296.ckpt\n",
      "Initialized mask embedding and position encoder from  /scratch/s194101/finetune_logs_all/tusz_noica_noica_60.0_nogroups_whole_dataset_split_train/version_55/checkpoints/epoch=7-step=296.ckpt\n",
      "model loaded\n"
     ]
    },
    {
     "name": "stderr",
     "output_type": "stream",
     "text": [
      " 14%|█▍        | 7/50 [01:58<11:58, 16.72s/it]"
     ]
    },
    {
     "name": "stdout",
     "output_type": "stream",
     "text": [
      "Model /scratch/s194101/finetune_logs_all/tusz_noica_noica_60.0_nogroups_whole_dataset_split_train/version_55/checkpoints/epoch=7-step=296.ckpt accuracy on eval set: 0.7164141589945013 +- 0.010747639169412912\n",
      "Best model so far: accuracy: 0.7361111044883728 +- 0.008454882142943827 | /scratch/s194101/finetune_logs_all/tusz_noica_noica_60.0_nogroups_whole_dataset_split_train/version_36/checkpoints/epoch=3-step=148.ckpt\n",
      "Testing model /scratch/s194101/finetune_logs_all/tusz_noica_noica_60.0_nogroups_whole_dataset_split_train/version_22/checkpoints/epoch=6-step=259.ckpt\n",
      "Initialized mask embedding and position encoder from  /scratch/s194101/finetune_logs_all/tusz_noica_noica_60.0_nogroups_whole_dataset_split_train/version_22/checkpoints/epoch=6-step=259.ckpt\n",
      "model loaded\n"
     ]
    },
    {
     "name": "stderr",
     "output_type": "stream",
     "text": [
      " 16%|█▌        | 8/50 [02:15<11:44, 16.77s/it]"
     ]
    },
    {
     "name": "stdout",
     "output_type": "stream",
     "text": [
      "Model /scratch/s194101/finetune_logs_all/tusz_noica_noica_60.0_nogroups_whole_dataset_split_train/version_22/checkpoints/epoch=6-step=259.ckpt accuracy on eval set: 0.7020202008160678 +- 0.01360401729835373\n",
      "Best model so far: accuracy: 0.7361111044883728 +- 0.008454882142943827 | /scratch/s194101/finetune_logs_all/tusz_noica_noica_60.0_nogroups_whole_dataset_split_train/version_36/checkpoints/epoch=3-step=148.ckpt\n",
      "Testing model /scratch/s194101/finetune_logs_all/tusz_noica_noica_60.0_nogroups_whole_dataset_split_train/version_10/checkpoints/epoch=7-step=296.ckpt\n",
      "Initialized mask embedding and position encoder from  /scratch/s194101/finetune_logs_all/tusz_noica_noica_60.0_nogroups_whole_dataset_split_train/version_10/checkpoints/epoch=7-step=296.ckpt\n",
      "model loaded\n"
     ]
    },
    {
     "name": "stderr",
     "output_type": "stream",
     "text": [
      " 18%|█▊        | 9/50 [02:34<12:04, 17.67s/it]"
     ]
    },
    {
     "name": "stdout",
     "output_type": "stream",
     "text": [
      "Model /scratch/s194101/finetune_logs_all/tusz_noica_noica_60.0_nogroups_whole_dataset_split_train/version_10/checkpoints/epoch=7-step=296.ckpt accuracy on eval set: 0.7335858507589861 +- 0.010827443300036817\n",
      "Best model so far: accuracy: 0.7361111044883728 +- 0.008454882142943827 | /scratch/s194101/finetune_logs_all/tusz_noica_noica_60.0_nogroups_whole_dataset_split_train/version_36/checkpoints/epoch=3-step=148.ckpt\n",
      "Testing model /scratch/s194101/finetune_logs_all/tusz_noica_noica_60.0_nogroups_whole_dataset_split_train/version_6/checkpoints/epoch=9-step=370.ckpt\n",
      "Initialized mask embedding and position encoder from  /scratch/s194101/finetune_logs_all/tusz_noica_noica_60.0_nogroups_whole_dataset_split_train/version_6/checkpoints/epoch=9-step=370.ckpt\n",
      "model loaded\n"
     ]
    },
    {
     "name": "stderr",
     "output_type": "stream",
     "text": [
      " 20%|██        | 10/50 [03:21<17:38, 26.46s/it]"
     ]
    },
    {
     "name": "stdout",
     "output_type": "stream",
     "text": [
      "Model /scratch/s194101/finetune_logs_all/tusz_noica_noica_60.0_nogroups_whole_dataset_split_train/version_6/checkpoints/epoch=9-step=370.ckpt accuracy on eval set: 0.7226010127501055 +- 0.013795704721617489\n",
      "Best model so far: accuracy: 0.7361111044883728 +- 0.008454882142943827 | /scratch/s194101/finetune_logs_all/tusz_noica_noica_60.0_nogroups_whole_dataset_split_train/version_36/checkpoints/epoch=3-step=148.ckpt\n",
      "Testing model /scratch/s194101/finetune_logs_all/tusz_noica_noica_60.0_nogroups_whole_dataset_split_train/version_46/checkpoints/epoch=8-step=333.ckpt\n",
      "Initialized mask embedding and position encoder from  /scratch/s194101/finetune_logs_all/tusz_noica_noica_60.0_nogroups_whole_dataset_split_train/version_46/checkpoints/epoch=8-step=333.ckpt\n",
      "model loaded\n"
     ]
    },
    {
     "name": "stderr",
     "output_type": "stream",
     "text": [
      " 22%|██▏       | 11/50 [04:07<21:14, 32.68s/it]"
     ]
    },
    {
     "name": "stdout",
     "output_type": "stream",
     "text": [
      "Model /scratch/s194101/finetune_logs_all/tusz_noica_noica_60.0_nogroups_whole_dataset_split_train/version_46/checkpoints/epoch=8-step=333.ckpt accuracy on eval set: 0.7114898995919661 +- 0.011800106790631272\n",
      "Best model so far: accuracy: 0.7361111044883728 +- 0.008454882142943827 | /scratch/s194101/finetune_logs_all/tusz_noica_noica_60.0_nogroups_whole_dataset_split_train/version_36/checkpoints/epoch=3-step=148.ckpt\n",
      "Testing model /scratch/s194101/finetune_logs_all/tusz_noica_noica_60.0_nogroups_whole_dataset_split_train/version_31/checkpoints/epoch=8-step=333.ckpt\n",
      "Initialized mask embedding and position encoder from  /scratch/s194101/finetune_logs_all/tusz_noica_noica_60.0_nogroups_whole_dataset_split_train/version_31/checkpoints/epoch=8-step=333.ckpt\n",
      "model loaded\n"
     ]
    },
    {
     "name": "stderr",
     "output_type": "stream",
     "text": [
      " 24%|██▍       | 12/50 [04:52<23:00, 36.32s/it]"
     ]
    },
    {
     "name": "stdout",
     "output_type": "stream",
     "text": [
      "Model /scratch/s194101/finetune_logs_all/tusz_noica_noica_60.0_nogroups_whole_dataset_split_train/version_31/checkpoints/epoch=8-step=333.ckpt accuracy on eval set: 0.7313131310723044 +- 0.019427513550255234\n",
      "Best model so far: accuracy: 0.7361111044883728 +- 0.008454882142943827 | /scratch/s194101/finetune_logs_all/tusz_noica_noica_60.0_nogroups_whole_dataset_split_train/version_36/checkpoints/epoch=3-step=148.ckpt\n",
      "Testing model /scratch/s194101/finetune_logs_all/tusz_noica_noica_60.0_nogroups_whole_dataset_split_train/version_8/checkpoints/epoch=5-step=222.ckpt\n",
      "Initialized mask embedding and position encoder from  /scratch/s194101/finetune_logs_all/tusz_noica_noica_60.0_nogroups_whole_dataset_split_train/version_8/checkpoints/epoch=5-step=222.ckpt\n",
      "model loaded\n"
     ]
    },
    {
     "name": "stderr",
     "output_type": "stream",
     "text": [
      " 26%|██▌       | 13/50 [05:37<24:04, 39.04s/it]"
     ]
    },
    {
     "name": "stdout",
     "output_type": "stream",
     "text": [
      "Model /scratch/s194101/finetune_logs_all/tusz_noica_noica_60.0_nogroups_whole_dataset_split_train/version_8/checkpoints/epoch=5-step=222.ckpt accuracy on eval set: 0.7577020146630027 +- 0.012013359160620516\n",
      "Best model so far: accuracy: 0.7577020146630027 +- 0.012013359160620516 | /scratch/s194101/finetune_logs_all/tusz_noica_noica_60.0_nogroups_whole_dataset_split_train/version_8/checkpoints/epoch=5-step=222.ckpt\n",
      "Testing model /scratch/s194101/finetune_logs_all/tusz_noica_noica_60.0_nogroups_whole_dataset_split_train/version_48/checkpoints/epoch=3-step=148.ckpt\n",
      "Initialized mask embedding and position encoder from  /scratch/s194101/finetune_logs_all/tusz_noica_noica_60.0_nogroups_whole_dataset_split_train/version_48/checkpoints/epoch=3-step=148.ckpt\n",
      "model loaded\n"
     ]
    },
    {
     "name": "stderr",
     "output_type": "stream",
     "text": [
      " 28%|██▊       | 14/50 [06:21<24:18, 40.51s/it]"
     ]
    },
    {
     "name": "stdout",
     "output_type": "stream",
     "text": [
      "Model /scratch/s194101/finetune_logs_all/tusz_noica_noica_60.0_nogroups_whole_dataset_split_train/version_48/checkpoints/epoch=3-step=148.ckpt accuracy on eval set: 0.7258838360959833 +- 0.006527357866230178\n",
      "Best model so far: accuracy: 0.7577020146630027 +- 0.012013359160620516 | /scratch/s194101/finetune_logs_all/tusz_noica_noica_60.0_nogroups_whole_dataset_split_train/version_8/checkpoints/epoch=5-step=222.ckpt\n",
      "Testing model /scratch/s194101/finetune_logs_all/tusz_noica_noica_60.0_nogroups_whole_dataset_split_train/version_42/checkpoints/epoch=11-step=444.ckpt\n",
      "Initialized mask embedding and position encoder from  /scratch/s194101/finetune_logs_all/tusz_noica_noica_60.0_nogroups_whole_dataset_split_train/version_42/checkpoints/epoch=11-step=444.ckpt\n",
      "model loaded\n"
     ]
    },
    {
     "name": "stderr",
     "output_type": "stream",
     "text": [
      " 30%|███       | 15/50 [07:07<24:37, 42.23s/it]"
     ]
    },
    {
     "name": "stdout",
     "output_type": "stream",
     "text": [
      "Model /scratch/s194101/finetune_logs_all/tusz_noica_noica_60.0_nogroups_whole_dataset_split_train/version_42/checkpoints/epoch=11-step=444.ckpt accuracy on eval set: 0.7183080857450311 +- 0.01342287151825815\n",
      "Best model so far: accuracy: 0.7577020146630027 +- 0.012013359160620516 | /scratch/s194101/finetune_logs_all/tusz_noica_noica_60.0_nogroups_whole_dataset_split_train/version_8/checkpoints/epoch=5-step=222.ckpt\n",
      "Testing model /scratch/s194101/finetune_logs_all/tusz_noica_noica_60.0_nogroups_whole_dataset_split_train/version_35/checkpoints/epoch=4-step=185.ckpt\n",
      "Initialized mask embedding and position encoder from  /scratch/s194101/finetune_logs_all/tusz_noica_noica_60.0_nogroups_whole_dataset_split_train/version_35/checkpoints/epoch=4-step=185.ckpt\n",
      "model loaded\n"
     ]
    },
    {
     "name": "stderr",
     "output_type": "stream",
     "text": [
      " 32%|███▏      | 16/50 [07:54<24:37, 43.45s/it]"
     ]
    },
    {
     "name": "stdout",
     "output_type": "stream",
     "text": [
      "Model /scratch/s194101/finetune_logs_all/tusz_noica_noica_60.0_nogroups_whole_dataset_split_train/version_35/checkpoints/epoch=4-step=185.ckpt accuracy on eval set: 0.6733585758642717 +- 0.012303733039244627\n",
      "Best model so far: accuracy: 0.7577020146630027 +- 0.012013359160620516 | /scratch/s194101/finetune_logs_all/tusz_noica_noica_60.0_nogroups_whole_dataset_split_train/version_8/checkpoints/epoch=5-step=222.ckpt\n",
      "Testing model /scratch/s194101/finetune_logs_all/tusz_noica_noica_60.0_nogroups_whole_dataset_split_train/version_14/checkpoints/epoch=8-step=333.ckpt\n",
      "Initialized mask embedding and position encoder from  /scratch/s194101/finetune_logs_all/tusz_noica_noica_60.0_nogroups_whole_dataset_split_train/version_14/checkpoints/epoch=8-step=333.ckpt\n",
      "model loaded\n"
     ]
    },
    {
     "name": "stderr",
     "output_type": "stream",
     "text": [
      " 34%|███▍      | 17/50 [08:38<24:00, 43.66s/it]"
     ]
    },
    {
     "name": "stdout",
     "output_type": "stream",
     "text": [
      "Model /scratch/s194101/finetune_logs_all/tusz_noica_noica_60.0_nogroups_whole_dataset_split_train/version_14/checkpoints/epoch=8-step=333.ckpt accuracy on eval set: 0.7229798002676531 +- 0.01773382292156651\n",
      "Best model so far: accuracy: 0.7577020146630027 +- 0.012013359160620516 | /scratch/s194101/finetune_logs_all/tusz_noica_noica_60.0_nogroups_whole_dataset_split_train/version_8/checkpoints/epoch=5-step=222.ckpt\n",
      "Testing model /scratch/s194101/finetune_logs_all/tusz_noica_noica_60.0_nogroups_whole_dataset_split_train/version_51/checkpoints/epoch=5-step=222.ckpt\n",
      "Initialized mask embedding and position encoder from  /scratch/s194101/finetune_logs_all/tusz_noica_noica_60.0_nogroups_whole_dataset_split_train/version_51/checkpoints/epoch=5-step=222.ckpt\n",
      "model loaded\n"
     ]
    },
    {
     "name": "stderr",
     "output_type": "stream",
     "text": [
      " 36%|███▌      | 18/50 [09:05<20:36, 38.65s/it]"
     ]
    },
    {
     "name": "stdout",
     "output_type": "stream",
     "text": [
      "Model /scratch/s194101/finetune_logs_all/tusz_noica_noica_60.0_nogroups_whole_dataset_split_train/version_51/checkpoints/epoch=5-step=222.ckpt accuracy on eval set: 0.7070707082748413 +- 0.01602039015751707\n",
      "Best model so far: accuracy: 0.7577020146630027 +- 0.012013359160620516 | /scratch/s194101/finetune_logs_all/tusz_noica_noica_60.0_nogroups_whole_dataset_split_train/version_8/checkpoints/epoch=5-step=222.ckpt\n",
      "Testing model /scratch/s194101/finetune_logs_all/tusz_noica_noica_60.0_nogroups_whole_dataset_split_train/version_26/checkpoints/epoch=7-step=296.ckpt\n",
      "Initialized mask embedding and position encoder from  /scratch/s194101/finetune_logs_all/tusz_noica_noica_60.0_nogroups_whole_dataset_split_train/version_26/checkpoints/epoch=7-step=296.ckpt\n",
      "model loaded\n"
     ]
    },
    {
     "name": "stderr",
     "output_type": "stream",
     "text": [
      " 38%|███▊      | 19/50 [09:52<21:18, 41.23s/it]"
     ]
    },
    {
     "name": "stdout",
     "output_type": "stream",
     "text": [
      "Model /scratch/s194101/finetune_logs_all/tusz_noica_noica_60.0_nogroups_whole_dataset_split_train/version_26/checkpoints/epoch=7-step=296.ckpt accuracy on eval set: 0.738762617111206 +- 0.013220191318658302\n",
      "Best model so far: accuracy: 0.7577020146630027 +- 0.012013359160620516 | /scratch/s194101/finetune_logs_all/tusz_noica_noica_60.0_nogroups_whole_dataset_split_train/version_8/checkpoints/epoch=5-step=222.ckpt\n",
      "Testing model /scratch/s194101/finetune_logs_all/tusz_noica_noica_60.0_nogroups_whole_dataset_split_train/version_21/checkpoints/epoch=6-step=259.ckpt\n",
      "Initialized mask embedding and position encoder from  /scratch/s194101/finetune_logs_all/tusz_noica_noica_60.0_nogroups_whole_dataset_split_train/version_21/checkpoints/epoch=6-step=259.ckpt\n",
      "model loaded\n"
     ]
    },
    {
     "name": "stderr",
     "output_type": "stream",
     "text": [
      " 40%|████      | 20/50 [10:37<21:09, 42.30s/it]"
     ]
    },
    {
     "name": "stdout",
     "output_type": "stream",
     "text": [
      "Model /scratch/s194101/finetune_logs_all/tusz_noica_noica_60.0_nogroups_whole_dataset_split_train/version_21/checkpoints/epoch=6-step=259.ckpt accuracy on eval set: 0.7713383869691328 +- 0.015409497713505825\n",
      "Best model so far: accuracy: 0.7713383869691328 +- 0.015409497713505825 | /scratch/s194101/finetune_logs_all/tusz_noica_noica_60.0_nogroups_whole_dataset_split_train/version_21/checkpoints/epoch=6-step=259.ckpt\n",
      "Testing model /scratch/s194101/finetune_logs_all/tusz_noica_noica_60.0_nogroups_whole_dataset_split_train/version_13/checkpoints/epoch=10-step=407.ckpt\n",
      "Initialized mask embedding and position encoder from  /scratch/s194101/finetune_logs_all/tusz_noica_noica_60.0_nogroups_whole_dataset_split_train/version_13/checkpoints/epoch=10-step=407.ckpt\n",
      "model loaded\n"
     ]
    },
    {
     "name": "stderr",
     "output_type": "stream",
     "text": [
      " 42%|████▏     | 21/50 [10:58<17:25, 36.03s/it]"
     ]
    },
    {
     "name": "stdout",
     "output_type": "stream",
     "text": [
      "Model /scratch/s194101/finetune_logs_all/tusz_noica_noica_60.0_nogroups_whole_dataset_split_train/version_13/checkpoints/epoch=10-step=407.ckpt accuracy on eval set: 0.7231060591610995 +- 0.015685325817066578\n",
      "Best model so far: accuracy: 0.7713383869691328 +- 0.015409497713505825 | /scratch/s194101/finetune_logs_all/tusz_noica_noica_60.0_nogroups_whole_dataset_split_train/version_21/checkpoints/epoch=6-step=259.ckpt\n",
      "Testing model /scratch/s194101/finetune_logs_all/tusz_noica_noica_60.0_nogroups_whole_dataset_split_train/version_19/checkpoints/epoch=2-step=111.ckpt\n",
      "Initialized mask embedding and position encoder from  /scratch/s194101/finetune_logs_all/tusz_noica_noica_60.0_nogroups_whole_dataset_split_train/version_19/checkpoints/epoch=2-step=111.ckpt\n",
      "model loaded\n"
     ]
    },
    {
     "name": "stderr",
     "output_type": "stream",
     "text": [
      " 44%|████▍     | 22/50 [11:15<14:07, 30.28s/it]"
     ]
    },
    {
     "name": "stdout",
     "output_type": "stream",
     "text": [
      "Model /scratch/s194101/finetune_logs_all/tusz_noica_noica_60.0_nogroups_whole_dataset_split_train/version_19/checkpoints/epoch=2-step=111.ckpt accuracy on eval set: 0.7329545508731495 +- 0.020846790033448633\n",
      "Best model so far: accuracy: 0.7713383869691328 +- 0.015409497713505825 | /scratch/s194101/finetune_logs_all/tusz_noica_noica_60.0_nogroups_whole_dataset_split_train/version_21/checkpoints/epoch=6-step=259.ckpt\n",
      "Testing model /scratch/s194101/finetune_logs_all/tusz_noica_noica_60.0_nogroups_whole_dataset_split_train/version_38/checkpoints/epoch=5-step=222.ckpt\n",
      "Initialized mask embedding and position encoder from  /scratch/s194101/finetune_logs_all/tusz_noica_noica_60.0_nogroups_whole_dataset_split_train/version_38/checkpoints/epoch=5-step=222.ckpt\n",
      "model loaded\n"
     ]
    },
    {
     "name": "stderr",
     "output_type": "stream",
     "text": [
      " 46%|████▌     | 23/50 [11:33<11:55, 26.49s/it]"
     ]
    },
    {
     "name": "stdout",
     "output_type": "stream",
     "text": [
      "Model /scratch/s194101/finetune_logs_all/tusz_noica_noica_60.0_nogroups_whole_dataset_split_train/version_38/checkpoints/epoch=5-step=222.ckpt accuracy on eval set: 0.7377525297078219 +- 0.013025039224874533\n",
      "Best model so far: accuracy: 0.7713383869691328 +- 0.015409497713505825 | /scratch/s194101/finetune_logs_all/tusz_noica_noica_60.0_nogroups_whole_dataset_split_train/version_21/checkpoints/epoch=6-step=259.ckpt\n",
      "Testing model /scratch/s194101/finetune_logs_all/tusz_noica_noica_60.0_nogroups_whole_dataset_split_train/version_32/checkpoints/epoch=5-step=222.ckpt\n",
      "Initialized mask embedding and position encoder from  /scratch/s194101/finetune_logs_all/tusz_noica_noica_60.0_nogroups_whole_dataset_split_train/version_32/checkpoints/epoch=5-step=222.ckpt\n",
      "model loaded\n"
     ]
    },
    {
     "name": "stderr",
     "output_type": "stream",
     "text": [
      " 48%|████▊     | 24/50 [12:11<12:57, 29.89s/it]"
     ]
    },
    {
     "name": "stdout",
     "output_type": "stream",
     "text": [
      "Model /scratch/s194101/finetune_logs_all/tusz_noica_noica_60.0_nogroups_whole_dataset_split_train/version_32/checkpoints/epoch=5-step=222.ckpt accuracy on eval set: 0.7616161649877374 +- 0.010503763986813614\n",
      "Best model so far: accuracy: 0.7713383869691328 +- 0.015409497713505825 | /scratch/s194101/finetune_logs_all/tusz_noica_noica_60.0_nogroups_whole_dataset_split_train/version_21/checkpoints/epoch=6-step=259.ckpt\n",
      "Testing model /scratch/s194101/finetune_logs_all/tusz_noica_noica_60.0_nogroups_whole_dataset_split_train/version_45/checkpoints/epoch=11-step=444.ckpt\n",
      "Initialized mask embedding and position encoder from  /scratch/s194101/finetune_logs_all/tusz_noica_noica_60.0_nogroups_whole_dataset_split_train/version_45/checkpoints/epoch=11-step=444.ckpt\n",
      "model loaded\n"
     ]
    },
    {
     "name": "stderr",
     "output_type": "stream",
     "text": [
      " 50%|█████     | 25/50 [12:27<10:46, 25.86s/it]"
     ]
    },
    {
     "name": "stdout",
     "output_type": "stream",
     "text": [
      "Model /scratch/s194101/finetune_logs_all/tusz_noica_noica_60.0_nogroups_whole_dataset_split_train/version_45/checkpoints/epoch=11-step=444.ckpt accuracy on eval set: 0.7188131213188171 +- 0.014653389379207085\n",
      "Best model so far: accuracy: 0.7713383869691328 +- 0.015409497713505825 | /scratch/s194101/finetune_logs_all/tusz_noica_noica_60.0_nogroups_whole_dataset_split_train/version_21/checkpoints/epoch=6-step=259.ckpt\n",
      "Testing model /scratch/s194101/finetune_logs_all/tusz_noica_noica_60.0_nogroups_whole_dataset_split_train/version_7/checkpoints/epoch=6-step=259.ckpt\n",
      "Initialized mask embedding and position encoder from  /scratch/s194101/finetune_logs_all/tusz_noica_noica_60.0_nogroups_whole_dataset_split_train/version_7/checkpoints/epoch=6-step=259.ckpt\n",
      "model loaded\n"
     ]
    },
    {
     "name": "stderr",
     "output_type": "stream",
     "text": [
      " 52%|█████▏    | 26/50 [12:44<09:16, 23.20s/it]"
     ]
    },
    {
     "name": "stdout",
     "output_type": "stream",
     "text": [
      "Model /scratch/s194101/finetune_logs_all/tusz_noica_noica_60.0_nogroups_whole_dataset_split_train/version_7/checkpoints/epoch=6-step=259.ckpt accuracy on eval set: 0.7318181883205067 +- 0.007427964086039076\n",
      "Best model so far: accuracy: 0.7713383869691328 +- 0.015409497713505825 | /scratch/s194101/finetune_logs_all/tusz_noica_noica_60.0_nogroups_whole_dataset_split_train/version_21/checkpoints/epoch=6-step=259.ckpt\n",
      "Testing model /scratch/s194101/finetune_logs_all/tusz_noica_noica_60.0_nogroups_whole_dataset_split_train/version_30/checkpoints/epoch=9-step=370.ckpt\n",
      "Initialized mask embedding and position encoder from  /scratch/s194101/finetune_logs_all/tusz_noica_noica_60.0_nogroups_whole_dataset_split_train/version_30/checkpoints/epoch=9-step=370.ckpt\n",
      "model loaded\n"
     ]
    },
    {
     "name": "stderr",
     "output_type": "stream",
     "text": [
      " 54%|█████▍    | 27/50 [13:01<08:08, 21.23s/it]"
     ]
    },
    {
     "name": "stdout",
     "output_type": "stream",
     "text": [
      "Model /scratch/s194101/finetune_logs_all/tusz_noica_noica_60.0_nogroups_whole_dataset_split_train/version_30/checkpoints/epoch=9-step=370.ckpt accuracy on eval set: 0.7323232401501049 +- 0.013337411497372838\n",
      "Best model so far: accuracy: 0.7713383869691328 +- 0.015409497713505825 | /scratch/s194101/finetune_logs_all/tusz_noica_noica_60.0_nogroups_whole_dataset_split_train/version_21/checkpoints/epoch=6-step=259.ckpt\n",
      "Testing model /scratch/s194101/finetune_logs_all/tusz_noica_noica_60.0_nogroups_whole_dataset_split_train/version_47/checkpoints/epoch=4-step=185.ckpt\n",
      "Initialized mask embedding and position encoder from  /scratch/s194101/finetune_logs_all/tusz_noica_noica_60.0_nogroups_whole_dataset_split_train/version_47/checkpoints/epoch=4-step=185.ckpt\n",
      "model loaded\n"
     ]
    },
    {
     "name": "stderr",
     "output_type": "stream",
     "text": [
      " 56%|█████▌    | 28/50 [13:17<07:15, 19.80s/it]"
     ]
    },
    {
     "name": "stdout",
     "output_type": "stream",
     "text": [
      "Model /scratch/s194101/finetune_logs_all/tusz_noica_noica_60.0_nogroups_whole_dataset_split_train/version_47/checkpoints/epoch=4-step=185.ckpt accuracy on eval set: 0.7003787918524309 +- 0.011369372982008047\n",
      "Best model so far: accuracy: 0.7713383869691328 +- 0.015409497713505825 | /scratch/s194101/finetune_logs_all/tusz_noica_noica_60.0_nogroups_whole_dataset_split_train/version_21/checkpoints/epoch=6-step=259.ckpt\n",
      "Testing model /scratch/s194101/finetune_logs_all/tusz_noica_noica_60.0_nogroups_whole_dataset_split_train/version_23/checkpoints/epoch=10-step=407.ckpt\n",
      "Initialized mask embedding and position encoder from  /scratch/s194101/finetune_logs_all/tusz_noica_noica_60.0_nogroups_whole_dataset_split_train/version_23/checkpoints/epoch=10-step=407.ckpt\n",
      "model loaded\n"
     ]
    },
    {
     "name": "stderr",
     "output_type": "stream",
     "text": [
      " 58%|█████▊    | 29/50 [13:34<06:34, 18.79s/it]"
     ]
    },
    {
     "name": "stdout",
     "output_type": "stream",
     "text": [
      "Model /scratch/s194101/finetune_logs_all/tusz_noica_noica_60.0_nogroups_whole_dataset_split_train/version_23/checkpoints/epoch=10-step=407.ckpt accuracy on eval set: 0.692929284139113 +- 0.011898807584808085\n",
      "Best model so far: accuracy: 0.7713383869691328 +- 0.015409497713505825 | /scratch/s194101/finetune_logs_all/tusz_noica_noica_60.0_nogroups_whole_dataset_split_train/version_21/checkpoints/epoch=6-step=259.ckpt\n",
      "Testing model /scratch/s194101/finetune_logs_all/tusz_noica_noica_60.0_nogroups_whole_dataset_split_train/version_54/checkpoints/epoch=13-step=518.ckpt\n",
      "Initialized mask embedding and position encoder from  /scratch/s194101/finetune_logs_all/tusz_noica_noica_60.0_nogroups_whole_dataset_split_train/version_54/checkpoints/epoch=13-step=518.ckpt\n",
      "model loaded\n"
     ]
    },
    {
     "name": "stderr",
     "output_type": "stream",
     "text": [
      " 60%|██████    | 30/50 [13:50<06:01, 18.10s/it]"
     ]
    },
    {
     "name": "stdout",
     "output_type": "stream",
     "text": [
      "Model /scratch/s194101/finetune_logs_all/tusz_noica_noica_60.0_nogroups_whole_dataset_split_train/version_54/checkpoints/epoch=13-step=518.ckpt accuracy on eval set: 0.7147727283564481 +- 0.015230511200336772\n",
      "Best model so far: accuracy: 0.7713383869691328 +- 0.015409497713505825 | /scratch/s194101/finetune_logs_all/tusz_noica_noica_60.0_nogroups_whole_dataset_split_train/version_21/checkpoints/epoch=6-step=259.ckpt\n",
      "Testing model /scratch/s194101/finetune_logs_all/tusz_noica_noica_60.0_nogroups_whole_dataset_split_train/version_29/checkpoints/epoch=11-step=444.ckpt\n",
      "Initialized mask embedding and position encoder from  /scratch/s194101/finetune_logs_all/tusz_noica_noica_60.0_nogroups_whole_dataset_split_train/version_29/checkpoints/epoch=11-step=444.ckpt\n",
      "model loaded\n"
     ]
    },
    {
     "name": "stderr",
     "output_type": "stream",
     "text": [
      " 62%|██████▏   | 31/50 [14:07<05:35, 17.64s/it]"
     ]
    },
    {
     "name": "stdout",
     "output_type": "stream",
     "text": [
      "Model /scratch/s194101/finetune_logs_all/tusz_noica_noica_60.0_nogroups_whole_dataset_split_train/version_29/checkpoints/epoch=11-step=444.ckpt accuracy on eval set: 0.7214646556160667 +- 0.011804526413558234\n",
      "Best model so far: accuracy: 0.7713383869691328 +- 0.015409497713505825 | /scratch/s194101/finetune_logs_all/tusz_noica_noica_60.0_nogroups_whole_dataset_split_train/version_21/checkpoints/epoch=6-step=259.ckpt\n",
      "Testing model /scratch/s194101/finetune_logs_all/tusz_noica_noica_60.0_nogroups_whole_dataset_split_train/version_11/checkpoints/epoch=15-step=592.ckpt\n",
      "Initialized mask embedding and position encoder from  /scratch/s194101/finetune_logs_all/tusz_noica_noica_60.0_nogroups_whole_dataset_split_train/version_11/checkpoints/epoch=15-step=592.ckpt\n",
      "model loaded\n"
     ]
    },
    {
     "name": "stderr",
     "output_type": "stream",
     "text": [
      " 64%|██████▍   | 32/50 [14:23<05:10, 17.26s/it]"
     ]
    },
    {
     "name": "stdout",
     "output_type": "stream",
     "text": [
      "Model /scratch/s194101/finetune_logs_all/tusz_noica_noica_60.0_nogroups_whole_dataset_split_train/version_11/checkpoints/epoch=15-step=592.ckpt accuracy on eval set: 0.7162878784266385 +- 0.01322457354346569\n",
      "Best model so far: accuracy: 0.7713383869691328 +- 0.015409497713505825 | /scratch/s194101/finetune_logs_all/tusz_noica_noica_60.0_nogroups_whole_dataset_split_train/version_21/checkpoints/epoch=6-step=259.ckpt\n",
      "Testing model /scratch/s194101/finetune_logs_all/tusz_noica_noica_60.0_nogroups_whole_dataset_split_train/version_16/checkpoints/epoch=11-step=444.ckpt\n",
      "Initialized mask embedding and position encoder from  /scratch/s194101/finetune_logs_all/tusz_noica_noica_60.0_nogroups_whole_dataset_split_train/version_16/checkpoints/epoch=11-step=444.ckpt\n",
      "model loaded\n"
     ]
    },
    {
     "name": "stderr",
     "output_type": "stream",
     "text": [
      " 66%|██████▌   | 33/50 [14:40<04:49, 17.01s/it]"
     ]
    },
    {
     "name": "stdout",
     "output_type": "stream",
     "text": [
      "Model /scratch/s194101/finetune_logs_all/tusz_noica_noica_60.0_nogroups_whole_dataset_split_train/version_16/checkpoints/epoch=11-step=444.ckpt accuracy on eval set: 0.7303030274131082 +- 0.014980962499574894\n",
      "Best model so far: accuracy: 0.7713383869691328 +- 0.015409497713505825 | /scratch/s194101/finetune_logs_all/tusz_noica_noica_60.0_nogroups_whole_dataset_split_train/version_21/checkpoints/epoch=6-step=259.ckpt\n",
      "Testing model /scratch/s194101/finetune_logs_all/tusz_noica_noica_60.0_nogroups_whole_dataset_split_train/version_53/checkpoints/epoch=1-step=74.ckpt\n",
      "Initialized mask embedding and position encoder from  /scratch/s194101/finetune_logs_all/tusz_noica_noica_60.0_nogroups_whole_dataset_split_train/version_53/checkpoints/epoch=1-step=74.ckpt\n",
      "model loaded\n"
     ]
    },
    {
     "name": "stderr",
     "output_type": "stream",
     "text": [
      " 68%|██████▊   | 34/50 [14:57<04:33, 17.07s/it]"
     ]
    },
    {
     "name": "stdout",
     "output_type": "stream",
     "text": [
      "Model /scratch/s194101/finetune_logs_all/tusz_noica_noica_60.0_nogroups_whole_dataset_split_train/version_53/checkpoints/epoch=1-step=74.ckpt accuracy on eval set: 0.706313122402538 +- 0.012520218783005995\n",
      "Best model so far: accuracy: 0.7713383869691328 +- 0.015409497713505825 | /scratch/s194101/finetune_logs_all/tusz_noica_noica_60.0_nogroups_whole_dataset_split_train/version_21/checkpoints/epoch=6-step=259.ckpt\n",
      "Testing model /scratch/s194101/finetune_logs_all/tusz_noica_noica_60.0_nogroups_whole_dataset_split_train/version_24/checkpoints/epoch=8-step=333.ckpt\n",
      "Initialized mask embedding and position encoder from  /scratch/s194101/finetune_logs_all/tusz_noica_noica_60.0_nogroups_whole_dataset_split_train/version_24/checkpoints/epoch=8-step=333.ckpt\n",
      "model loaded\n"
     ]
    },
    {
     "name": "stderr",
     "output_type": "stream",
     "text": [
      " 70%|███████   | 35/50 [15:13<04:14, 16.98s/it]"
     ]
    },
    {
     "name": "stdout",
     "output_type": "stream",
     "text": [
      "Model /scratch/s194101/finetune_logs_all/tusz_noica_noica_60.0_nogroups_whole_dataset_split_train/version_24/checkpoints/epoch=8-step=333.ckpt accuracy on eval set: 0.7301767576824535 +- 0.016352925264735838\n",
      "Best model so far: accuracy: 0.7713383869691328 +- 0.015409497713505825 | /scratch/s194101/finetune_logs_all/tusz_noica_noica_60.0_nogroups_whole_dataset_split_train/version_21/checkpoints/epoch=6-step=259.ckpt\n",
      "Testing model /scratch/s194101/finetune_logs_all/tusz_noica_noica_60.0_nogroups_whole_dataset_split_train/version_40/checkpoints/epoch=3-step=148.ckpt\n",
      "Initialized mask embedding and position encoder from  /scratch/s194101/finetune_logs_all/tusz_noica_noica_60.0_nogroups_whole_dataset_split_train/version_40/checkpoints/epoch=3-step=148.ckpt\n",
      "model loaded\n"
     ]
    },
    {
     "name": "stderr",
     "output_type": "stream",
     "text": [
      " 72%|███████▏  | 36/50 [15:31<04:00, 17.15s/it]"
     ]
    },
    {
     "name": "stdout",
     "output_type": "stream",
     "text": [
      "Model /scratch/s194101/finetune_logs_all/tusz_noica_noica_60.0_nogroups_whole_dataset_split_train/version_40/checkpoints/epoch=3-step=148.ckpt accuracy on eval set: 0.7222222198139537 +- 0.01694367395569522\n",
      "Best model so far: accuracy: 0.7713383869691328 +- 0.015409497713505825 | /scratch/s194101/finetune_logs_all/tusz_noica_noica_60.0_nogroups_whole_dataset_split_train/version_21/checkpoints/epoch=6-step=259.ckpt\n",
      "Testing model /scratch/s194101/finetune_logs_all/tusz_noica_noica_60.0_nogroups_whole_dataset_split_train/version_37/checkpoints/epoch=8-step=333.ckpt\n",
      "Initialized mask embedding and position encoder from  /scratch/s194101/finetune_logs_all/tusz_noica_noica_60.0_nogroups_whole_dataset_split_train/version_37/checkpoints/epoch=8-step=333.ckpt\n",
      "model loaded\n"
     ]
    },
    {
     "name": "stderr",
     "output_type": "stream",
     "text": [
      " 74%|███████▍  | 37/50 [15:47<03:39, 16.91s/it]"
     ]
    },
    {
     "name": "stdout",
     "output_type": "stream",
     "text": [
      "Model /scratch/s194101/finetune_logs_all/tusz_noica_noica_60.0_nogroups_whole_dataset_split_train/version_37/checkpoints/epoch=8-step=333.ckpt accuracy on eval set: 0.721338385885412 +- 0.018042990622787348\n",
      "Best model so far: accuracy: 0.7713383869691328 +- 0.015409497713505825 | /scratch/s194101/finetune_logs_all/tusz_noica_noica_60.0_nogroups_whole_dataset_split_train/version_21/checkpoints/epoch=6-step=259.ckpt\n",
      "Testing model /scratch/s194101/finetune_logs_all/tusz_noica_noica_60.0_nogroups_whole_dataset_split_train/version_44/checkpoints/epoch=5-step=222.ckpt\n",
      "Initialized mask embedding and position encoder from  /scratch/s194101/finetune_logs_all/tusz_noica_noica_60.0_nogroups_whole_dataset_split_train/version_44/checkpoints/epoch=5-step=222.ckpt\n",
      "model loaded\n"
     ]
    },
    {
     "name": "stderr",
     "output_type": "stream",
     "text": [
      " 76%|███████▌  | 38/50 [16:03<03:18, 16.55s/it]"
     ]
    },
    {
     "name": "stdout",
     "output_type": "stream",
     "text": [
      "Model /scratch/s194101/finetune_logs_all/tusz_noica_noica_60.0_nogroups_whole_dataset_split_train/version_44/checkpoints/epoch=5-step=222.ckpt accuracy on eval set: 0.7630050561644814 +- 0.010949631622270297\n",
      "Best model so far: accuracy: 0.7713383869691328 +- 0.015409497713505825 | /scratch/s194101/finetune_logs_all/tusz_noica_noica_60.0_nogroups_whole_dataset_split_train/version_21/checkpoints/epoch=6-step=259.ckpt\n",
      "Testing model /scratch/s194101/finetune_logs_all/tusz_noica_noica_60.0_nogroups_whole_dataset_split_train/version_33/checkpoints/epoch=3-step=148.ckpt\n",
      "Initialized mask embedding and position encoder from  /scratch/s194101/finetune_logs_all/tusz_noica_noica_60.0_nogroups_whole_dataset_split_train/version_33/checkpoints/epoch=3-step=148.ckpt\n",
      "model loaded\n"
     ]
    },
    {
     "name": "stderr",
     "output_type": "stream",
     "text": [
      " 78%|███████▊  | 39/50 [16:19<03:00, 16.38s/it]"
     ]
    },
    {
     "name": "stdout",
     "output_type": "stream",
     "text": [
      "Model /scratch/s194101/finetune_logs_all/tusz_noica_noica_60.0_nogroups_whole_dataset_split_train/version_33/checkpoints/epoch=3-step=148.ckpt accuracy on eval set: 0.6845959587530657 +- 0.01870089801337483\n",
      "Best model so far: accuracy: 0.7713383869691328 +- 0.015409497713505825 | /scratch/s194101/finetune_logs_all/tusz_noica_noica_60.0_nogroups_whole_dataset_split_train/version_21/checkpoints/epoch=6-step=259.ckpt\n",
      "Testing model /scratch/s194101/finetune_logs_all/tusz_noica_noica_60.0_nogroups_whole_dataset_split_train/version_39/checkpoints/epoch=8-step=333.ckpt\n",
      "Initialized mask embedding and position encoder from  /scratch/s194101/finetune_logs_all/tusz_noica_noica_60.0_nogroups_whole_dataset_split_train/version_39/checkpoints/epoch=8-step=333.ckpt\n",
      "model loaded\n"
     ]
    },
    {
     "name": "stderr",
     "output_type": "stream",
     "text": [
      " 80%|████████  | 40/50 [16:36<02:44, 16.41s/it]"
     ]
    },
    {
     "name": "stdout",
     "output_type": "stream",
     "text": [
      "Model /scratch/s194101/finetune_logs_all/tusz_noica_noica_60.0_nogroups_whole_dataset_split_train/version_39/checkpoints/epoch=8-step=333.ckpt accuracy on eval set: 0.7339646382765337 +- 0.009516487758746783\n",
      "Best model so far: accuracy: 0.7713383869691328 +- 0.015409497713505825 | /scratch/s194101/finetune_logs_all/tusz_noica_noica_60.0_nogroups_whole_dataset_split_train/version_21/checkpoints/epoch=6-step=259.ckpt\n",
      "Testing model /scratch/s194101/finetune_logs_all/tusz_noica_noica_60.0_nogroups_whole_dataset_split_train/version_20/checkpoints/epoch=6-step=259.ckpt\n",
      "Initialized mask embedding and position encoder from  /scratch/s194101/finetune_logs_all/tusz_noica_noica_60.0_nogroups_whole_dataset_split_train/version_20/checkpoints/epoch=6-step=259.ckpt\n",
      "model loaded\n"
     ]
    },
    {
     "name": "stderr",
     "output_type": "stream",
     "text": [
      " 82%|████████▏ | 41/50 [16:52<02:27, 16.44s/it]"
     ]
    },
    {
     "name": "stdout",
     "output_type": "stream",
     "text": [
      "Model /scratch/s194101/finetune_logs_all/tusz_noica_noica_60.0_nogroups_whole_dataset_split_train/version_20/checkpoints/epoch=6-step=259.ckpt accuracy on eval set: 0.7262626236135309 +- 0.01075451589563588\n",
      "Best model so far: accuracy: 0.7713383869691328 +- 0.015409497713505825 | /scratch/s194101/finetune_logs_all/tusz_noica_noica_60.0_nogroups_whole_dataset_split_train/version_21/checkpoints/epoch=6-step=259.ckpt\n",
      "Testing model /scratch/s194101/finetune_logs_all/tusz_noica_noica_60.0_nogroups_whole_dataset_split_train/version_18/checkpoints/epoch=3-step=148.ckpt\n",
      "Initialized mask embedding and position encoder from  /scratch/s194101/finetune_logs_all/tusz_noica_noica_60.0_nogroups_whole_dataset_split_train/version_18/checkpoints/epoch=3-step=148.ckpt\n",
      "model loaded\n"
     ]
    },
    {
     "name": "stderr",
     "output_type": "stream",
     "text": [
      " 84%|████████▍ | 42/50 [17:09<02:11, 16.48s/it]"
     ]
    },
    {
     "name": "stdout",
     "output_type": "stream",
     "text": [
      "Model /scratch/s194101/finetune_logs_all/tusz_noica_noica_60.0_nogroups_whole_dataset_split_train/version_18/checkpoints/epoch=3-step=148.ckpt accuracy on eval set: 0.701136356050318 +- 0.011415172786154174\n",
      "Best model so far: accuracy: 0.7713383869691328 +- 0.015409497713505825 | /scratch/s194101/finetune_logs_all/tusz_noica_noica_60.0_nogroups_whole_dataset_split_train/version_21/checkpoints/epoch=6-step=259.ckpt\n",
      "Testing model /scratch/s194101/finetune_logs_all/tusz_noica_noica_60.0_nogroups_whole_dataset_split_train/version_12/checkpoints/epoch=8-step=333.ckpt\n",
      "Initialized mask embedding and position encoder from  /scratch/s194101/finetune_logs_all/tusz_noica_noica_60.0_nogroups_whole_dataset_split_train/version_12/checkpoints/epoch=8-step=333.ckpt\n",
      "model loaded\n"
     ]
    },
    {
     "name": "stderr",
     "output_type": "stream",
     "text": [
      " 86%|████████▌ | 43/50 [17:26<01:56, 16.69s/it]"
     ]
    },
    {
     "name": "stdout",
     "output_type": "stream",
     "text": [
      "Model /scratch/s194101/finetune_logs_all/tusz_noica_noica_60.0_nogroups_whole_dataset_split_train/version_12/checkpoints/epoch=8-step=333.ckpt accuracy on eval set: 0.7224747484380548 +- 0.016839684914718007\n",
      "Best model so far: accuracy: 0.7713383869691328 +- 0.015409497713505825 | /scratch/s194101/finetune_logs_all/tusz_noica_noica_60.0_nogroups_whole_dataset_split_train/version_21/checkpoints/epoch=6-step=259.ckpt\n",
      "Testing model /scratch/s194101/finetune_logs_all/tusz_noica_noica_60.0_nogroups_whole_dataset_split_train/version_15/checkpoints/epoch=7-step=296.ckpt\n",
      "Initialized mask embedding and position encoder from  /scratch/s194101/finetune_logs_all/tusz_noica_noica_60.0_nogroups_whole_dataset_split_train/version_15/checkpoints/epoch=7-step=296.ckpt\n",
      "model loaded\n"
     ]
    },
    {
     "name": "stderr",
     "output_type": "stream",
     "text": [
      " 88%|████████▊ | 44/50 [17:42<01:39, 16.64s/it]"
     ]
    },
    {
     "name": "stdout",
     "output_type": "stream",
     "text": [
      "Model /scratch/s194101/finetune_logs_all/tusz_noica_noica_60.0_nogroups_whole_dataset_split_train/version_15/checkpoints/epoch=7-step=296.ckpt accuracy on eval set: 0.7236111109906976 +- 0.013100926872012976\n",
      "Best model so far: accuracy: 0.7713383869691328 +- 0.015409497713505825 | /scratch/s194101/finetune_logs_all/tusz_noica_noica_60.0_nogroups_whole_dataset_split_train/version_21/checkpoints/epoch=6-step=259.ckpt\n",
      "Testing model /scratch/s194101/finetune_logs_all/tusz_noica_noica_60.0_nogroups_whole_dataset_split_train/version_27/checkpoints/epoch=7-step=296.ckpt\n",
      "Initialized mask embedding and position encoder from  /scratch/s194101/finetune_logs_all/tusz_noica_noica_60.0_nogroups_whole_dataset_split_train/version_27/checkpoints/epoch=7-step=296.ckpt\n",
      "model loaded\n"
     ]
    },
    {
     "name": "stderr",
     "output_type": "stream",
     "text": [
      " 90%|█████████ | 45/50 [17:59<01:23, 16.69s/it]"
     ]
    },
    {
     "name": "stdout",
     "output_type": "stream",
     "text": [
      "Model /scratch/s194101/finetune_logs_all/tusz_noica_noica_60.0_nogroups_whole_dataset_split_train/version_27/checkpoints/epoch=7-step=296.ckpt accuracy on eval set: 0.7203282930634238 +- 0.008523002305362128\n",
      "Best model so far: accuracy: 0.7713383869691328 +- 0.015409497713505825 | /scratch/s194101/finetune_logs_all/tusz_noica_noica_60.0_nogroups_whole_dataset_split_train/version_21/checkpoints/epoch=6-step=259.ckpt\n",
      "Testing model /scratch/s194101/finetune_logs_all/tusz_noica_noica_60.0_nogroups_whole_dataset_split_train/version_50/checkpoints/epoch=3-step=148.ckpt\n",
      "Initialized mask embedding and position encoder from  /scratch/s194101/finetune_logs_all/tusz_noica_noica_60.0_nogroups_whole_dataset_split_train/version_50/checkpoints/epoch=3-step=148.ckpt\n",
      "model loaded\n"
     ]
    },
    {
     "name": "stderr",
     "output_type": "stream",
     "text": [
      " 92%|█████████▏| 46/50 [18:15<01:06, 16.59s/it]"
     ]
    },
    {
     "name": "stdout",
     "output_type": "stream",
     "text": [
      "Model /scratch/s194101/finetune_logs_all/tusz_noica_noica_60.0_nogroups_whole_dataset_split_train/version_50/checkpoints/epoch=3-step=148.ckpt accuracy on eval set: 0.748611097986048 +- 0.011352409220268004\n",
      "Best model so far: accuracy: 0.7713383869691328 +- 0.015409497713505825 | /scratch/s194101/finetune_logs_all/tusz_noica_noica_60.0_nogroups_whole_dataset_split_train/version_21/checkpoints/epoch=6-step=259.ckpt\n",
      "Testing model /scratch/s194101/finetune_logs_all/tusz_noica_noica_60.0_nogroups_whole_dataset_split_train/version_9/checkpoints/epoch=11-step=444.ckpt\n",
      "Initialized mask embedding and position encoder from  /scratch/s194101/finetune_logs_all/tusz_noica_noica_60.0_nogroups_whole_dataset_split_train/version_9/checkpoints/epoch=11-step=444.ckpt\n",
      "model loaded\n"
     ]
    },
    {
     "name": "stderr",
     "output_type": "stream",
     "text": [
      " 94%|█████████▍| 47/50 [18:32<00:49, 16.62s/it]"
     ]
    },
    {
     "name": "stdout",
     "output_type": "stream",
     "text": [
      "Model /scratch/s194101/finetune_logs_all/tusz_noica_noica_60.0_nogroups_whole_dataset_split_train/version_9/checkpoints/epoch=11-step=444.ckpt accuracy on eval set: 0.7290404059670188 +- 0.015280860985669402\n",
      "Best model so far: accuracy: 0.7713383869691328 +- 0.015409497713505825 | /scratch/s194101/finetune_logs_all/tusz_noica_noica_60.0_nogroups_whole_dataset_split_train/version_21/checkpoints/epoch=6-step=259.ckpt\n",
      "Testing model /scratch/s194101/finetune_logs_all/tusz_noica_noica_60.0_nogroups_whole_dataset_split_train/version_34/checkpoints/epoch=9-step=370.ckpt\n",
      "Initialized mask embedding and position encoder from  /scratch/s194101/finetune_logs_all/tusz_noica_noica_60.0_nogroups_whole_dataset_split_train/version_34/checkpoints/epoch=9-step=370.ckpt\n",
      "model loaded\n"
     ]
    },
    {
     "name": "stderr",
     "output_type": "stream",
     "text": [
      " 96%|█████████▌| 48/50 [18:49<00:33, 16.74s/it]"
     ]
    },
    {
     "name": "stdout",
     "output_type": "stream",
     "text": [
      "Model /scratch/s194101/finetune_logs_all/tusz_noica_noica_60.0_nogroups_whole_dataset_split_train/version_34/checkpoints/epoch=9-step=370.ckpt accuracy on eval set: 0.7218434322964061 +- 0.01316053070201387\n",
      "Best model so far: accuracy: 0.7713383869691328 +- 0.015409497713505825 | /scratch/s194101/finetune_logs_all/tusz_noica_noica_60.0_nogroups_whole_dataset_split_train/version_21/checkpoints/epoch=6-step=259.ckpt\n",
      "Testing model /scratch/s194101/finetune_logs_all/tusz_noica_noica_60.0_nogroups_whole_dataset_split_train/version_43/checkpoints/epoch=12-step=481.ckpt\n",
      "Initialized mask embedding and position encoder from  /scratch/s194101/finetune_logs_all/tusz_noica_noica_60.0_nogroups_whole_dataset_split_train/version_43/checkpoints/epoch=12-step=481.ckpt\n",
      "model loaded\n"
     ]
    },
    {
     "name": "stderr",
     "output_type": "stream",
     "text": [
      " 98%|█████████▊| 49/50 [19:06<00:16, 16.65s/it]"
     ]
    },
    {
     "name": "stdout",
     "output_type": "stream",
     "text": [
      "Model /scratch/s194101/finetune_logs_all/tusz_noica_noica_60.0_nogroups_whole_dataset_split_train/version_43/checkpoints/epoch=12-step=481.ckpt accuracy on eval set: 0.7207070643251593 +- 0.01507921924171158\n",
      "Best model so far: accuracy: 0.7713383869691328 +- 0.015409497713505825 | /scratch/s194101/finetune_logs_all/tusz_noica_noica_60.0_nogroups_whole_dataset_split_train/version_21/checkpoints/epoch=6-step=259.ckpt\n",
      "Testing model /scratch/s194101/finetune_logs_all/tusz_noica_noica_60.0_nogroups_whole_dataset_split_train/version_49/checkpoints/epoch=2-step=111.ckpt\n",
      "Initialized mask embedding and position encoder from  /scratch/s194101/finetune_logs_all/tusz_noica_noica_60.0_nogroups_whole_dataset_split_train/version_49/checkpoints/epoch=2-step=111.ckpt\n",
      "model loaded\n"
     ]
    },
    {
     "name": "stderr",
     "output_type": "stream",
     "text": [
      "100%|██████████| 50/50 [19:21<00:00, 23.24s/it]"
     ]
    },
    {
     "name": "stdout",
     "output_type": "stream",
     "text": [
      "Model /scratch/s194101/finetune_logs_all/tusz_noica_noica_60.0_nogroups_whole_dataset_split_train/version_49/checkpoints/epoch=2-step=111.ckpt accuracy on eval set: 0.6582070751623674 +- 0.011605801416592875\n",
      "Best model so far: accuracy: 0.7713383869691328 +- 0.015409497713505825 | /scratch/s194101/finetune_logs_all/tusz_noica_noica_60.0_nogroups_whole_dataset_split_train/version_21/checkpoints/epoch=6-step=259.ckpt\n"
     ]
    },
    {
     "name": "stderr",
     "output_type": "stream",
     "text": [
      "\n"
     ]
    }
   ],
   "source": [
    "best_acc = 0\n",
    "best_sem = 0\n",
    "best_model = None\n",
    "\n",
    "for model_path in tqdm(models):\n",
    "    print(f\"Testing model {model_path}\")\n",
    "    model = LinearHeadBENDR(model_path, encoder_h=512, in_features=19, out_features=2)\n",
    "    state_dict = torch.load(model_path, map_location=torch.device('cpu'))[\"state_dict\"]\n",
    "    model.load_state_dict(state_dict)\n",
    "    model.eval()\n",
    "    print(\"model loaded\")\n",
    "\n",
    "\n",
    "    # test model on eval set\n",
    "    accs = []\n",
    "    with torch.no_grad():\n",
    "        for i, batch in enumerate(dataloader_eval):\n",
    "            x, y = batch\n",
    "            y_pred = model(x)\n",
    "            batch_accuracy = (y_pred.argmax(dim=1) == y).float().mean().item()\n",
    "            accs.append(batch_accuracy)\n",
    "            # print(f\"Batch {i}, accuracy: {batch_accuracy}\")\n",
    "        \n",
    "        # standard error of the mean\n",
    "        accs = np.array(accs)\n",
    "        sem = np.std(accs) / np.sqrt(len(accs))\n",
    "\n",
    "\n",
    "        print(f\"Model {model_path} accuracy on eval set: {np.mean(accs)} +- {sem}\")\n",
    "        if np.mean(accs) > best_acc:\n",
    "            best_acc = np.mean(accs)\n",
    "            best_sem = sem\n",
    "            best_model = model_path\n",
    "        \n",
    "        print(f\"Best model so far: accuracy: {best_acc} +- {best_sem} | {best_model}\")\n"
   ]
  },
  {
   "cell_type": "markdown",
   "metadata": {},
   "source": [
    "### on eval set:\n",
    "\n",
    "Best model so far: accuracy: 0.6795454545454546 +- 0.013922615366108731 | /scratch/s194101/finetune_logs_all/tusz_noica_noica_60.0_nogroups_4/version_9/checkpoints/epoch=14-step=150.ckpt\n",
    "\n",
    "Best model so far: accuracy: 0.768560604615645 +- 0.011691771714137506 | /scratch/s194101/finetune_logs_all/tusz_noica_noica_60.0_nogroups_whole_dataset/version_47/checkpoints/epoch=2-step=141.ckpt\n",
    "\n",
    "Best model so far: accuracy: 0.7713383869691328 +- 0.015409497713505825 | /scratch/s194101/finetune_logs_all/tusz_noica_noica_60.0_nogroups_whole_dataset_split_train/version_21/checkpoints/epoch=6-step=259.ckpt\n",
    "\n",
    "### on test set:\n",
    "\n",
    "Best model so far: accuracy: 0.979166673289405 +- 0.002758420816857501 | /scratch/s194101/finetune_logs_all/tusz_noica_noica_60.0_nogroups_whole_dataset/version_1/checkpoints/epoch=13-step=658.ckpt\n",
    "\n",
    "\n",
    "\n",
    "### on split eval set\n",
    "\n",
    "Best model so far: accuracy: 0.8546875069538752 +- 0.005056377527444972 | /scratch/s194101/finetune_logs_all/tusz_noica_noica_60.0_nogroups_whole_dataset_split_train/version_39/checkpoints/epoch=8-step=333.ckpt\n",
    "\n",
    "\n",
    "### on split test set\n",
    "\n",
    "Best model so far: accuracy: 0.9757505257924398 +- 0.002019294366371989 | /scratch/s194101/finetune_logs_all/tusz_noica_noica_60.0_nogroups_whole_dataset_split_train/version_54/checkpoints/epoch=13-step=518.ckpt"
   ]
  },
  {
   "cell_type": "code",
   "execution_count": null,
   "metadata": {},
   "outputs": [],
   "source": []
  },
  {
   "cell_type": "markdown",
   "metadata": {},
   "source": [
    "# MMIDB data"
   ]
  }
 ],
 "metadata": {
  "kernelspec": {
   "display_name": "myenv",
   "language": "python",
   "name": "python3"
  },
  "language_info": {
   "codemirror_mode": {
    "name": "ipython",
    "version": 3
   },
   "file_extension": ".py",
   "mimetype": "text/x-python",
   "name": "python",
   "nbconvert_exporter": "python",
   "pygments_lexer": "ipython3",
   "version": "3.11.9"
  }
 },
 "nbformat": 4,
 "nbformat_minor": 2
}
