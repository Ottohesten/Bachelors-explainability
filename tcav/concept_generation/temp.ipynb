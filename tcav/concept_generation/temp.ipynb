{
 "cells": [
  {
   "cell_type": "code",
   "execution_count": 1,
   "metadata": {},
   "outputs": [],
   "source": [
    "from utils import load_mmidb_data_dict"
   ]
  },
  {
   "cell_type": "code",
   "execution_count": null,
   "metadata": {},
   "outputs": [],
   "source": [
    "ACTIVTY_DICT_PATH = '/home/s194101/TCAV-BENDR-own/'\n",
    "PARCELLATION = \"HCPMMP1_combined\"\n",
    "SNR = 100.0\n",
    "\n",
    "\n",
    "\n",
    "activity_dict = load_mmidb_data_dict(ACTIVTY_DICT_PATH, PARCELLATION, SNR, chop=True)\n"
   ]
  },
  {
   "cell_type": "code",
   "execution_count": 4,
   "metadata": {},
   "outputs": [
    {
     "data": {
      "text/plain": [
       "dict_keys(['S001', 'S002', 'S003', 'S004', 'S005', 'S006', 'S007', 'S008', 'S009', 'S010', 'S011', 'S012', 'S013', 'S014', 'S015', 'S016', 'S017', 'S018', 'S019', 'S020', 'S021', 'S022', 'S023', 'S024', 'S025', 'S026', 'S027', 'S028', 'S029', 'S030', 'S031', 'S032', 'S033', 'S034', 'S035', 'S036', 'S037', 'S038', 'S039', 'S040', 'S041', 'S042', 'S043', 'S044', 'S045', 'S046', 'S047', 'S048', 'S049', 'S050', 'S051', 'S052', 'S053', 'S054', 'S055', 'S056', 'S057', 'S058', 'S059', 'S060', 'S061', 'S062', 'S063', 'S064', 'S065', 'S066', 'S067', 'S068', 'S069', 'S070', 'S071', 'S072', 'S073', 'S074', 'S075', 'S076', 'S077', 'S078', 'S079', 'S080', 'S081', 'S082', 'S083', 'S084', 'S085', 'S086', 'S087', 'S088', 'S089', 'S090', 'S091', 'S092', 'S093', 'S094', 'S095', 'S096', 'S097', 'S098', 'S099', 'S100', 'S101', 'S102', 'S103', 'S104', 'S105', 'S106', 'S107', 'S108', 'S109'])"
      ]
     },
     "execution_count": 4,
     "metadata": {},
     "output_type": "execute_result"
    }
   ],
   "source": [
    "activity_dict[\"Alpha\"].keys()"
   ]
  },
  {
   "cell_type": "code",
   "execution_count": 7,
   "metadata": {},
   "outputs": [],
   "source": [
    "from create_anatomical_concepts_TUH import get_activity_dict\n",
    "\n",
    "ACTIVITY_PATH_TUH = '/home/s194101/TCAV-BENDR-own/tuh_HCPMMp1_combined'\n",
    "SNR_TUH = '100.0'\n",
    "\n",
    "activity_dict = get_activity_dict(ACTIVITY_PATH_TUH, SNR=SNR, info_dict=None)"
   ]
  },
  {
   "cell_type": "code",
   "execution_count": 14,
   "metadata": {},
   "outputs": [
    {
     "data": {
      "text/plain": [
       "{'T0': array([[2.62569761e-22, 5.89579909e-22, 3.65786767e-22, ...,\n",
       "         8.68210003e-23, 1.20734781e-22, 4.26547130e-22],\n",
       "        [2.69423143e-21, 9.70558987e-21, 2.72788900e-21, ...,\n",
       "         1.11552363e-21, 2.12383615e-21, 8.05332446e-21],\n",
       "        [1.27816165e-22, 2.17888292e-22, 1.97539958e-22, ...,\n",
       "         9.11910259e-23, 9.88641390e-23, 2.51924715e-22],\n",
       "        ...,\n",
       "        [1.11707684e-22, 1.64279615e-22, 1.28246192e-22, ...,\n",
       "         7.80873688e-23, 5.84063337e-23, 7.55400850e-23],\n",
       "        [1.72351227e-22, 2.54529026e-22, 2.41582461e-22, ...,\n",
       "         7.84778726e-23, 6.56692513e-23, 1.45249726e-22],\n",
       "        [1.52545518e-22, 2.70800484e-22, 2.48178093e-22, ...,\n",
       "         8.22789907e-23, 7.03665302e-23, 1.30417202e-22]])}"
      ]
     },
     "execution_count": 14,
     "metadata": {},
     "output_type": "execute_result"
    }
   ],
   "source": [
    "# activity_dict[\"Delta\"]\n",
    "activity_dict[\"Delta\"][\"tuh_eeg_random_100\"][\"aaaaakgp_s001_t001\"]"
   ]
  }
 ],
 "metadata": {
  "kernelspec": {
   "display_name": "myenv",
   "language": "python",
   "name": "python3"
  },
  "language_info": {
   "codemirror_mode": {
    "name": "ipython",
    "version": 3
   },
   "file_extension": ".py",
   "mimetype": "text/x-python",
   "name": "python",
   "nbconvert_exporter": "python",
   "pygments_lexer": "ipython3",
   "version": "3.11.9"
  }
 },
 "nbformat": 4,
 "nbformat_minor": 2
}
