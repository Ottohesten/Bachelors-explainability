{
 "cells": [
  {
   "cell_type": "code",
   "execution_count": 33,
   "metadata": {},
   "outputs": [],
   "source": [
    "import pandas as pd\n",
    "import numpy as np\n",
    "import matplotlib.pyplot as plt\n",
    "import pickle\n",
    "import os\n",
    "from eegatscale.models import LinearHeadBENDR\n",
    "from eegatscale.transforms import Standardize\n",
    "from scipy.stats import ttest_ind\n",
    "import torch\n",
    "import tqdm\n",
    "\n",
    "from captum.concept import TCAV, Concept\n",
    "from captum.concept._utils.common import concepts_to_str\n",
    "from concept_classifier import TCAVClassifier\n",
    "import warnings\n",
    "warnings.filterwarnings(\"ignore\")\n",
    "\n",
    "from dataset_utils import Experiment"
   ]
  },
  {
   "cell_type": "code",
   "execution_count": 34,
   "metadata": {},
   "outputs": [
    {
     "name": "stdout",
     "output_type": "stream",
     "text": [
      "['left_right_concepts_MMIDB_Gamma_new_T0', 'random_tuh_alpha_rh', 'random_mmidb_alpha_no_baseline_lh', 'random_left_concept_MMIDB_Alpha_sanity_check_1000_with_sigma', 'random_mmidb_alpha_no_baseline_with_sigma', 'sanity_check_concepts_MMIDB_alpha_no_baseline', 'random_right_concept_MMIDB_Alpha_sanity_check_1000_no_baseline', 'random_mmidb_alpha_baseline_T0_rh', 'random_mmidb_alpha_lh', 'mmidb_notebook_concepts_alpha', 'mmidb_alpha_baseline_rh_whole', 'sanity_check_concepts_MMIDB_alpha_baseline_with_sigma', 'random_right_concept_MMIDB_Alpha_sanity_check', 'mmidb_alpha_baseline_T2_whole', 'sanity_check_concepts_MMIDB_alpha_baseline', 'TUH_clean_alpha_subtract_Truesigma_Trueabs_100.0_142440_131124', 'random_mmidb_alpha_rh', 'random_right_concept_MMIDB_Alpha_sanity_check_1000', 'mmidb_alpha_baseline_lh_whole', 'TUSZ', 'random_mmidb_alpha_baseline_T0_lh', 'random_tuh_alpha_1000', 'random_mmidb_alpha_no_baseline', 'mmidb_alpha_baseline_T1_whole', 'random_tuh_alpha_lh', 'random_mmidb_alpha_no_baseline_rh', 'random_mmidb_all_no_baseline', 'random_tuh_all_whole', 'TUH_clean_alpha_subtract_Truesigma_Trueabs_100.0_003338_031224_test', 'random_mmidb_alpha_baseline_T0', 'sanity_check_concepts_MMIDB_all_no_baseline', 'left_right_concepts_MMIDB_alpha_new_T0', 'random_right_concept_MMIDB_Alpha', 'sanity_check_concepts_MMIDB_alpha_no_baseline_T0', 'sanity_check_concepts_MMIDB_all_no_baseline_with_sigma', 'left_right_concepts_MMIDB_Gamma_new', 'TUEV_subset', 'random_mmidb_alpha_baseline_with_sigma_lh', 'TUEV', 'TUH_clean_alpha_subtract_Truesigma_Trueabs_100.0_002453_031224_test', 'random_right_concept_MMIDB_Alpha_sanity_check_1000_with_sigma', 'left_right_concepts_MMIDB_alpha_new', 'sanity_check_concepts_MMIDB_all_baseline', 'TUH_clean_alpha_subtract_Truesigma_Trueabs_100.0_002655_031224_test', 'random_mmidb_alpha_no_baseline_T0_lh', 'mmidb_notebook_concepts_alpha_gamma', 'TUH_clean_all_subtract_Truesigma_Trueabs_100.0_135454_131124', 'random_left_concept_MMIDB_Alpha_sanity_check', 'random_left_concept_MMIDB_Alpha_sanity_check_1000', 'random_mmidb_alpha_baseline_rh', 'random_tuh_all_1000', 'random_left_concept_MMIDB_Alpha', 'random_mmidb_alpha_baseline_with_sigma_rh', 'random_tuh_alpha_whole', 'tuev_random_concepts', 'random_mmidb_alpha_baseline_lh', 'random_tuh_selected_samples_60', 'sanity_check_concepts_MMIDB_alpha_no_baseline_with_sigma', 'random_mmidb_alpha_no_baseline_T0_rh', 'random_left_concept_MMIDB_Alpha_sanity_check_1000_no_baseline']\n"
     ]
    }
   ],
   "source": [
    "concepts_dir = '/scratch/s194101/concepts/'\n",
    "\n",
    "print(list(os.listdir(concepts_dir)))\n",
    "\n"
   ]
  },
  {
   "cell_type": "markdown",
   "metadata": {},
   "source": [
    "## Load Seizure model"
   ]
  },
  {
   "cell_type": "code",
   "execution_count": 35,
   "metadata": {},
   "outputs": [
    {
     "name": "stdout",
     "output_type": "stream",
     "text": [
      "Initialized mask embedding and position encoder from  /scratch/s194101/finetune_logs_all/tusz_noica_noica_60.0_nogroups_whole_dataset/version_47/checkpoints/epoch=2-step=141.ckpt\n",
      "model loaded\n"
     ]
    }
   ],
   "source": [
    "out_features = 2\n",
    "# encoder_path = \"/scratch/agjma/checkpoints/tuh-noica-standardize-epoch=9-step=68317-val_loss=0.26.ckpt\"\n",
    "\n",
    "# best model on subset (before) # worse model\n",
    "# encoder_path = \"/scratch/s194101/finetune_logs_all/tusz_noica_noica_60.0_nogroups_2/version_7/checkpoints/epoch=4-step=40.ckpt\"\n",
    "\n",
    "\n",
    "# best model on eval set\n",
    "encoder_path = \"/scratch/s194101/finetune_logs_all/tusz_noica_noica_60.0_nogroups_whole_dataset/version_47/checkpoints/epoch=2-step=141.ckpt\"\n",
    "\n",
    "# best model on train set 97 %\n",
    "# encoder_path = \"/scratch/s194101/finetune_logs_all/tusz_noica_noica_60.0_nogroups_whole_dataset/version_1/checkpoints/epoch=13-step=658.ckpt\"\n",
    "\n",
    "\n",
    "model = LinearHeadBENDR(encoder_path, encoder_h=512, in_features=19, out_features=out_features)\n",
    "state_dict = torch.load(encoder_path, map_location=torch.device('cpu'))[\"state_dict\"]\n",
    "model.load_state_dict(state_dict)\n",
    "model.eval()\n",
    "print(\"model loaded\")"
   ]
  },
  {
   "cell_type": "code",
   "execution_count": 36,
   "metadata": {},
   "outputs": [
    {
     "name": "stdout",
     "output_type": "stream",
     "text": [
      "Loaded dataset TUEV/artf with 1586 samples\n",
      "Loaded dataset TUEV/random with 200 samples\n",
      "Loaded input dataset TUSZ/seiz with 370 samples\n",
      "Loaded dataset TUEV/bckg with 3209 samples\n",
      "Loaded dataset TUEV/random with 200 samples\n",
      "Loaded input dataset TUSZ/seiz with 370 samples\n",
      "Loaded dataset TUEV/gped with 2343 samples\n",
      "Loaded dataset TUEV/random with 200 samples\n",
      "Loaded input dataset TUSZ/seiz with 370 samples\n",
      "Loaded dataset TUEV/pled with 1976 samples\n",
      "Loaded dataset TUEV/random with 200 samples\n",
      "Loaded input dataset TUSZ/seiz with 370 samples\n",
      "Loaded dataset TUEV/spsw with 139 samples\n",
      "Loaded dataset TUEV/random with 200 samples\n",
      "Loaded input dataset TUSZ/seiz with 370 samples\n"
     ]
    }
   ],
   "source": [
    "target_data = \"TUSZ/seiz\"\n",
    "# target_data = \"random_left_concept_MMIDB_Alpha_sanity_check\"\n",
    "random_concept = \"TUEV/random\"\n",
    "# random_concept = \"random_tuh_selected_samples_60\"\n",
    "# random_concept = \"TUSZ/bckg\"\n",
    "# random_concept = \"random_tuh_all\"\n",
    "# random_concept = \"random_tuh_alpha\"\n",
    "# random_concept = \"tuev_random_concepts\"\n",
    "# random_concept = \"TUEV_subset/random\"\n",
    "\n",
    "concept_dir_names = [\n",
    "    \"TUEV/artf\",\n",
    "    \"TUEV/bckg\",\n",
    "    \"TUEV/gped\",\n",
    "    \"TUEV/pled\",\n",
    "    \"TUEV/spsw\",\n",
    "    ]\n",
    "# concept_dir_names = [\n",
    "#     \"TUEV_subset/artf\",\n",
    "#     \"TUEV_subset/bckg\",\n",
    "#     \"TUEV_subset/gped\",\n",
    "#     \"TUEV_subset/pled\",\n",
    "#     \"TUEV_subset/spsw\",\n",
    "#     ]\n",
    "experiments = []\n",
    "idx = 0\n",
    "n_concept_samples = 50\n",
    "n_runs = 100\n",
    "for concept_dir_name in concept_dir_names:\n",
    "    exp = Experiment(model,\n",
    "                    target_data,\n",
    "                    concepts_dir,\n",
    "                    [\n",
    "                    concept_dir_name, # this is where you add extra concepts, (in the square brackets)\n",
    "                    random_concept,\n",
    "                    ],\n",
    "                    verbose=True,\n",
    "                    n_concept_samples=n_concept_samples,\n",
    "                    n_runs=n_runs,\n",
    "                    internal_concept_idx=idx,\n",
    "                    # batch_size = 50,\n",
    "                    )\n",
    "    experiments.append(exp)\n",
    "    idx += 1000\n",
    "\n"
   ]
  },
  {
   "cell_type": "code",
   "execution_count": 37,
   "metadata": {},
   "outputs": [],
   "source": [
    "plt_name = f\"tusz_seizure_best_eval_model_concepts{n_concept_samples}_runs{n_runs}_vs_{random_concept.replace('/', '_')}\"\n",
    "# plt_name = f\"tusz_seizure_best_train_model_concepts{n_concept_samples}_runs{n_runs}_vs_{random_concept.replace('/', '_')}\"\n",
    "# plt_name = f\"tusz_seizure_worse_model_concepts{n_concept_samples}_runs{n_runs}_vs_{random_concept.replace('/', '_')}\""
   ]
  },
  {
   "cell_type": "code",
   "execution_count": 38,
   "metadata": {},
   "outputs": [
    {
     "data": {
      "text/plain": [
       "'/home/s194101/Bachelors-explainability/TUSZ/seiz_artf.pkl'"
      ]
     },
     "execution_count": 38,
     "metadata": {},
     "output_type": "execute_result"
    }
   ],
   "source": [
    "experiment = experiments[0]\n",
    "f\"/home/s194101/Bachelors-explainability/{experiment.inputs_name}_{experiment.concept_names[0].split('/')[-1]}.pkl\" if \"/\" in experiment.concept_names[0] else f\"/home/s194101/Bachelors-explainability/{experiment.inputs_name}_{experiment.concept_names[0]}.pkl\""
   ]
  },
  {
   "cell_type": "code",
   "execution_count": 39,
   "metadata": {},
   "outputs": [
    {
     "data": {
      "text/plain": [
       "tensor([1, 1, 1, 0, 1, 1, 1, 1, 1, 0, 1, 1, 0, 1, 1, 1, 1, 1, 0, 1, 0, 1, 1, 1,\n",
       "        1, 1, 1, 1, 1, 1, 0, 1, 1, 1, 1, 1, 1, 0, 1, 1, 1, 1, 1, 1, 1, 1, 1, 1,\n",
       "        0, 0, 0, 1, 1, 1, 1, 1, 0, 1, 1, 1, 1, 0, 0, 1, 1, 1, 1, 1, 1, 1, 0, 0,\n",
       "        1, 1, 1, 1, 1, 0, 1, 1, 1, 1, 1, 1, 0, 1, 1, 1, 1, 1, 1, 1, 1, 0, 1, 1,\n",
       "        0, 0, 1, 0])"
      ]
     },
     "execution_count": 39,
     "metadata": {},
     "output_type": "execute_result"
    }
   ],
   "source": [
    "experiments[0].inputs\n",
    "\n",
    "model(experiments[0].inputs).argmax(dim=1)"
   ]
  },
  {
   "cell_type": "code",
   "execution_count": 40,
   "metadata": {},
   "outputs": [],
   "source": [
    "# next(iter(experiments[1].concepts[\"TUEV/bckg\"][0].data_iter)).shape\n",
    "# experiments[1].concepts\n",
    "\n",
    "# model(next(iter(experiments[1].concepts[\"TUEV/bckg\"][0].data_iter)))"
   ]
  },
  {
   "cell_type": "code",
   "execution_count": 41,
   "metadata": {},
   "outputs": [],
   "source": [
    "layers = [\"encoder\", \"enc_augment\", \"summarizer\", \"extended_classifier\", \"clf\"]\n",
    "\n",
    "def run_tcav(experiment:Experiment, layers:list):\n",
    "    if \"/\" in experiment.concept_names[0]:\n",
    "        save_path = f\"/scratch/s194101/temp/cav/{experiment.concept_names[0].split('/')[-1]}/\"\n",
    "    else:\n",
    "        save_path = f\"/scratch/s194101/temp/cav/{experiment.concept_names[0]}/\"\n",
    "    tcav = TCAV(model, layers, model_id=\"BendrModel\", classifier=TCAVClassifier(), save_path=save_path)\n",
    "    # tcav = TCAV(model, layers, save_path=save_path)\n",
    "    tcav_scores = tcav.interpret(inputs=experiment.inputs, experimental_sets=experiment.experimental_sets, target=0)\n",
    "    tcav_scores = dict(tcav_scores)\n",
    "\n",
    "    save_path = f\"/home/s194101/Bachelors-explainability/{experiment.inputs_name}_{experiment.concept_names[0].split('/')[-1]}.pkl\" if \"/\" in experiment.concept_names[0] else f\"/home/s194101/Bachelors-explainability/{experiment.inputs_name}_{experiment.concept_names[0]}.pkl\"\n",
    "    with open(save_path, \"wb\") as f:\n",
    "        pickle.dump(\n",
    "            {\"tcav_scores\": tcav_scores,\n",
    "             \"experimental_sets\": experiment.experimental_sets,},f)\n",
    "    return tcav_scores\n",
    "        "
   ]
  },
  {
   "cell_type": "code",
   "execution_count": 42,
   "metadata": {},
   "outputs": [],
   "source": [
    "# tcav = TCAV(model, layers, model_id=\"BendrModel\", classifier=TCAVClassifier(), save_path=\"/scratch/s194101/temp/cav_test/\")\n",
    "# tmp_scores = tcav.interpret(inputs=experiments[0].inputs, experimental_sets=[experiments[0].experimental_sets[0], experiments[1].experimental_sets[0]], target=0)\n"
   ]
  },
  {
   "cell_type": "code",
   "execution_count": 43,
   "metadata": {},
   "outputs": [],
   "source": [
    "# next(iter(experiments[0].concepts[\"TUEV/artf\"][0].data_iter)).shape"
   ]
  },
  {
   "cell_type": "code",
   "execution_count": 44,
   "metadata": {},
   "outputs": [],
   "source": [
    "# tmp_scores"
   ]
  },
  {
   "cell_type": "code",
   "execution_count": 45,
   "metadata": {},
   "outputs": [
    {
     "name": "stdout",
     "output_type": "stream",
     "text": [
      "TUSZ/seiz TUEV/artf\n",
      "TUSZ/seiz TUEV/bckg\n",
      "TUSZ/seiz TUEV/gped\n",
      "TUSZ/seiz TUEV/pled\n",
      "TUSZ/seiz TUEV/spsw\n"
     ]
    }
   ],
   "source": [
    "for exp in experiments:\n",
    "    run_tcav(exp, layers)\n",
    "    print(exp.inputs_name, exp.concept_names[0])"
   ]
  },
  {
   "cell_type": "code",
   "execution_count": 46,
   "metadata": {},
   "outputs": [],
   "source": [
    "all_experimental_sets = []\n",
    "all_tcav_scores = []\n",
    "\n",
    "for i, exp in enumerate(experiments):\n",
    "    file_path = f\"/home/s194101/Bachelors-explainability/{exp.inputs_name}_{exp.concept_names[0].split('/')[-1]}.pkl\" if \"/\" in exp.concept_names[0] else f\"/home/s194101/Bachelors-explainability/{exp.inputs_name}_{exp.concept_names[0]}.pkl\"\n",
    "    with open(file_path, \"rb\") as f:\n",
    "        data = pickle.load(f)\n",
    "        all_tcav_scores.append(data[\"tcav_scores\"])\n",
    "        all_experimental_sets.append(data[\"experimental_sets\"])"
   ]
  },
  {
   "cell_type": "code",
   "execution_count": 47,
   "metadata": {},
   "outputs": [],
   "source": [
    "from plot_utils import assemble_scores, plot_tcav_scores, plot_tcav_scores_plotly"
   ]
  },
  {
   "cell_type": "code",
   "execution_count": 48,
   "metadata": {},
   "outputs": [
    {
     "name": "stdout",
     "output_type": "stream",
     "text": [
      "pval: 0.02436665537653034, pval_whit: 0.03081890937594702\n",
      "pval: 8.511457815663731e-06, pval_whit: 2.525150537949302e-05\n",
      "pval: 0.7127389327309116, pval_whit: 0.5649096209328826\n",
      "pval: 0.00020076188200398955, pval_whit: 0.0002460460897204521\n",
      "pval: 0.09054295381826757, pval_whit: 0.09076088198237325\n",
      "pval: 6.295081978679781e-06, pval_whit: 1.2169399420825702e-06\n",
      "pval: 1.0341100662979022e-05, pval_whit: 3.0394752400648084e-06\n",
      "pval: 1.4386326690527072e-31, pval_whit: 3.13536004151668e-23\n",
      "pval: 1.2526212132390992e-22, pval_whit: 2.2347902860245473e-18\n",
      "pval: 1.5599780463119083e-16, pval_whit: 2.6119866607507058e-14\n",
      "pval: 1.5435522375914554e-36, pval_whit: 6.8940790684221495e-25\n",
      "pval: 3.3713749414534064e-99, pval_whit: 4.362793152658685e-33\n",
      "pval: 0.8595038827397795, pval_whit: 0.8930789083300219\n",
      "pval: 0.023625906796411456, pval_whit: 0.024091488534943094\n",
      "pval: 0.0002007616996145896, pval_whit: 0.0002460460897204521\n",
      "pval: 5.098211063154711e-08, pval_whit: 7.583633903911689e-08\n",
      "pval: 3.458030878309626e-13, pval_whit: 5.266801703546523e-12\n",
      "pval: 0.17415315262313102, pval_whit: 0.28772021960989647\n",
      "pval: 0.00451922873513973, pval_whit: 0.0048033150239581305\n",
      "pval: 0.09054295381826757, pval_whit: 0.09076088198237325\n",
      "pval: 3.077656196372546e-67, pval_whit: 2.9396110676990803e-32\n",
      "pval: 1.9073431496422968e-83, pval_whit: 1.030840232263695e-33\n",
      "pval: 3.8559643130084144e-64, pval_whit: 2.335645907556642e-31\n",
      "pval: 1.2526212132390992e-22, pval_whit: 2.2347902860245473e-18\n",
      "pval: 7.2521892287603045e-12, pval_whit: 8.716361462645252e-11\n"
     ]
    },
    {
     "data": {
      "image/png": "[encoded data removed]",
      "text/plain": [
       "<Figure size 1800x600 with 1 Axes>"
      ]
     },
     "metadata": {},
     "output_type": "display_data"
    },
    {
     "name": "stdout",
     "output_type": "stream",
     "text": [
      "pval: 0.02436665537653034, pval_whit: 0.03081890937594702\n",
      "pval: 8.511457815663731e-06, pval_whit: 2.525150537949302e-05\n",
      "pval: 0.7127389327309116, pval_whit: 0.5649096209328826\n",
      "pval: 0.00020076188200398955, pval_whit: 0.0002460460897204521\n",
      "pval: 0.09054295381826757, pval_whit: 0.09076088198237325\n",
      "pval: 6.295081978679781e-06, pval_whit: 1.2169399420825702e-06\n",
      "pval: 1.0341100662979022e-05, pval_whit: 3.0394752400648084e-06\n",
      "pval: 1.4386326690527072e-31, pval_whit: 3.13536004151668e-23\n",
      "pval: 1.2526212132390992e-22, pval_whit: 2.2347902860245473e-18\n",
      "pval: 1.5599780463119083e-16, pval_whit: 2.6119866607507058e-14\n",
      "pval: 1.5435522375914554e-36, pval_whit: 6.8940790684221495e-25\n",
      "pval: 3.3713749414534064e-99, pval_whit: 4.362793152658685e-33\n",
      "pval: 0.8595038827397795, pval_whit: 0.8930789083300219\n",
      "pval: 0.023625906796411456, pval_whit: 0.024091488534943094\n",
      "pval: 0.0002007616996145896, pval_whit: 0.0002460460897204521\n",
      "pval: 5.098211063154711e-08, pval_whit: 7.583633903911689e-08\n",
      "pval: 3.458030878309626e-13, pval_whit: 5.266801703546523e-12\n",
      "pval: 0.17415315262313102, pval_whit: 0.28772021960989647\n",
      "pval: 0.00451922873513973, pval_whit: 0.0048033150239581305\n",
      "pval: 0.09054295381826757, pval_whit: 0.09076088198237325\n",
      "pval: 3.077656196372546e-67, pval_whit: 2.9396110676990803e-32\n",
      "pval: 1.9073431496422968e-83, pval_whit: 1.030840232263695e-33\n",
      "pval: 3.8559643130084144e-64, pval_whit: 2.335645907556642e-31\n",
      "pval: 1.2526212132390992e-22, pval_whit: 2.2347902860245473e-18\n",
      "pval: 7.2521892287603045e-12, pval_whit: 8.716361462645252e-11\n"
     ]
    },
    {
     "data": {
      "application/vnd.plotly.v1+json": {
       "config": {
        "plotlyServerURL": "https://plot.ly"
       },
       "data": [
        {
         "name": "encoder",
         "text": [
          "",
          "*",
          "*",
          "*",
          "*"
         ],
         "type": "bar",
         "x": [
          "TUEV/artf",
          "TUEV/bckg",
          "TUEV/gped",
          "TUEV/pled",
          "TUEV/spsw"
         ],
         "y": [
          0.44050002098083496,
          0.6151999831199646,
          0.7871000170707703,
          0.6258999705314636,
          0.8748000264167786
         ]
        },
        {
         "name": "enc_augment",
         "text": [
          "*",
          "*",
          "*",
          "*",
          "*"
         ],
         "type": "bar",
         "x": [
          "TUEV/artf",
          "TUEV/bckg",
          "TUEV/gped",
          "TUEV/pled",
          "TUEV/spsw"
         ],
         "y": [
          0.3803999722003937,
          0.617900013923645,
          0.9240000247955322,
          0.6724998950958252,
          0.9127998948097229
         ]
        },
        {
         "name": "summarizer",
         "text": [
          "",
          "*",
          "",
          "",
          "*"
         ],
         "type": "bar",
         "x": [
          "TUEV/artf",
          "TUEV/bckg",
          "TUEV/gped",
          "TUEV/pled",
          "TUEV/spsw"
         ],
         "y": [
          0.5095000267028809,
          0.7677000164985657,
          0.5044000148773193,
          0.5329999923706055,
          0.869700014591217
         ]
        },
        {
         "name": "extended_classifier",
         "text": [
          "*",
          "*",
          "",
          "",
          "*"
         ],
         "type": "bar",
         "x": [
          "TUEV/artf",
          "TUEV/bckg",
          "TUEV/gped",
          "TUEV/pled",
          "TUEV/spsw"
         ],
         "y": [
          0.6299999952316284,
          0.8100000023841858,
          0.41999998688697815,
          0.4000000059604645,
          0.8100000023841858
         ]
        },
        {
         "name": "clf",
         "text": [
          "",
          "*",
          "",
          "",
          "*"
         ],
         "type": "bar",
         "x": [
          "TUEV/artf",
          "TUEV/bckg",
          "TUEV/gped",
          "TUEV/pled",
          "TUEV/spsw"
         ],
         "y": [
          0.4399999976158142,
          0.7699999809265137,
          0.6299999952316284,
          0.4399999976158142,
          0.7300000190734863
         ]
        }
       ],
       "layout": {
        "font": {
         "size": 18
        },
        "height": 720,
        "template": {
         "data": {
          "bar": [
           {
            "error_x": {
             "color": "#2a3f5f"
            },
            "error_y": {
             "color": "#2a3f5f"
            },
            "marker": {
             "line": {
              "color": "#E5ECF6",
              "width": 0.5
             },
             "pattern": {
              "fillmode": "overlay",
              "size": 10,
              "solidity": 0.2
             }
            },
            "type": "bar"
           }
          ],
          "barpolar": [
           {
            "marker": {
             "line": {
              "color": "#E5ECF6",
              "width": 0.5
             },
             "pattern": {
              "fillmode": "overlay",
              "size": 10,
              "solidity": 0.2
             }
            },
            "type": "barpolar"
           }
          ],
          "carpet": [
           {
            "aaxis": {
             "endlinecolor": "#2a3f5f",
             "gridcolor": "white",
             "linecolor": "white",
             "minorgridcolor": "white",
             "startlinecolor": "#2a3f5f"
            },
            "baxis": {
             "endlinecolor": "#2a3f5f",
             "gridcolor": "white",
             "linecolor": "white",
             "minorgridcolor": "white",
             "startlinecolor": "#2a3f5f"
            },
            "type": "carpet"
           }
          ],
          "choropleth": [
           {
            "colorbar": {
             "outlinewidth": 0,
             "ticks": ""
            },
            "type": "choropleth"
           }
          ],
          "contour": [
           {
            "colorbar": {
             "outlinewidth": 0,
             "ticks": ""
            },
            "colorscale": [
             [
              0,
              "#0d0887"
             ],
             [
              0.1111111111111111,
              "#46039f"
             ],
             [
              0.2222222222222222,
              "#7201a8"
             ],
             [
              0.3333333333333333,
              "#9c179e"
             ],
             [
              0.4444444444444444,
              "#bd3786"
             ],
             [
              0.5555555555555556,
              "#d8576b"
             ],
             [
              0.6666666666666666,
              "#ed7953"
             ],
             [
              0.7777777777777778,
              "#fb9f3a"
             ],
             [
              0.8888888888888888,
              "#fdca26"
             ],
             [
              1,
              "#f0f921"
             ]
            ],
            "type": "contour"
           }
          ],
          "contourcarpet": [
           {
            "colorbar": {
             "outlinewidth": 0,
             "ticks": ""
            },
            "type": "contourcarpet"
           }
          ],
          "heatmap": [
           {
            "colorbar": {
             "outlinewidth": 0,
             "ticks": ""
            },
            "colorscale": [
             [
              0,
              "#0d0887"
             ],
             [
              0.1111111111111111,
              "#46039f"
             ],
             [
              0.2222222222222222,
              "#7201a8"
             ],
             [
              0.3333333333333333,
              "#9c179e"
             ],
             [
              0.4444444444444444,
              "#bd3786"
             ],
             [
              0.5555555555555556,
              "#d8576b"
             ],
             [
              0.6666666666666666,
              "#ed7953"
             ],
             [
              0.7777777777777778,
              "#fb9f3a"
             ],
             [
              0.8888888888888888,
              "#fdca26"
             ],
             [
              1,
              "#f0f921"
             ]
            ],
            "type": "heatmap"
           }
          ],
          "heatmapgl": [
           {
            "colorbar": {
             "outlinewidth": 0,
             "ticks": ""
            },
            "colorscale": [
             [
              0,
              "#0d0887"
             ],
             [
              0.1111111111111111,
              "#46039f"
             ],
             [
              0.2222222222222222,
              "#7201a8"
             ],
             [
              0.3333333333333333,
              "#9c179e"
             ],
             [
              0.4444444444444444,
              "#bd3786"
             ],
             [
              0.5555555555555556,
              "#d8576b"
             ],
             [
              0.6666666666666666,
              "#ed7953"
             ],
             [
              0.7777777777777778,
              "#fb9f3a"
             ],
             [
              0.8888888888888888,
              "#fdca26"
             ],
             [
              1,
              "#f0f921"
             ]
            ],
            "type": "heatmapgl"
           }
          ],
          "histogram": [
           {
            "marker": {
             "pattern": {
              "fillmode": "overlay",
              "size": 10,
              "solidity": 0.2
             }
            },
            "type": "histogram"
           }
          ],
          "histogram2d": [
           {
            "colorbar": {
             "outlinewidth": 0,
             "ticks": ""
            },
            "colorscale": [
             [
              0,
              "#0d0887"
             ],
             [
              0.1111111111111111,
              "#46039f"
             ],
             [
              0.2222222222222222,
              "#7201a8"
             ],
             [
              0.3333333333333333,
              "#9c179e"
             ],
             [
              0.4444444444444444,
              "#bd3786"
             ],
             [
              0.5555555555555556,
              "#d8576b"
             ],
             [
              0.6666666666666666,
              "#ed7953"
             ],
             [
              0.7777777777777778,
              "#fb9f3a"
             ],
             [
              0.8888888888888888,
              "#fdca26"
             ],
             [
              1,
              "#f0f921"
             ]
            ],
            "type": "histogram2d"
           }
          ],
          "histogram2dcontour": [
           {
            "colorbar": {
             "outlinewidth": 0,
             "ticks": ""
            },
            "colorscale": [
             [
              0,
              "#0d0887"
             ],
             [
              0.1111111111111111,
              "#46039f"
             ],
             [
              0.2222222222222222,
              "#7201a8"
             ],
             [
              0.3333333333333333,
              "#9c179e"
             ],
             [
              0.4444444444444444,
              "#bd3786"
             ],
             [
              0.5555555555555556,
              "#d8576b"
             ],
             [
              0.6666666666666666,
              "#ed7953"
             ],
             [
              0.7777777777777778,
              "#fb9f3a"
             ],
             [
              0.8888888888888888,
              "#fdca26"
             ],
             [
              1,
              "#f0f921"
             ]
            ],
            "type": "histogram2dcontour"
           }
          ],
          "mesh3d": [
           {
            "colorbar": {
             "outlinewidth": 0,
             "ticks": ""
            },
            "type": "mesh3d"
           }
          ],
          "parcoords": [
           {
            "line": {
             "colorbar": {
              "outlinewidth": 0,
              "ticks": ""
             }
            },
            "type": "parcoords"
           }
          ],
          "pie": [
           {
            "automargin": true,
            "type": "pie"
           }
          ],
          "scatter": [
           {
            "fillpattern": {
             "fillmode": "overlay",
             "size": 10,
             "solidity": 0.2
            },
            "type": "scatter"
           }
          ],
          "scatter3d": [
           {
            "line": {
             "colorbar": {
              "outlinewidth": 0,
              "ticks": ""
             }
            },
            "marker": {
             "colorbar": {
              "outlinewidth": 0,
              "ticks": ""
             }
            },
            "type": "scatter3d"
           }
          ],
          "scattercarpet": [
           {
            "marker": {
             "colorbar": {
              "outlinewidth": 0,
              "ticks": ""
             }
            },
            "type": "scattercarpet"
           }
          ],
          "scattergeo": [
           {
            "marker": {
             "colorbar": {
              "outlinewidth": 0,
              "ticks": ""
             }
            },
            "type": "scattergeo"
           }
          ],
          "scattergl": [
           {
            "marker": {
             "colorbar": {
              "outlinewidth": 0,
              "ticks": ""
             }
            },
            "type": "scattergl"
           }
          ],
          "scattermapbox": [
           {
            "marker": {
             "colorbar": {
              "outlinewidth": 0,
              "ticks": ""
             }
            },
            "type": "scattermapbox"
           }
          ],
          "scatterpolar": [
           {
            "marker": {
             "colorbar": {
              "outlinewidth": 0,
              "ticks": ""
             }
            },
            "type": "scatterpolar"
           }
          ],
          "scatterpolargl": [
           {
            "marker": {
             "colorbar": {
              "outlinewidth": 0,
              "ticks": ""
             }
            },
            "type": "scatterpolargl"
           }
          ],
          "scatterternary": [
           {
            "marker": {
             "colorbar": {
              "outlinewidth": 0,
              "ticks": ""
             }
            },
            "type": "scatterternary"
           }
          ],
          "surface": [
           {
            "colorbar": {
             "outlinewidth": 0,
             "ticks": ""
            },
            "colorscale": [
             [
              0,
              "#0d0887"
             ],
             [
              0.1111111111111111,
              "#46039f"
             ],
             [
              0.2222222222222222,
              "#7201a8"
             ],
             [
              0.3333333333333333,
              "#9c179e"
             ],
             [
              0.4444444444444444,
              "#bd3786"
             ],
             [
              0.5555555555555556,
              "#d8576b"
             ],
             [
              0.6666666666666666,
              "#ed7953"
             ],
             [
              0.7777777777777778,
              "#fb9f3a"
             ],
             [
              0.8888888888888888,
              "#fdca26"
             ],
             [
              1,
              "#f0f921"
             ]
            ],
            "type": "surface"
           }
          ],
          "table": [
           {
            "cells": {
             "fill": {
              "color": "#EBF0F8"
             },
             "line": {
              "color": "white"
             }
            },
            "header": {
             "fill": {
              "color": "#C8D4E3"
             },
             "line": {
              "color": "white"
             }
            },
            "type": "table"
           }
          ]
         },
         "layout": {
          "annotationdefaults": {
           "arrowcolor": "#2a3f5f",
           "arrowhead": 0,
           "arrowwidth": 1
          },
          "autotypenumbers": "strict",
          "coloraxis": {
           "colorbar": {
            "outlinewidth": 0,
            "ticks": ""
           }
          },
          "colorscale": {
           "diverging": [
            [
             0,
             "#8e0152"
            ],
            [
             0.1,
             "#c51b7d"
            ],
            [
             0.2,
             "#de77ae"
            ],
            [
             0.3,
             "#f1b6da"
            ],
            [
             0.4,
             "#fde0ef"
            ],
            [
             0.5,
             "#f7f7f7"
            ],
            [
             0.6,
             "#e6f5d0"
            ],
            [
             0.7,
             "#b8e186"
            ],
            [
             0.8,
             "#7fbc41"
            ],
            [
             0.9,
             "#4d9221"
            ],
            [
             1,
             "#276419"
            ]
           ],
           "sequential": [
            [
             0,
             "#0d0887"
            ],
            [
             0.1111111111111111,
             "#46039f"
            ],
            [
             0.2222222222222222,
             "#7201a8"
            ],
            [
             0.3333333333333333,
             "#9c179e"
            ],
            [
             0.4444444444444444,
             "#bd3786"
            ],
            [
             0.5555555555555556,
             "#d8576b"
            ],
            [
             0.6666666666666666,
             "#ed7953"
            ],
            [
             0.7777777777777778,
             "#fb9f3a"
            ],
            [
             0.8888888888888888,
             "#fdca26"
            ],
            [
             1,
             "#f0f921"
            ]
           ],
           "sequentialminus": [
            [
             0,
             "#0d0887"
            ],
            [
             0.1111111111111111,
             "#46039f"
            ],
            [
             0.2222222222222222,
             "#7201a8"
            ],
            [
             0.3333333333333333,
             "#9c179e"
            ],
            [
             0.4444444444444444,
             "#bd3786"
            ],
            [
             0.5555555555555556,
             "#d8576b"
            ],
            [
             0.6666666666666666,
             "#ed7953"
            ],
            [
             0.7777777777777778,
             "#fb9f3a"
            ],
            [
             0.8888888888888888,
             "#fdca26"
            ],
            [
             1,
             "#f0f921"
            ]
           ]
          },
          "colorway": [
           "#636efa",
           "#EF553B",
           "#00cc96",
           "#ab63fa",
           "#FFA15A",
           "#19d3f3",
           "#FF6692",
           "#B6E880",
           "#FF97FF",
           "#FECB52"
          ],
          "font": {
           "color": "#2a3f5f"
          },
          "geo": {
           "bgcolor": "white",
           "lakecolor": "white",
           "landcolor": "#E5ECF6",
           "showlakes": true,
           "showland": true,
           "subunitcolor": "white"
          },
          "hoverlabel": {
           "align": "left"
          },
          "hovermode": "closest",
          "mapbox": {
           "style": "light"
          },
          "paper_bgcolor": "white",
          "plot_bgcolor": "#E5ECF6",
          "polar": {
           "angularaxis": {
            "gridcolor": "white",
            "linecolor": "white",
            "ticks": ""
           },
           "bgcolor": "#E5ECF6",
           "radialaxis": {
            "gridcolor": "white",
            "linecolor": "white",
            "ticks": ""
           }
          },
          "scene": {
           "xaxis": {
            "backgroundcolor": "#E5ECF6",
            "gridcolor": "white",
            "gridwidth": 2,
            "linecolor": "white",
            "showbackground": true,
            "ticks": "",
            "zerolinecolor": "white"
           },
           "yaxis": {
            "backgroundcolor": "#E5ECF6",
            "gridcolor": "white",
            "gridwidth": 2,
            "linecolor": "white",
            "showbackground": true,
            "ticks": "",
            "zerolinecolor": "white"
           },
           "zaxis": {
            "backgroundcolor": "#E5ECF6",
            "gridcolor": "white",
            "gridwidth": 2,
            "linecolor": "white",
            "showbackground": true,
            "ticks": "",
            "zerolinecolor": "white"
           }
          },
          "shapedefaults": {
           "line": {
            "color": "#2a3f5f"
           }
          },
          "ternary": {
           "aaxis": {
            "gridcolor": "white",
            "linecolor": "white",
            "ticks": ""
           },
           "baxis": {
            "gridcolor": "white",
            "linecolor": "white",
            "ticks": ""
           },
           "bgcolor": "#E5ECF6",
           "caxis": {
            "gridcolor": "white",
            "linecolor": "white",
            "ticks": ""
           }
          },
          "title": {
           "x": 0.05
          },
          "xaxis": {
           "automargin": true,
           "gridcolor": "white",
           "linecolor": "white",
           "ticks": "",
           "title": {
            "standoff": 15
           },
           "zerolinecolor": "white",
           "zerolinewidth": 2
          },
          "yaxis": {
           "automargin": true,
           "gridcolor": "white",
           "linecolor": "white",
           "ticks": "",
           "title": {
            "standoff": 15
           },
           "zerolinecolor": "white",
           "zerolinewidth": 2
          }
         }
        },
        "title": {
         "text": "TCAV Scores for Seizure Classification"
        },
        "width": 1200,
        "xaxis": {
         "ticktext": [
          "artf",
          "bckg",
          "gped",
          "pled",
          "spsw"
         ],
         "tickvals": [
          0,
          1,
          2,
          3,
          4
         ],
         "title": {
          "text": "Concept"
         }
        },
        "yaxis": {
         "range": [
          0,
          1
         ],
         "title": {
          "text": "TCAV score"
         }
        }
       }
      },
      "text/html": [
       "<div>                            <div id=\"d4d07543-d7a7-4cc2-8a42-eafd65664a41\" class=\"plotly-graph-div\" style=\"height:720px; width:1200px;\"></div>            <script type=\"text/javascript\">                require([\"plotly\"], function(Plotly) {                    window.PLOTLYENV=window.PLOTLYENV || {};                                    if (document.getElementById(\"d4d07543-d7a7-4cc2-8a42-eafd65664a41\")) {                    Plotly.newPlot(                        \"d4d07543-d7a7-4cc2-8a42-eafd65664a41\",                        [{\"name\":\"encoder\",\"text\":[\"\",\"*\",\"*\",\"*\",\"*\"],\"x\":[\"TUEV\\u002fartf\",\"TUEV\\u002fbckg\",\"TUEV\\u002fgped\",\"TUEV\\u002fpled\",\"TUEV\\u002fspsw\"],\"y\":[0.44050002098083496,0.6151999831199646,0.7871000170707703,0.6258999705314636,0.8748000264167786],\"type\":\"bar\"},{\"name\":\"enc_augment\",\"text\":[\"*\",\"*\",\"*\",\"*\",\"*\"],\"x\":[\"TUEV\\u002fartf\",\"TUEV\\u002fbckg\",\"TUEV\\u002fgped\",\"TUEV\\u002fpled\",\"TUEV\\u002fspsw\"],\"y\":[0.3803999722003937,0.617900013923645,0.9240000247955322,0.6724998950958252,0.9127998948097229],\"type\":\"bar\"},{\"name\":\"summarizer\",\"text\":[\"\",\"*\",\"\",\"\",\"*\"],\"x\":[\"TUEV\\u002fartf\",\"TUEV\\u002fbckg\",\"TUEV\\u002fgped\",\"TUEV\\u002fpled\",\"TUEV\\u002fspsw\"],\"y\":[0.5095000267028809,0.7677000164985657,0.5044000148773193,0.5329999923706055,0.869700014591217],\"type\":\"bar\"},{\"name\":\"extended_classifier\",\"text\":[\"*\",\"*\",\"\",\"\",\"*\"],\"x\":[\"TUEV\\u002fartf\",\"TUEV\\u002fbckg\",\"TUEV\\u002fgped\",\"TUEV\\u002fpled\",\"TUEV\\u002fspsw\"],\"y\":[0.6299999952316284,0.8100000023841858,0.41999998688697815,0.4000000059604645,0.8100000023841858],\"type\":\"bar\"},{\"name\":\"clf\",\"text\":[\"\",\"*\",\"\",\"\",\"*\"],\"x\":[\"TUEV\\u002fartf\",\"TUEV\\u002fbckg\",\"TUEV\\u002fgped\",\"TUEV\\u002fpled\",\"TUEV\\u002fspsw\"],\"y\":[0.4399999976158142,0.7699999809265137,0.6299999952316284,0.4399999976158142,0.7300000190734863],\"type\":\"bar\"}],                        {\"template\":{\"data\":{\"histogram2dcontour\":[{\"type\":\"histogram2dcontour\",\"colorbar\":{\"outlinewidth\":0,\"ticks\":\"\"},\"colorscale\":[[0.0,\"#0d0887\"],[0.1111111111111111,\"#46039f\"],[0.2222222222222222,\"#7201a8\"],[0.3333333333333333,\"#9c179e\"],[0.4444444444444444,\"#bd3786\"],[0.5555555555555556,\"#d8576b\"],[0.6666666666666666,\"#ed7953\"],[0.7777777777777778,\"#fb9f3a\"],[0.8888888888888888,\"#fdca26\"],[1.0,\"#f0f921\"]]}],\"choropleth\":[{\"type\":\"choropleth\",\"colorbar\":{\"outlinewidth\":0,\"ticks\":\"\"}}],\"histogram2d\":[{\"type\":\"histogram2d\",\"colorbar\":{\"outlinewidth\":0,\"ticks\":\"\"},\"colorscale\":[[0.0,\"#0d0887\"],[0.1111111111111111,\"#46039f\"],[0.2222222222222222,\"#7201a8\"],[0.3333333333333333,\"#9c179e\"],[0.4444444444444444,\"#bd3786\"],[0.5555555555555556,\"#d8576b\"],[0.6666666666666666,\"#ed7953\"],[0.7777777777777778,\"#fb9f3a\"],[0.8888888888888888,\"#fdca26\"],[1.0,\"#f0f921\"]]}],\"heatmap\":[{\"type\":\"heatmap\",\"colorbar\":{\"outlinewidth\":0,\"ticks\":\"\"},\"colorscale\":[[0.0,\"#0d0887\"],[0.1111111111111111,\"#46039f\"],[0.2222222222222222,\"#7201a8\"],[0.3333333333333333,\"#9c179e\"],[0.4444444444444444,\"#bd3786\"],[0.5555555555555556,\"#d8576b\"],[0.6666666666666666,\"#ed7953\"],[0.7777777777777778,\"#fb9f3a\"],[0.8888888888888888,\"#fdca26\"],[1.0,\"#f0f921\"]]}],\"heatmapgl\":[{\"type\":\"heatmapgl\",\"colorbar\":{\"outlinewidth\":0,\"ticks\":\"\"},\"colorscale\":[[0.0,\"#0d0887\"],[0.1111111111111111,\"#46039f\"],[0.2222222222222222,\"#7201a8\"],[0.3333333333333333,\"#9c179e\"],[0.4444444444444444,\"#bd3786\"],[0.5555555555555556,\"#d8576b\"],[0.6666666666666666,\"#ed7953\"],[0.7777777777777778,\"#fb9f3a\"],[0.8888888888888888,\"#fdca26\"],[1.0,\"#f0f921\"]]}],\"contourcarpet\":[{\"type\":\"contourcarpet\",\"colorbar\":{\"outlinewidth\":0,\"ticks\":\"\"}}],\"contour\":[{\"type\":\"contour\",\"colorbar\":{\"outlinewidth\":0,\"ticks\":\"\"},\"colorscale\":[[0.0,\"#0d0887\"],[0.1111111111111111,\"#46039f\"],[0.2222222222222222,\"#7201a8\"],[0.3333333333333333,\"#9c179e\"],[0.4444444444444444,\"#bd3786\"],[0.5555555555555556,\"#d8576b\"],[0.6666666666666666,\"#ed7953\"],[0.7777777777777778,\"#fb9f3a\"],[0.8888888888888888,\"#fdca26\"],[1.0,\"#f0f921\"]]}],\"surface\":[{\"type\":\"surface\",\"colorbar\":{\"outlinewidth\":0,\"ticks\":\"\"},\"colorscale\":[[0.0,\"#0d0887\"],[0.1111111111111111,\"#46039f\"],[0.2222222222222222,\"#7201a8\"],[0.3333333333333333,\"#9c179e\"],[0.4444444444444444,\"#bd3786\"],[0.5555555555555556,\"#d8576b\"],[0.6666666666666666,\"#ed7953\"],[0.7777777777777778,\"#fb9f3a\"],[0.8888888888888888,\"#fdca26\"],[1.0,\"#f0f921\"]]}],\"mesh3d\":[{\"type\":\"mesh3d\",\"colorbar\":{\"outlinewidth\":0,\"ticks\":\"\"}}],\"scatter\":[{\"fillpattern\":{\"fillmode\":\"overlay\",\"size\":10,\"solidity\":0.2},\"type\":\"scatter\"}],\"parcoords\":[{\"type\":\"parcoords\",\"line\":{\"colorbar\":{\"outlinewidth\":0,\"ticks\":\"\"}}}],\"scatterpolargl\":[{\"type\":\"scatterpolargl\",\"marker\":{\"colorbar\":{\"outlinewidth\":0,\"ticks\":\"\"}}}],\"bar\":[{\"error_x\":{\"color\":\"#2a3f5f\"},\"error_y\":{\"color\":\"#2a3f5f\"},\"marker\":{\"line\":{\"color\":\"#E5ECF6\",\"width\":0.5},\"pattern\":{\"fillmode\":\"overlay\",\"size\":10,\"solidity\":0.2}},\"type\":\"bar\"}],\"scattergeo\":[{\"type\":\"scattergeo\",\"marker\":{\"colorbar\":{\"outlinewidth\":0,\"ticks\":\"\"}}}],\"scatterpolar\":[{\"type\":\"scatterpolar\",\"marker\":{\"colorbar\":{\"outlinewidth\":0,\"ticks\":\"\"}}}],\"histogram\":[{\"marker\":{\"pattern\":{\"fillmode\":\"overlay\",\"size\":10,\"solidity\":0.2}},\"type\":\"histogram\"}],\"scattergl\":[{\"type\":\"scattergl\",\"marker\":{\"colorbar\":{\"outlinewidth\":0,\"ticks\":\"\"}}}],\"scatter3d\":[{\"type\":\"scatter3d\",\"line\":{\"colorbar\":{\"outlinewidth\":0,\"ticks\":\"\"}},\"marker\":{\"colorbar\":{\"outlinewidth\":0,\"ticks\":\"\"}}}],\"scattermapbox\":[{\"type\":\"scattermapbox\",\"marker\":{\"colorbar\":{\"outlinewidth\":0,\"ticks\":\"\"}}}],\"scatterternary\":[{\"type\":\"scatterternary\",\"marker\":{\"colorbar\":{\"outlinewidth\":0,\"ticks\":\"\"}}}],\"scattercarpet\":[{\"type\":\"scattercarpet\",\"marker\":{\"colorbar\":{\"outlinewidth\":0,\"ticks\":\"\"}}}],\"carpet\":[{\"aaxis\":{\"endlinecolor\":\"#2a3f5f\",\"gridcolor\":\"white\",\"linecolor\":\"white\",\"minorgridcolor\":\"white\",\"startlinecolor\":\"#2a3f5f\"},\"baxis\":{\"endlinecolor\":\"#2a3f5f\",\"gridcolor\":\"white\",\"linecolor\":\"white\",\"minorgridcolor\":\"white\",\"startlinecolor\":\"#2a3f5f\"},\"type\":\"carpet\"}],\"table\":[{\"cells\":{\"fill\":{\"color\":\"#EBF0F8\"},\"line\":{\"color\":\"white\"}},\"header\":{\"fill\":{\"color\":\"#C8D4E3\"},\"line\":{\"color\":\"white\"}},\"type\":\"table\"}],\"barpolar\":[{\"marker\":{\"line\":{\"color\":\"#E5ECF6\",\"width\":0.5},\"pattern\":{\"fillmode\":\"overlay\",\"size\":10,\"solidity\":0.2}},\"type\":\"barpolar\"}],\"pie\":[{\"automargin\":true,\"type\":\"pie\"}]},\"layout\":{\"autotypenumbers\":\"strict\",\"colorway\":[\"#636efa\",\"#EF553B\",\"#00cc96\",\"#ab63fa\",\"#FFA15A\",\"#19d3f3\",\"#FF6692\",\"#B6E880\",\"#FF97FF\",\"#FECB52\"],\"font\":{\"color\":\"#2a3f5f\"},\"hovermode\":\"closest\",\"hoverlabel\":{\"align\":\"left\"},\"paper_bgcolor\":\"white\",\"plot_bgcolor\":\"#E5ECF6\",\"polar\":{\"bgcolor\":\"#E5ECF6\",\"angularaxis\":{\"gridcolor\":\"white\",\"linecolor\":\"white\",\"ticks\":\"\"},\"radialaxis\":{\"gridcolor\":\"white\",\"linecolor\":\"white\",\"ticks\":\"\"}},\"ternary\":{\"bgcolor\":\"#E5ECF6\",\"aaxis\":{\"gridcolor\":\"white\",\"linecolor\":\"white\",\"ticks\":\"\"},\"baxis\":{\"gridcolor\":\"white\",\"linecolor\":\"white\",\"ticks\":\"\"},\"caxis\":{\"gridcolor\":\"white\",\"linecolor\":\"white\",\"ticks\":\"\"}},\"coloraxis\":{\"colorbar\":{\"outlinewidth\":0,\"ticks\":\"\"}},\"colorscale\":{\"sequential\":[[0.0,\"#0d0887\"],[0.1111111111111111,\"#46039f\"],[0.2222222222222222,\"#7201a8\"],[0.3333333333333333,\"#9c179e\"],[0.4444444444444444,\"#bd3786\"],[0.5555555555555556,\"#d8576b\"],[0.6666666666666666,\"#ed7953\"],[0.7777777777777778,\"#fb9f3a\"],[0.8888888888888888,\"#fdca26\"],[1.0,\"#f0f921\"]],\"sequentialminus\":[[0.0,\"#0d0887\"],[0.1111111111111111,\"#46039f\"],[0.2222222222222222,\"#7201a8\"],[0.3333333333333333,\"#9c179e\"],[0.4444444444444444,\"#bd3786\"],[0.5555555555555556,\"#d8576b\"],[0.6666666666666666,\"#ed7953\"],[0.7777777777777778,\"#fb9f3a\"],[0.8888888888888888,\"#fdca26\"],[1.0,\"#f0f921\"]],\"diverging\":[[0,\"#8e0152\"],[0.1,\"#c51b7d\"],[0.2,\"#de77ae\"],[0.3,\"#f1b6da\"],[0.4,\"#fde0ef\"],[0.5,\"#f7f7f7\"],[0.6,\"#e6f5d0\"],[0.7,\"#b8e186\"],[0.8,\"#7fbc41\"],[0.9,\"#4d9221\"],[1,\"#276419\"]]},\"xaxis\":{\"gridcolor\":\"white\",\"linecolor\":\"white\",\"ticks\":\"\",\"title\":{\"standoff\":15},\"zerolinecolor\":\"white\",\"automargin\":true,\"zerolinewidth\":2},\"yaxis\":{\"gridcolor\":\"white\",\"linecolor\":\"white\",\"ticks\":\"\",\"title\":{\"standoff\":15},\"zerolinecolor\":\"white\",\"automargin\":true,\"zerolinewidth\":2},\"scene\":{\"xaxis\":{\"backgroundcolor\":\"#E5ECF6\",\"gridcolor\":\"white\",\"linecolor\":\"white\",\"showbackground\":true,\"ticks\":\"\",\"zerolinecolor\":\"white\",\"gridwidth\":2},\"yaxis\":{\"backgroundcolor\":\"#E5ECF6\",\"gridcolor\":\"white\",\"linecolor\":\"white\",\"showbackground\":true,\"ticks\":\"\",\"zerolinecolor\":\"white\",\"gridwidth\":2},\"zaxis\":{\"backgroundcolor\":\"#E5ECF6\",\"gridcolor\":\"white\",\"linecolor\":\"white\",\"showbackground\":true,\"ticks\":\"\",\"zerolinecolor\":\"white\",\"gridwidth\":2}},\"shapedefaults\":{\"line\":{\"color\":\"#2a3f5f\"}},\"annotationdefaults\":{\"arrowcolor\":\"#2a3f5f\",\"arrowhead\":0,\"arrowwidth\":1},\"geo\":{\"bgcolor\":\"white\",\"landcolor\":\"#E5ECF6\",\"subunitcolor\":\"white\",\"showland\":true,\"showlakes\":true,\"lakecolor\":\"white\"},\"title\":{\"x\":0.05},\"mapbox\":{\"style\":\"light\"}}},\"font\":{\"size\":18},\"width\":1200,\"height\":720,\"title\":{\"text\":\"TCAV Scores for Seizure Classification\"},\"yaxis\":{\"title\":{\"text\":\"TCAV score\"},\"range\":[0,1]},\"xaxis\":{\"title\":{\"text\":\"Concept\"},\"tickvals\":[0,1,2,3,4],\"ticktext\":[\"artf\",\"bckg\",\"gped\",\"pled\",\"spsw\"]}},                        {\"responsive\": true}                    ).then(function(){\n",
       "                            \n",
       "var gd = document.getElementById('d4d07543-d7a7-4cc2-8a42-eafd65664a41');\n",
       "var x = new MutationObserver(function (mutations, observer) {{\n",
       "        var display = window.getComputedStyle(gd).display;\n",
       "        if (!display || display === 'none') {{\n",
       "            console.log([gd, 'removed!']);\n",
       "            Plotly.purge(gd);\n",
       "            observer.disconnect();\n",
       "        }}\n",
       "}});\n",
       "\n",
       "// Listen for the removal of the full notebook cells\n",
       "var notebookContainer = gd.closest('#notebook-container');\n",
       "if (notebookContainer) {{\n",
       "    x.observe(notebookContainer, {childList: true});\n",
       "}}\n",
       "\n",
       "// Listen for the clearing of the current output cell\n",
       "var outputEl = gd.closest('.output');\n",
       "if (outputEl) {{\n",
       "    x.observe(outputEl, {childList: true});\n",
       "}}\n",
       "\n",
       "                        })                };                });            </script>        </div>"
      ]
     },
     "metadata": {},
     "output_type": "display_data"
    }
   ],
   "source": [
    "concept_names = [\"artf\", \"bckg\", \"gped\", \"pled\", \"spsw\"]\n",
    "title = \"TCAV Scores for Seizure Classification\"\n",
    "# plt_name = \"TUEV_seizure_tuev_vs_random_tuh\"\n",
    "\n",
    "scores_mean_df, scores_std_df = plot_tcav_scores(all_experimental_sets, all_tcav_scores, concept_names=concept_names, title=title, score_type=\"sign_count\", alpha=0.05, only_significant=False, with_error=False, plt_name=plt_name, file_type=\"png\")\n",
    "# scores_mean_df\n",
    "# scores_std_df\n",
    "plot_tcav_scores_plotly(all_experimental_sets, all_tcav_scores, concept_names=concept_names, title=title, score_type=\"sign_count\", alpha=0.05, only_significant=False, with_error=False, plt_name=plt_name, file_type=\"png\")\n"
   ]
  }
 ],
 "metadata": {
  "kernelspec": {
   "display_name": "myenv",
   "language": "python",
   "name": "python3"
  },
  "language_info": {
   "codemirror_mode": {
    "name": "ipython",
    "version": 3
   },
   "file_extension": ".py",
   "mimetype": "text/x-python",
   "name": "python",
   "nbconvert_exporter": "python",
   "pygments_lexer": "ipython3",
   "version": "3.11.9"
  }
 },
 "nbformat": 4,
 "nbformat_minor": 2
}
