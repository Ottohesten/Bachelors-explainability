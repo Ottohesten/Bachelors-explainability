{
 "cells": [
  {
   "cell_type": "code",
   "execution_count": 140,
   "metadata": {},
   "outputs": [],
   "source": [
    "import pandas as pd\n",
    "import numpy as np\n",
    "import matplotlib.pyplot as plt\n",
    "import pickle\n",
    "import os\n",
    "from eegatscale.models import LinearHeadBENDR\n",
    "from eegatscale.transforms import Standardize\n",
    "from scipy.stats import ttest_ind\n",
    "import torch\n",
    "import tqdm\n",
    "\n",
    "from captum.concept import TCAV, Concept\n",
    "from captum.concept._utils.common import concepts_to_str\n",
    "from concept_classifier import TCAVClassifier\n",
    "import warnings\n",
    "warnings.filterwarnings(\"ignore\")\n",
    "\n",
    "from dataset_utils import Experiment"
   ]
  },
  {
   "cell_type": "code",
   "execution_count": 141,
   "metadata": {},
   "outputs": [
    {
     "name": "stdout",
     "output_type": "stream",
     "text": [
      "['left_right_concepts_MMIDB_Gamma_new_T0', 'random_tuh_alpha_rh', 'random_mmidb_alpha_no_baseline_lh', 'random_left_concept_MMIDB_Alpha_sanity_check_1000_with_sigma', 'random_mmidb_alpha_no_baseline_with_sigma', 'sanity_check_concepts_MMIDB_alpha_no_baseline', 'random_right_concept_MMIDB_Alpha_sanity_check_1000_no_baseline', 'random_mmidb_alpha_baseline_T0_rh', 'random_mmidb_alpha_lh', 'mmidb_notebook_concepts_alpha', 'mmidb_alpha_baseline_rh_whole', 'sanity_check_concepts_MMIDB_alpha_baseline_with_sigma', 'random_right_concept_MMIDB_Alpha_sanity_check', 'mmidb_alpha_baseline_T2_whole', 'sanity_check_concepts_MMIDB_alpha_baseline', 'TUH_clean_alpha_subtract_Truesigma_Trueabs_100.0_142440_131124', 'random_mmidb_alpha_rh', 'random_right_concept_MMIDB_Alpha_sanity_check_1000', 'mmidb_alpha_baseline_lh_whole', 'TUSZ', 'random_mmidb_alpha_baseline_T0_lh', 'random_tuh_alpha_1000', 'random_mmidb_alpha_no_baseline', 'mmidb_alpha_baseline_T1_whole', 'random_tuh_alpha_lh', 'random_mmidb_alpha_no_baseline_rh', 'random_mmidb_all_no_baseline', 'random_tuh_all_whole', 'TUH_clean_alpha_subtract_Truesigma_Trueabs_100.0_003338_031224_test', 'random_mmidb_alpha_baseline_T0', 'sanity_check_concepts_MMIDB_all_no_baseline', 'left_right_concepts_MMIDB_alpha_new_T0', 'random_right_concept_MMIDB_Alpha', 'sanity_check_concepts_MMIDB_all_no_baseline_with_sigma', 'left_right_concepts_MMIDB_Gamma_new', 'TUEV_subset', 'random_mmidb_alpha_baseline_with_sigma_lh', 'TUEV', 'TUH_clean_alpha_subtract_Truesigma_Trueabs_100.0_002453_031224_test', 'random_right_concept_MMIDB_Alpha_sanity_check_1000_with_sigma', 'left_right_concepts_MMIDB_alpha_new', 'sanity_check_concepts_MMIDB_all_baseline', 'TUH_clean_alpha_subtract_Truesigma_Trueabs_100.0_002655_031224_test', 'random_mmidb_alpha_no_baseline_T0_lh', 'mmidb_notebook_concepts_alpha_gamma', 'TUH_clean_all_subtract_Truesigma_Trueabs_100.0_135454_131124', 'random_left_concept_MMIDB_Alpha_sanity_check', 'random_left_concept_MMIDB_Alpha_sanity_check_1000', 'random_mmidb_alpha_baseline_rh', 'random_tuh_all_1000', 'random_left_concept_MMIDB_Alpha', 'random_mmidb_alpha_baseline_with_sigma_rh', 'random_tuh_alpha_whole', 'tuev_random_concepts', 'random_mmidb_alpha_baseline_lh', 'random_tuh_selected_samples_60', 'sanity_check_concepts_MMIDB_alpha_no_baseline_with_sigma', 'random_mmidb_alpha_no_baseline_T0_rh', 'random_left_concept_MMIDB_Alpha_sanity_check_1000_no_baseline']\n"
     ]
    }
   ],
   "source": [
    "concepts_dir = '/scratch/s194101/concepts/'\n",
    "\n",
    "print(list(os.listdir(concepts_dir)))\n",
    "\n"
   ]
  },
  {
   "cell_type": "markdown",
   "metadata": {},
   "source": [
    "## Load Seizure model"
   ]
  },
  {
   "cell_type": "code",
   "execution_count": 142,
   "metadata": {},
   "outputs": [
    {
     "name": "stdout",
     "output_type": "stream",
     "text": [
      "Initialized mask embedding and position encoder from  /scratch/s194101/finetune_logs_all/tusz_noica_noica_60.0_nogroups_2/version_7/checkpoints/epoch=4-step=40.ckpt\n",
      "model loaded\n"
     ]
    }
   ],
   "source": [
    "out_features = 2\n",
    "# encoder_path = \"/scratch/agjma/checkpoints/tuh-noica-standardize-epoch=9-step=68317-val_loss=0.26.ckpt\"\n",
    "\n",
    "# best model on subset (before) # worse model\n",
    "encoder_path = \"/scratch/s194101/finetune_logs_all/tusz_noica_noica_60.0_nogroups_2/version_7/checkpoints/epoch=4-step=40.ckpt\"\n",
    "\n",
    "\n",
    "# best model on eval set\n",
    "# encoder_path = \"/scratch/s194101/finetune_logs_all/tusz_noica_noica_60.0_nogroups_whole_dataset/version_47/checkpoints/epoch=2-step=141.ckpt\"\n",
    "\n",
    "# best model on train set 97 %\n",
    "# encoder_path = \"/scratch/s194101/finetune_logs_all/tusz_noica_noica_60.0_nogroups_whole_dataset/version_1/checkpoints/epoch=13-step=658.ckpt\"\n",
    "\n",
    "\n",
    "model = LinearHeadBENDR(encoder_path, encoder_h=512, in_features=19, out_features=out_features)\n",
    "state_dict = torch.load(encoder_path, map_location=torch.device('cpu'))[\"state_dict\"]\n",
    "model.load_state_dict(state_dict)\n",
    "model.eval()\n",
    "print(\"model loaded\")"
   ]
  },
  {
   "cell_type": "code",
   "execution_count": 143,
   "metadata": {},
   "outputs": [
    {
     "name": "stdout",
     "output_type": "stream",
     "text": [
      "Loaded dataset TUEV/artf with 1586 samples\n",
      "Loaded dataset TUEV_subset/random with 200 samples\n",
      "Loaded input dataset TUSZ/seiz with 370 samples\n",
      "Loaded dataset TUEV/bckg with 3209 samples\n",
      "Loaded dataset TUEV_subset/random with 200 samples\n",
      "Loaded input dataset TUSZ/seiz with 370 samples\n",
      "Loaded dataset TUEV/gped with 2343 samples\n",
      "Loaded dataset TUEV_subset/random with 200 samples\n",
      "Loaded input dataset TUSZ/seiz with 370 samples\n",
      "Loaded dataset TUEV/pled with 1976 samples\n",
      "Loaded dataset TUEV_subset/random with 200 samples\n",
      "Loaded input dataset TUSZ/seiz with 370 samples\n",
      "Loaded dataset TUEV/spsw with 139 samples\n",
      "Loaded dataset TUEV_subset/random with 200 samples\n",
      "Loaded input dataset TUSZ/seiz with 370 samples\n"
     ]
    }
   ],
   "source": [
    "target_data = \"TUSZ/seiz\"\n",
    "# target_data = \"random_left_concept_MMIDB_Alpha_sanity_check\"\n",
    "# random_concept = \"TUEV/random\"\n",
    "# random_concept = \"random_tuh_selected_samples_60\"\n",
    "# random_concept = \"TUSZ/bckg\"\n",
    "# random_concept = \"random_tuh_all\"\n",
    "# random_concept = \"random_tuh_alpha\"\n",
    "# random_concept = \"tuev_random_concepts\"\n",
    "random_concept = \"TUEV_subset/random\"\n",
    "\n",
    "concept_dir_names = [\n",
    "    \"TUEV/artf\",\n",
    "    \"TUEV/bckg\",\n",
    "    \"TUEV/gped\",\n",
    "    \"TUEV/pled\",\n",
    "    \"TUEV/spsw\",\n",
    "    ]\n",
    "# concept_dir_names = [\n",
    "#     \"TUEV_subset/artf\",\n",
    "#     \"TUEV_subset/bckg\",\n",
    "#     \"TUEV_subset/gped\",\n",
    "#     \"TUEV_subset/pled\",\n",
    "#     \"TUEV_subset/spsw\",\n",
    "#     ]\n",
    "experiments = []\n",
    "idx = 0\n",
    "n_concept_samples = 50\n",
    "n_runs = 100\n",
    "for concept_dir_name in concept_dir_names:\n",
    "    exp = Experiment(model,\n",
    "                    target_data,\n",
    "                    concepts_dir,\n",
    "                    [\n",
    "                    concept_dir_name, # this is where you add extra concepts, (in the square brackets)\n",
    "                    random_concept,\n",
    "                    ],\n",
    "                    verbose=True,\n",
    "                    n_concept_samples=n_concept_samples,\n",
    "                    n_runs=n_runs,\n",
    "                    internal_concept_idx=idx,\n",
    "                    # batch_size = 50,\n",
    "                    )\n",
    "    experiments.append(exp)\n",
    "    idx += 1000\n",
    "\n"
   ]
  },
  {
   "cell_type": "code",
   "execution_count": 144,
   "metadata": {},
   "outputs": [],
   "source": [
    "# plt_name = f\"tusz_seizure_best_eval_model_concepts{n_concept_samples}_runs{n_runs}_vs_{random_concept.replace('/', '_')}\"\n",
    "# plt_name = f\"tusz_seizure_best_train_model_concepts{n_concept_samples}_runs{n_runs}_vs_{random_concept.replace('/', '_')}\"\n",
    "plt_name = f\"tusz_seizure_worse_model{n_concept_samples}_runs{n_runs}_vs_{random_concept.replace('/', '_')}\""
   ]
  },
  {
   "cell_type": "code",
   "execution_count": 145,
   "metadata": {},
   "outputs": [
    {
     "data": {
      "text/plain": [
       "'/home/s194101/Bachelors-explainability/TUSZ/seiz_artf.pkl'"
      ]
     },
     "execution_count": 145,
     "metadata": {},
     "output_type": "execute_result"
    }
   ],
   "source": [
    "experiment = experiments[0]\n",
    "f\"/home/s194101/Bachelors-explainability/{experiment.inputs_name}_{experiment.concept_names[0].split('/')[-1]}.pkl\" if \"/\" in experiment.concept_names[0] else f\"/home/s194101/Bachelors-explainability/{experiment.inputs_name}_{experiment.concept_names[0]}.pkl\""
   ]
  },
  {
   "cell_type": "code",
   "execution_count": 146,
   "metadata": {},
   "outputs": [
    {
     "data": {
      "text/plain": [
       "tensor([0, 0, 1, 0, 1, 1, 1, 0, 0, 0, 1, 1, 1, 0, 1, 1, 0, 0, 0, 1, 0, 0, 1, 1,\n",
       "        0, 1, 0, 1, 0, 0, 0, 0, 0, 0, 0, 0, 0, 1, 1, 1, 0, 0, 1, 1, 1, 0, 1, 1,\n",
       "        0, 0, 1, 1, 1, 0, 1, 1, 0, 1, 0, 1, 1, 0, 0, 1, 1, 0, 0, 1, 1, 1, 0, 0,\n",
       "        0, 0, 1, 0, 1, 0, 0, 1, 1, 0, 1, 1, 1, 0, 0, 0, 1, 1, 0, 1, 1, 1, 1, 0,\n",
       "        0, 0, 1, 0])"
      ]
     },
     "execution_count": 146,
     "metadata": {},
     "output_type": "execute_result"
    }
   ],
   "source": [
    "experiments[0].inputs\n",
    "\n",
    "model(experiments[0].inputs).argmax(dim=1)"
   ]
  },
  {
   "cell_type": "code",
   "execution_count": 147,
   "metadata": {},
   "outputs": [],
   "source": [
    "# next(iter(experiments[1].concepts[\"TUEV/bckg\"][0].data_iter)).shape\n",
    "# experiments[1].concepts\n",
    "\n",
    "# model(next(iter(experiments[1].concepts[\"TUEV/bckg\"][0].data_iter)))"
   ]
  },
  {
   "cell_type": "code",
   "execution_count": 148,
   "metadata": {},
   "outputs": [],
   "source": [
    "layers = [\"encoder\", \"enc_augment\", \"summarizer\", \"extended_classifier\", \"clf\"]\n",
    "\n",
    "def run_tcav(experiment:Experiment, layers:list):\n",
    "    if \"/\" in experiment.concept_names[0]:\n",
    "        save_path = f\"/scratch/s194101/temp/cav/{experiment.concept_names[0].split('/')[-1]}/\"\n",
    "    else:\n",
    "        save_path = f\"/scratch/s194101/temp/cav/{experiment.concept_names[0]}/\"\n",
    "    tcav = TCAV(model, layers, model_id=\"BendrModel\", classifier=TCAVClassifier(), save_path=save_path)\n",
    "    # tcav = TCAV(model, layers, save_path=save_path)\n",
    "    tcav_scores = tcav.interpret(inputs=experiment.inputs, experimental_sets=experiment.experimental_sets, target=0)\n",
    "    tcav_scores = dict(tcav_scores)\n",
    "\n",
    "    save_path = f\"/home/s194101/Bachelors-explainability/{experiment.inputs_name}_{experiment.concept_names[0].split('/')[-1]}.pkl\" if \"/\" in experiment.concept_names[0] else f\"/home/s194101/Bachelors-explainability/{experiment.inputs_name}_{experiment.concept_names[0]}.pkl\"\n",
    "    with open(save_path, \"wb\") as f:\n",
    "        pickle.dump(\n",
    "            {\"tcav_scores\": tcav_scores,\n",
    "             \"experimental_sets\": experiment.experimental_sets,},f)\n",
    "    return tcav_scores\n",
    "        "
   ]
  },
  {
   "cell_type": "code",
   "execution_count": 149,
   "metadata": {},
   "outputs": [],
   "source": [
    "# tcav = TCAV(model, layers, model_id=\"BendrModel\", classifier=TCAVClassifier(), save_path=\"/scratch/s194101/temp/cav_test/\")\n",
    "# tmp_scores = tcav.interpret(inputs=experiments[0].inputs, experimental_sets=[experiments[0].experimental_sets[0], experiments[1].experimental_sets[0]], target=0)\n"
   ]
  },
  {
   "cell_type": "code",
   "execution_count": 150,
   "metadata": {},
   "outputs": [],
   "source": [
    "# next(iter(experiments[0].concepts[\"TUEV/artf\"][0].data_iter)).shape"
   ]
  },
  {
   "cell_type": "code",
   "execution_count": 151,
   "metadata": {},
   "outputs": [],
   "source": [
    "# tmp_scores"
   ]
  },
  {
   "cell_type": "code",
   "execution_count": null,
   "metadata": {},
   "outputs": [
    {
     "name": "stdout",
     "output_type": "stream",
     "text": [
      "TUSZ/seiz TUEV/artf\n"
     ]
    }
   ],
   "source": [
    "for exp in experiments:\n",
    "    run_tcav(exp, layers)\n",
    "    print(exp.inputs_name, exp.concept_names[0])"
   ]
  },
  {
   "cell_type": "code",
   "execution_count": null,
   "metadata": {},
   "outputs": [],
   "source": [
    "all_experimental_sets = []\n",
    "all_tcav_scores = []\n",
    "\n",
    "for i, exp in enumerate(experiments):\n",
    "    file_path = f\"/home/s194101/Bachelors-explainability/{exp.inputs_name}_{exp.concept_names[0].split('/')[-1]}.pkl\" if \"/\" in exp.concept_names[0] else f\"/home/s194101/Bachelors-explainability/{exp.inputs_name}_{exp.concept_names[0]}.pkl\"\n",
    "    with open(file_path, \"rb\") as f:\n",
    "        data = pickle.load(f)\n",
    "        all_tcav_scores.append(data[\"tcav_scores\"])\n",
    "        all_experimental_sets.append(data[\"experimental_sets\"])"
   ]
  },
  {
   "cell_type": "code",
   "execution_count": null,
   "metadata": {},
   "outputs": [],
   "source": [
    "from plot_utils import assemble_scores, plot_tcav_scores, plot_tcav_scores_plotly"
   ]
  },
  {
   "cell_type": "code",
   "execution_count": null,
   "metadata": {},
   "outputs": [
    {
     "name": "stdout",
     "output_type": "stream",
     "text": [
      "pval: 3.428163847859765e-21, pval_whit: 8.2699870569150945e-19\n",
      "pval: 2.121767578043809e-21, pval_whit: 6.772150655744033e-19\n",
      "pval: 0.2643276175920047, pval_whit: 0.29373265713785257\n",
      "pval: 0.15886957060688942, pval_whit: 0.15875743750830362\n",
      "pval: 0.048014827013685826, pval_whit: 0.04843494108143848\n",
      "pval: 2.6141844324656148e-08, pval_whit: 3.1862085751659334e-07\n",
      "pval: 0.05126418359913434, pval_whit: 0.009776601826202876\n",
      "pval: 4.696265640521551e-07, pval_whit: 6.463652530555622e-06\n",
      "pval: 3.85298864697677e-06, pval_whit: 6.39939933243881e-06\n",
      "pval: 0.260129345726273, pval_whit: 0.2596882799123623\n",
      "pval: 3.601892971278733e-14, pval_whit: 3.1138973587912843e-13\n",
      "pval: 1.831708227065446e-10, pval_whit: 9.532356809844054e-13\n",
      "pval: 0.039959236231460436, pval_whit: 0.01489980186945808\n",
      "pval: 0.04801483373766322, pval_whit: 0.04843494108143848\n",
      "pval: 0.39868627100214904, pval_whit: 0.39811447647615206\n",
      "pval: 4.2795446743104416e-36, pval_whit: 7.976313378330488e-26\n",
      "pval: 3.200310014762265e-29, pval_whit: 9.461692052088476e-24\n",
      "pval: 0.002371166931180491, pval_whit: 0.007724277501635489\n",
      "pval: 0.0017468180697254837, pval_whit: 0.001921717043888001\n",
      "pval: 9.252335913313171e-60, pval_whit: 7.290829918727879e-34\n",
      "pval: 3.10354981204133e-51, pval_whit: 3.654338838364424e-30\n",
      "pval: 3.068394066895446e-63, pval_whit: 1.5166596205182966e-32\n",
      "pval: 0.48813989630475285, pval_whit: 0.6144546194156445\n",
      "pval: 0.7786354693002593, pval_whit: 0.7789220640426517\n",
      "pval: 4.404619031757125e-09, pval_whit: 1.6878696594800046e-08\n"
     ]
    },
    {
     "data": {
      "image/png": "[encoded data removed]",
      "text/plain": [
       "<Figure size 1800x600 with 1 Axes>"
      ]
     },
     "metadata": {},
     "output_type": "display_data"
    },
    {
     "name": "stdout",
     "output_type": "stream",
     "text": [
      "pval: 3.428163847859765e-21, pval_whit: 8.2699870569150945e-19\n",
      "pval: 2.121767578043809e-21, pval_whit: 6.772150655744033e-19\n",
      "pval: 0.2643276175920047, pval_whit: 0.29373265713785257\n",
      "pval: 0.15886957060688942, pval_whit: 0.15875743750830362\n",
      "pval: 0.048014827013685826, pval_whit: 0.04843494108143848\n",
      "pval: 2.6141844324656148e-08, pval_whit: 3.1862085751659334e-07\n",
      "pval: 0.05126418359913434, pval_whit: 0.009776601826202876\n",
      "pval: 4.696265640521551e-07, pval_whit: 6.463652530555622e-06\n",
      "pval: 3.85298864697677e-06, pval_whit: 6.39939933243881e-06\n",
      "pval: 0.260129345726273, pval_whit: 0.2596882799123623\n",
      "pval: 3.601892971278733e-14, pval_whit: 3.1138973587912843e-13\n",
      "pval: 1.831708227065446e-10, pval_whit: 9.532356809844054e-13\n",
      "pval: 0.039959236231460436, pval_whit: 0.01489980186945808\n",
      "pval: 0.04801483373766322, pval_whit: 0.04843494108143848\n",
      "pval: 0.39868627100214904, pval_whit: 0.39811447647615206\n",
      "pval: 4.2795446743104416e-36, pval_whit: 7.976313378330488e-26\n",
      "pval: 3.200310014762265e-29, pval_whit: 9.461692052088476e-24\n",
      "pval: 0.002371166931180491, pval_whit: 0.007724277501635489\n",
      "pval: 0.0017468180697254837, pval_whit: 0.001921717043888001\n",
      "pval: 9.252335913313171e-60, pval_whit: 7.290829918727879e-34\n",
      "pval: 3.10354981204133e-51, pval_whit: 3.654338838364424e-30\n",
      "pval: 3.068394066895446e-63, pval_whit: 1.5166596205182966e-32\n",
      "pval: 0.48813989630475285, pval_whit: 0.6144546194156445\n",
      "pval: 0.7786354693002593, pval_whit: 0.7789220640426517\n",
      "pval: 4.404619031757125e-09, pval_whit: 1.6878696594800046e-08\n"
     ]
    },
    {
     "data": {
      "application/vnd.plotly.v1+json": {
       "config": {
        "plotlyServerURL": "https://plot.ly"
       },
       "data": [
        {
         "name": "encoder",
         "text": [
          "*",
          "*",
          "*",
          "*",
          "*"
         ],
         "type": "bar",
         "x": [
          "TUEV/artf",
          "TUEV/bckg",
          "TUEV/gped",
          "TUEV/pled",
          "TUEV/spsw"
         ],
         "y": [
          0.23510000109672546,
          0.35430005192756653,
          0.6974999904632568,
          0.8156000375747681,
          0.8586000204086304
         ]
        },
        {
         "name": "enc_augment",
         "text": [
          "*",
          "",
          "*",
          "*",
          "*"
         ],
         "type": "bar",
         "x": [
          "TUEV/artf",
          "TUEV/bckg",
          "TUEV/gped",
          "TUEV/pled",
          "TUEV/spsw"
         ],
         "y": [
          0.23889999091625214,
          0.4439999759197235,
          0.6848999857902527,
          0.8134999871253967,
          0.8867999911308289
         ]
        },
        {
         "name": "summarizer",
         "text": [
          "",
          "*",
          "",
          "",
          ""
         ],
         "type": "bar",
         "x": [
          "TUEV/artf",
          "TUEV/bckg",
          "TUEV/gped",
          "TUEV/pled",
          "TUEV/spsw"
         ],
         "y": [
          0.46870002150535583,
          0.6406999826431274,
          0.5601000785827637,
          0.4178999960422516,
          0.4798000454902649
         ]
        },
        {
         "name": "extended_classifier",
         "text": [
          "",
          "*",
          "",
          "",
          ""
         ],
         "type": "bar",
         "x": [
          "TUEV/artf",
          "TUEV/bckg",
          "TUEV/gped",
          "TUEV/pled",
          "TUEV/spsw"
         ],
         "y": [
          0.44999998807907104,
          0.6600000262260437,
          0.5699999928474426,
          0.38999998569488525,
          0.49000000953674316
         ]
        },
        {
         "name": "clf",
         "text": [
          "",
          "",
          "",
          "*",
          ""
         ],
         "type": "bar",
         "x": [
          "TUEV/artf",
          "TUEV/bckg",
          "TUEV/gped",
          "TUEV/pled",
          "TUEV/spsw"
         ],
         "y": [
          0.4300000071525574,
          0.46000000834465027,
          0.5299999713897705,
          0.9300000071525574,
          0.699999988079071
         ]
        }
       ],
       "layout": {
        "font": {
         "size": 18
        },
        "height": 720,
        "template": {
         "data": {
          "bar": [
           {
            "error_x": {
             "color": "#2a3f5f"
            },
            "error_y": {
             "color": "#2a3f5f"
            },
            "marker": {
             "line": {
              "color": "#E5ECF6",
              "width": 0.5
             },
             "pattern": {
              "fillmode": "overlay",
              "size": 10,
              "solidity": 0.2
             }
            },
            "type": "bar"
           }
          ],
          "barpolar": [
           {
            "marker": {
             "line": {
              "color": "#E5ECF6",
              "width": 0.5
             },
             "pattern": {
              "fillmode": "overlay",
              "size": 10,
              "solidity": 0.2
             }
            },
            "type": "barpolar"
           }
          ],
          "carpet": [
           {
            "aaxis": {
             "endlinecolor": "#2a3f5f",
             "gridcolor": "white",
             "linecolor": "white",
             "minorgridcolor": "white",
             "startlinecolor": "#2a3f5f"
            },
            "baxis": {
             "endlinecolor": "#2a3f5f",
             "gridcolor": "white",
             "linecolor": "white",
             "minorgridcolor": "white",
             "startlinecolor": "#2a3f5f"
            },
            "type": "carpet"
           }
          ],
          "choropleth": [
           {
            "colorbar": {
             "outlinewidth": 0,
             "ticks": ""
            },
            "type": "choropleth"
           }
          ],
          "contour": [
           {
            "colorbar": {
             "outlinewidth": 0,
             "ticks": ""
            },
            "colorscale": [
             [
              0,
              "#0d0887"
             ],
             [
              0.1111111111111111,
              "#46039f"
             ],
             [
              0.2222222222222222,
              "#7201a8"
             ],
             [
              0.3333333333333333,
              "#9c179e"
             ],
             [
              0.4444444444444444,
              "#bd3786"
             ],
             [
              0.5555555555555556,
              "#d8576b"
             ],
             [
              0.6666666666666666,
              "#ed7953"
             ],
             [
              0.7777777777777778,
              "#fb9f3a"
             ],
             [
              0.8888888888888888,
              "#fdca26"
             ],
             [
              1,
              "#f0f921"
             ]
            ],
            "type": "contour"
           }
          ],
          "contourcarpet": [
           {
            "colorbar": {
             "outlinewidth": 0,
             "ticks": ""
            },
            "type": "contourcarpet"
           }
          ],
          "heatmap": [
           {
            "colorbar": {
             "outlinewidth": 0,
             "ticks": ""
            },
            "colorscale": [
             [
              0,
              "#0d0887"
             ],
             [
              0.1111111111111111,
              "#46039f"
             ],
             [
              0.2222222222222222,
              "#7201a8"
             ],
             [
              0.3333333333333333,
              "#9c179e"
             ],
             [
              0.4444444444444444,
              "#bd3786"
             ],
             [
              0.5555555555555556,
              "#d8576b"
             ],
             [
              0.6666666666666666,
              "#ed7953"
             ],
             [
              0.7777777777777778,
              "#fb9f3a"
             ],
             [
              0.8888888888888888,
              "#fdca26"
             ],
             [
              1,
              "#f0f921"
             ]
            ],
            "type": "heatmap"
           }
          ],
          "heatmapgl": [
           {
            "colorbar": {
             "outlinewidth": 0,
             "ticks": ""
            },
            "colorscale": [
             [
              0,
              "#0d0887"
             ],
             [
              0.1111111111111111,
              "#46039f"
             ],
             [
              0.2222222222222222,
              "#7201a8"
             ],
             [
              0.3333333333333333,
              "#9c179e"
             ],
             [
              0.4444444444444444,
              "#bd3786"
             ],
             [
              0.5555555555555556,
              "#d8576b"
             ],
             [
              0.6666666666666666,
              "#ed7953"
             ],
             [
              0.7777777777777778,
              "#fb9f3a"
             ],
             [
              0.8888888888888888,
              "#fdca26"
             ],
             [
              1,
              "#f0f921"
             ]
            ],
            "type": "heatmapgl"
           }
          ],
          "histogram": [
           {
            "marker": {
             "pattern": {
              "fillmode": "overlay",
              "size": 10,
              "solidity": 0.2
             }
            },
            "type": "histogram"
           }
          ],
          "histogram2d": [
           {
            "colorbar": {
             "outlinewidth": 0,
             "ticks": ""
            },
            "colorscale": [
             [
              0,
              "#0d0887"
             ],
             [
              0.1111111111111111,
              "#46039f"
             ],
             [
              0.2222222222222222,
              "#7201a8"
             ],
             [
              0.3333333333333333,
              "#9c179e"
             ],
             [
              0.4444444444444444,
              "#bd3786"
             ],
             [
              0.5555555555555556,
              "#d8576b"
             ],
             [
              0.6666666666666666,
              "#ed7953"
             ],
             [
              0.7777777777777778,
              "#fb9f3a"
             ],
             [
              0.8888888888888888,
              "#fdca26"
             ],
             [
              1,
              "#f0f921"
             ]
            ],
            "type": "histogram2d"
           }
          ],
          "histogram2dcontour": [
           {
            "colorbar": {
             "outlinewidth": 0,
             "ticks": ""
            },
            "colorscale": [
             [
              0,
              "#0d0887"
             ],
             [
              0.1111111111111111,
              "#46039f"
             ],
             [
              0.2222222222222222,
              "#7201a8"
             ],
             [
              0.3333333333333333,
              "#9c179e"
             ],
             [
              0.4444444444444444,
              "#bd3786"
             ],
             [
              0.5555555555555556,
              "#d8576b"
             ],
             [
              0.6666666666666666,
              "#ed7953"
             ],
             [
              0.7777777777777778,
              "#fb9f3a"
             ],
             [
              0.8888888888888888,
              "#fdca26"
             ],
             [
              1,
              "#f0f921"
             ]
            ],
            "type": "histogram2dcontour"
           }
          ],
          "mesh3d": [
           {
            "colorbar": {
             "outlinewidth": 0,
             "ticks": ""
            },
            "type": "mesh3d"
           }
          ],
          "parcoords": [
           {
            "line": {
             "colorbar": {
              "outlinewidth": 0,
              "ticks": ""
             }
            },
            "type": "parcoords"
           }
          ],
          "pie": [
           {
            "automargin": true,
            "type": "pie"
           }
          ],
          "scatter": [
           {
            "fillpattern": {
             "fillmode": "overlay",
             "size": 10,
             "solidity": 0.2
            },
            "type": "scatter"
           }
          ],
          "scatter3d": [
           {
            "line": {
             "colorbar": {
              "outlinewidth": 0,
              "ticks": ""
             }
            },
            "marker": {
             "colorbar": {
              "outlinewidth": 0,
              "ticks": ""
             }
            },
            "type": "scatter3d"
           }
          ],
          "scattercarpet": [
           {
            "marker": {
             "colorbar": {
              "outlinewidth": 0,
              "ticks": ""
             }
            },
            "type": "scattercarpet"
           }
          ],
          "scattergeo": [
           {
            "marker": {
             "colorbar": {
              "outlinewidth": 0,
              "ticks": ""
             }
            },
            "type": "scattergeo"
           }
          ],
          "scattergl": [
           {
            "marker": {
             "colorbar": {
              "outlinewidth": 0,
              "ticks": ""
             }
            },
            "type": "scattergl"
           }
          ],
          "scattermapbox": [
           {
            "marker": {
             "colorbar": {
              "outlinewidth": 0,
              "ticks": ""
             }
            },
            "type": "scattermapbox"
           }
          ],
          "scatterpolar": [
           {
            "marker": {
             "colorbar": {
              "outlinewidth": 0,
              "ticks": ""
             }
            },
            "type": "scatterpolar"
           }
          ],
          "scatterpolargl": [
           {
            "marker": {
             "colorbar": {
              "outlinewidth": 0,
              "ticks": ""
             }
            },
            "type": "scatterpolargl"
           }
          ],
          "scatterternary": [
           {
            "marker": {
             "colorbar": {
              "outlinewidth": 0,
              "ticks": ""
             }
            },
            "type": "scatterternary"
           }
          ],
          "surface": [
           {
            "colorbar": {
             "outlinewidth": 0,
             "ticks": ""
            },
            "colorscale": [
             [
              0,
              "#0d0887"
             ],
             [
              0.1111111111111111,
              "#46039f"
             ],
             [
              0.2222222222222222,
              "#7201a8"
             ],
             [
              0.3333333333333333,
              "#9c179e"
             ],
             [
              0.4444444444444444,
              "#bd3786"
             ],
             [
              0.5555555555555556,
              "#d8576b"
             ],
             [
              0.6666666666666666,
              "#ed7953"
             ],
             [
              0.7777777777777778,
              "#fb9f3a"
             ],
             [
              0.8888888888888888,
              "#fdca26"
             ],
             [
              1,
              "#f0f921"
             ]
            ],
            "type": "surface"
           }
          ],
          "table": [
           {
            "cells": {
             "fill": {
              "color": "#EBF0F8"
             },
             "line": {
              "color": "white"
             }
            },
            "header": {
             "fill": {
              "color": "#C8D4E3"
             },
             "line": {
              "color": "white"
             }
            },
            "type": "table"
           }
          ]
         },
         "layout": {
          "annotationdefaults": {
           "arrowcolor": "#2a3f5f",
           "arrowhead": 0,
           "arrowwidth": 1
          },
          "autotypenumbers": "strict",
          "coloraxis": {
           "colorbar": {
            "outlinewidth": 0,
            "ticks": ""
           }
          },
          "colorscale": {
           "diverging": [
            [
             0,
             "#8e0152"
            ],
            [
             0.1,
             "#c51b7d"
            ],
            [
             0.2,
             "#de77ae"
            ],
            [
             0.3,
             "#f1b6da"
            ],
            [
             0.4,
             "#fde0ef"
            ],
            [
             0.5,
             "#f7f7f7"
            ],
            [
             0.6,
             "#e6f5d0"
            ],
            [
             0.7,
             "#b8e186"
            ],
            [
             0.8,
             "#7fbc41"
            ],
            [
             0.9,
             "#4d9221"
            ],
            [
             1,
             "#276419"
            ]
           ],
           "sequential": [
            [
             0,
             "#0d0887"
            ],
            [
             0.1111111111111111,
             "#46039f"
            ],
            [
             0.2222222222222222,
             "#7201a8"
            ],
            [
             0.3333333333333333,
             "#9c179e"
            ],
            [
             0.4444444444444444,
             "#bd3786"
            ],
            [
             0.5555555555555556,
             "#d8576b"
            ],
            [
             0.6666666666666666,
             "#ed7953"
            ],
            [
             0.7777777777777778,
             "#fb9f3a"
            ],
            [
             0.8888888888888888,
             "#fdca26"
            ],
            [
             1,
             "#f0f921"
            ]
           ],
           "sequentialminus": [
            [
             0,
             "#0d0887"
            ],
            [
             0.1111111111111111,
             "#46039f"
            ],
            [
             0.2222222222222222,
             "#7201a8"
            ],
            [
             0.3333333333333333,
             "#9c179e"
            ],
            [
             0.4444444444444444,
             "#bd3786"
            ],
            [
             0.5555555555555556,
             "#d8576b"
            ],
            [
             0.6666666666666666,
             "#ed7953"
            ],
            [
             0.7777777777777778,
             "#fb9f3a"
            ],
            [
             0.8888888888888888,
             "#fdca26"
            ],
            [
             1,
             "#f0f921"
            ]
           ]
          },
          "colorway": [
           "#636efa",
           "#EF553B",
           "#00cc96",
           "#ab63fa",
           "#FFA15A",
           "#19d3f3",
           "#FF6692",
           "#B6E880",
           "#FF97FF",
           "#FECB52"
          ],
          "font": {
           "color": "#2a3f5f"
          },
          "geo": {
           "bgcolor": "white",
           "lakecolor": "white",
           "landcolor": "#E5ECF6",
           "showlakes": true,
           "showland": true,
           "subunitcolor": "white"
          },
          "hoverlabel": {
           "align": "left"
          },
          "hovermode": "closest",
          "mapbox": {
           "style": "light"
          },
          "paper_bgcolor": "white",
          "plot_bgcolor": "#E5ECF6",
          "polar": {
           "angularaxis": {
            "gridcolor": "white",
            "linecolor": "white",
            "ticks": ""
           },
           "bgcolor": "#E5ECF6",
           "radialaxis": {
            "gridcolor": "white",
            "linecolor": "white",
            "ticks": ""
           }
          },
          "scene": {
           "xaxis": {
            "backgroundcolor": "#E5ECF6",
            "gridcolor": "white",
            "gridwidth": 2,
            "linecolor": "white",
            "showbackground": true,
            "ticks": "",
            "zerolinecolor": "white"
           },
           "yaxis": {
            "backgroundcolor": "#E5ECF6",
            "gridcolor": "white",
            "gridwidth": 2,
            "linecolor": "white",
            "showbackground": true,
            "ticks": "",
            "zerolinecolor": "white"
           },
           "zaxis": {
            "backgroundcolor": "#E5ECF6",
            "gridcolor": "white",
            "gridwidth": 2,
            "linecolor": "white",
            "showbackground": true,
            "ticks": "",
            "zerolinecolor": "white"
           }
          },
          "shapedefaults": {
           "line": {
            "color": "#2a3f5f"
           }
          },
          "ternary": {
           "aaxis": {
            "gridcolor": "white",
            "linecolor": "white",
            "ticks": ""
           },
           "baxis": {
            "gridcolor": "white",
            "linecolor": "white",
            "ticks": ""
           },
           "bgcolor": "#E5ECF6",
           "caxis": {
            "gridcolor": "white",
            "linecolor": "white",
            "ticks": ""
           }
          },
          "title": {
           "x": 0.05
          },
          "xaxis": {
           "automargin": true,
           "gridcolor": "white",
           "linecolor": "white",
           "ticks": "",
           "title": {
            "standoff": 15
           },
           "zerolinecolor": "white",
           "zerolinewidth": 2
          },
          "yaxis": {
           "automargin": true,
           "gridcolor": "white",
           "linecolor": "white",
           "ticks": "",
           "title": {
            "standoff": 15
           },
           "zerolinecolor": "white",
           "zerolinewidth": 2
          }
         }
        },
        "title": {
         "text": "Seizure Prediction"
        },
        "width": 1200,
        "xaxis": {
         "ticktext": [
          "artf",
          "bckg",
          "gped",
          "pled",
          "spsw"
         ],
         "tickvals": [
          0,
          1,
          2,
          3,
          4
         ],
         "title": {
          "text": "Concept"
         }
        },
        "yaxis": {
         "range": [
          0,
          1
         ],
         "title": {
          "text": "TCAV score"
         }
        }
       }
      },
      "text/html": [
       "<div>                            <div id=\"499aaf2f-1a6d-4c6f-81b9-489471a4518b\" class=\"plotly-graph-div\" style=\"height:720px; width:1200px;\"></div>            <script type=\"text/javascript\">                require([\"plotly\"], function(Plotly) {                    window.PLOTLYENV=window.PLOTLYENV || {};                                    if (document.getElementById(\"499aaf2f-1a6d-4c6f-81b9-489471a4518b\")) {                    Plotly.newPlot(                        \"499aaf2f-1a6d-4c6f-81b9-489471a4518b\",                        [{\"name\":\"encoder\",\"text\":[\"*\",\"*\",\"*\",\"*\",\"*\"],\"x\":[\"TUEV\\u002fartf\",\"TUEV\\u002fbckg\",\"TUEV\\u002fgped\",\"TUEV\\u002fpled\",\"TUEV\\u002fspsw\"],\"y\":[0.23510000109672546,0.35430005192756653,0.6974999904632568,0.8156000375747681,0.8586000204086304],\"type\":\"bar\"},{\"name\":\"enc_augment\",\"text\":[\"*\",\"\",\"*\",\"*\",\"*\"],\"x\":[\"TUEV\\u002fartf\",\"TUEV\\u002fbckg\",\"TUEV\\u002fgped\",\"TUEV\\u002fpled\",\"TUEV\\u002fspsw\"],\"y\":[0.23889999091625214,0.4439999759197235,0.6848999857902527,0.8134999871253967,0.8867999911308289],\"type\":\"bar\"},{\"name\":\"summarizer\",\"text\":[\"\",\"*\",\"\",\"\",\"\"],\"x\":[\"TUEV\\u002fartf\",\"TUEV\\u002fbckg\",\"TUEV\\u002fgped\",\"TUEV\\u002fpled\",\"TUEV\\u002fspsw\"],\"y\":[0.46870002150535583,0.6406999826431274,0.5601000785827637,0.4178999960422516,0.4798000454902649],\"type\":\"bar\"},{\"name\":\"extended_classifier\",\"text\":[\"\",\"*\",\"\",\"\",\"\"],\"x\":[\"TUEV\\u002fartf\",\"TUEV\\u002fbckg\",\"TUEV\\u002fgped\",\"TUEV\\u002fpled\",\"TUEV\\u002fspsw\"],\"y\":[0.44999998807907104,0.6600000262260437,0.5699999928474426,0.38999998569488525,0.49000000953674316],\"type\":\"bar\"},{\"name\":\"clf\",\"text\":[\"\",\"\",\"\",\"*\",\"\"],\"x\":[\"TUEV\\u002fartf\",\"TUEV\\u002fbckg\",\"TUEV\\u002fgped\",\"TUEV\\u002fpled\",\"TUEV\\u002fspsw\"],\"y\":[0.4300000071525574,0.46000000834465027,0.5299999713897705,0.9300000071525574,0.699999988079071],\"type\":\"bar\"}],                        {\"template\":{\"data\":{\"histogram2dcontour\":[{\"type\":\"histogram2dcontour\",\"colorbar\":{\"outlinewidth\":0,\"ticks\":\"\"},\"colorscale\":[[0.0,\"#0d0887\"],[0.1111111111111111,\"#46039f\"],[0.2222222222222222,\"#7201a8\"],[0.3333333333333333,\"#9c179e\"],[0.4444444444444444,\"#bd3786\"],[0.5555555555555556,\"#d8576b\"],[0.6666666666666666,\"#ed7953\"],[0.7777777777777778,\"#fb9f3a\"],[0.8888888888888888,\"#fdca26\"],[1.0,\"#f0f921\"]]}],\"choropleth\":[{\"type\":\"choropleth\",\"colorbar\":{\"outlinewidth\":0,\"ticks\":\"\"}}],\"histogram2d\":[{\"type\":\"histogram2d\",\"colorbar\":{\"outlinewidth\":0,\"ticks\":\"\"},\"colorscale\":[[0.0,\"#0d0887\"],[0.1111111111111111,\"#46039f\"],[0.2222222222222222,\"#7201a8\"],[0.3333333333333333,\"#9c179e\"],[0.4444444444444444,\"#bd3786\"],[0.5555555555555556,\"#d8576b\"],[0.6666666666666666,\"#ed7953\"],[0.7777777777777778,\"#fb9f3a\"],[0.8888888888888888,\"#fdca26\"],[1.0,\"#f0f921\"]]}],\"heatmap\":[{\"type\":\"heatmap\",\"colorbar\":{\"outlinewidth\":0,\"ticks\":\"\"},\"colorscale\":[[0.0,\"#0d0887\"],[0.1111111111111111,\"#46039f\"],[0.2222222222222222,\"#7201a8\"],[0.3333333333333333,\"#9c179e\"],[0.4444444444444444,\"#bd3786\"],[0.5555555555555556,\"#d8576b\"],[0.6666666666666666,\"#ed7953\"],[0.7777777777777778,\"#fb9f3a\"],[0.8888888888888888,\"#fdca26\"],[1.0,\"#f0f921\"]]}],\"heatmapgl\":[{\"type\":\"heatmapgl\",\"colorbar\":{\"outlinewidth\":0,\"ticks\":\"\"},\"colorscale\":[[0.0,\"#0d0887\"],[0.1111111111111111,\"#46039f\"],[0.2222222222222222,\"#7201a8\"],[0.3333333333333333,\"#9c179e\"],[0.4444444444444444,\"#bd3786\"],[0.5555555555555556,\"#d8576b\"],[0.6666666666666666,\"#ed7953\"],[0.7777777777777778,\"#fb9f3a\"],[0.8888888888888888,\"#fdca26\"],[1.0,\"#f0f921\"]]}],\"contourcarpet\":[{\"type\":\"contourcarpet\",\"colorbar\":{\"outlinewidth\":0,\"ticks\":\"\"}}],\"contour\":[{\"type\":\"contour\",\"colorbar\":{\"outlinewidth\":0,\"ticks\":\"\"},\"colorscale\":[[0.0,\"#0d0887\"],[0.1111111111111111,\"#46039f\"],[0.2222222222222222,\"#7201a8\"],[0.3333333333333333,\"#9c179e\"],[0.4444444444444444,\"#bd3786\"],[0.5555555555555556,\"#d8576b\"],[0.6666666666666666,\"#ed7953\"],[0.7777777777777778,\"#fb9f3a\"],[0.8888888888888888,\"#fdca26\"],[1.0,\"#f0f921\"]]}],\"surface\":[{\"type\":\"surface\",\"colorbar\":{\"outlinewidth\":0,\"ticks\":\"\"},\"colorscale\":[[0.0,\"#0d0887\"],[0.1111111111111111,\"#46039f\"],[0.2222222222222222,\"#7201a8\"],[0.3333333333333333,\"#9c179e\"],[0.4444444444444444,\"#bd3786\"],[0.5555555555555556,\"#d8576b\"],[0.6666666666666666,\"#ed7953\"],[0.7777777777777778,\"#fb9f3a\"],[0.8888888888888888,\"#fdca26\"],[1.0,\"#f0f921\"]]}],\"mesh3d\":[{\"type\":\"mesh3d\",\"colorbar\":{\"outlinewidth\":0,\"ticks\":\"\"}}],\"scatter\":[{\"fillpattern\":{\"fillmode\":\"overlay\",\"size\":10,\"solidity\":0.2},\"type\":\"scatter\"}],\"parcoords\":[{\"type\":\"parcoords\",\"line\":{\"colorbar\":{\"outlinewidth\":0,\"ticks\":\"\"}}}],\"scatterpolargl\":[{\"type\":\"scatterpolargl\",\"marker\":{\"colorbar\":{\"outlinewidth\":0,\"ticks\":\"\"}}}],\"bar\":[{\"error_x\":{\"color\":\"#2a3f5f\"},\"error_y\":{\"color\":\"#2a3f5f\"},\"marker\":{\"line\":{\"color\":\"#E5ECF6\",\"width\":0.5},\"pattern\":{\"fillmode\":\"overlay\",\"size\":10,\"solidity\":0.2}},\"type\":\"bar\"}],\"scattergeo\":[{\"type\":\"scattergeo\",\"marker\":{\"colorbar\":{\"outlinewidth\":0,\"ticks\":\"\"}}}],\"scatterpolar\":[{\"type\":\"scatterpolar\",\"marker\":{\"colorbar\":{\"outlinewidth\":0,\"ticks\":\"\"}}}],\"histogram\":[{\"marker\":{\"pattern\":{\"fillmode\":\"overlay\",\"size\":10,\"solidity\":0.2}},\"type\":\"histogram\"}],\"scattergl\":[{\"type\":\"scattergl\",\"marker\":{\"colorbar\":{\"outlinewidth\":0,\"ticks\":\"\"}}}],\"scatter3d\":[{\"type\":\"scatter3d\",\"line\":{\"colorbar\":{\"outlinewidth\":0,\"ticks\":\"\"}},\"marker\":{\"colorbar\":{\"outlinewidth\":0,\"ticks\":\"\"}}}],\"scattermapbox\":[{\"type\":\"scattermapbox\",\"marker\":{\"colorbar\":{\"outlinewidth\":0,\"ticks\":\"\"}}}],\"scatterternary\":[{\"type\":\"scatterternary\",\"marker\":{\"colorbar\":{\"outlinewidth\":0,\"ticks\":\"\"}}}],\"scattercarpet\":[{\"type\":\"scattercarpet\",\"marker\":{\"colorbar\":{\"outlinewidth\":0,\"ticks\":\"\"}}}],\"carpet\":[{\"aaxis\":{\"endlinecolor\":\"#2a3f5f\",\"gridcolor\":\"white\",\"linecolor\":\"white\",\"minorgridcolor\":\"white\",\"startlinecolor\":\"#2a3f5f\"},\"baxis\":{\"endlinecolor\":\"#2a3f5f\",\"gridcolor\":\"white\",\"linecolor\":\"white\",\"minorgridcolor\":\"white\",\"startlinecolor\":\"#2a3f5f\"},\"type\":\"carpet\"}],\"table\":[{\"cells\":{\"fill\":{\"color\":\"#EBF0F8\"},\"line\":{\"color\":\"white\"}},\"header\":{\"fill\":{\"color\":\"#C8D4E3\"},\"line\":{\"color\":\"white\"}},\"type\":\"table\"}],\"barpolar\":[{\"marker\":{\"line\":{\"color\":\"#E5ECF6\",\"width\":0.5},\"pattern\":{\"fillmode\":\"overlay\",\"size\":10,\"solidity\":0.2}},\"type\":\"barpolar\"}],\"pie\":[{\"automargin\":true,\"type\":\"pie\"}]},\"layout\":{\"autotypenumbers\":\"strict\",\"colorway\":[\"#636efa\",\"#EF553B\",\"#00cc96\",\"#ab63fa\",\"#FFA15A\",\"#19d3f3\",\"#FF6692\",\"#B6E880\",\"#FF97FF\",\"#FECB52\"],\"font\":{\"color\":\"#2a3f5f\"},\"hovermode\":\"closest\",\"hoverlabel\":{\"align\":\"left\"},\"paper_bgcolor\":\"white\",\"plot_bgcolor\":\"#E5ECF6\",\"polar\":{\"bgcolor\":\"#E5ECF6\",\"angularaxis\":{\"gridcolor\":\"white\",\"linecolor\":\"white\",\"ticks\":\"\"},\"radialaxis\":{\"gridcolor\":\"white\",\"linecolor\":\"white\",\"ticks\":\"\"}},\"ternary\":{\"bgcolor\":\"#E5ECF6\",\"aaxis\":{\"gridcolor\":\"white\",\"linecolor\":\"white\",\"ticks\":\"\"},\"baxis\":{\"gridcolor\":\"white\",\"linecolor\":\"white\",\"ticks\":\"\"},\"caxis\":{\"gridcolor\":\"white\",\"linecolor\":\"white\",\"ticks\":\"\"}},\"coloraxis\":{\"colorbar\":{\"outlinewidth\":0,\"ticks\":\"\"}},\"colorscale\":{\"sequential\":[[0.0,\"#0d0887\"],[0.1111111111111111,\"#46039f\"],[0.2222222222222222,\"#7201a8\"],[0.3333333333333333,\"#9c179e\"],[0.4444444444444444,\"#bd3786\"],[0.5555555555555556,\"#d8576b\"],[0.6666666666666666,\"#ed7953\"],[0.7777777777777778,\"#fb9f3a\"],[0.8888888888888888,\"#fdca26\"],[1.0,\"#f0f921\"]],\"sequentialminus\":[[0.0,\"#0d0887\"],[0.1111111111111111,\"#46039f\"],[0.2222222222222222,\"#7201a8\"],[0.3333333333333333,\"#9c179e\"],[0.4444444444444444,\"#bd3786\"],[0.5555555555555556,\"#d8576b\"],[0.6666666666666666,\"#ed7953\"],[0.7777777777777778,\"#fb9f3a\"],[0.8888888888888888,\"#fdca26\"],[1.0,\"#f0f921\"]],\"diverging\":[[0,\"#8e0152\"],[0.1,\"#c51b7d\"],[0.2,\"#de77ae\"],[0.3,\"#f1b6da\"],[0.4,\"#fde0ef\"],[0.5,\"#f7f7f7\"],[0.6,\"#e6f5d0\"],[0.7,\"#b8e186\"],[0.8,\"#7fbc41\"],[0.9,\"#4d9221\"],[1,\"#276419\"]]},\"xaxis\":{\"gridcolor\":\"white\",\"linecolor\":\"white\",\"ticks\":\"\",\"title\":{\"standoff\":15},\"zerolinecolor\":\"white\",\"automargin\":true,\"zerolinewidth\":2},\"yaxis\":{\"gridcolor\":\"white\",\"linecolor\":\"white\",\"ticks\":\"\",\"title\":{\"standoff\":15},\"zerolinecolor\":\"white\",\"automargin\":true,\"zerolinewidth\":2},\"scene\":{\"xaxis\":{\"backgroundcolor\":\"#E5ECF6\",\"gridcolor\":\"white\",\"linecolor\":\"white\",\"showbackground\":true,\"ticks\":\"\",\"zerolinecolor\":\"white\",\"gridwidth\":2},\"yaxis\":{\"backgroundcolor\":\"#E5ECF6\",\"gridcolor\":\"white\",\"linecolor\":\"white\",\"showbackground\":true,\"ticks\":\"\",\"zerolinecolor\":\"white\",\"gridwidth\":2},\"zaxis\":{\"backgroundcolor\":\"#E5ECF6\",\"gridcolor\":\"white\",\"linecolor\":\"white\",\"showbackground\":true,\"ticks\":\"\",\"zerolinecolor\":\"white\",\"gridwidth\":2}},\"shapedefaults\":{\"line\":{\"color\":\"#2a3f5f\"}},\"annotationdefaults\":{\"arrowcolor\":\"#2a3f5f\",\"arrowhead\":0,\"arrowwidth\":1},\"geo\":{\"bgcolor\":\"white\",\"landcolor\":\"#E5ECF6\",\"subunitcolor\":\"white\",\"showland\":true,\"showlakes\":true,\"lakecolor\":\"white\"},\"title\":{\"x\":0.05},\"mapbox\":{\"style\":\"light\"}}},\"font\":{\"size\":18},\"width\":1200,\"height\":720,\"title\":{\"text\":\"Seizure Prediction\"},\"yaxis\":{\"title\":{\"text\":\"TCAV score\"},\"range\":[0,1]},\"xaxis\":{\"title\":{\"text\":\"Concept\"},\"tickvals\":[0,1,2,3,4],\"ticktext\":[\"artf\",\"bckg\",\"gped\",\"pled\",\"spsw\"]}},                        {\"responsive\": true}                    ).then(function(){\n",
       "                            \n",
       "var gd = document.getElementById('499aaf2f-1a6d-4c6f-81b9-489471a4518b');\n",
       "var x = new MutationObserver(function (mutations, observer) {{\n",
       "        var display = window.getComputedStyle(gd).display;\n",
       "        if (!display || display === 'none') {{\n",
       "            console.log([gd, 'removed!']);\n",
       "            Plotly.purge(gd);\n",
       "            observer.disconnect();\n",
       "        }}\n",
       "}});\n",
       "\n",
       "// Listen for the removal of the full notebook cells\n",
       "var notebookContainer = gd.closest('#notebook-container');\n",
       "if (notebookContainer) {{\n",
       "    x.observe(notebookContainer, {childList: true});\n",
       "}}\n",
       "\n",
       "// Listen for the clearing of the current output cell\n",
       "var outputEl = gd.closest('.output');\n",
       "if (outputEl) {{\n",
       "    x.observe(outputEl, {childList: true});\n",
       "}}\n",
       "\n",
       "                        })                };                });            </script>        </div>"
      ]
     },
     "metadata": {},
     "output_type": "display_data"
    }
   ],
   "source": [
    "concept_names = [\"artf\", \"bckg\", \"gped\", \"pled\", \"spsw\"]\n",
    "title = \"Seizure Prediction\"\n",
    "# plt_name = \"TUEV_seizure_tuev_vs_random_tuh\"\n",
    "\n",
    "scores_mean_df, scores_std_df = plot_tcav_scores(all_experimental_sets, all_tcav_scores, concept_names=concept_names, title=title, score_type=\"sign_count\", alpha=0.05, only_significant=False, with_error=False, plt_name=plt_name, file_type=\"png\")\n",
    "# scores_mean_df\n",
    "# scores_std_df\n",
    "plot_tcav_scores_plotly(all_experimental_sets, all_tcav_scores, concept_names=concept_names, title=title, score_type=\"sign_count\", alpha=0.05, only_significant=False, with_error=False, plt_name=plt_name, file_type=\"png\")\n"
   ]
  }
 ],
 "metadata": {
  "kernelspec": {
   "display_name": "myenv",
   "language": "python",
   "name": "python3"
  },
  "language_info": {
   "codemirror_mode": {
    "name": "ipython",
    "version": 3
   },
   "file_extension": ".py",
   "mimetype": "text/x-python",
   "name": "python",
   "nbconvert_exporter": "python",
   "pygments_lexer": "ipython3",
   "version": "3.11.9"
  }
 },
 "nbformat": 4,
 "nbformat_minor": 2
}
