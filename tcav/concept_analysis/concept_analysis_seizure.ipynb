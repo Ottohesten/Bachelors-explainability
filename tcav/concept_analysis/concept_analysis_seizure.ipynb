{
 "cells": [
  {
   "cell_type": "code",
   "execution_count": 1,
   "metadata": {},
   "outputs": [],
   "source": [
    "import pandas as pd\n",
    "import numpy as np\n",
    "import matplotlib.pyplot as plt\n",
    "import pickle\n",
    "import os\n",
    "from eegatscale.models import LinearHeadBENDR\n",
    "from eegatscale.transforms import Standardize\n",
    "from scipy.stats import ttest_ind\n",
    "import torch\n",
    "import tqdm\n",
    "\n",
    "from captum.concept import TCAV, Concept\n",
    "from captum.concept._utils.common import concepts_to_str\n",
    "from concept_classifier import TCAVClassifier\n",
    "import warnings\n",
    "warnings.filterwarnings(\"ignore\")\n",
    "\n",
    "from dataset_utils import Experiment"
   ]
  },
  {
   "cell_type": "code",
   "execution_count": 2,
   "metadata": {},
   "outputs": [
    {
     "name": "stdout",
     "output_type": "stream",
     "text": [
      "['random_mmidb_alpha_no_baseline_lh', 'random_tuh_alpha', 'sanity_check_concepts_MMIDB_alpha_no_baseline', 'random_mmidb_gamma_no_baseline_rh', 'random_mmidb_alpha_lh', 'random_right_concept_MMIDB_Alpha_sanity_check', 'TUH_clean_alpha_subtract_Truesigma_Trueabs_100.0_142440_131124', 'random_mmidb_alpha_rh', 'random_right_concept_MMIDB_Alpha_sanity_check_1000', 'TUSZ', 'random_mmidb_gamma_no_baseline_lh', 'random_tuh_alpha_1000', 'random_mmidb_alpha_no_baseline_rh', 'sanity_check_concepts_MMIDB_all_no_baseline', 'TUEV', 'sanity_check_concepts_MMIDB_all_baseline', 'random_mmidb_alpha_no_baseline_T0_lh', 'TUH_clean_all_subtract_Truesigma_Trueabs_100.0_135454_131124', 'random_left_concept_MMIDB_Alpha_sanity_check', 'random_left_concept_MMIDB_Alpha_sanity_check_1000', 'random_tuh_all', 'random_tuh_all_1000', 'random_mmidb_alpha_no_baseline_T0_rh']\n"
     ]
    }
   ],
   "source": [
    "concepts_dir = '/scratch/s194101/concepts/'\n",
    "\n",
    "print(list(os.listdir(concepts_dir)))\n",
    "\n"
   ]
  },
  {
   "cell_type": "markdown",
   "metadata": {},
   "source": [
    "## Load Seizure model"
   ]
  },
  {
   "cell_type": "code",
   "execution_count": 3,
   "metadata": {},
   "outputs": [
    {
     "name": "stdout",
     "output_type": "stream",
     "text": [
      "Initialized mask embedding and position encoder from  /scratch/s194101/finetune_logs_all/tusz_noica_noica_60.0_nogroups_2/version_7/checkpoints/epoch=4-step=40.ckpt\n",
      "model loaded\n"
     ]
    }
   ],
   "source": [
    "out_features = 2\n",
    "# encoder_path = \"/scratch/agjma/checkpoints/tuh-noica-standardize-epoch=9-step=68317-val_loss=0.26.ckpt\"\n",
    "encoder_path = \"/scratch/s194101/finetune_logs_all/tusz_noica_noica_60.0_nogroups_2/version_7/checkpoints/epoch=4-step=40.ckpt\"\n",
    "\n",
    "model = LinearHeadBENDR(encoder_path, encoder_h=512, in_features=19, out_features=out_features)\n",
    "state_dict = torch.load(encoder_path, map_location=torch.device('cpu'))[\"state_dict\"]\n",
    "model.load_state_dict(state_dict)\n",
    "model.eval()\n",
    "print(\"model loaded\")"
   ]
  },
  {
   "cell_type": "code",
   "execution_count": 18,
   "metadata": {},
   "outputs": [
    {
     "name": "stdout",
     "output_type": "stream",
     "text": [
      "Loaded dataset TUEV/artf with 1586 samples\n",
      "Loaded dataset TUEV/random with 200 samples\n",
      "Loaded input dataset TUSZ/seiz with 370 samples\n",
      "Loaded dataset TUEV/bckg with 3209 samples\n",
      "Loaded dataset TUEV/random with 200 samples\n",
      "Loaded input dataset TUSZ/seiz with 370 samples\n",
      "Loaded dataset TUEV/gped with 2343 samples\n",
      "Loaded dataset TUEV/random with 200 samples\n",
      "Loaded input dataset TUSZ/seiz with 370 samples\n",
      "Loaded dataset TUEV/pled with 1976 samples\n",
      "Loaded dataset TUEV/random with 200 samples\n",
      "Loaded input dataset TUSZ/seiz with 370 samples\n",
      "Loaded dataset TUEV/spsw with 139 samples\n",
      "Loaded dataset TUEV/random with 200 samples\n",
      "Loaded input dataset TUSZ/seiz with 370 samples\n"
     ]
    }
   ],
   "source": [
    "target_data = \"TUSZ/seiz\"\n",
    "# target_data = \"random_left_concept_MMIDB_Alpha_sanity_check\"\n",
    "random_concept = \"TUEV/random\"\n",
    "# random_concept = \"random_tuh_alpha\"\n",
    "\n",
    "concept_dir_names = [\n",
    "    \"TUEV/artf\",\n",
    "    \"TUEV/bckg\",\n",
    "    \"TUEV/gped\",\n",
    "    \"TUEV/pled\",\n",
    "    \"TUEV/spsw\",\n",
    "    ]\n",
    "experiments = []\n",
    "idx = 0\n",
    "for concept_dir_name in concept_dir_names:\n",
    "    exp = Experiment(model,\n",
    "                    target_data,\n",
    "                    concepts_dir,\n",
    "                    [\n",
    "                    concept_dir_name, # this is where you add extra concepts, (in the square brackets)\n",
    "                    random_concept,\n",
    "                    ],\n",
    "                    verbose=True,\n",
    "                    n_concept_samples=100,\n",
    "                    n_runs=20,\n",
    "                    internal_concept_idx=idx)\n",
    "    experiments.append(exp)\n",
    "    idx += 1000"
   ]
  },
  {
   "cell_type": "code",
   "execution_count": 19,
   "metadata": {},
   "outputs": [
    {
     "data": {
      "text/plain": [
       "'/home/s194101/Bachelors-explainability/TUSZ/seiz_artf.pkl'"
      ]
     },
     "execution_count": 19,
     "metadata": {},
     "output_type": "execute_result"
    }
   ],
   "source": [
    "experiment = experiments[0]\n",
    "f\"/home/s194101/Bachelors-explainability/{experiment.inputs_name}_{experiment.concept_names[0].split('/')[-1]}.pkl\" if \"/\" in experiment.concept_names[0] else f\"/home/s194101/Bachelors-explainability/{experiment.inputs_name}_{experiment.concept_names[0]}.pkl\""
   ]
  },
  {
   "cell_type": "code",
   "execution_count": 20,
   "metadata": {},
   "outputs": [],
   "source": [
    "layers = [\"encoder\", \"enc_augment\", \"summarizer\", \"extended_classifier\", \"clf\"]\n",
    "\n",
    "def run_tcav(experiment:Experiment, layers:list):\n",
    "    if \"/\" in experiment.concept_names[0]:\n",
    "        save_path = f\"/scratch/s194101/cav/{experiment.concept_names[0].split('/')[-1]}/\"\n",
    "    else:\n",
    "        save_path = f\"/scratch/s194101/cav/{experiment.concept_names[0]}/\"\n",
    "    tcav = TCAV(model, layers, model_id=\"BendrModel\", classifier=TCAVClassifier(), save_path=save_path)\n",
    "    # tcav = TCAV(model, layers, save_path=save_path)\n",
    "    tcav_scores = tcav.interpret(inputs=experiment.inputs, experimental_sets=experiment.experimental_sets, target=0)\n",
    "    tcav_scores = dict(tcav_scores)\n",
    "\n",
    "    save_path = f\"/home/s194101/Bachelors-explainability/{experiment.inputs_name}_{experiment.concept_names[0].split('/')[-1]}.pkl\" if \"/\" in experiment.concept_names[0] else f\"/home/s194101/Bachelors-explainability/{experiment.inputs_name}_{experiment.concept_names[0]}.pkl\"\n",
    "    with open(save_path, \"wb\") as f:\n",
    "        pickle.dump(\n",
    "            {\"tcav_scores\": tcav_scores,\n",
    "             \"experimental_sets\": experiment.experimental_sets,},f)\n",
    "    return tcav_scores\n",
    "        "
   ]
  },
  {
   "cell_type": "code",
   "execution_count": 21,
   "metadata": {},
   "outputs": [
    {
     "name": "stdout",
     "output_type": "stream",
     "text": [
      "TUSZ/seiz TUEV/artf\n",
      "TUSZ/seiz TUEV/bckg\n",
      "TUSZ/seiz TUEV/gped\n",
      "TUSZ/seiz TUEV/pled\n",
      "TUSZ/seiz TUEV/spsw\n"
     ]
    }
   ],
   "source": [
    "for exp in experiments:\n",
    "    run_tcav(exp, layers)\n",
    "    print(exp.inputs_name, exp.concept_names[0])"
   ]
  },
  {
   "cell_type": "code",
   "execution_count": 22,
   "metadata": {},
   "outputs": [],
   "source": [
    "all_experimental_sets = []\n",
    "all_tcav_scores = []\n",
    "\n",
    "for i, exp in enumerate(experiments):\n",
    "    file_path = f\"/home/s194101/Bachelors-explainability/{exp.inputs_name}_{exp.concept_names[0].split('/')[-1]}.pkl\" if \"/\" in exp.concept_names[0] else f\"/home/s194101/Bachelors-explainability/{exp.inputs_name}_{exp.concept_names[0]}.pkl\"\n",
    "    with open(file_path, \"rb\") as f:\n",
    "        data = pickle.load(f)\n",
    "        all_tcav_scores.append(data[\"tcav_scores\"])\n",
    "        all_experimental_sets.append(data[\"experimental_sets\"])"
   ]
  },
  {
   "cell_type": "code",
   "execution_count": 23,
   "metadata": {},
   "outputs": [],
   "source": [
    "from plot_utils import assemble_scores, plot_tcav_scores"
   ]
  },
  {
   "cell_type": "code",
   "execution_count": 24,
   "metadata": {},
   "outputs": [
    {
     "name": "stdout",
     "output_type": "stream",
     "text": [
      "0.008965372097280712\n",
      "0.29605635415685766\n",
      "0.9864514532252983\n",
      "0.5392532738002964\n",
      "2.8103122455197163e-15\n",
      "3.741477520344604e-42\n",
      "8.182718472248156e-07\n",
      "0.06121365568557088\n",
      "0.5392532738002964\n",
      "0.0\n",
      "4.589826269195755e-14\n",
      "0.0007696081483480612\n",
      "1.2718401269870527e-05\n",
      "5.887523237377331e-10\n",
      "5.887520233375287e-10\n",
      "2.0319908668880506e-17\n",
      "1.4543113610802443e-10\n",
      "0.38129203118548627\n",
      "0.010546953835759385\n",
      "0.2159578474642721\n",
      "0.23254130626279204\n",
      "0.5163822537527065\n",
      "0.1424427813082415\n",
      "4.98023503631779e-07\n",
      "0.5392532738002964\n"
     ]
    },
    {
     "data": {
      "image/png": "[encoded data removed]",
      "text/plain": [
       "<Figure size 1200x600 with 1 Axes>"
      ]
     },
     "metadata": {},
     "output_type": "display_data"
    },
    {
     "data": {
      "text/html": [
       "<div>\n",
       "<style scoped>\n",
       "    .dataframe tbody tr th:only-of-type {\n",
       "        vertical-align: middle;\n",
       "    }\n",
       "\n",
       "    .dataframe tbody tr th {\n",
       "        vertical-align: top;\n",
       "    }\n",
       "\n",
       "    .dataframe thead th {\n",
       "        text-align: right;\n",
       "    }\n",
       "</style>\n",
       "<table border=\"1\" class=\"dataframe\">\n",
       "  <thead>\n",
       "    <tr style=\"text-align: right;\">\n",
       "      <th></th>\n",
       "      <th>encoder</th>\n",
       "      <th>enc_augment</th>\n",
       "      <th>summarizer</th>\n",
       "      <th>extended_classifier</th>\n",
       "      <th>clf</th>\n",
       "    </tr>\n",
       "  </thead>\n",
       "  <tbody>\n",
       "    <tr>\n",
       "      <th>artf</th>\n",
       "      <td>0.375940</td>\n",
       "      <td>0.356363</td>\n",
       "      <td>0.360640</td>\n",
       "      <td>0.497494</td>\n",
       "      <td>0.217945</td>\n",
       "    </tr>\n",
       "    <tr>\n",
       "      <th>bckg</th>\n",
       "      <td>0.041547</td>\n",
       "      <td>0.305332</td>\n",
       "      <td>0.342719</td>\n",
       "      <td>0.497494</td>\n",
       "      <td>0.000000</td>\n",
       "    </tr>\n",
       "    <tr>\n",
       "      <th>gped</th>\n",
       "      <td>0.217804</td>\n",
       "      <td>0.327427</td>\n",
       "      <td>0.265265</td>\n",
       "      <td>0.300000</td>\n",
       "      <td>0.300000</td>\n",
       "    </tr>\n",
       "    <tr>\n",
       "      <th>pled</th>\n",
       "      <td>0.182490</td>\n",
       "      <td>0.234456</td>\n",
       "      <td>0.367092</td>\n",
       "      <td>0.458258</td>\n",
       "      <td>0.489898</td>\n",
       "    </tr>\n",
       "    <tr>\n",
       "      <th>spsw</th>\n",
       "      <td>0.374733</td>\n",
       "      <td>0.359956</td>\n",
       "      <td>0.285006</td>\n",
       "      <td>0.357071</td>\n",
       "      <td>0.497494</td>\n",
       "    </tr>\n",
       "  </tbody>\n",
       "</table>\n",
       "</div>"
      ],
      "text/plain": [
       "       encoder  enc_augment  summarizer  extended_classifier       clf\n",
       "artf  0.375940     0.356363    0.360640             0.497494  0.217945\n",
       "bckg  0.041547     0.305332    0.342719             0.497494  0.000000\n",
       "gped  0.217804     0.327427    0.265265             0.300000  0.300000\n",
       "pled  0.182490     0.234456    0.367092             0.458258  0.489898\n",
       "spsw  0.374733     0.359956    0.285006             0.357071  0.497494"
      ]
     },
     "execution_count": 24,
     "metadata": {},
     "output_type": "execute_result"
    }
   ],
   "source": [
    "concept_names = [\"artf\", \"bckg\", \"gped\", \"pled\", \"spsw\"]\n",
    "title = \"Seizure Prediction\"\n",
    "plt_name = \"TUEV_seizure_2\"\n",
    "\n",
    "scores_mean_df, scores_std_df = plot_tcav_scores(all_experimental_sets, all_tcav_scores, concept_names=concept_names, title=title, score_type=\"sign_count\", alpha=0.05, only_significant=False, with_error=False, plt_name=plt_name, file_type=\"png\")\n",
    "# scores_mean_df\n",
    "scores_std_df\n"
   ]
  }
 ],
 "metadata": {
  "kernelspec": {
   "display_name": "myenv",
   "language": "python",
   "name": "python3"
  },
  "language_info": {
   "codemirror_mode": {
    "name": "ipython",
    "version": 3
   },
   "file_extension": ".py",
   "mimetype": "text/x-python",
   "name": "python",
   "nbconvert_exporter": "python",
   "pygments_lexer": "ipython3",
   "version": "3.11.9"
  }
 },
 "nbformat": 4,
 "nbformat_minor": 2
}
