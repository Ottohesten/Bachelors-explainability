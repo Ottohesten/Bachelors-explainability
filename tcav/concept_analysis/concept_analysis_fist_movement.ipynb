{
 "cells": [
  {
   "cell_type": "code",
   "execution_count": 1,
   "metadata": {},
   "outputs": [],
   "source": [
    "import pandas as pd\n",
    "import numpy as np\n",
    "import matplotlib.pyplot as plt\n",
    "import pickle\n",
    "import os\n",
    "from eegatscale.models import LinearHeadBENDR\n",
    "from eegatscale.transforms import Standardize\n",
    "from scipy.stats import ttest_ind\n",
    "import torch\n",
    "import tqdm\n",
    "\n",
    "from captum.concept import TCAV, Concept\n",
    "from captum.concept._utils.common import concepts_to_str\n",
    "from concept_classifier import TCAVClassifier\n",
    "import warnings\n",
    "warnings.filterwarnings(\"ignore\")\n",
    "\n",
    "from dataset_utils import Experiment"
   ]
  },
  {
   "cell_type": "code",
   "execution_count": 2,
   "metadata": {},
   "outputs": [
    {
     "name": "stdout",
     "output_type": "stream",
     "text": [
      "['random_mmidb_alpha_no_baseline_lh', 'random_tuh_alpha', 'sanity_check_concepts_MMIDB_alpha_no_baseline', 'random_mmidb_gamma_no_baseline_rh', 'random_mmidb_alpha_lh', 'random_right_concept_MMIDB_Alpha_sanity_check', 'TUH_clean_alpha_subtract_Truesigma_Trueabs_100.0_142440_131124', 'random_mmidb_alpha_rh', 'random_right_concept_MMIDB_Alpha_sanity_check_1000', 'TUSZ', 'random_mmidb_gamma_no_baseline_lh', 'random_tuh_alpha_1000', 'random_mmidb_alpha_no_baseline_rh', 'sanity_check_concepts_MMIDB_all_no_baseline', 'TUEV', 'sanity_check_concepts_MMIDB_all_baseline', 'random_mmidb_alpha_no_baseline_T0_lh', 'TUH_clean_all_subtract_Truesigma_Trueabs_100.0_135454_131124', 'random_left_concept_MMIDB_Alpha_sanity_check', 'random_left_concept_MMIDB_Alpha_sanity_check_1000', 'random_tuh_all', 'random_tuh_all_1000', 'random_mmidb_alpha_no_baseline_T0_rh']\n"
     ]
    }
   ],
   "source": [
    "concepts_dir = '/scratch/s194101/concepts/'\n",
    "\n",
    "print(list(os.listdir(concepts_dir)))\n",
    "\n"
   ]
  },
  {
   "cell_type": "markdown",
   "metadata": {},
   "source": [
    "## load model"
   ]
  },
  {
   "cell_type": "code",
   "execution_count": 3,
   "metadata": {},
   "outputs": [
    {
     "name": "stdout",
     "output_type": "stream",
     "text": [
      "Initialized mask embedding and position encoder from  /scratch/s194101/finetune_logs_all/mmidb_noica_noica_5.0_splits10_repeat2/version_19/checkpoints/epoch=7-step=8120.ckpt\n",
      "model loaded\n"
     ]
    }
   ],
   "source": [
    "out_features = 2\n",
    "# encoder_path = \"/scratch/agjma/checkpoints/tuh-noica-standardize-epoch=9-step=68317-val_loss=0.26.ckpt\"\n",
    "encoder_path = \"/scratch/s194101/finetune_logs_all/mmidb_noica_noica_5.0_splits10_repeat2/version_19/checkpoints/epoch=7-step=8120.ckpt\"\n",
    "\n",
    "model = LinearHeadBENDR(encoder_path, encoder_h=512, in_features=19, out_features=out_features)\n",
    "state_dict = torch.load(encoder_path, map_location=torch.device('cpu'))[\"state_dict\"]\n",
    "model.load_state_dict(state_dict)\n",
    "model.eval()\n",
    "print(\"model loaded\")"
   ]
  },
  {
   "cell_type": "code",
   "execution_count": 4,
   "metadata": {},
   "outputs": [],
   "source": [
    "# exp_1 = Experiment(model,\n",
    "#                 \"random_left_concept_MMIDB_Alpha\",\n",
    "#                 concepts_dir,\n",
    "#                 [\"left_right_concepts_MMIDB/Alpha_lh\",\n",
    "#                  \"random_mmidb_labeled\"],\n",
    "#                  verbose=True,\n",
    "#                  n_runs=100,)\n",
    "# exp_2 = Experiment(model,\n",
    "#                 \"random_left_concept_MMIDB_Alpha\",\n",
    "#                 concepts_dir,\n",
    "#                 [\"random_left_concept_MMIDB_Alpha\",\n",
    "#                  \"random_mmidb_labeled\"],\n",
    "#                  verbose=True,\n",
    "#                  n_runs=100,\n",
    "#                  internal_concept_idx=1000)\n",
    "\n",
    "# exp_3 = Experiment(model,\n",
    "#                    \"random_left_concept_MMIDB_Alpha\",\n",
    "#                    concepts_dir,\n",
    "#                    [\"left_right_concepts_MMIDB/Alpha_rh\",\n",
    "#                     \"random_mmidb_labeled\"],\n",
    "#                     verbose=True,\n",
    "#                     n_runs=100,\n",
    "#                     internal_concept_idx=2000)\n",
    "\n",
    "# exp_4 = Experiment(model,\n",
    "#                    \"random_left_concept_MMIDB_Alpha\",\n",
    "#                    concepts_dir,\n",
    "#                    [\"random_right_concept_MMIDB_Alpha\",\n",
    "#                     \"random_mmidb_labeled\"],\n",
    "#                     verbose=True,\n",
    "#                     n_runs=100,\n",
    "#                     internal_concept_idx=3000)\n",
    "# exp_1 = Experiment(model,\n",
    "#                 \"random_left_concept_MMIDB_Alpha\",\n",
    "#                 concepts_dir,\n",
    "#                 [\"random_left_concept_MMIDB_Alpha\",\n",
    "#                 \"left_right_concepts_MMIDB/Alpha_lh\",\n",
    "#                  \"left_right_concepts_MMIDB/Alpha_rh\",\n",
    "#                  \"random_right_concept_MMIDB_Alpha\",\n",
    "#                  ],\n",
    "#                  verbose=True,\n",
    "#                  n_runs=100,)\n",
    "\n",
    "# exp_1 = Experiment(model,\n",
    "#                    \"random_left_concept_MMIDB_Alpha_sanity_check\",\n",
    "#                    concepts_dir,\n",
    "#                    [\"random_left_concept_MMIDB_Alpha_sanity_check\",\n",
    "#                     \"random_mmidb_alpha_new\"],\n",
    "#                     verbose=True,\n",
    "#                     n_runs=100,\n",
    "#                     n_concept_samples=75,\n",
    "#                     batch_size=1,\n",
    "#                     internal_concept_idx=0)\n",
    "\n",
    "# exp_2 = Experiment(model,\n",
    "#                    \"random_left_concept_MMIDB_Alpha_sanity_check\",\n",
    "#                    concepts_dir,\n",
    "#                    [\"random_right_concept_MMIDB_Alpha_sanity_check\",\n",
    "#                     \"random_mmidb_alpha_new\"],\n",
    "#                     verbose=True,\n",
    "#                     n_runs=100,\n",
    "#                     n_concept_samples=75,\n",
    "#                     batch_size=1,\n",
    "#                     internal_concept_idx=1000)\n",
    "# exp_3 = Experiment(model,\n",
    "#                    \"random_left_concept_MMIDB_Alpha_sanity_check\",\n",
    "#                    concepts_dir,\n",
    "#                    [\"sanity_check_concepts_MMIDB_alpha_new/Alpha_Somatosensory and Motor Cortex-lh\",\n",
    "#                     \"random_mmidb_alpha_new\"],\n",
    "#                     verbose=True,\n",
    "#                     n_runs=100,\n",
    "#                     n_concept_samples=75,\n",
    "#                     batch_size=1,\n",
    "#                     internal_concept_idx=2000)\n",
    "# exp_4 = Experiment(model,\n",
    "#                    \"random_left_concept_MMIDB_Alpha_sanity_check\",\n",
    "#                    concepts_dir,\n",
    "#                    [\"sanity_check_concepts_MMIDB_alpha_new/Alpha_Somatosensory and Motor Cortex-rh\",\n",
    "#                     \"random_mmidb_alpha_new\"],\n",
    "#                     verbose=True,\n",
    "#                     n_concept_samples=75,\n",
    "#                     n_runs=100,\n",
    "#                     batch_size=1,\n",
    "#                     internal_concept_idx=3000)\n",
    "\n",
    "\n",
    "\n",
    "####\n",
    "# exp_5 = Experiment(model,\n",
    "#                    \"random_left_concept_MMIDB_Alpha_sanity_check\",\n",
    "#                    concepts_dir,\n",
    "#                    [\"random_left_concept_MMIDB_Alpha_sanity_check\",\n",
    "#                     \"random_tuh_alpha\"],\n",
    "#                     verbose=True,\n",
    "#                     n_concept_samples=200,\n",
    "#                     n_runs=100,\n",
    "#                     batch_size=4,\n",
    "#                     internal_concept_idx=4000)\n",
    "# exp_6 = Experiment(model,\n",
    "#                    \"random_left_concept_MMIDB_Alpha_sanity_check\",\n",
    "#                    concepts_dir,\n",
    "#                    [\"random_right_concept_MMIDB_Alpha_sanity_check\",\n",
    "#                     \"random_tuh_alpha\"],\n",
    "#                     verbose=True,\n",
    "#                     n_concept_samples=200,\n",
    "#                     n_runs=100,\n",
    "#                     batch_size=4,\n",
    "#                     internal_concept_idx=5000)\n",
    "# exp_7 = Experiment(model,\n",
    "#                    \"random_left_concept_MMIDB_Alpha_sanity_check\",\n",
    "#                    concepts_dir,\n",
    "#                    [\"sanity_check_concepts_MMIDB_alpha/Alpha_Somatosensory and Motor Cortex-lh\",\n",
    "#                     \"random_tuh_alpha\"],\n",
    "#                     verbose=True,\n",
    "#                     n_concept_samples=75,\n",
    "#                     n_runs=100,\n",
    "#                     batch_size=4,\n",
    "#                     internal_concept_idx=6000)\n",
    "# exp_8 = Experiment(model,\n",
    "#                    \"random_left_concept_MMIDB_Alpha_sanity_check\",\n",
    "#                    concepts_dir,\n",
    "#                    [\"sanity_check_concepts_MMIDB_alpha/Alpha_Somatosensory and Motor Cortex-rh\",\n",
    "#                     \"random_tuh_alpha\"],\n",
    "#                     verbose=True,\n",
    "#                     n_concept_samples=75,\n",
    "#                     n_runs=100,\n",
    "#                     batch_size=4,\n",
    "#                     internal_concept_idx=7000)\n",
    "\n",
    "# experiments = [exp_5, exp_6, exp_7, exp_8]\n",
    "# experiments = [exp_1, exp_2, exp_3, exp_4]\n",
    "# experiments = [exp_1]"
   ]
  },
  {
   "cell_type": "code",
   "execution_count": 5,
   "metadata": {},
   "outputs": [
    {
     "name": "stdout",
     "output_type": "stream",
     "text": [
      "Loaded dataset random_left_concept_MMIDB_Alpha_sanity_check with 200 samples\n",
      "Loaded dataset random_tuh_alpha_1000 with 1000 samples\n",
      "Loaded input dataset random_left_concept_MMIDB_Alpha_sanity_check with 200 samples\n",
      "Loaded dataset random_right_concept_MMIDB_Alpha_sanity_check with 200 samples\n",
      "Loaded dataset random_tuh_alpha_1000 with 1000 samples\n",
      "Loaded input dataset random_left_concept_MMIDB_Alpha_sanity_check with 200 samples\n",
      "Loaded dataset random_mmidb_gamma_no_baseline_lh with 200 samples\n",
      "Loaded dataset random_tuh_alpha_1000 with 1000 samples\n",
      "Loaded input dataset random_left_concept_MMIDB_Alpha_sanity_check with 200 samples\n",
      "Loaded dataset random_mmidb_gamma_no_baseline_rh with 200 samples\n",
      "Loaded dataset random_tuh_alpha_1000 with 1000 samples\n",
      "Loaded input dataset random_left_concept_MMIDB_Alpha_sanity_check with 200 samples\n"
     ]
    }
   ],
   "source": [
    "target_data = \"random_left_concept_MMIDB_Alpha_sanity_check\"\n",
    "# random_concept = \"random_mmidb_alpha_new\"\n",
    "random_concept = \"random_tuh_alpha_1000\"\n",
    "\n",
    "concept_dir_names = [\n",
    "    \"random_left_concept_MMIDB_Alpha_sanity_check\",\n",
    "    \"random_right_concept_MMIDB_Alpha_sanity_check\",\n",
    "    # \"random_mmidb_alpha_lh\",\n",
    "    # \"random_mmidb_alpha_no_baseline_lh\",\n",
    "    # \"random_mmidb_alpha_no_baseline_T0_lh\",\n",
    "    \"random_mmidb_gamma_no_baseline_lh\",\n",
    "    # \"random_mmidb_alpha_rh\",\n",
    "    # \"random_mmidb_alpha_no_baseline_rh\",\n",
    "    # \"random_mmidb_alpha_no_baseline_T0_rh\",\n",
    "    \"random_mmidb_gamma_no_baseline_rh\",\n",
    "    ]\n",
    "# concept_dir_names = [\n",
    "#     \"sanity_check_concepts_MMIDB_alpha_new/Alpha_Premotor Cortex-lh\",\n",
    "#     \"sanity_check_concepts_MMIDB_alpha_new/Alpha_Premotor Cortex-rh\",\n",
    "#     \"sanity_check_concepts_MMIDB_alpha_new/Alpha_Somatosensory and Motor Cortex-lh\",\n",
    "#     \"sanity_check_concepts_MMIDB_alpha_new/Alpha_Somatosensory and Motor Cortex-rh\",\n",
    "#     ]\n",
    "# concept_dir_names = [\n",
    "#     \"sanity_check_concepts_MMIDB_alpha_new/Alpha_Early Visual Cortex-lh\",\n",
    "#     \"sanity_check_concepts_MMIDB_alpha_new/Alpha_Early Visual Cortex-rh\",\n",
    "#     \"sanity_check_concepts_MMIDB_alpha_new/Alpha_Primary Visual Cortex (V1)-lh\",\n",
    "#     \"sanity_check_concepts_MMIDB_alpha_new/Alpha_Primary Visual Cortex (V1)-rh\",\n",
    "#     ]\n",
    "experiments = []\n",
    "idx = 0\n",
    "for concept_dir_name in concept_dir_names:\n",
    "    exp = Experiment(model,\n",
    "                    target_data,\n",
    "                    concepts_dir,\n",
    "                    [\n",
    "                    concept_dir_name, # this is where you add extra concepts, (in the square brackets)\n",
    "                    random_concept,\n",
    "                    ],\n",
    "                    verbose=True,\n",
    "                    n_concept_samples=75,\n",
    "                    n_runs=100,\n",
    "                    internal_concept_idx=idx)\n",
    "    experiments.append(exp)\n",
    "    idx += 1000"
   ]
  },
  {
   "cell_type": "code",
   "execution_count": 6,
   "metadata": {},
   "outputs": [
    {
     "data": {
      "text/plain": [
       "200"
      ]
     },
     "execution_count": 6,
     "metadata": {},
     "output_type": "execute_result"
    }
   ],
   "source": [
    "experiments[0].internal_concept_idx"
   ]
  },
  {
   "cell_type": "code",
   "execution_count": 7,
   "metadata": {},
   "outputs": [
    {
     "name": "stdout",
     "output_type": "stream",
     "text": [
      "random_left_concept_MMIDB_Alpha_sanity_check\n",
      "[Concept(0, 'random_left_concept_MMIDB_Alpha_sanity_check_000'), Concept(1, 'random_left_concept_MMIDB_Alpha_sanity_check_001'), Concept(2, 'random_left_concept_MMIDB_Alpha_sanity_check_002'), Concept(3, 'random_left_concept_MMIDB_Alpha_sanity_check_003'), Concept(4, 'random_left_concept_MMIDB_Alpha_sanity_check_004'), Concept(5, 'random_left_concept_MMIDB_Alpha_sanity_check_005'), Concept(6, 'random_left_concept_MMIDB_Alpha_sanity_check_006'), Concept(7, 'random_left_concept_MMIDB_Alpha_sanity_check_007'), Concept(8, 'random_left_concept_MMIDB_Alpha_sanity_check_008'), Concept(9, 'random_left_concept_MMIDB_Alpha_sanity_check_009'), Concept(10, 'random_left_concept_MMIDB_Alpha_sanity_check_010'), Concept(11, 'random_left_concept_MMIDB_Alpha_sanity_check_011'), Concept(12, 'random_left_concept_MMIDB_Alpha_sanity_check_012'), Concept(13, 'random_left_concept_MMIDB_Alpha_sanity_check_013'), Concept(14, 'random_left_concept_MMIDB_Alpha_sanity_check_014'), Concept(15, 'random_left_concept_MMIDB_Alpha_sanity_check_015'), Concept(16, 'random_left_concept_MMIDB_Alpha_sanity_check_016'), Concept(17, 'random_left_concept_MMIDB_Alpha_sanity_check_017'), Concept(18, 'random_left_concept_MMIDB_Alpha_sanity_check_018'), Concept(19, 'random_left_concept_MMIDB_Alpha_sanity_check_019'), Concept(20, 'random_left_concept_MMIDB_Alpha_sanity_check_020'), Concept(21, 'random_left_concept_MMIDB_Alpha_sanity_check_021'), Concept(22, 'random_left_concept_MMIDB_Alpha_sanity_check_022'), Concept(23, 'random_left_concept_MMIDB_Alpha_sanity_check_023'), Concept(24, 'random_left_concept_MMIDB_Alpha_sanity_check_024'), Concept(25, 'random_left_concept_MMIDB_Alpha_sanity_check_025'), Concept(26, 'random_left_concept_MMIDB_Alpha_sanity_check_026'), Concept(27, 'random_left_concept_MMIDB_Alpha_sanity_check_027'), Concept(28, 'random_left_concept_MMIDB_Alpha_sanity_check_028'), Concept(29, 'random_left_concept_MMIDB_Alpha_sanity_check_029'), Concept(30, 'random_left_concept_MMIDB_Alpha_sanity_check_030'), Concept(31, 'random_left_concept_MMIDB_Alpha_sanity_check_031'), Concept(32, 'random_left_concept_MMIDB_Alpha_sanity_check_032'), Concept(33, 'random_left_concept_MMIDB_Alpha_sanity_check_033'), Concept(34, 'random_left_concept_MMIDB_Alpha_sanity_check_034'), Concept(35, 'random_left_concept_MMIDB_Alpha_sanity_check_035'), Concept(36, 'random_left_concept_MMIDB_Alpha_sanity_check_036'), Concept(37, 'random_left_concept_MMIDB_Alpha_sanity_check_037'), Concept(38, 'random_left_concept_MMIDB_Alpha_sanity_check_038'), Concept(39, 'random_left_concept_MMIDB_Alpha_sanity_check_039'), Concept(40, 'random_left_concept_MMIDB_Alpha_sanity_check_040'), Concept(41, 'random_left_concept_MMIDB_Alpha_sanity_check_041'), Concept(42, 'random_left_concept_MMIDB_Alpha_sanity_check_042'), Concept(43, 'random_left_concept_MMIDB_Alpha_sanity_check_043'), Concept(44, 'random_left_concept_MMIDB_Alpha_sanity_check_044'), Concept(45, 'random_left_concept_MMIDB_Alpha_sanity_check_045'), Concept(46, 'random_left_concept_MMIDB_Alpha_sanity_check_046'), Concept(47, 'random_left_concept_MMIDB_Alpha_sanity_check_047'), Concept(48, 'random_left_concept_MMIDB_Alpha_sanity_check_048'), Concept(49, 'random_left_concept_MMIDB_Alpha_sanity_check_049'), Concept(50, 'random_left_concept_MMIDB_Alpha_sanity_check_050'), Concept(51, 'random_left_concept_MMIDB_Alpha_sanity_check_051'), Concept(52, 'random_left_concept_MMIDB_Alpha_sanity_check_052'), Concept(53, 'random_left_concept_MMIDB_Alpha_sanity_check_053'), Concept(54, 'random_left_concept_MMIDB_Alpha_sanity_check_054'), Concept(55, 'random_left_concept_MMIDB_Alpha_sanity_check_055'), Concept(56, 'random_left_concept_MMIDB_Alpha_sanity_check_056'), Concept(57, 'random_left_concept_MMIDB_Alpha_sanity_check_057'), Concept(58, 'random_left_concept_MMIDB_Alpha_sanity_check_058'), Concept(59, 'random_left_concept_MMIDB_Alpha_sanity_check_059'), Concept(60, 'random_left_concept_MMIDB_Alpha_sanity_check_060'), Concept(61, 'random_left_concept_MMIDB_Alpha_sanity_check_061'), Concept(62, 'random_left_concept_MMIDB_Alpha_sanity_check_062'), Concept(63, 'random_left_concept_MMIDB_Alpha_sanity_check_063'), Concept(64, 'random_left_concept_MMIDB_Alpha_sanity_check_064'), Concept(65, 'random_left_concept_MMIDB_Alpha_sanity_check_065'), Concept(66, 'random_left_concept_MMIDB_Alpha_sanity_check_066'), Concept(67, 'random_left_concept_MMIDB_Alpha_sanity_check_067'), Concept(68, 'random_left_concept_MMIDB_Alpha_sanity_check_068'), Concept(69, 'random_left_concept_MMIDB_Alpha_sanity_check_069'), Concept(70, 'random_left_concept_MMIDB_Alpha_sanity_check_070'), Concept(71, 'random_left_concept_MMIDB_Alpha_sanity_check_071'), Concept(72, 'random_left_concept_MMIDB_Alpha_sanity_check_072'), Concept(73, 'random_left_concept_MMIDB_Alpha_sanity_check_073'), Concept(74, 'random_left_concept_MMIDB_Alpha_sanity_check_074'), Concept(75, 'random_left_concept_MMIDB_Alpha_sanity_check_075'), Concept(76, 'random_left_concept_MMIDB_Alpha_sanity_check_076'), Concept(77, 'random_left_concept_MMIDB_Alpha_sanity_check_077'), Concept(78, 'random_left_concept_MMIDB_Alpha_sanity_check_078'), Concept(79, 'random_left_concept_MMIDB_Alpha_sanity_check_079'), Concept(80, 'random_left_concept_MMIDB_Alpha_sanity_check_080'), Concept(81, 'random_left_concept_MMIDB_Alpha_sanity_check_081'), Concept(82, 'random_left_concept_MMIDB_Alpha_sanity_check_082'), Concept(83, 'random_left_concept_MMIDB_Alpha_sanity_check_083'), Concept(84, 'random_left_concept_MMIDB_Alpha_sanity_check_084'), Concept(85, 'random_left_concept_MMIDB_Alpha_sanity_check_085'), Concept(86, 'random_left_concept_MMIDB_Alpha_sanity_check_086'), Concept(87, 'random_left_concept_MMIDB_Alpha_sanity_check_087'), Concept(88, 'random_left_concept_MMIDB_Alpha_sanity_check_088'), Concept(89, 'random_left_concept_MMIDB_Alpha_sanity_check_089'), Concept(90, 'random_left_concept_MMIDB_Alpha_sanity_check_090'), Concept(91, 'random_left_concept_MMIDB_Alpha_sanity_check_091'), Concept(92, 'random_left_concept_MMIDB_Alpha_sanity_check_092'), Concept(93, 'random_left_concept_MMIDB_Alpha_sanity_check_093'), Concept(94, 'random_left_concept_MMIDB_Alpha_sanity_check_094'), Concept(95, 'random_left_concept_MMIDB_Alpha_sanity_check_095'), Concept(96, 'random_left_concept_MMIDB_Alpha_sanity_check_096'), Concept(97, 'random_left_concept_MMIDB_Alpha_sanity_check_097'), Concept(98, 'random_left_concept_MMIDB_Alpha_sanity_check_098'), Concept(99, 'random_left_concept_MMIDB_Alpha_sanity_check_099')]\n"
     ]
    }
   ],
   "source": [
    "for concept_name, concepts in experiments[0].concepts.items():\n",
    "    print(concept_name)\n",
    "    print(concepts)\n",
    "    break"
   ]
  },
  {
   "cell_type": "code",
   "execution_count": 8,
   "metadata": {},
   "outputs": [
    {
     "data": {
      "text/plain": [
       "'random_left_concept_MMIDB_Alpha_sanity_check'"
      ]
     },
     "execution_count": 8,
     "metadata": {},
     "output_type": "execute_result"
    }
   ],
   "source": [
    "experiments[0].concept_names[0]"
   ]
  },
  {
   "cell_type": "code",
   "execution_count": 9,
   "metadata": {},
   "outputs": [],
   "source": [
    "# for concept_name, concepts in experiments[0].concepts.items():\n",
    "#     print(concept_name)\n",
    "#     print(concepts)\n",
    "#     for concept in concepts:\n",
    "#         print(next(iter(concept.data_iter)).shape)\n",
    "#         print(next(iter(concept.data_iter))[0,0])\n",
    "\n",
    "# experiments[0].concepts.values()"
   ]
  },
  {
   "cell_type": "code",
   "execution_count": 10,
   "metadata": {},
   "outputs": [],
   "source": [
    "layers = [\"encoder\", \"enc_augment\", \"summarizer\", \"extended_classifier\", \"clf\"]\n",
    "\n",
    "def run_tcav(experiment:Experiment, layers:list):\n",
    "    if \"/\" in experiment.concept_names[0]:\n",
    "        save_path = f\"/scratch/s194101/temp/cav/{experiment.concept_names[0].split('/')[-1]}/\"\n",
    "    else:\n",
    "        save_path = f\"/scratch/s194101/temp/cav/{experiment.concept_names[0]}/\"\n",
    "    tcav = TCAV(model, layers, model_id=\"BendrModel\", classifier=TCAVClassifier(), save_path=save_path)\n",
    "    # tcav = TCAV(model, layers, save_path=save_path)\n",
    "    tcav_scores = tcav.interpret(inputs=experiment.inputs, experimental_sets=experiment.experimental_sets, target=0)\n",
    "    tcav_scores = dict(tcav_scores)\n",
    "\n",
    "    save_path = f\"/home/s194101/Bachelors-explainability/{experiment.inputs_name}_{experiment.concept_names[0].split('/')[-1]}.pkl\" if \"/\" in experiment.concept_names[0] else f\"/home/s194101/Bachelors-explainability/{experiment.inputs_name}_{experiment.concept_names[0]}.pkl\"\n",
    "    with open(save_path, \"wb\") as f:\n",
    "        pickle.dump(\n",
    "            {\"tcav_scores\": tcav_scores,\n",
    "             \"experimental_sets\": experiment.experimental_sets,},f)\n",
    "    return tcav_scores\n",
    "        "
   ]
  },
  {
   "cell_type": "code",
   "execution_count": 11,
   "metadata": {},
   "outputs": [],
   "source": [
    "tcav = TCAV(model, layers, model_id=\"BendrModel\", classifier=TCAVClassifier(), save_path=\"/scratch/s194101/temp/cav_test/\")\n",
    "tmp_scores = tcav.interpret(inputs=experiments[0].inputs, experimental_sets=[experiments[0].experimental_sets[0], experiments[1].experimental_sets[0]], target=0)\n"
   ]
  },
  {
   "cell_type": "code",
   "execution_count": 12,
   "metadata": {},
   "outputs": [
    {
     "data": {
      "text/plain": [
       "defaultdict(<function captum.concept._core.tcav.TCAV.interpret.<locals>.<lambda>()>,\n",
       "            {'0-100': defaultdict(None,\n",
       "                         {'encoder': {'sign_count': tensor([0.8400, 0.1600]),\n",
       "                           'magnitude': tensor([ 0.1042, -0.1042])},\n",
       "                          'enc_augment': {'sign_count': tensor([0.9933, 0.0067]),\n",
       "                           'magnitude': tensor([ 1.5972, -1.5972])},\n",
       "                          'summarizer': {'sign_count': tensor([1., 0.]),\n",
       "                           'magnitude': tensor([ 4.9144, -4.9144])},\n",
       "                          'extended_classifier': {'sign_count': tensor([1., 0.]),\n",
       "                           'magnitude': tensor([ 2.0743, -2.0743])},\n",
       "                          'clf': {'sign_count': tensor([1., 0.]),\n",
       "                           'magnitude': tensor([ 0.6551, -0.6551])}}),\n",
       "             '1000-1100': defaultdict(None,\n",
       "                         {'encoder': {'sign_count': tensor([0.0133, 0.9867]),\n",
       "                           'magnitude': tensor([-0.2108,  0.2108])},\n",
       "                          'enc_augment': {'sign_count': tensor([0.0200, 0.9800]),\n",
       "                           'magnitude': tensor([-0.8638,  0.8638])},\n",
       "                          'summarizer': {'sign_count': tensor([0.3333, 0.6667]),\n",
       "                           'magnitude': tensor([-0.3489,  0.3489])},\n",
       "                          'extended_classifier': {'sign_count': tensor([0., 1.]),\n",
       "                           'magnitude': tensor([-0.2378,  0.2378])},\n",
       "                          'clf': {'sign_count': tensor([0., 1.]),\n",
       "                           'magnitude': tensor([-0.6699,  0.6699])}})})"
      ]
     },
     "execution_count": 12,
     "metadata": {},
     "output_type": "execute_result"
    }
   ],
   "source": [
    "tmp_scores"
   ]
  },
  {
   "cell_type": "code",
   "execution_count": 13,
   "metadata": {},
   "outputs": [
    {
     "data": {
      "text/plain": [
       "[Concept(1000, 'random_right_concept_MMIDB_Alpha_sanity_check_000'),\n",
       " Concept(1100, 'random_tuh_alpha_1000_000')]"
      ]
     },
     "execution_count": 13,
     "metadata": {},
     "output_type": "execute_result"
    }
   ],
   "source": [
    "experiments[1].experimental_sets[0]"
   ]
  },
  {
   "cell_type": "code",
   "execution_count": 14,
   "metadata": {},
   "outputs": [
    {
     "data": {
      "text/plain": [
       "[Concept(0, 'random_left_concept_MMIDB_Alpha_sanity_check_000'),\n",
       " Concept(100, 'random_tuh_alpha_1000_000')]"
      ]
     },
     "execution_count": 14,
     "metadata": {},
     "output_type": "execute_result"
    }
   ],
   "source": [
    "experiments[0].experimental_sets[0]"
   ]
  },
  {
   "cell_type": "code",
   "execution_count": 15,
   "metadata": {},
   "outputs": [
    {
     "name": "stdout",
     "output_type": "stream",
     "text": [
      "random_left_concept_MMIDB_Alpha_sanity_check random_left_concept_MMIDB_Alpha_sanity_check\n",
      "random_left_concept_MMIDB_Alpha_sanity_check random_right_concept_MMIDB_Alpha_sanity_check\n",
      "random_left_concept_MMIDB_Alpha_sanity_check random_mmidb_gamma_no_baseline_lh\n",
      "random_left_concept_MMIDB_Alpha_sanity_check random_mmidb_gamma_no_baseline_rh\n"
     ]
    }
   ],
   "source": [
    "for exp in experiments:\n",
    "    run_tcav(exp, layers)\n",
    "    print(exp.inputs_name, exp.concept_names[0])"
   ]
  },
  {
   "cell_type": "code",
   "execution_count": 16,
   "metadata": {},
   "outputs": [],
   "source": [
    "all_experimental_sets = []\n",
    "all_tcav_scores = []\n",
    "\n",
    "for i, exp in enumerate(experiments):\n",
    "    file_path = f\"/home/s194101/Bachelors-explainability/{exp.inputs_name}_{exp.concept_names[0].split('/')[-1]}.pkl\" if \"/\" in exp.concept_names[0] else f\"/home/s194101/Bachelors-explainability/{exp.inputs_name}_{exp.concept_names[0]}.pkl\"\n",
    "    with open(file_path, \"rb\") as f:\n",
    "        data = pickle.load(f)\n",
    "        all_tcav_scores.append(data[\"tcav_scores\"])\n",
    "        all_experimental_sets.append(data[\"experimental_sets\"])"
   ]
  },
  {
   "cell_type": "code",
   "execution_count": 17,
   "metadata": {},
   "outputs": [],
   "source": [
    "from plot_utils import assemble_scores, plot_tcav_scores"
   ]
  },
  {
   "cell_type": "code",
   "execution_count": 18,
   "metadata": {},
   "outputs": [
    {
     "data": {
      "image/png": "[encoded data removed]",
      "text/plain": [
       "<Figure size 1200x600 with 1 Axes>"
      ]
     },
     "metadata": {},
     "output_type": "display_data"
    },
    {
     "data": {
      "text/html": [
       "<div>\n",
       "<style scoped>\n",
       "    .dataframe tbody tr th:only-of-type {\n",
       "        vertical-align: middle;\n",
       "    }\n",
       "\n",
       "    .dataframe tbody tr th {\n",
       "        vertical-align: top;\n",
       "    }\n",
       "\n",
       "    .dataframe thead th {\n",
       "        text-align: right;\n",
       "    }\n",
       "</style>\n",
       "<table border=\"1\" class=\"dataframe\">\n",
       "  <thead>\n",
       "    <tr style=\"text-align: right;\">\n",
       "      <th></th>\n",
       "      <th>encoder</th>\n",
       "      <th>enc_augment</th>\n",
       "      <th>summarizer</th>\n",
       "      <th>extended_classifier</th>\n",
       "      <th>clf</th>\n",
       "    </tr>\n",
       "  </thead>\n",
       "  <tbody>\n",
       "    <tr>\n",
       "      <th>left</th>\n",
       "      <td>0.365756</td>\n",
       "      <td>0.358738</td>\n",
       "      <td>0.214667</td>\n",
       "      <td>0.300000</td>\n",
       "      <td>0.217945</td>\n",
       "    </tr>\n",
       "    <tr>\n",
       "      <th>right</th>\n",
       "      <td>0.049335</td>\n",
       "      <td>0.059710</td>\n",
       "      <td>0.080150</td>\n",
       "      <td>0.195959</td>\n",
       "      <td>0.000000</td>\n",
       "    </tr>\n",
       "    <tr>\n",
       "      <th>gamma left hemisphere</th>\n",
       "      <td>0.300286</td>\n",
       "      <td>0.322820</td>\n",
       "      <td>0.390739</td>\n",
       "      <td>0.499900</td>\n",
       "      <td>0.470213</td>\n",
       "    </tr>\n",
       "    <tr>\n",
       "      <th>gamma right hemisphere</th>\n",
       "      <td>0.191624</td>\n",
       "      <td>0.136449</td>\n",
       "      <td>0.297951</td>\n",
       "      <td>0.497494</td>\n",
       "      <td>0.324962</td>\n",
       "    </tr>\n",
       "  </tbody>\n",
       "</table>\n",
       "</div>"
      ],
      "text/plain": [
       "                         encoder  enc_augment  summarizer  \\\n",
       "left                    0.365756     0.358738    0.214667   \n",
       "right                   0.049335     0.059710    0.080150   \n",
       "gamma left hemisphere   0.300286     0.322820    0.390739   \n",
       "gamma right hemisphere  0.191624     0.136449    0.297951   \n",
       "\n",
       "                        extended_classifier       clf  \n",
       "left                               0.300000  0.217945  \n",
       "right                              0.195959  0.000000  \n",
       "gamma left hemisphere              0.499900  0.470213  \n",
       "gamma right hemisphere             0.497494  0.324962  "
      ]
     },
     "execution_count": 18,
     "metadata": {},
     "output_type": "execute_result"
    }
   ],
   "source": [
    "# concept_names = [\"left\", \"right\", \"alpha left hemisphere\", \"alpha right hemisphere\"]\n",
    "concept_names = [\"left\", \"right\", \"gamma left hemisphere\", \"gamma right hemisphere\"]\n",
    "# concept_names = [\"Premotor Cortex-lh\", \"Premotor Cortex-rh\", \"Somatosensory and Motor Cortex-lh\", \"Somatosensory and Motor Cortex-rh\"]\n",
    "# concept_names = [\"Early Visual Cortex-lh\", \"Early Visual Cortex-rh\", \"Primary Visual Cortex-lh\", \"Primary Visual Cortex-rh\"]\n",
    "title = \"Left Fist Classifcation\"\n",
    "plt_name = \"left_fist_prediction_gamma_0.01_10000\"\n",
    "# plt_name = \"left_fist_prediction_anatomical_alpha_premotor_somatosensory\"\n",
    "# plt_name = \"left_fist_prediction_anatomical_alpha_visual\"\n",
    "\n",
    "scores_mean_df, scores_std_df = plot_tcav_scores(all_experimental_sets, all_tcav_scores, concept_names=concept_names, title=title, score_type=\"sign_count\", alpha=0.05, only_significant=False, with_error=False, plt_name=plt_name, file_type=\"png\")\n",
    "# scores_mean_df\n",
    "scores_std_df\n"
   ]
  },
  {
   "cell_type": "code",
   "execution_count": 19,
   "metadata": {},
   "outputs": [
    {
     "data": {
      "text/plain": [
       "array([0.00666667, 0.        , 0.        , 0.        , 0.        ,\n",
       "       0.00666667, 0.        , 0.        , 0.        , 0.        ,\n",
       "       0.        , 0.00666667, 0.        , 0.        , 0.        ,\n",
       "       0.        , 0.        , 0.        , 0.        , 0.32      ,\n",
       "       0.        , 0.        , 0.        , 0.        , 0.        ,\n",
       "       0.        , 0.        , 0.        , 0.        , 0.        ,\n",
       "       0.        , 0.        , 0.        , 0.        , 0.        ,\n",
       "       0.01333333, 0.        , 0.        , 0.        , 0.        ,\n",
       "       0.        , 0.        , 0.01333333, 0.        , 0.        ,\n",
       "       0.01333333, 0.        , 0.        , 0.        , 0.        ,\n",
       "       0.        , 0.        , 0.        , 0.        , 0.        ,\n",
       "       0.        , 0.        , 0.00666667, 0.        , 0.        ,\n",
       "       0.04666667, 0.        , 0.        , 0.        , 0.        ,\n",
       "       0.        , 0.        , 0.        , 0.        , 0.        ,\n",
       "       0.04666667, 0.        , 0.        , 0.        , 0.        ,\n",
       "       0.        , 0.        , 0.        , 0.        , 0.04      ,\n",
       "       0.        , 0.30666667, 0.        , 0.22666667, 0.        ,\n",
       "       0.        , 0.        , 0.        , 0.        , 0.        ,\n",
       "       0.        , 0.        , 0.        , 0.        , 0.        ,\n",
       "       0.        , 0.        , 0.        , 0.        , 0.        ],\n",
       "      dtype=float32)"
      ]
     },
     "execution_count": 19,
     "metadata": {},
     "output_type": "execute_result"
    }
   ],
   "source": [
    "# all_tcav_scores[2]\n",
    "assemble_scores(all_tcav_scores[1], all_experimental_sets[1], 0, \"encoder\", \"sign_count\")"
   ]
  },
  {
   "cell_type": "code",
   "execution_count": 20,
   "metadata": {},
   "outputs": [],
   "source": [
    "# all_tcav_scores[1]\n",
    "# all_experimental_sets[1]"
   ]
  },
  {
   "cell_type": "code",
   "execution_count": 21,
   "metadata": {},
   "outputs": [],
   "source": [
    "# all_experimental_sets[2]"
   ]
  }
 ],
 "metadata": {
  "kernelspec": {
   "display_name": "myenv",
   "language": "python",
   "name": "python3"
  },
  "language_info": {
   "codemirror_mode": {
    "name": "ipython",
    "version": 3
   },
   "file_extension": ".py",
   "mimetype": "text/x-python",
   "name": "python",
   "nbconvert_exporter": "python",
   "pygments_lexer": "ipython3",
   "version": "3.11.9"
  }
 },
 "nbformat": 4,
 "nbformat_minor": 2
}
