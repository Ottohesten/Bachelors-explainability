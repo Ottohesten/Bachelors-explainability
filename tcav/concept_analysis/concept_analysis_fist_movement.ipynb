{
 "cells": [
  {
   "cell_type": "code",
   "execution_count": 19,
   "metadata": {},
   "outputs": [],
   "source": [
    "import pandas as pd\n",
    "import numpy as np\n",
    "import matplotlib.pyplot as plt\n",
    "import pickle\n",
    "import os\n",
    "from eegatscale.models import LinearHeadBENDR\n",
    "from eegatscale.transforms import Standardize\n",
    "from scipy.stats import ttest_ind\n",
    "import torch\n",
    "import tqdm\n",
    "\n",
    "from captum.concept import TCAV, Concept\n",
    "from captum.concept._utils.common import concepts_to_str\n",
    "from concept_classifier import TCAVClassifier\n",
    "import warnings\n",
    "warnings.filterwarnings(\"ignore\")\n",
    "\n",
    "from dataset_utils import Experiment"
   ]
  },
  {
   "cell_type": "code",
   "execution_count": 20,
   "metadata": {},
   "outputs": [
    {
     "name": "stdout",
     "output_type": "stream",
     "text": [
      "['left_right_concepts_MMIDB_Gamma_new_T0', 'random_tuh_alpha_rh', 'random_mmidb_alpha_no_baseline_lh', 'random_mmidb_gamma_baseline_rh', 'random_left_concept_MMIDB_Alpha_sanity_check_1000_with_sigma', 'random_tuh_alpha', 'random_mmidb_alpha_no_baseline_with_sigma', 'sanity_check_concepts_MMIDB_alpha_no_baseline', 'random_right_concept_MMIDB_Alpha_sanity_check_1000_no_baseline', 'random_mmidb_alpha_baseline_T0_rh', 'random_mmidb_gamma_no_baseline_rh', 'random_mmidb_alpha_lh', 'sanity_check_concepts_MMIDB_alpha_baseline_with_sigma', 'random_right_concept_MMIDB_Alpha_sanity_check', 'sanity_check_concepts_MMIDB_alpha_baseline', 'random_mmidb_gamma_baseline_T2', 'TUH_clean_alpha_subtract_Truesigma_Trueabs_100.0_142440_131124', 'random_mmidb_alpha_rh', 'random_right_concept_MMIDB_Alpha_sanity_check_1000', 'random_tuh_gamma_1000', 'TUSZ', 'random_mmidb_gamma_no_baseline_lh', 'random_mmidb_alpha_baseline_T0_lh', 'random_tuh_alpha_1000', 'random_mmidb_alpha_no_baseline', 'random_tuh_alpha_lh', 'random_mmidb_alpha_no_baseline_rh', 'random_mmidb_all_no_baseline', 'random_mmidb_gamma_baseline_lh', 'random_mmidb_gamma_baseline', 'TUH_clean_alpha_subtract_Truesigma_Trueabs_100.0_003338_031224_test', 'random_mmidb_gamma_baseline_T1', 'random_mmidb_alpha_baseline_T0', 'sanity_check_concepts_MMIDB_all_no_baseline', 'left_right_concepts_MMIDB_alpha_new_T0', 'random_right_concept_MMIDB_Alpha', 'sanity_check_concepts_MMIDB_all_no_baseline_with_sigma', 'left_right_concepts_MMIDB_Gamma_new', 'random_mmidb_alpha_baseline_with_sigma_lh', 'TUEV', 'TUH_clean_alpha_subtract_Truesigma_Trueabs_100.0_002453_031224_test', 'random_right_concept_MMIDB_Alpha_sanity_check_1000_with_sigma', 'left_right_concepts_MMIDB_alpha_new', 'sanity_check_concepts_MMIDB_all_baseline', 'TUH_clean_alpha_subtract_Truesigma_Trueabs_100.0_002655_031224_test', 'random_mmidb_alpha_no_baseline_T0_lh', 'TUH_clean_all_subtract_Truesigma_Trueabs_100.0_135454_131124', 'random_left_concept_MMIDB_Alpha_sanity_check', 'random_left_concept_MMIDB_Alpha_sanity_check_1000', 'random_mmidb_alpha_baseline_rh', 'random_tuh_all', 'random_tuh_all_1000', 'random_left_concept_MMIDB_Alpha', 'random_mmidb_alpha_baseline_with_sigma_rh', 'random_mmidb_gamma_no_baseline', 'random_mmidb_alpha_baseline_lh', 'sanity_check_concepts_MMIDB_alpha_no_baseline_with_sigma', 'random_mmidb_alpha_no_baseline_T0_rh', 'random_left_concept_MMIDB_Alpha_sanity_check_1000_no_baseline']\n"
     ]
    }
   ],
   "source": [
    "concepts_dir = '/scratch/s194101/concepts/'\n",
    "\n",
    "print(list(os.listdir(concepts_dir)))\n",
    "\n"
   ]
  },
  {
   "cell_type": "markdown",
   "metadata": {},
   "source": [
    "## load model"
   ]
  },
  {
   "cell_type": "code",
   "execution_count": 21,
   "metadata": {},
   "outputs": [
    {
     "name": "stdout",
     "output_type": "stream",
     "text": [
      "Initialized mask embedding and position encoder from  /scratch/s194101/finetune_logs_all/mmidb_noica_noica_5.0_splits10_repeat2/version_19/checkpoints/epoch=7-step=8120.ckpt\n",
      "model loaded\n"
     ]
    }
   ],
   "source": [
    "out_features = 2\n",
    "# encoder_path = \"/scratch/agjma/checkpoints/tuh-noica-standardize-epoch=9-step=68317-val_loss=0.26.ckpt\"\n",
    "encoder_path = \"/scratch/s194101/finetune_logs_all/mmidb_noica_noica_5.0_splits10_repeat2/version_19/checkpoints/epoch=7-step=8120.ckpt\"\n",
    "\n",
    "model = LinearHeadBENDR(encoder_path, encoder_h=512, in_features=19, out_features=out_features)\n",
    "state_dict = torch.load(encoder_path, map_location=torch.device('cpu'))[\"state_dict\"]\n",
    "model.load_state_dict(state_dict)\n",
    "model.eval()\n",
    "print(\"model loaded\")"
   ]
  },
  {
   "cell_type": "code",
   "execution_count": 22,
   "metadata": {},
   "outputs": [
    {
     "name": "stdout",
     "output_type": "stream",
     "text": [
      "Loaded dataset random_left_concept_MMIDB_Alpha_sanity_check_1000_with_sigma with 1000 samples\n",
      "Loaded dataset random_tuh_alpha_1000 with 1000 samples\n",
      "Loaded input dataset random_left_concept_MMIDB_Alpha_sanity_check_1000_with_sigma with 1000 samples\n",
      "Loaded dataset random_right_concept_MMIDB_Alpha_sanity_check_1000_with_sigma with 1000 samples\n",
      "Loaded dataset random_tuh_alpha_1000 with 1000 samples\n",
      "Loaded input dataset random_left_concept_MMIDB_Alpha_sanity_check_1000_with_sigma with 1000 samples\n",
      "Loaded dataset random_mmidb_alpha_lh with 200 samples\n",
      "Loaded dataset random_tuh_alpha_1000 with 1000 samples\n",
      "Loaded input dataset random_left_concept_MMIDB_Alpha_sanity_check_1000_with_sigma with 1000 samples\n",
      "Loaded dataset random_mmidb_alpha_rh with 200 samples\n",
      "Loaded dataset random_tuh_alpha_1000 with 1000 samples\n",
      "Loaded input dataset random_left_concept_MMIDB_Alpha_sanity_check_1000_with_sigma with 1000 samples\n"
     ]
    }
   ],
   "source": [
    "# target_data = \"random_left_concept_MMIDB_Alpha_sanity_check\"\n",
    "# target_data = \"random_mmidb_gamma_baseline_T1\"\n",
    "# target_data = \"random_left_concept_MMIDB_Alpha_sanity_check_1000_no_baseline\"\n",
    "target_data = \"random_left_concept_MMIDB_Alpha_sanity_check_1000_with_sigma\"\n",
    "# target_data = \"random_left_concept_MMIDB_Alpha\"\n",
    "# random_concept = \"random_mmidb_alpha_new\"\n",
    "# random_concept = \"random_mmidb_alpha_no_baseline_with_sigma\"\n",
    "# random_concept = \"random_mmidb_alpha_no_baseline\"\n",
    "# random_concept = \"random_mmidb_alpha_baseline_T0\"\n",
    "# random_concept = \"random_mmidb_gamma_no_baseline\"\n",
    "# random_concept = \"random_tuh_all_1000\"\n",
    "random_concept = \"random_tuh_alpha_1000\"\n",
    "# random_concept = \"random_tuh_gamma_1000\"\n",
    "\n",
    "concept_dir_names = [\n",
    "    # \"random_left_concept_MMIDB_Alpha_sanity_check\",\n",
    "    # \"random_right_concept_MMIDB_Alpha_sanity_check\",\n",
    "    \"random_left_concept_MMIDB_Alpha_sanity_check_1000_with_sigma\",\n",
    "    \"random_right_concept_MMIDB_Alpha_sanity_check_1000_with_sigma\",\n",
    "# #     # \"random_left_concept_MMIDB_Alpha\",\n",
    "# #     # \"random_right_concept_MMIDB_Alpha\",\n",
    "    \"random_mmidb_alpha_lh\",\n",
    "# #     # \"left_right_concepts_MMIDB_alpha_new/Alpha_lh\",\n",
    "# #     # \"left_right_concepts_MMIDB_alpha_new_T0/Alpha_lh\",\n",
    "# #     # \"random_tuh_alpha_lh\",\n",
    "# #     # \"random_mmidb_alpha_baseline_with_sigma_lh\",\n",
    "# #     # \"random_mmidb_alpha_no_baseline_T0_lh\",\n",
    "# #     # \"random_mmidb_gamma_no_baseline_lh\",\n",
    "    \"random_mmidb_alpha_rh\",\n",
    "# #     # \"left_right_concepts_MMIDB_alpha_new/Alpha_rh\",\n",
    "# #     # \"left_right_concepts_MMIDB_alpha_new_T0/Alpha_rh\",\n",
    "# #     # \"random_tuh_alpha_rh\",\n",
    "# #     # \"random_mmidb_alpha_baseline_with_sigma_rh\",\n",
    "# #     # \"random_mmidb_alpha_no_baseline_T0_rh\",\n",
    "# #     # \"random_mmidb_gamma_no_baseline_rh\",\n",
    "    ]\n",
    "\n",
    "# T0 concepts\n",
    "# concept_dir_names = [\n",
    "#     \"random_left_concept_MMIDB_Alpha_sanity_check\",\n",
    "#     \"random_right_concept_MMIDB_Alpha_sanity_check\",\n",
    "#     \"random_mmidb_alpha_baseline_T0_lh\",\n",
    "#     \"random_mmidb_alpha_baseline_T0_rh\",\n",
    "#     # \"random_tuh_alpha_lh\",\n",
    "#     # \"random_tuh_alpha_rh\",\n",
    "# ]\n",
    "\n",
    "# gamma\n",
    "# concept_dir_names = [\n",
    "#     \"random_mmidb_gamma_baseline_T1\",\n",
    "#     \"random_mmidb_gamma_baseline_T2\",\n",
    "#     \"random_mmidb_gamma_baseline_lh\",\n",
    "#     \"random_mmidb_gamma_baseline_rh\",\n",
    "# ]\n",
    "# concept_dir_names = [\n",
    "#     \"sanity_check_concepts_MMIDB_alpha_no_baseline_with_sigma/Alpha_Premotor Cortex-lh\",\n",
    "#     \"sanity_check_concepts_MMIDB_alpha_no_baseline_with_sigma/Alpha_Premotor Cortex-rh\",\n",
    "#     \"sanity_check_concepts_MMIDB_alpha_no_baseline_with_sigma/Alpha_Somatosensory and Motor Cortex-lh\",\n",
    "#     \"sanity_check_concepts_MMIDB_alpha_no_baseline_with_sigma/Alpha_Somatosensory and Motor Cortex-rh\",\n",
    "#     ]\n",
    "# concept_dir_names = [\n",
    "#     \"sanity_check_concepts_MMIDB_alpha_no_baseline/Alpha_Premotor Cortex-lh\",\n",
    "#     \"sanity_check_concepts_MMIDB_alpha_no_baseline/Alpha_Premotor Cortex-rh\",\n",
    "#     \"sanity_check_concepts_MMIDB_alpha_no_baseline/Alpha_Somatosensory and Motor Cortex-lh\",\n",
    "#     \"sanity_check_concepts_MMIDB_alpha_no_baseline/Alpha_Somatosensory and Motor Cortex-rh\",\n",
    "#     ]\n",
    "experiments = []\n",
    "idx = 0\n",
    "for concept_dir_name in concept_dir_names:\n",
    "    exp = Experiment(model,\n",
    "                    target_data,\n",
    "                    concepts_dir,\n",
    "                    [\n",
    "                    concept_dir_name, # this is where you add extra concepts, (in the square brackets)\n",
    "                    random_concept,\n",
    "                    ],\n",
    "                    verbose=True,\n",
    "                    n_concept_samples=50,\n",
    "                    n_runs=100,\n",
    "                    internal_concept_idx=idx)\n",
    "    experiments.append(exp)\n",
    "    idx += 1000"
   ]
  },
  {
   "cell_type": "code",
   "execution_count": 23,
   "metadata": {},
   "outputs": [
    {
     "data": {
      "text/plain": [
       "200"
      ]
     },
     "execution_count": 23,
     "metadata": {},
     "output_type": "execute_result"
    }
   ],
   "source": [
    "experiments[0].internal_concept_idx"
   ]
  },
  {
   "cell_type": "code",
   "execution_count": 24,
   "metadata": {},
   "outputs": [
    {
     "name": "stdout",
     "output_type": "stream",
     "text": [
      "random_left_concept_MMIDB_Alpha_sanity_check_1000_with_sigma\n",
      "[Concept(0, 'random_left_concept_MMIDB_Alpha_sanity_check_1000_with_sigma_000'), Concept(1, 'random_left_concept_MMIDB_Alpha_sanity_check_1000_with_sigma_001'), Concept(2, 'random_left_concept_MMIDB_Alpha_sanity_check_1000_with_sigma_002'), Concept(3, 'random_left_concept_MMIDB_Alpha_sanity_check_1000_with_sigma_003'), Concept(4, 'random_left_concept_MMIDB_Alpha_sanity_check_1000_with_sigma_004'), Concept(5, 'random_left_concept_MMIDB_Alpha_sanity_check_1000_with_sigma_005'), Concept(6, 'random_left_concept_MMIDB_Alpha_sanity_check_1000_with_sigma_006'), Concept(7, 'random_left_concept_MMIDB_Alpha_sanity_check_1000_with_sigma_007'), Concept(8, 'random_left_concept_MMIDB_Alpha_sanity_check_1000_with_sigma_008'), Concept(9, 'random_left_concept_MMIDB_Alpha_sanity_check_1000_with_sigma_009'), Concept(10, 'random_left_concept_MMIDB_Alpha_sanity_check_1000_with_sigma_010'), Concept(11, 'random_left_concept_MMIDB_Alpha_sanity_check_1000_with_sigma_011'), Concept(12, 'random_left_concept_MMIDB_Alpha_sanity_check_1000_with_sigma_012'), Concept(13, 'random_left_concept_MMIDB_Alpha_sanity_check_1000_with_sigma_013'), Concept(14, 'random_left_concept_MMIDB_Alpha_sanity_check_1000_with_sigma_014'), Concept(15, 'random_left_concept_MMIDB_Alpha_sanity_check_1000_with_sigma_015'), Concept(16, 'random_left_concept_MMIDB_Alpha_sanity_check_1000_with_sigma_016'), Concept(17, 'random_left_concept_MMIDB_Alpha_sanity_check_1000_with_sigma_017'), Concept(18, 'random_left_concept_MMIDB_Alpha_sanity_check_1000_with_sigma_018'), Concept(19, 'random_left_concept_MMIDB_Alpha_sanity_check_1000_with_sigma_019'), Concept(20, 'random_left_concept_MMIDB_Alpha_sanity_check_1000_with_sigma_020'), Concept(21, 'random_left_concept_MMIDB_Alpha_sanity_check_1000_with_sigma_021'), Concept(22, 'random_left_concept_MMIDB_Alpha_sanity_check_1000_with_sigma_022'), Concept(23, 'random_left_concept_MMIDB_Alpha_sanity_check_1000_with_sigma_023'), Concept(24, 'random_left_concept_MMIDB_Alpha_sanity_check_1000_with_sigma_024'), Concept(25, 'random_left_concept_MMIDB_Alpha_sanity_check_1000_with_sigma_025'), Concept(26, 'random_left_concept_MMIDB_Alpha_sanity_check_1000_with_sigma_026'), Concept(27, 'random_left_concept_MMIDB_Alpha_sanity_check_1000_with_sigma_027'), Concept(28, 'random_left_concept_MMIDB_Alpha_sanity_check_1000_with_sigma_028'), Concept(29, 'random_left_concept_MMIDB_Alpha_sanity_check_1000_with_sigma_029'), Concept(30, 'random_left_concept_MMIDB_Alpha_sanity_check_1000_with_sigma_030'), Concept(31, 'random_left_concept_MMIDB_Alpha_sanity_check_1000_with_sigma_031'), Concept(32, 'random_left_concept_MMIDB_Alpha_sanity_check_1000_with_sigma_032'), Concept(33, 'random_left_concept_MMIDB_Alpha_sanity_check_1000_with_sigma_033'), Concept(34, 'random_left_concept_MMIDB_Alpha_sanity_check_1000_with_sigma_034'), Concept(35, 'random_left_concept_MMIDB_Alpha_sanity_check_1000_with_sigma_035'), Concept(36, 'random_left_concept_MMIDB_Alpha_sanity_check_1000_with_sigma_036'), Concept(37, 'random_left_concept_MMIDB_Alpha_sanity_check_1000_with_sigma_037'), Concept(38, 'random_left_concept_MMIDB_Alpha_sanity_check_1000_with_sigma_038'), Concept(39, 'random_left_concept_MMIDB_Alpha_sanity_check_1000_with_sigma_039'), Concept(40, 'random_left_concept_MMIDB_Alpha_sanity_check_1000_with_sigma_040'), Concept(41, 'random_left_concept_MMIDB_Alpha_sanity_check_1000_with_sigma_041'), Concept(42, 'random_left_concept_MMIDB_Alpha_sanity_check_1000_with_sigma_042'), Concept(43, 'random_left_concept_MMIDB_Alpha_sanity_check_1000_with_sigma_043'), Concept(44, 'random_left_concept_MMIDB_Alpha_sanity_check_1000_with_sigma_044'), Concept(45, 'random_left_concept_MMIDB_Alpha_sanity_check_1000_with_sigma_045'), Concept(46, 'random_left_concept_MMIDB_Alpha_sanity_check_1000_with_sigma_046'), Concept(47, 'random_left_concept_MMIDB_Alpha_sanity_check_1000_with_sigma_047'), Concept(48, 'random_left_concept_MMIDB_Alpha_sanity_check_1000_with_sigma_048'), Concept(49, 'random_left_concept_MMIDB_Alpha_sanity_check_1000_with_sigma_049'), Concept(50, 'random_left_concept_MMIDB_Alpha_sanity_check_1000_with_sigma_050'), Concept(51, 'random_left_concept_MMIDB_Alpha_sanity_check_1000_with_sigma_051'), Concept(52, 'random_left_concept_MMIDB_Alpha_sanity_check_1000_with_sigma_052'), Concept(53, 'random_left_concept_MMIDB_Alpha_sanity_check_1000_with_sigma_053'), Concept(54, 'random_left_concept_MMIDB_Alpha_sanity_check_1000_with_sigma_054'), Concept(55, 'random_left_concept_MMIDB_Alpha_sanity_check_1000_with_sigma_055'), Concept(56, 'random_left_concept_MMIDB_Alpha_sanity_check_1000_with_sigma_056'), Concept(57, 'random_left_concept_MMIDB_Alpha_sanity_check_1000_with_sigma_057'), Concept(58, 'random_left_concept_MMIDB_Alpha_sanity_check_1000_with_sigma_058'), Concept(59, 'random_left_concept_MMIDB_Alpha_sanity_check_1000_with_sigma_059'), Concept(60, 'random_left_concept_MMIDB_Alpha_sanity_check_1000_with_sigma_060'), Concept(61, 'random_left_concept_MMIDB_Alpha_sanity_check_1000_with_sigma_061'), Concept(62, 'random_left_concept_MMIDB_Alpha_sanity_check_1000_with_sigma_062'), Concept(63, 'random_left_concept_MMIDB_Alpha_sanity_check_1000_with_sigma_063'), Concept(64, 'random_left_concept_MMIDB_Alpha_sanity_check_1000_with_sigma_064'), Concept(65, 'random_left_concept_MMIDB_Alpha_sanity_check_1000_with_sigma_065'), Concept(66, 'random_left_concept_MMIDB_Alpha_sanity_check_1000_with_sigma_066'), Concept(67, 'random_left_concept_MMIDB_Alpha_sanity_check_1000_with_sigma_067'), Concept(68, 'random_left_concept_MMIDB_Alpha_sanity_check_1000_with_sigma_068'), Concept(69, 'random_left_concept_MMIDB_Alpha_sanity_check_1000_with_sigma_069'), Concept(70, 'random_left_concept_MMIDB_Alpha_sanity_check_1000_with_sigma_070'), Concept(71, 'random_left_concept_MMIDB_Alpha_sanity_check_1000_with_sigma_071'), Concept(72, 'random_left_concept_MMIDB_Alpha_sanity_check_1000_with_sigma_072'), Concept(73, 'random_left_concept_MMIDB_Alpha_sanity_check_1000_with_sigma_073'), Concept(74, 'random_left_concept_MMIDB_Alpha_sanity_check_1000_with_sigma_074'), Concept(75, 'random_left_concept_MMIDB_Alpha_sanity_check_1000_with_sigma_075'), Concept(76, 'random_left_concept_MMIDB_Alpha_sanity_check_1000_with_sigma_076'), Concept(77, 'random_left_concept_MMIDB_Alpha_sanity_check_1000_with_sigma_077'), Concept(78, 'random_left_concept_MMIDB_Alpha_sanity_check_1000_with_sigma_078'), Concept(79, 'random_left_concept_MMIDB_Alpha_sanity_check_1000_with_sigma_079'), Concept(80, 'random_left_concept_MMIDB_Alpha_sanity_check_1000_with_sigma_080'), Concept(81, 'random_left_concept_MMIDB_Alpha_sanity_check_1000_with_sigma_081'), Concept(82, 'random_left_concept_MMIDB_Alpha_sanity_check_1000_with_sigma_082'), Concept(83, 'random_left_concept_MMIDB_Alpha_sanity_check_1000_with_sigma_083'), Concept(84, 'random_left_concept_MMIDB_Alpha_sanity_check_1000_with_sigma_084'), Concept(85, 'random_left_concept_MMIDB_Alpha_sanity_check_1000_with_sigma_085'), Concept(86, 'random_left_concept_MMIDB_Alpha_sanity_check_1000_with_sigma_086'), Concept(87, 'random_left_concept_MMIDB_Alpha_sanity_check_1000_with_sigma_087'), Concept(88, 'random_left_concept_MMIDB_Alpha_sanity_check_1000_with_sigma_088'), Concept(89, 'random_left_concept_MMIDB_Alpha_sanity_check_1000_with_sigma_089'), Concept(90, 'random_left_concept_MMIDB_Alpha_sanity_check_1000_with_sigma_090'), Concept(91, 'random_left_concept_MMIDB_Alpha_sanity_check_1000_with_sigma_091'), Concept(92, 'random_left_concept_MMIDB_Alpha_sanity_check_1000_with_sigma_092'), Concept(93, 'random_left_concept_MMIDB_Alpha_sanity_check_1000_with_sigma_093'), Concept(94, 'random_left_concept_MMIDB_Alpha_sanity_check_1000_with_sigma_094'), Concept(95, 'random_left_concept_MMIDB_Alpha_sanity_check_1000_with_sigma_095'), Concept(96, 'random_left_concept_MMIDB_Alpha_sanity_check_1000_with_sigma_096'), Concept(97, 'random_left_concept_MMIDB_Alpha_sanity_check_1000_with_sigma_097'), Concept(98, 'random_left_concept_MMIDB_Alpha_sanity_check_1000_with_sigma_098'), Concept(99, 'random_left_concept_MMIDB_Alpha_sanity_check_1000_with_sigma_099')]\n"
     ]
    }
   ],
   "source": [
    "for concept_name, concepts in experiments[0].concepts.items():\n",
    "    print(concept_name)\n",
    "    print(concepts)\n",
    "    break"
   ]
  },
  {
   "cell_type": "code",
   "execution_count": 25,
   "metadata": {},
   "outputs": [
    {
     "data": {
      "text/plain": [
       "'random_left_concept_MMIDB_Alpha_sanity_check_1000_with_sigma'"
      ]
     },
     "execution_count": 25,
     "metadata": {},
     "output_type": "execute_result"
    }
   ],
   "source": [
    "experiments[0].concept_names[0]"
   ]
  },
  {
   "cell_type": "code",
   "execution_count": 26,
   "metadata": {},
   "outputs": [],
   "source": [
    "# for concept_name, concepts in experiments[0].concepts.items():\n",
    "#     print(concept_name)\n",
    "#     print(concepts)\n",
    "#     for concept in concepts:\n",
    "#         print(next(iter(concept.data_iter)).shape)\n",
    "#         print(next(iter(concept.data_iter))[0,0])\n",
    "\n",
    "# experiments[0].concepts.values()"
   ]
  },
  {
   "cell_type": "code",
   "execution_count": 27,
   "metadata": {},
   "outputs": [],
   "source": [
    "layers = [\"encoder\", \"enc_augment\", \"summarizer\", \"extended_classifier\", \"clf\"]\n",
    "\n",
    "def run_tcav(experiment:Experiment, layers:list):\n",
    "    if \"/\" in experiment.concept_names[0]:\n",
    "        save_path = f\"/scratch/s194101/temp/cav/{experiment.concept_names[0].split('/')[-1]}/\"\n",
    "    else:\n",
    "        save_path = f\"/scratch/s194101/temp/cav/{experiment.concept_names[0]}/\"\n",
    "    tcav = TCAV(model, layers, model_id=\"BendrModel\", classifier=TCAVClassifier(), save_path=save_path)\n",
    "    # tcav = TCAV(model, layers, save_path=save_path)\n",
    "    tcav_scores = tcav.interpret(inputs=experiment.inputs, experimental_sets=experiment.experimental_sets, target=0)\n",
    "    tcav_scores = dict(tcav_scores)\n",
    "\n",
    "    save_path = f\"/home/s194101/Bachelors-explainability/{experiment.inputs_name}_{experiment.concept_names[0].split('/')[-1]}.pkl\" if \"/\" in experiment.concept_names[0] else f\"/home/s194101/Bachelors-explainability/{experiment.inputs_name}_{experiment.concept_names[0]}.pkl\"\n",
    "    with open(save_path, \"wb\") as f:\n",
    "        pickle.dump(\n",
    "            {\"tcav_scores\": tcav_scores,\n",
    "             \"experimental_sets\": experiment.experimental_sets,},f)\n",
    "    return tcav_scores\n",
    "        "
   ]
  },
  {
   "cell_type": "code",
   "execution_count": 28,
   "metadata": {},
   "outputs": [],
   "source": [
    "tcav = TCAV(model, layers, model_id=\"BendrModel\", classifier=TCAVClassifier(), save_path=\"/scratch/s194101/temp/cav_test/\")\n",
    "tmp_scores = tcav.interpret(inputs=experiments[0].inputs, experimental_sets=[experiments[0].experimental_sets[0], experiments[1].experimental_sets[0]], target=0)\n"
   ]
  },
  {
   "cell_type": "code",
   "execution_count": 29,
   "metadata": {},
   "outputs": [
    {
     "data": {
      "text/plain": [
       "[Concept(1000, 'random_right_concept_MMIDB_Alpha_sanity_check_1000_with_sigma_000'),\n",
       " Concept(1100, 'random_tuh_alpha_1000_000')]"
      ]
     },
     "execution_count": 29,
     "metadata": {},
     "output_type": "execute_result"
    }
   ],
   "source": [
    "experiments[1].experimental_sets[0]"
   ]
  },
  {
   "cell_type": "code",
   "execution_count": 30,
   "metadata": {},
   "outputs": [
    {
     "data": {
      "text/plain": [
       "[Concept(0, 'random_left_concept_MMIDB_Alpha_sanity_check_1000_with_sigma_000'),\n",
       " Concept(100, 'random_tuh_alpha_1000_000')]"
      ]
     },
     "execution_count": 30,
     "metadata": {},
     "output_type": "execute_result"
    }
   ],
   "source": [
    "experiments[0].experimental_sets[0]"
   ]
  },
  {
   "cell_type": "code",
   "execution_count": 31,
   "metadata": {},
   "outputs": [
    {
     "name": "stdout",
     "output_type": "stream",
     "text": [
      "random_left_concept_MMIDB_Alpha_sanity_check_1000_with_sigma random_left_concept_MMIDB_Alpha_sanity_check_1000_with_sigma\n",
      "random_left_concept_MMIDB_Alpha_sanity_check_1000_with_sigma random_right_concept_MMIDB_Alpha_sanity_check_1000_with_sigma\n",
      "random_left_concept_MMIDB_Alpha_sanity_check_1000_with_sigma random_mmidb_alpha_lh\n",
      "random_left_concept_MMIDB_Alpha_sanity_check_1000_with_sigma random_mmidb_alpha_rh\n"
     ]
    }
   ],
   "source": [
    "for exp in experiments:\n",
    "    run_tcav(exp, layers)\n",
    "    print(exp.inputs_name, exp.concept_names[0])"
   ]
  },
  {
   "cell_type": "code",
   "execution_count": 32,
   "metadata": {},
   "outputs": [],
   "source": [
    "all_experimental_sets = []\n",
    "all_tcav_scores = []\n",
    "\n",
    "for i, exp in enumerate(experiments):\n",
    "    # where the files are saved\n",
    "    file_path = f\"/home/s194101/Bachelors-explainability/{exp.inputs_name}_{exp.concept_names[0].split('/')[-1]}.pkl\" if \"/\" in exp.concept_names[0] else f\"/home/s194101/Bachelors-explainability/{exp.inputs_name}_{exp.concept_names[0]}.pkl\"\n",
    "    with open(file_path, \"rb\") as f:\n",
    "        data = pickle.load(f)\n",
    "        all_tcav_scores.append(data[\"tcav_scores\"])\n",
    "        all_experimental_sets.append(data[\"experimental_sets\"])"
   ]
  },
  {
   "cell_type": "code",
   "execution_count": 33,
   "metadata": {},
   "outputs": [],
   "source": [
    "from plot_utils import assemble_scores, plot_tcav_scores\n",
    "import plotly.graph_objects as go\n",
    "import plotly.express as px\n",
    "import pandas as pd\n",
    "import numpy as np\n",
    "from scipy.stats import ttest_ind, mannwhitneyu\n",
    "\n",
    "\n",
    "\n",
    "def plot_tcav_scores_plotly(all_experimental_sets, all_tcav_scores, concept_names=None, title=\"\", score_type=\"sign_count\", alpha=0.05, only_significant=True,\n",
    "                     with_error=True, plt_name=\"plot\", file_type=\"svg\"):\n",
    "    tcav_score0 = next(iter(all_tcav_scores[0].values()))\n",
    "    layers = list(tcav_score0.keys())\n",
    "    scores_mean = {layer: [] for layer in layers}\n",
    "    scores_std = {layer: [] for layer in layers}\n",
    "    stars = {layer: [] for layer in layers}\n",
    "    concept_short_names = []\n",
    "    for experimental_sets, tcav_scores in zip(all_experimental_sets, all_tcav_scores):\n",
    "        concept_short_codes = [int(str(concept.id)[:5]) for concept in experimental_sets[0]]\n",
    "        concept_short_names_next = [concept.name[:-4] for concept in experimental_sets[0]]\n",
    "        concept_short_names.append(concept_short_names_next[0])\n",
    "\n",
    "        for layer in layers:\n",
    "            pos_scores = assemble_scores(tcav_scores, experimental_sets, 0, layer, score_type)\n",
    "            neg_scores = assemble_scores(tcav_scores, experimental_sets, 1, layer, score_type)\n",
    "            # t-test\n",
    "            _, pval = ttest_ind(pos_scores, neg_scores)\n",
    "            # mann whitney u rank test\n",
    "            _, pval_whit = mannwhitneyu(pos_scores, neg_scores)\n",
    "\n",
    "            print(f\"pval: {pval}, pval_whit: {pval_whit}\")\n",
    "            pval = pval_whit\n",
    "            # print(pval)\n",
    "            # Bonferroni correction\n",
    "            m = 2\n",
    "            alpha = alpha / m\n",
    "            # Get non-significant and significant scores\n",
    "            # not_significant = np.mean(pos_scores) < np.mean(neg_scores) or pval >= alpha\n",
    "            not_significant = pval >= alpha\n",
    "            stars[layer].append(~not_significant)\n",
    "            if not_significant and only_significant:\n",
    "                scores_mean[layer].append(0.0)\n",
    "                scores_std[layer].append(0.0)\n",
    "            else:\n",
    "                scores_mean[layer].append(np.mean(pos_scores))\n",
    "                scores_std[layer].append(np.std(pos_scores))\n",
    "\n",
    "    if not concept_names:\n",
    "        scores_mean_df = pd.DataFrame(data=scores_mean, index=concept_short_names)\n",
    "        scores_std_df = pd.DataFrame(data=scores_std, index=concept_short_names)\n",
    "    else:\n",
    "        scores_mean_df = pd.DataFrame(data=scores_mean, index=concept_names)\n",
    "        scores_std_df = pd.DataFrame(data=scores_std, index=concept_names)\n",
    "\n",
    "    stars = {layer: [\"*\" if star else \"\" for star in stars[layer]] for layer in layers}\n",
    "\n",
    "    fig = go.Figure()\n",
    "    for layer in layers:\n",
    "        fig.add_trace(go.Bar(\n",
    "            x=concept_short_names,\n",
    "            y=scores_mean[layer],\n",
    "            # error_y=dict(type='data', array=scores_std[layer]),\n",
    "            name=layer,\n",
    "            text=stars[layer],\n",
    "            # textposition='outside',\n",
    "            # text color\n",
    "        ))\n",
    "\n",
    "    fig.update_layout(\n",
    "        width=1200,\n",
    "        height=720,\n",
    "        # barmode='group',\n",
    "        title=title,\n",
    "        yaxis_title='TCAV score',\n",
    "        xaxis_title='Concept',\n",
    "        font=dict(\n",
    "            size=18,\n",
    "        ),\n",
    "\n",
    "    )\n",
    "    # print(stars)\n",
    "    # change x tick labels\n",
    "    fig.update_xaxes(tickvals=[i for i in range(len(concept_short_names))])\n",
    "    fig.update_xaxes(ticktext=concept_names)\n",
    "\n",
    "    # set y-axis to always go from 0 to 1\n",
    "    fig.update_yaxes(range=[0, 1])\n",
    "    # change tick angle\n",
    "    # fig.update_xaxes(tickangle=0)\n",
    "    # save figure\n",
    "    fig.write_image(f\"figures/{plt_name}_plotly.{file_type}\")\n",
    "    fig.show()\n",
    "\n",
    "\n"
   ]
  },
  {
   "cell_type": "code",
   "execution_count": 34,
   "metadata": {},
   "outputs": [
    {
     "name": "stdout",
     "output_type": "stream",
     "text": [
      "pval: 0.07796515567407286, pval_whit: 0.12011872864262427\n",
      "pval: 0.004086917161948512, pval_whit: 0.005894504181361975\n",
      "pval: 6.148943803721968e-26, pval_whit: 1.889850831898669e-21\n",
      "pval: 1.5599780463119083e-16, pval_whit: 2.6119866607507058e-14\n",
      "pval: 1.2526258651544202e-22, pval_whit: 2.2347902860245473e-18\n",
      "pval: 8.369652651044192e-104, pval_whit: 9.662243448279715e-37\n",
      "pval: 1.552586615147839e-129, pval_whit: 1.151884971453126e-39\n",
      "pval: 1.8677426772070243e-121, pval_whit: 8.8332699252075e-39\n",
      "pval: 6.144969430430456e-66, pval_whit: 2.2351404568528277e-35\n",
      "pval: 8.581653085474213e-141, pval_whit: 1.8469846026480235e-43\n",
      "pval: 1.3871398779915986e-16, pval_whit: 2.443864276577385e-15\n",
      "pval: 1.6640036028953774e-15, pval_whit: 2.1512931757835593e-16\n",
      "pval: 0.5755937418941943, pval_whit: 0.4801238474269688\n",
      "pval: 0.15886959556739644, pval_whit: 0.15875743750830362\n",
      "pval: 4.7738117806692215e-14, pval_whit: 1.76418326209705e-12\n",
      "pval: 7.09651651281784e-57, pval_whit: 2.7269720270950447e-31\n",
      "pval: 1.6906203374323062e-44, pval_whit: 8.342002226974928e-27\n",
      "pval: 7.694492032106429e-32, pval_whit: 3.7113601485571124e-23\n",
      "pval: 2.1770144118367922e-26, pval_whit: 1.2899891963946712e-20\n",
      "pval: 8.369663776978415e-46, pval_whit: 1.5746079410426747e-29\n"
     ]
    },
    {
     "data": {
      "application/vnd.plotly.v1+json": {
       "config": {
        "plotlyServerURL": "https://plot.ly"
       },
       "data": [
        {
         "name": "encoder",
         "text": [
          "",
          "*",
          "*",
          "*"
         ],
         "type": "bar",
         "x": [
          "random_left_concept_MMIDB_Alpha_sanity_check_1000_with_sigma",
          "random_right_concept_MMIDB_Alpha_sanity_check_1000_with_sigma",
          "random_mmidb_alpha_lh",
          "random_mmidb_alpha_rh"
         ],
         "y": [
          0.5481000542640686,
          0.04389999806880951,
          0.28139999508857727,
          0.1072000041604042
         ]
        },
        {
         "name": "enc_augment",
         "text": [
          "*",
          "*",
          "*",
          "*"
         ],
         "type": "bar",
         "x": [
          "random_left_concept_MMIDB_Alpha_sanity_check_1000_with_sigma",
          "random_right_concept_MMIDB_Alpha_sanity_check_1000_with_sigma",
          "random_mmidb_alpha_lh",
          "random_mmidb_alpha_rh"
         ],
         "y": [
          0.583899974822998,
          0.02239999920129776,
          0.2728999853134155,
          0.1274999976158142
         ]
        },
        {
         "name": "summarizer",
         "text": [
          "*",
          "*",
          "",
          "*"
         ],
         "type": "bar",
         "x": [
          "random_left_concept_MMIDB_Alpha_sanity_check_1000_with_sigma",
          "random_right_concept_MMIDB_Alpha_sanity_check_1000_with_sigma",
          "random_mmidb_alpha_lh",
          "random_mmidb_alpha_rh"
         ],
         "y": [
          0.7748000621795654,
          0.026799999177455902,
          0.48420006036758423,
          0.20080000162124634
         ]
        },
        {
         "name": "extended_classifier",
         "text": [
          "*",
          "*",
          "",
          "*"
         ],
         "type": "bar",
         "x": [
          "random_left_concept_MMIDB_Alpha_sanity_check_1000_with_sigma",
          "random_right_concept_MMIDB_Alpha_sanity_check_1000_with_sigma",
          "random_mmidb_alpha_lh",
          "random_mmidb_alpha_rh"
         ],
         "y": [
          0.7699999809265137,
          0.05999999865889549,
          0.44999998807907104,
          0.17000000178813934
         ]
        },
        {
         "name": "clf",
         "text": [
          "*",
          "*",
          "*",
          "*"
         ],
         "type": "bar",
         "x": [
          "random_left_concept_MMIDB_Alpha_sanity_check_1000_with_sigma",
          "random_right_concept_MMIDB_Alpha_sanity_check_1000_with_sigma",
          "random_mmidb_alpha_lh",
          "random_mmidb_alpha_rh"
         ],
         "y": [
          0.8100000023841858,
          0.009999999776482582,
          0.25,
          0.10000000149011612
         ]
        }
       ],
       "layout": {
        "font": {
         "size": 18
        },
        "height": 720,
        "template": {
         "data": {
          "bar": [
           {
            "error_x": {
             "color": "#2a3f5f"
            },
            "error_y": {
             "color": "#2a3f5f"
            },
            "marker": {
             "line": {
              "color": "#E5ECF6",
              "width": 0.5
             },
             "pattern": {
              "fillmode": "overlay",
              "size": 10,
              "solidity": 0.2
             }
            },
            "type": "bar"
           }
          ],
          "barpolar": [
           {
            "marker": {
             "line": {
              "color": "#E5ECF6",
              "width": 0.5
             },
             "pattern": {
              "fillmode": "overlay",
              "size": 10,
              "solidity": 0.2
             }
            },
            "type": "barpolar"
           }
          ],
          "carpet": [
           {
            "aaxis": {
             "endlinecolor": "#2a3f5f",
             "gridcolor": "white",
             "linecolor": "white",
             "minorgridcolor": "white",
             "startlinecolor": "#2a3f5f"
            },
            "baxis": {
             "endlinecolor": "#2a3f5f",
             "gridcolor": "white",
             "linecolor": "white",
             "minorgridcolor": "white",
             "startlinecolor": "#2a3f5f"
            },
            "type": "carpet"
           }
          ],
          "choropleth": [
           {
            "colorbar": {
             "outlinewidth": 0,
             "ticks": ""
            },
            "type": "choropleth"
           }
          ],
          "contour": [
           {
            "colorbar": {
             "outlinewidth": 0,
             "ticks": ""
            },
            "colorscale": [
             [
              0,
              "#0d0887"
             ],
             [
              0.1111111111111111,
              "#46039f"
             ],
             [
              0.2222222222222222,
              "#7201a8"
             ],
             [
              0.3333333333333333,
              "#9c179e"
             ],
             [
              0.4444444444444444,
              "#bd3786"
             ],
             [
              0.5555555555555556,
              "#d8576b"
             ],
             [
              0.6666666666666666,
              "#ed7953"
             ],
             [
              0.7777777777777778,
              "#fb9f3a"
             ],
             [
              0.8888888888888888,
              "#fdca26"
             ],
             [
              1,
              "#f0f921"
             ]
            ],
            "type": "contour"
           }
          ],
          "contourcarpet": [
           {
            "colorbar": {
             "outlinewidth": 0,
             "ticks": ""
            },
            "type": "contourcarpet"
           }
          ],
          "heatmap": [
           {
            "colorbar": {
             "outlinewidth": 0,
             "ticks": ""
            },
            "colorscale": [
             [
              0,
              "#0d0887"
             ],
             [
              0.1111111111111111,
              "#46039f"
             ],
             [
              0.2222222222222222,
              "#7201a8"
             ],
             [
              0.3333333333333333,
              "#9c179e"
             ],
             [
              0.4444444444444444,
              "#bd3786"
             ],
             [
              0.5555555555555556,
              "#d8576b"
             ],
             [
              0.6666666666666666,
              "#ed7953"
             ],
             [
              0.7777777777777778,
              "#fb9f3a"
             ],
             [
              0.8888888888888888,
              "#fdca26"
             ],
             [
              1,
              "#f0f921"
             ]
            ],
            "type": "heatmap"
           }
          ],
          "heatmapgl": [
           {
            "colorbar": {
             "outlinewidth": 0,
             "ticks": ""
            },
            "colorscale": [
             [
              0,
              "#0d0887"
             ],
             [
              0.1111111111111111,
              "#46039f"
             ],
             [
              0.2222222222222222,
              "#7201a8"
             ],
             [
              0.3333333333333333,
              "#9c179e"
             ],
             [
              0.4444444444444444,
              "#bd3786"
             ],
             [
              0.5555555555555556,
              "#d8576b"
             ],
             [
              0.6666666666666666,
              "#ed7953"
             ],
             [
              0.7777777777777778,
              "#fb9f3a"
             ],
             [
              0.8888888888888888,
              "#fdca26"
             ],
             [
              1,
              "#f0f921"
             ]
            ],
            "type": "heatmapgl"
           }
          ],
          "histogram": [
           {
            "marker": {
             "pattern": {
              "fillmode": "overlay",
              "size": 10,
              "solidity": 0.2
             }
            },
            "type": "histogram"
           }
          ],
          "histogram2d": [
           {
            "colorbar": {
             "outlinewidth": 0,
             "ticks": ""
            },
            "colorscale": [
             [
              0,
              "#0d0887"
             ],
             [
              0.1111111111111111,
              "#46039f"
             ],
             [
              0.2222222222222222,
              "#7201a8"
             ],
             [
              0.3333333333333333,
              "#9c179e"
             ],
             [
              0.4444444444444444,
              "#bd3786"
             ],
             [
              0.5555555555555556,
              "#d8576b"
             ],
             [
              0.6666666666666666,
              "#ed7953"
             ],
             [
              0.7777777777777778,
              "#fb9f3a"
             ],
             [
              0.8888888888888888,
              "#fdca26"
             ],
             [
              1,
              "#f0f921"
             ]
            ],
            "type": "histogram2d"
           }
          ],
          "histogram2dcontour": [
           {
            "colorbar": {
             "outlinewidth": 0,
             "ticks": ""
            },
            "colorscale": [
             [
              0,
              "#0d0887"
             ],
             [
              0.1111111111111111,
              "#46039f"
             ],
             [
              0.2222222222222222,
              "#7201a8"
             ],
             [
              0.3333333333333333,
              "#9c179e"
             ],
             [
              0.4444444444444444,
              "#bd3786"
             ],
             [
              0.5555555555555556,
              "#d8576b"
             ],
             [
              0.6666666666666666,
              "#ed7953"
             ],
             [
              0.7777777777777778,
              "#fb9f3a"
             ],
             [
              0.8888888888888888,
              "#fdca26"
             ],
             [
              1,
              "#f0f921"
             ]
            ],
            "type": "histogram2dcontour"
           }
          ],
          "mesh3d": [
           {
            "colorbar": {
             "outlinewidth": 0,
             "ticks": ""
            },
            "type": "mesh3d"
           }
          ],
          "parcoords": [
           {
            "line": {
             "colorbar": {
              "outlinewidth": 0,
              "ticks": ""
             }
            },
            "type": "parcoords"
           }
          ],
          "pie": [
           {
            "automargin": true,
            "type": "pie"
           }
          ],
          "scatter": [
           {
            "fillpattern": {
             "fillmode": "overlay",
             "size": 10,
             "solidity": 0.2
            },
            "type": "scatter"
           }
          ],
          "scatter3d": [
           {
            "line": {
             "colorbar": {
              "outlinewidth": 0,
              "ticks": ""
             }
            },
            "marker": {
             "colorbar": {
              "outlinewidth": 0,
              "ticks": ""
             }
            },
            "type": "scatter3d"
           }
          ],
          "scattercarpet": [
           {
            "marker": {
             "colorbar": {
              "outlinewidth": 0,
              "ticks": ""
             }
            },
            "type": "scattercarpet"
           }
          ],
          "scattergeo": [
           {
            "marker": {
             "colorbar": {
              "outlinewidth": 0,
              "ticks": ""
             }
            },
            "type": "scattergeo"
           }
          ],
          "scattergl": [
           {
            "marker": {
             "colorbar": {
              "outlinewidth": 0,
              "ticks": ""
             }
            },
            "type": "scattergl"
           }
          ],
          "scattermapbox": [
           {
            "marker": {
             "colorbar": {
              "outlinewidth": 0,
              "ticks": ""
             }
            },
            "type": "scattermapbox"
           }
          ],
          "scatterpolar": [
           {
            "marker": {
             "colorbar": {
              "outlinewidth": 0,
              "ticks": ""
             }
            },
            "type": "scatterpolar"
           }
          ],
          "scatterpolargl": [
           {
            "marker": {
             "colorbar": {
              "outlinewidth": 0,
              "ticks": ""
             }
            },
            "type": "scatterpolargl"
           }
          ],
          "scatterternary": [
           {
            "marker": {
             "colorbar": {
              "outlinewidth": 0,
              "ticks": ""
             }
            },
            "type": "scatterternary"
           }
          ],
          "surface": [
           {
            "colorbar": {
             "outlinewidth": 0,
             "ticks": ""
            },
            "colorscale": [
             [
              0,
              "#0d0887"
             ],
             [
              0.1111111111111111,
              "#46039f"
             ],
             [
              0.2222222222222222,
              "#7201a8"
             ],
             [
              0.3333333333333333,
              "#9c179e"
             ],
             [
              0.4444444444444444,
              "#bd3786"
             ],
             [
              0.5555555555555556,
              "#d8576b"
             ],
             [
              0.6666666666666666,
              "#ed7953"
             ],
             [
              0.7777777777777778,
              "#fb9f3a"
             ],
             [
              0.8888888888888888,
              "#fdca26"
             ],
             [
              1,
              "#f0f921"
             ]
            ],
            "type": "surface"
           }
          ],
          "table": [
           {
            "cells": {
             "fill": {
              "color": "#EBF0F8"
             },
             "line": {
              "color": "white"
             }
            },
            "header": {
             "fill": {
              "color": "#C8D4E3"
             },
             "line": {
              "color": "white"
             }
            },
            "type": "table"
           }
          ]
         },
         "layout": {
          "annotationdefaults": {
           "arrowcolor": "#2a3f5f",
           "arrowhead": 0,
           "arrowwidth": 1
          },
          "autotypenumbers": "strict",
          "coloraxis": {
           "colorbar": {
            "outlinewidth": 0,
            "ticks": ""
           }
          },
          "colorscale": {
           "diverging": [
            [
             0,
             "#8e0152"
            ],
            [
             0.1,
             "#c51b7d"
            ],
            [
             0.2,
             "#de77ae"
            ],
            [
             0.3,
             "#f1b6da"
            ],
            [
             0.4,
             "#fde0ef"
            ],
            [
             0.5,
             "#f7f7f7"
            ],
            [
             0.6,
             "#e6f5d0"
            ],
            [
             0.7,
             "#b8e186"
            ],
            [
             0.8,
             "#7fbc41"
            ],
            [
             0.9,
             "#4d9221"
            ],
            [
             1,
             "#276419"
            ]
           ],
           "sequential": [
            [
             0,
             "#0d0887"
            ],
            [
             0.1111111111111111,
             "#46039f"
            ],
            [
             0.2222222222222222,
             "#7201a8"
            ],
            [
             0.3333333333333333,
             "#9c179e"
            ],
            [
             0.4444444444444444,
             "#bd3786"
            ],
            [
             0.5555555555555556,
             "#d8576b"
            ],
            [
             0.6666666666666666,
             "#ed7953"
            ],
            [
             0.7777777777777778,
             "#fb9f3a"
            ],
            [
             0.8888888888888888,
             "#fdca26"
            ],
            [
             1,
             "#f0f921"
            ]
           ],
           "sequentialminus": [
            [
             0,
             "#0d0887"
            ],
            [
             0.1111111111111111,
             "#46039f"
            ],
            [
             0.2222222222222222,
             "#7201a8"
            ],
            [
             0.3333333333333333,
             "#9c179e"
            ],
            [
             0.4444444444444444,
             "#bd3786"
            ],
            [
             0.5555555555555556,
             "#d8576b"
            ],
            [
             0.6666666666666666,
             "#ed7953"
            ],
            [
             0.7777777777777778,
             "#fb9f3a"
            ],
            [
             0.8888888888888888,
             "#fdca26"
            ],
            [
             1,
             "#f0f921"
            ]
           ]
          },
          "colorway": [
           "#636efa",
           "#EF553B",
           "#00cc96",
           "#ab63fa",
           "#FFA15A",
           "#19d3f3",
           "#FF6692",
           "#B6E880",
           "#FF97FF",
           "#FECB52"
          ],
          "font": {
           "color": "#2a3f5f"
          },
          "geo": {
           "bgcolor": "white",
           "lakecolor": "white",
           "landcolor": "#E5ECF6",
           "showlakes": true,
           "showland": true,
           "subunitcolor": "white"
          },
          "hoverlabel": {
           "align": "left"
          },
          "hovermode": "closest",
          "mapbox": {
           "style": "light"
          },
          "paper_bgcolor": "white",
          "plot_bgcolor": "#E5ECF6",
          "polar": {
           "angularaxis": {
            "gridcolor": "white",
            "linecolor": "white",
            "ticks": ""
           },
           "bgcolor": "#E5ECF6",
           "radialaxis": {
            "gridcolor": "white",
            "linecolor": "white",
            "ticks": ""
           }
          },
          "scene": {
           "xaxis": {
            "backgroundcolor": "#E5ECF6",
            "gridcolor": "white",
            "gridwidth": 2,
            "linecolor": "white",
            "showbackground": true,
            "ticks": "",
            "zerolinecolor": "white"
           },
           "yaxis": {
            "backgroundcolor": "#E5ECF6",
            "gridcolor": "white",
            "gridwidth": 2,
            "linecolor": "white",
            "showbackground": true,
            "ticks": "",
            "zerolinecolor": "white"
           },
           "zaxis": {
            "backgroundcolor": "#E5ECF6",
            "gridcolor": "white",
            "gridwidth": 2,
            "linecolor": "white",
            "showbackground": true,
            "ticks": "",
            "zerolinecolor": "white"
           }
          },
          "shapedefaults": {
           "line": {
            "color": "#2a3f5f"
           }
          },
          "ternary": {
           "aaxis": {
            "gridcolor": "white",
            "linecolor": "white",
            "ticks": ""
           },
           "baxis": {
            "gridcolor": "white",
            "linecolor": "white",
            "ticks": ""
           },
           "bgcolor": "#E5ECF6",
           "caxis": {
            "gridcolor": "white",
            "linecolor": "white",
            "ticks": ""
           }
          },
          "title": {
           "x": 0.05
          },
          "xaxis": {
           "automargin": true,
           "gridcolor": "white",
           "linecolor": "white",
           "ticks": "",
           "title": {
            "standoff": 15
           },
           "zerolinecolor": "white",
           "zerolinewidth": 2
          },
          "yaxis": {
           "automargin": true,
           "gridcolor": "white",
           "linecolor": "white",
           "ticks": "",
           "title": {
            "standoff": 15
           },
           "zerolinecolor": "white",
           "zerolinewidth": 2
          }
         }
        },
        "title": {
         "text": "Left Fist Classifcation"
        },
        "width": 1200,
        "xaxis": {
         "ticktext": [
          "Left fist movement",
          "Right fist movement",
          "Alpha left hemisphere",
          "Alpha right hemisphere"
         ],
         "tickvals": [
          0,
          1,
          2,
          3
         ],
         "title": {
          "text": "Concept"
         }
        },
        "yaxis": {
         "range": [
          0,
          1
         ],
         "title": {
          "text": "TCAV score"
         }
        }
       }
      },
      "text/html": [
       "<div>                            <div id=\"ff44b581-e71e-43d5-9902-3f2cfb79bae8\" class=\"plotly-graph-div\" style=\"height:720px; width:1200px;\"></div>            <script type=\"text/javascript\">                require([\"plotly\"], function(Plotly) {                    window.PLOTLYENV=window.PLOTLYENV || {};                                    if (document.getElementById(\"ff44b581-e71e-43d5-9902-3f2cfb79bae8\")) {                    Plotly.newPlot(                        \"ff44b581-e71e-43d5-9902-3f2cfb79bae8\",                        [{\"name\":\"encoder\",\"text\":[\"\",\"*\",\"*\",\"*\"],\"x\":[\"random_left_concept_MMIDB_Alpha_sanity_check_1000_with_sigma\",\"random_right_concept_MMIDB_Alpha_sanity_check_1000_with_sigma\",\"random_mmidb_alpha_lh\",\"random_mmidb_alpha_rh\"],\"y\":[0.5481000542640686,0.04389999806880951,0.28139999508857727,0.1072000041604042],\"type\":\"bar\"},{\"name\":\"enc_augment\",\"text\":[\"*\",\"*\",\"*\",\"*\"],\"x\":[\"random_left_concept_MMIDB_Alpha_sanity_check_1000_with_sigma\",\"random_right_concept_MMIDB_Alpha_sanity_check_1000_with_sigma\",\"random_mmidb_alpha_lh\",\"random_mmidb_alpha_rh\"],\"y\":[0.583899974822998,0.02239999920129776,0.2728999853134155,0.1274999976158142],\"type\":\"bar\"},{\"name\":\"summarizer\",\"text\":[\"*\",\"*\",\"\",\"*\"],\"x\":[\"random_left_concept_MMIDB_Alpha_sanity_check_1000_with_sigma\",\"random_right_concept_MMIDB_Alpha_sanity_check_1000_with_sigma\",\"random_mmidb_alpha_lh\",\"random_mmidb_alpha_rh\"],\"y\":[0.7748000621795654,0.026799999177455902,0.48420006036758423,0.20080000162124634],\"type\":\"bar\"},{\"name\":\"extended_classifier\",\"text\":[\"*\",\"*\",\"\",\"*\"],\"x\":[\"random_left_concept_MMIDB_Alpha_sanity_check_1000_with_sigma\",\"random_right_concept_MMIDB_Alpha_sanity_check_1000_with_sigma\",\"random_mmidb_alpha_lh\",\"random_mmidb_alpha_rh\"],\"y\":[0.7699999809265137,0.05999999865889549,0.44999998807907104,0.17000000178813934],\"type\":\"bar\"},{\"name\":\"clf\",\"text\":[\"*\",\"*\",\"*\",\"*\"],\"x\":[\"random_left_concept_MMIDB_Alpha_sanity_check_1000_with_sigma\",\"random_right_concept_MMIDB_Alpha_sanity_check_1000_with_sigma\",\"random_mmidb_alpha_lh\",\"random_mmidb_alpha_rh\"],\"y\":[0.8100000023841858,0.009999999776482582,0.25,0.10000000149011612],\"type\":\"bar\"}],                        {\"template\":{\"data\":{\"histogram2dcontour\":[{\"type\":\"histogram2dcontour\",\"colorbar\":{\"outlinewidth\":0,\"ticks\":\"\"},\"colorscale\":[[0.0,\"#0d0887\"],[0.1111111111111111,\"#46039f\"],[0.2222222222222222,\"#7201a8\"],[0.3333333333333333,\"#9c179e\"],[0.4444444444444444,\"#bd3786\"],[0.5555555555555556,\"#d8576b\"],[0.6666666666666666,\"#ed7953\"],[0.7777777777777778,\"#fb9f3a\"],[0.8888888888888888,\"#fdca26\"],[1.0,\"#f0f921\"]]}],\"choropleth\":[{\"type\":\"choropleth\",\"colorbar\":{\"outlinewidth\":0,\"ticks\":\"\"}}],\"histogram2d\":[{\"type\":\"histogram2d\",\"colorbar\":{\"outlinewidth\":0,\"ticks\":\"\"},\"colorscale\":[[0.0,\"#0d0887\"],[0.1111111111111111,\"#46039f\"],[0.2222222222222222,\"#7201a8\"],[0.3333333333333333,\"#9c179e\"],[0.4444444444444444,\"#bd3786\"],[0.5555555555555556,\"#d8576b\"],[0.6666666666666666,\"#ed7953\"],[0.7777777777777778,\"#fb9f3a\"],[0.8888888888888888,\"#fdca26\"],[1.0,\"#f0f921\"]]}],\"heatmap\":[{\"type\":\"heatmap\",\"colorbar\":{\"outlinewidth\":0,\"ticks\":\"\"},\"colorscale\":[[0.0,\"#0d0887\"],[0.1111111111111111,\"#46039f\"],[0.2222222222222222,\"#7201a8\"],[0.3333333333333333,\"#9c179e\"],[0.4444444444444444,\"#bd3786\"],[0.5555555555555556,\"#d8576b\"],[0.6666666666666666,\"#ed7953\"],[0.7777777777777778,\"#fb9f3a\"],[0.8888888888888888,\"#fdca26\"],[1.0,\"#f0f921\"]]}],\"heatmapgl\":[{\"type\":\"heatmapgl\",\"colorbar\":{\"outlinewidth\":0,\"ticks\":\"\"},\"colorscale\":[[0.0,\"#0d0887\"],[0.1111111111111111,\"#46039f\"],[0.2222222222222222,\"#7201a8\"],[0.3333333333333333,\"#9c179e\"],[0.4444444444444444,\"#bd3786\"],[0.5555555555555556,\"#d8576b\"],[0.6666666666666666,\"#ed7953\"],[0.7777777777777778,\"#fb9f3a\"],[0.8888888888888888,\"#fdca26\"],[1.0,\"#f0f921\"]]}],\"contourcarpet\":[{\"type\":\"contourcarpet\",\"colorbar\":{\"outlinewidth\":0,\"ticks\":\"\"}}],\"contour\":[{\"type\":\"contour\",\"colorbar\":{\"outlinewidth\":0,\"ticks\":\"\"},\"colorscale\":[[0.0,\"#0d0887\"],[0.1111111111111111,\"#46039f\"],[0.2222222222222222,\"#7201a8\"],[0.3333333333333333,\"#9c179e\"],[0.4444444444444444,\"#bd3786\"],[0.5555555555555556,\"#d8576b\"],[0.6666666666666666,\"#ed7953\"],[0.7777777777777778,\"#fb9f3a\"],[0.8888888888888888,\"#fdca26\"],[1.0,\"#f0f921\"]]}],\"surface\":[{\"type\":\"surface\",\"colorbar\":{\"outlinewidth\":0,\"ticks\":\"\"},\"colorscale\":[[0.0,\"#0d0887\"],[0.1111111111111111,\"#46039f\"],[0.2222222222222222,\"#7201a8\"],[0.3333333333333333,\"#9c179e\"],[0.4444444444444444,\"#bd3786\"],[0.5555555555555556,\"#d8576b\"],[0.6666666666666666,\"#ed7953\"],[0.7777777777777778,\"#fb9f3a\"],[0.8888888888888888,\"#fdca26\"],[1.0,\"#f0f921\"]]}],\"mesh3d\":[{\"type\":\"mesh3d\",\"colorbar\":{\"outlinewidth\":0,\"ticks\":\"\"}}],\"scatter\":[{\"fillpattern\":{\"fillmode\":\"overlay\",\"size\":10,\"solidity\":0.2},\"type\":\"scatter\"}],\"parcoords\":[{\"type\":\"parcoords\",\"line\":{\"colorbar\":{\"outlinewidth\":0,\"ticks\":\"\"}}}],\"scatterpolargl\":[{\"type\":\"scatterpolargl\",\"marker\":{\"colorbar\":{\"outlinewidth\":0,\"ticks\":\"\"}}}],\"bar\":[{\"error_x\":{\"color\":\"#2a3f5f\"},\"error_y\":{\"color\":\"#2a3f5f\"},\"marker\":{\"line\":{\"color\":\"#E5ECF6\",\"width\":0.5},\"pattern\":{\"fillmode\":\"overlay\",\"size\":10,\"solidity\":0.2}},\"type\":\"bar\"}],\"scattergeo\":[{\"type\":\"scattergeo\",\"marker\":{\"colorbar\":{\"outlinewidth\":0,\"ticks\":\"\"}}}],\"scatterpolar\":[{\"type\":\"scatterpolar\",\"marker\":{\"colorbar\":{\"outlinewidth\":0,\"ticks\":\"\"}}}],\"histogram\":[{\"marker\":{\"pattern\":{\"fillmode\":\"overlay\",\"size\":10,\"solidity\":0.2}},\"type\":\"histogram\"}],\"scattergl\":[{\"type\":\"scattergl\",\"marker\":{\"colorbar\":{\"outlinewidth\":0,\"ticks\":\"\"}}}],\"scatter3d\":[{\"type\":\"scatter3d\",\"line\":{\"colorbar\":{\"outlinewidth\":0,\"ticks\":\"\"}},\"marker\":{\"colorbar\":{\"outlinewidth\":0,\"ticks\":\"\"}}}],\"scattermapbox\":[{\"type\":\"scattermapbox\",\"marker\":{\"colorbar\":{\"outlinewidth\":0,\"ticks\":\"\"}}}],\"scatterternary\":[{\"type\":\"scatterternary\",\"marker\":{\"colorbar\":{\"outlinewidth\":0,\"ticks\":\"\"}}}],\"scattercarpet\":[{\"type\":\"scattercarpet\",\"marker\":{\"colorbar\":{\"outlinewidth\":0,\"ticks\":\"\"}}}],\"carpet\":[{\"aaxis\":{\"endlinecolor\":\"#2a3f5f\",\"gridcolor\":\"white\",\"linecolor\":\"white\",\"minorgridcolor\":\"white\",\"startlinecolor\":\"#2a3f5f\"},\"baxis\":{\"endlinecolor\":\"#2a3f5f\",\"gridcolor\":\"white\",\"linecolor\":\"white\",\"minorgridcolor\":\"white\",\"startlinecolor\":\"#2a3f5f\"},\"type\":\"carpet\"}],\"table\":[{\"cells\":{\"fill\":{\"color\":\"#EBF0F8\"},\"line\":{\"color\":\"white\"}},\"header\":{\"fill\":{\"color\":\"#C8D4E3\"},\"line\":{\"color\":\"white\"}},\"type\":\"table\"}],\"barpolar\":[{\"marker\":{\"line\":{\"color\":\"#E5ECF6\",\"width\":0.5},\"pattern\":{\"fillmode\":\"overlay\",\"size\":10,\"solidity\":0.2}},\"type\":\"barpolar\"}],\"pie\":[{\"automargin\":true,\"type\":\"pie\"}]},\"layout\":{\"autotypenumbers\":\"strict\",\"colorway\":[\"#636efa\",\"#EF553B\",\"#00cc96\",\"#ab63fa\",\"#FFA15A\",\"#19d3f3\",\"#FF6692\",\"#B6E880\",\"#FF97FF\",\"#FECB52\"],\"font\":{\"color\":\"#2a3f5f\"},\"hovermode\":\"closest\",\"hoverlabel\":{\"align\":\"left\"},\"paper_bgcolor\":\"white\",\"plot_bgcolor\":\"#E5ECF6\",\"polar\":{\"bgcolor\":\"#E5ECF6\",\"angularaxis\":{\"gridcolor\":\"white\",\"linecolor\":\"white\",\"ticks\":\"\"},\"radialaxis\":{\"gridcolor\":\"white\",\"linecolor\":\"white\",\"ticks\":\"\"}},\"ternary\":{\"bgcolor\":\"#E5ECF6\",\"aaxis\":{\"gridcolor\":\"white\",\"linecolor\":\"white\",\"ticks\":\"\"},\"baxis\":{\"gridcolor\":\"white\",\"linecolor\":\"white\",\"ticks\":\"\"},\"caxis\":{\"gridcolor\":\"white\",\"linecolor\":\"white\",\"ticks\":\"\"}},\"coloraxis\":{\"colorbar\":{\"outlinewidth\":0,\"ticks\":\"\"}},\"colorscale\":{\"sequential\":[[0.0,\"#0d0887\"],[0.1111111111111111,\"#46039f\"],[0.2222222222222222,\"#7201a8\"],[0.3333333333333333,\"#9c179e\"],[0.4444444444444444,\"#bd3786\"],[0.5555555555555556,\"#d8576b\"],[0.6666666666666666,\"#ed7953\"],[0.7777777777777778,\"#fb9f3a\"],[0.8888888888888888,\"#fdca26\"],[1.0,\"#f0f921\"]],\"sequentialminus\":[[0.0,\"#0d0887\"],[0.1111111111111111,\"#46039f\"],[0.2222222222222222,\"#7201a8\"],[0.3333333333333333,\"#9c179e\"],[0.4444444444444444,\"#bd3786\"],[0.5555555555555556,\"#d8576b\"],[0.6666666666666666,\"#ed7953\"],[0.7777777777777778,\"#fb9f3a\"],[0.8888888888888888,\"#fdca26\"],[1.0,\"#f0f921\"]],\"diverging\":[[0,\"#8e0152\"],[0.1,\"#c51b7d\"],[0.2,\"#de77ae\"],[0.3,\"#f1b6da\"],[0.4,\"#fde0ef\"],[0.5,\"#f7f7f7\"],[0.6,\"#e6f5d0\"],[0.7,\"#b8e186\"],[0.8,\"#7fbc41\"],[0.9,\"#4d9221\"],[1,\"#276419\"]]},\"xaxis\":{\"gridcolor\":\"white\",\"linecolor\":\"white\",\"ticks\":\"\",\"title\":{\"standoff\":15},\"zerolinecolor\":\"white\",\"automargin\":true,\"zerolinewidth\":2},\"yaxis\":{\"gridcolor\":\"white\",\"linecolor\":\"white\",\"ticks\":\"\",\"title\":{\"standoff\":15},\"zerolinecolor\":\"white\",\"automargin\":true,\"zerolinewidth\":2},\"scene\":{\"xaxis\":{\"backgroundcolor\":\"#E5ECF6\",\"gridcolor\":\"white\",\"linecolor\":\"white\",\"showbackground\":true,\"ticks\":\"\",\"zerolinecolor\":\"white\",\"gridwidth\":2},\"yaxis\":{\"backgroundcolor\":\"#E5ECF6\",\"gridcolor\":\"white\",\"linecolor\":\"white\",\"showbackground\":true,\"ticks\":\"\",\"zerolinecolor\":\"white\",\"gridwidth\":2},\"zaxis\":{\"backgroundcolor\":\"#E5ECF6\",\"gridcolor\":\"white\",\"linecolor\":\"white\",\"showbackground\":true,\"ticks\":\"\",\"zerolinecolor\":\"white\",\"gridwidth\":2}},\"shapedefaults\":{\"line\":{\"color\":\"#2a3f5f\"}},\"annotationdefaults\":{\"arrowcolor\":\"#2a3f5f\",\"arrowhead\":0,\"arrowwidth\":1},\"geo\":{\"bgcolor\":\"white\",\"landcolor\":\"#E5ECF6\",\"subunitcolor\":\"white\",\"showland\":true,\"showlakes\":true,\"lakecolor\":\"white\"},\"title\":{\"x\":0.05},\"mapbox\":{\"style\":\"light\"}}},\"font\":{\"size\":18},\"width\":1200,\"height\":720,\"title\":{\"text\":\"Left Fist Classifcation\"},\"yaxis\":{\"title\":{\"text\":\"TCAV score\"},\"range\":[0,1]},\"xaxis\":{\"title\":{\"text\":\"Concept\"},\"tickvals\":[0,1,2,3],\"ticktext\":[\"Left fist movement\",\"Right fist movement\",\"Alpha left hemisphere\",\"Alpha right hemisphere\"]}},                        {\"responsive\": true}                    ).then(function(){\n",
       "                            \n",
       "var gd = document.getElementById('ff44b581-e71e-43d5-9902-3f2cfb79bae8');\n",
       "var x = new MutationObserver(function (mutations, observer) {{\n",
       "        var display = window.getComputedStyle(gd).display;\n",
       "        if (!display || display === 'none') {{\n",
       "            console.log([gd, 'removed!']);\n",
       "            Plotly.purge(gd);\n",
       "            observer.disconnect();\n",
       "        }}\n",
       "}});\n",
       "\n",
       "// Listen for the removal of the full notebook cells\n",
       "var notebookContainer = gd.closest('#notebook-container');\n",
       "if (notebookContainer) {{\n",
       "    x.observe(notebookContainer, {childList: true});\n",
       "}}\n",
       "\n",
       "// Listen for the clearing of the current output cell\n",
       "var outputEl = gd.closest('.output');\n",
       "if (outputEl) {{\n",
       "    x.observe(outputEl, {childList: true});\n",
       "}}\n",
       "\n",
       "                        })                };                });            </script>        </div>"
      ]
     },
     "metadata": {},
     "output_type": "display_data"
    }
   ],
   "source": [
    "concept_names = [\"Left fist movement\", \"Right fist movement\", \"Alpha left hemisphere\", \"Alpha right hemisphere\"]\n",
    "# concept_names = [\"Left fist movement\", \"Right fist movement\", \"Gamma left hemisphere\", \"Gamma right hemisphere\"]\n",
    "# concept_names = [\"Premotor Cortex-lh\", \"Premotor Cortex-rh\", \"Somatosensory and Motor Cortex-lh\", \"Somatosensory and Motor Cortex-rh\"]\n",
    "# concept_names = [\"Early Visual Cortex-lh\", \"Early Visual Cortex-rh\", \"Primary Visual Cortex-lh\", \"Primary Visual Cortex-rh\"]\n",
    "title = \"Left Fist Classifcation\"\n",
    "# plt_name = \"left_fist_prediction_alpha_vs_random_tuh_alpha\"\n",
    "plt_name = \"left_fist_prediction_alpha_baseline_with_sigma_vs_random_tuh_alpha\"\n",
    "# plt_name = \"left_fist_prediction_anatomical_alpha_premotor_somatosensory_vs_random_mmidb_alpha_no_baseline\"\n",
    "# plt_name = \"left_fist_prediction_anatomical_alpha_visual\"\n",
    "\n",
    "# scores_mean_df, scores_std_df = plot_tcav_scores(all_experimental_sets, all_tcav_scores, concept_names=concept_names, title=title, score_type=\"sign_count\", alpha=0.05, only_significant=False, with_error=False, plt_name=plt_name, file_type=\"png\")\n",
    "# scores_mean_df\n",
    "# scores_std_df   \n",
    "\n",
    "plot_tcav_scores_plotly(all_experimental_sets, all_tcav_scores, concept_names=concept_names, title=title, score_type=\"sign_count\", alpha=0.05, only_significant=False, with_error=False, plt_name=plt_name, file_type=\"png\")"
   ]
  },
  {
   "cell_type": "code",
   "execution_count": 35,
   "metadata": {},
   "outputs": [
    {
     "data": {
      "text/plain": [
       "array([0.  , 0.03, 0.  , 0.  , 0.  , 0.  , 0.  , 0.  , 0.  , 0.04, 0.11,\n",
       "       0.  , 0.  , 0.  , 0.  , 0.48, 0.  , 0.06, 0.  , 0.  , 0.06, 0.  ,\n",
       "       0.  , 0.03, 0.02, 0.  , 0.  , 0.  , 0.  , 0.02, 0.29, 0.  , 0.  ,\n",
       "       0.  , 0.  , 0.  , 0.01, 0.  , 0.  , 0.  , 0.  , 0.  , 0.  , 0.  ,\n",
       "       0.  , 0.01, 0.  , 0.  , 0.  , 0.01, 0.03, 0.97, 0.2 , 0.  , 0.  ,\n",
       "       0.  , 0.32, 0.04, 0.09, 0.  , 0.  , 0.  , 0.  , 0.  , 0.  , 0.  ,\n",
       "       0.03, 0.1 , 0.43, 0.02, 0.  , 0.  , 0.07, 0.  , 0.  , 0.  , 0.  ,\n",
       "       0.01, 0.  , 0.  , 0.  , 0.03, 0.01, 0.  , 0.  , 0.  , 0.  , 0.01,\n",
       "       0.  , 0.  , 0.84, 0.  , 0.  , 0.  , 0.  , 0.  , 0.02, 0.  , 0.  ,\n",
       "       0.  ], dtype=float32)"
      ]
     },
     "execution_count": 35,
     "metadata": {},
     "output_type": "execute_result"
    }
   ],
   "source": [
    "# all_tcav_scores[2]\n",
    "assemble_scores(all_tcav_scores[1], all_experimental_sets[1], 0, \"encoder\", \"sign_count\")"
   ]
  }
 ],
 "metadata": {
  "kernelspec": {
   "display_name": "myenv",
   "language": "python",
   "name": "python3"
  },
  "language_info": {
   "codemirror_mode": {
    "name": "ipython",
    "version": 3
   },
   "file_extension": ".py",
   "mimetype": "text/x-python",
   "name": "python",
   "nbconvert_exporter": "python",
   "pygments_lexer": "ipython3",
   "version": "3.11.9"
  }
 },
 "nbformat": 4,
 "nbformat_minor": 2
}
