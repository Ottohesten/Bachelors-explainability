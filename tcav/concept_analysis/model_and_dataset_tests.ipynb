{
 "cells": [
  {
   "cell_type": "code",
   "execution_count": null,
   "metadata": {},
   "outputs": [],
   "source": [
    "import h5py\n",
    "import mne\n",
    "from eegatscale.models import LinearHeadBENDR\n",
    "from scripts.finetune_cv import H5PYDatasetLabeled\n",
    "from scripts.finetune_cv_nogroups import H5PYDatasetLabeled as H5PYDatasetLabeledNoGroups\n",
    "from torch.utils.data import DataLoader\n",
    "from eegatscale.transforms import StandardizeLabel, Standardize\n",
    "import numpy as np\n",
    "import torch\n",
    "import pickle\n",
    "from dataset_utils import PickleDataset\n",
    "from glob import glob"
   ]
  },
  {
   "cell_type": "code",
   "execution_count": null,
   "metadata": {},
   "outputs": [],
   "source": [
    "# get th"
   ]
  },
  {
   "cell_type": "code",
   "execution_count": null,
   "metadata": {},
   "outputs": [],
   "source": [
    "mmidb_own_path = \"/scratch/s194101/data/preprocessed_downstream/mmidb/mmidb_noica_5.0_titans_combined/\"\n",
    "mmidb_path = \"/scratch/agjma/preprocess_downstream_mmidb_noica_5.0_combined/\"\n",
    "file_name = \"combined_00000.hdf5\"\n",
    "# file_name = \"data_1.hdf5\"\n",
    "\n",
    "# file = h5py.File(mmidb_own_path + file_name, 'r')\n",
    "transform = StandardizeLabel()\n",
    "mmidb_dataset_own = H5PYDatasetLabeled(mmidb_own_path, transform=transform)\n",
    "mmidb_dataset = H5PYDatasetLabeledNoGroups(mmidb_path, transform=transform)\n",
    "\n"
   ]
  },
  {
   "cell_type": "code",
   "execution_count": null,
   "metadata": {},
   "outputs": [],
   "source": [
    "file.keys()\n",
    "# file['file_idxs']"
   ]
  },
  {
   "cell_type": "code",
   "execution_count": null,
   "metadata": {},
   "outputs": [],
   "source": [
    "# test_index = np.loadtxt(\"test_index.txt\", dtype=int)\n",
    "# train_index = np.loadtxt(\"train_index.txt\", dtype=int)\n",
    "\n",
    "# train_dataset = torch.utils.data.Subset(dataset, train_index)\n",
    "# test_dataset = torch.utils.data.Subset(dataset, test_index)\n",
    "\n",
    "# train_dataloader = DataLoader(train_dataset, batch_size=16, shuffle=True, drop_last=True)\n",
    "# test_loader = DataLoader(test_dataset, batch_size=16, shuffle=False, drop_last=False)\n",
    "\n",
    "dataloader_mmidb_own = DataLoader(mmidb_dataset_own, batch_size=len(mmidb_dataset), shuffle=True)\n",
    "dataloader_mmidb = DataLoader(mmidb_dataset, batch_size=len(mmidb_dataset), shuffle=True)\n",
    "\n"
   ]
  },
  {
   "cell_type": "code",
   "execution_count": null,
   "metadata": {},
   "outputs": [],
   "source": [
    "print(\"MMIDB dataset own\")\n",
    "x, y = next(iter(dataloader_mmidb_own))\n",
    "print(x.shape)\n",
    "x.mean(), x.std(), x.min(), x.max()"
   ]
  },
  {
   "cell_type": "code",
   "execution_count": null,
   "metadata": {},
   "outputs": [],
   "source": [
    "print(\"MMIDB dataset\")\n",
    "x, y = next(iter(dataloader_mmidb))\n",
    "print(x.shape)\n",
    "x.mean(), x.std(), x.min(), x.max()"
   ]
  },
  {
   "cell_type": "code",
   "execution_count": null,
   "metadata": {},
   "outputs": [],
   "source": [
    "# get the channels in the file\n",
    "file.keys()"
   ]
  },
  {
   "cell_type": "code",
   "execution_count": null,
   "metadata": {},
   "outputs": [],
   "source": [
    "sample_data = file[\"data\"][0:16].shape\n",
    "sample_data = torch.from_numpy(file[\"data\"][0:16])\n",
    "sample_data.shape"
   ]
  },
  {
   "cell_type": "code",
   "execution_count": null,
   "metadata": {},
   "outputs": [],
   "source": [
    "out_features = 2\n",
    "# encoder_path = \"/scratch/agjma/checkpoints/tuh-noica-standardize-epoch=9-step=68317-val_loss=0.26.ckpt\"\n",
    "encoder_path = \"/scratch/s194101/finetune_logs_all/mmidb_noica_noica_5.0_splits10_repeat2/version_19/checkpoints/epoch=7-step=8120.ckpt\"\n",
    "# encoder_path = \"/scratch/s194101/finetune_logs_all/mmidb_noica_noica_5.0_nogroups_2/version_0/checkpoints/epoch=2-step=756.ckpt\"\n",
    "# encoder_path = \"/scratch/s194101/finetune_logs_all/mmidb_noica_noica_5.0_nogroups/version_22/checkpoints/epoch=7-step=2016.ckpt\"\n",
    "# encoder_path = \"\"\n",
    "\n",
    "model = LinearHeadBENDR(encoder_path, encoder_h=512, in_features=19, out_features=out_features)\n",
    "temp_state_dict = model.state_dict()\n",
    "state_dict = torch.load(encoder_path, map_location=torch.device('cpu'))[\"state_dict\"]\n",
    "model.load_state_dict(state_dict)\n",
    "model.eval()\n",
    "print(\"model loaded\")\n"
   ]
  },
  {
   "cell_type": "code",
   "execution_count": 54,
   "metadata": {},
   "outputs": [
    {
     "name": "stdout",
     "output_type": "stream",
     "text": [
      "0.7524677\n",
      "MMIDB\n",
      "0.79821825\n"
     ]
    }
   ],
   "source": [
    "def test_model(model, dataloader):\n",
    "\n",
    "    accs = []\n",
    "    for i, batch in enumerate(dataloader):\n",
    "        x, y = batch\n",
    "        z = model(x)\n",
    "        acc = (z.argmax(dim=1) == y).float().mean()\n",
    "        accs.append(acc)\n",
    "\n",
    "    return accs\n",
    "print(\"MMIDB own\")\n",
    "accs = test_model(model, dataloader_mmidb_own)\n",
    "print(np.mean(accs))\n",
    "\n",
    "print(\"MMIDB\")\n",
    "accs = test_model(model, dataloader_mmidb)\n",
    "print(np.mean(accs))"
   ]
  },
  {
   "attachments": {
    "image.png": {
     "image/png": "[encoded data removed]"
    }
   },
   "cell_type": "markdown",
   "metadata": {},
   "source": [
    "![image.png](attachment:image.png)"
   ]
  },
  {
   "cell_type": "code",
   "execution_count": null,
   "metadata": {},
   "outputs": [],
   "source": [
    "file.keys()"
   ]
  },
  {
   "cell_type": "code",
   "execution_count": null,
   "metadata": {},
   "outputs": [],
   "source": [
    "# file[\"labels\"][:]\n",
    "file[\"data\"][0:2].shape\n",
    "# file[\"time_slices\"]\n",
    "\n",
    "# file"
   ]
  },
  {
   "cell_type": "code",
   "execution_count": null,
   "metadata": {},
   "outputs": [],
   "source": [
    "model(sample_data)"
   ]
  },
  {
   "cell_type": "code",
   "execution_count": null,
   "metadata": {},
   "outputs": [],
   "source": [
    "# file[\"sessions_labels\"]\n",
    "# file[\"time_slices\"]"
   ]
  },
  {
   "cell_type": "code",
   "execution_count": null,
   "metadata": {},
   "outputs": [],
   "source": [
    "# open raw edf file\n",
    "# raw = mne.io.read_raw_edf(\"data/mmidb/files/s003/s003R01.edf\")\n",
    "raw = mne.io.read_raw_edf(\"/scratch/agjma/eegmmidb/files/S003/S003R03.edf\")\n",
    "raw\n",
    "\n"
   ]
  },
  {
   "cell_type": "code",
   "execution_count": null,
   "metadata": {},
   "outputs": [],
   "source": [
    "# get filename of the raw file\n",
    "# raw.annotations\n",
    "\n",
    "# get the labels\n",
    "annotation = raw.annotations\n",
    "annotation.onset"
   ]
  },
  {
   "cell_type": "code",
   "execution_count": null,
   "metadata": {},
   "outputs": [],
   "source": [
    "filename = \"/scratch/agjma/eegmmidb/files/S101/S101R07.edf\""
   ]
  },
  {
   "cell_type": "code",
   "execution_count": null,
   "metadata": {},
   "outputs": [],
   "source": [
    "filename.split(\"/\")[-2]"
   ]
  },
  {
   "cell_type": "markdown",
   "metadata": {},
   "source": [
    "# Loading of PickleDataset"
   ]
  },
  {
   "cell_type": "code",
   "execution_count": null,
   "metadata": {},
   "outputs": [],
   "source": [
    "dataset = PickleDataset(\"/scratch/s194101/concepts/random_left_concept_MMIDB_Alpha_sanity_check\")\n",
    "len(dataset)"
   ]
  },
  {
   "cell_type": "code",
   "execution_count": null,
   "metadata": {},
   "outputs": [],
   "source": [
    "dataloader = torch.utils.data.DataLoader(dataset, batch_size=10000)"
   ]
  },
  {
   "cell_type": "code",
   "execution_count": null,
   "metadata": {},
   "outputs": [],
   "source": []
  },
  {
   "cell_type": "markdown",
   "metadata": {},
   "source": [
    "# model tests for tcav"
   ]
  },
  {
   "cell_type": "code",
   "execution_count": null,
   "metadata": {},
   "outputs": [],
   "source": [
    "out_features = 2\n",
    "# encoder_path = \"/scratch/agjma/checkpoints/tuh-noica-standardize-epoch=9-step=68317-val_loss=0.26.ckpt\"\n",
    "encoder_path = \"/scratch/s194101/finetune_logs_all/mmidb_noica_noica_5.0_splits10_repeat2/version_19/checkpoints/epoch=7-step=8120.ckpt\"\n",
    "# encoder_path = \"/scratch/s194101/finetune_logs_all/mmidb_noica_noica_5.0_nogroups_2/version_0/checkpoints/epoch=2-step=756.ckpt\"\n",
    "# encoder_path = \"/scratch/s194101/finetune_logs_all/mmidb_noica_noica_5.0_nogroups/version_22/checkpoints/epoch=7-step=2016.ckpt\"\n",
    "# encoder_path = \"\"\n",
    "\n",
    "model = LinearHeadBENDR(encoder_path, encoder_h=512, in_features=19, out_features=out_features)\n",
    "state_dict = torch.load(encoder_path, map_location=torch.device('cpu'))[\"state_dict\"]\n",
    "model.load_state_dict(state_dict)\n",
    "model.eval()\n",
    "print(\"model loaded\")"
   ]
  },
  {
   "cell_type": "code",
   "execution_count": null,
   "metadata": {},
   "outputs": [],
   "source": [
    "names = list(model._modules.keys())\n",
    "layers = list(model.children())\n",
    "\n",
    "print(len(names), len(layers))"
   ]
  },
  {
   "cell_type": "code",
   "execution_count": null,
   "metadata": {},
   "outputs": [],
   "source": [
    "# for name, layer in zip(names, layers):\n",
    "#     print(name, layer)"
   ]
  },
  {
   "cell_type": "markdown",
   "metadata": {},
   "source": [
    "# Test whether the concepts look the same for the mmidb and tuh"
   ]
  },
  {
   "cell_type": "code",
   "execution_count": null,
   "metadata": {},
   "outputs": [],
   "source": [
    "mmidb_files_dir = \"/scratch/s194101/concepts/random_mmidb_alpha_new\"\n",
    "tuh_files_dir = \"/scratch/s194101/concepts/random_tuh_alpha\"\n",
    "\n",
    "mmidb_files = glob(f\"{mmidb_files_dir}/*.pkl\")\n",
    "print(f\"{len(mmidb_files)=}\")\n",
    "\n",
    "tuh_files = glob(f\"{tuh_files_dir}/*.pkl\")\n",
    "print(f\"{len(tuh_files)=}\")\n",
    "\n",
    "with open(mmidb_files[0], \"rb\") as f:\n",
    "    data_mmidb = pickle.load(f)\n",
    "print(f\"{data_mmidb.shape=}\")\n",
    "\n",
    "with open(tuh_files[0], \"rb\") as f:\n",
    "    data_tuh = pickle.load(f)\n",
    "print(f\"{data_tuh.shape=}\")\n"
   ]
  },
  {
   "cell_type": "code",
   "execution_count": null,
   "metadata": {},
   "outputs": [],
   "source": [
    "# len(data_tuh.shape)\n",
    "\n",
    "mmidb_dataset = PickleDataset(mmidb_files_dir)\n",
    "print(f\"{len(mmidb_dataset)=}\")\n",
    "tuh_dataset = PickleDataset(tuh_files_dir)\n",
    "print(f\"{len(tuh_dataset)=}\")"
   ]
  },
  {
   "cell_type": "code",
   "execution_count": null,
   "metadata": {},
   "outputs": [],
   "source": [
    "mmidb_dataset[0].dtype\n",
    "tuh_dataset[0].dtype"
   ]
  },
  {
   "cell_type": "code",
   "execution_count": null,
   "metadata": {},
   "outputs": [],
   "source": []
  },
  {
   "cell_type": "markdown",
   "metadata": {},
   "source": [
    "# Test what the TUEV dataset looks like"
   ]
  },
  {
   "cell_type": "code",
   "execution_count": null,
   "metadata": {},
   "outputs": [],
   "source": [
    "import h5py\n",
    "import numpy as np"
   ]
  },
  {
   "cell_type": "code",
   "execution_count": null,
   "metadata": {},
   "outputs": [],
   "source": [
    "# file_path = \"/scratch/s194101/data/preprocessed_downstream/tuev/noica_5.0_titans_combine_test_debug_combined/combined_00000.hdf5\"\n",
    "file_path = \"/scratch/s194101/data/preprocessed_downstream/tusz/noica_60.0_titans_combine_test_debug_combined/combined_00000.hdf5\"\n",
    "\n",
    "file = h5py.File(file_path, 'r')\n",
    "file.keys()"
   ]
  },
  {
   "cell_type": "code",
   "execution_count": null,
   "metadata": {},
   "outputs": [],
   "source": [
    "file.attrs.keys()"
   ]
  },
  {
   "cell_type": "code",
   "execution_count": null,
   "metadata": {},
   "outputs": [],
   "source": [
    "file[\"data\"][:].shape"
   ]
  },
  {
   "cell_type": "code",
   "execution_count": null,
   "metadata": {},
   "outputs": [],
   "source": [
    "file[\"sessions_labels\"][:]"
   ]
  },
  {
   "cell_type": "code",
   "execution_count": null,
   "metadata": {},
   "outputs": [],
   "source": [
    "np.unique(file[\"sessions_labels\"][:])"
   ]
  },
  {
   "cell_type": "code",
   "execution_count": null,
   "metadata": {},
   "outputs": [],
   "source": [
    "test_file_path = \"/scratch/s194101/data/preprocessed_downstream/tusz/noica_5.0_titans_combine_test_debug_3/data_1.hdf5\"\n",
    "\n",
    "\n",
    "test_file = h5py.File(test_file_path, 'r')\n",
    "test_file.keys()"
   ]
  },
  {
   "cell_type": "code",
   "execution_count": null,
   "metadata": {},
   "outputs": [],
   "source": [
    "test_file[\"data\"][:].shape"
   ]
  }
 ],
 "metadata": {
  "kernelspec": {
   "display_name": "myenv",
   "language": "python",
   "name": "python3"
  },
  "language_info": {
   "codemirror_mode": {
    "name": "ipython",
    "version": 3
   },
   "file_extension": ".py",
   "mimetype": "text/x-python",
   "name": "python",
   "nbconvert_exporter": "python",
   "pygments_lexer": "ipython3",
   "version": "3.11.9"
  }
 },
 "nbformat": 4,
 "nbformat_minor": 2
}
