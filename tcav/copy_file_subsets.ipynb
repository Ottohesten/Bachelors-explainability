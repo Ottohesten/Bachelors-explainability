{
 "cells": [
  {
   "cell_type": "code",
   "execution_count": 1,
   "metadata": {},
   "outputs": [],
   "source": [
    "from glob import glob\n",
    "import random\n",
    "import shutil\n",
    "import os"
   ]
  },
  {
   "cell_type": "markdown",
   "metadata": {},
   "source": [
    "# MMIDB"
   ]
  },
  {
   "cell_type": "markdown",
   "metadata": {},
   "source": [
    "#### Making a folder of random sub-concepts for random concept"
   ]
  },
  {
   "cell_type": "code",
   "execution_count": null,
   "metadata": {},
   "outputs": [],
   "source": [
    "# concept_dir_tuh = \"TUH_clean_all_subtract_Truesigma_Trueabs_100.0_105454_281024\"\n",
    "# concept_dir_mmidb = \"/scratch/s194101/concepts/sanity_check_concepts_MMIDB_alpha\"\n",
    "concept_dir_mmidb = \"/scratch/s194101/concepts/left_right_concepts_MMIDB\"\n",
    "\n",
    "concept_dir = concept_dir_mmidb\n",
    "files = glob(f\"{concept_dir}/*/*.pkl\")\n",
    "random.shuffle(files)\n",
    "\n",
    "subset = files[:200]\n",
    "subset\n",
    "# subset_save_path = \"random_tuh/\"\n",
    "# subset_save_path = \"/scratch/s194101/concepts/random_mmidb/\"\n",
    "subset_save_path = \"/scratch/s194101/concepts/random_mmidb_labeled/\"\n",
    "os.makedirs(subset_save_path, exist_ok=True)\n",
    "\n",
    "for file in subset:\n",
    "    shutil.copy(file, subset_save_path)"
   ]
  },
  {
   "cell_type": "markdown",
   "metadata": {},
   "source": [
    "## new random mmidb subsets"
   ]
  },
  {
   "cell_type": "markdown",
   "metadata": {},
   "source": [
    "### mmidb alpha concepts"
   ]
  },
  {
   "cell_type": "code",
   "execution_count": null,
   "metadata": {},
   "outputs": [
    {
     "name": "stdout",
     "output_type": "stream",
     "text": [
      "len(files)=18504\n",
      "len(subset)=200\n"
     ]
    }
   ],
   "source": [
    "# only alpha concepts\n",
    "concept_dir_mmidb_alpha = \"/scratch/s194101/concepts/sanity_check_concepts_MMIDB_alpha_new\"\n",
    "files = glob(f\"{concept_dir_mmidb_alpha}/*/*.pkl\")\n",
    "print(f\"{len(files)=}\")\n",
    "random.shuffle(files)\n",
    "subset = files[:200]\n",
    "print(f\"{len(subset)=}\")\n",
    "subset_save_path = \"/scratch/s194101/concepts/random_mmidb_alpha_new/\"\n",
    "os.makedirs(subset_save_path, exist_ok=True)\n",
    "for file in subset:\n",
    "    shutil.copy(file, subset_save_path)\n"
   ]
  },
  {
   "cell_type": "code",
   "execution_count": 11,
   "metadata": {},
   "outputs": [
    {
     "name": "stdout",
     "output_type": "stream",
     "text": [
      "len(files)=18504\n"
     ]
    }
   ],
   "source": [
    "data_dir = \"/scratch/s194101/concepts/sanity_check_concepts_MMIDB_alpha_no_baseline_with_sigma\"\n",
    "files = glob(f\"{data_dir}/*/*.pkl\")\n",
    "print(f\"{len(files)=}\")\n",
    "random.shuffle(files)\n",
    "subset = files[:1000]\n",
    "# print(f\"{len(subset)=}\")\n",
    "subset_save_path = \"/scratch/s194101/concepts/random_mmidb_alpha_no_baseline_with_sigma/\"\n",
    "os.makedirs(subset_save_path, exist_ok=True)\n",
    "for file in subset:\n",
    "    shutil.copy(file, subset_save_path)\n",
    "    "
   ]
  },
  {
   "cell_type": "code",
   "execution_count": 19,
   "metadata": {},
   "outputs": [
    {
     "name": "stdout",
     "output_type": "stream",
     "text": [
      "len(files)=18504\n",
      "len(files_gamma)=6032\n",
      "len(subset)=1000\n"
     ]
    }
   ],
   "source": [
    "# make one for all bands\n",
    "data_dir = \"/scratch/s194101/concepts/sanity_check_concepts_MMIDB_all_no_baseline\"\n",
    "files = glob(f\"{data_dir}/*/*.pkl\")\n",
    "print(f\"{len(files)=}\")\n",
    "random.shuffle(files)\n",
    "subset = files[:1000]\n",
    "# print(f\"{len(subset)=}\")\n",
    "\n",
    "# subset_save_path = \"/scratch/s194101/concepts/random_mmidb_all_no_baseline/\"\n",
    "# os.makedirs(subset_save_path, exist_ok=True)\n",
    "\n",
    "# for file in subset:\n",
    "#     shutil.copy(file, subset_save_path)\n",
    "\n",
    "# make gamma only\n",
    "files_gamma = glob(f\"{data_dir}/*Gamma*/*.pkl\")\n",
    "print(f\"{len(files_gamma)=}\")\n",
    "random.shuffle(files_gamma)\n",
    "subset = files_gamma[:1000]\n",
    "print(f\"{len(subset)=}\")\n",
    "\n",
    "subset_save_path = \"/scratch/s194101/concepts/random_mmidb_gamma_no_baseline/\"\n",
    "os.makedirs(subset_save_path, exist_ok=True)\n",
    "\n",
    "for file in subset:\n",
    "    shutil.copy(file, subset_save_path)\n",
    "\n"
   ]
  },
  {
   "cell_type": "markdown",
   "metadata": {},
   "source": [
    "#### Isolate left fist data and right fist data"
   ]
  },
  {
   "cell_type": "code",
   "execution_count": null,
   "metadata": {},
   "outputs": [
    {
     "name": "stdout",
     "output_type": "stream",
     "text": [
      "len(left_fist_files)=0\n",
      "len(right_fist_files)=0\n"
     ]
    }
   ],
   "source": [
    "# in the runs we are working with T1 is left fist movememnt and T2 is right fist movement\n",
    "left_right_data_dir = \"/scratch/s194101/concepts/left_right_concepts_MMIDB_alpha_new/\"\n",
    "left_right_data_dir_gamma = \"/scratch/s194101/concepts/left_right_concepts_MMIDB_gamma_new/\"\n",
    "left_fist_files = glob(f\"{left_right_data_dir}/*Alpha*/*_T1.pkl\")\n",
    "right_fist_files = glob(f\"{left_right_data_dir}/*Alpha*/*_T2.pkl\")\n",
    "left_fist_files_gamma = glob(f\"{left_right_data_dir}/*Gamma*/*_T1.pkl\")\n",
    "right_fist_files_gamma = glob(f\"{left_right_data_dir}/*Gamma*/*_T2.pkl\")\n",
    "\n",
    "random.shuffle(left_fist_files)\n",
    "random.shuffle(right_fist_files)\n",
    "random.shuffle(left_fist_files_gamma)\n",
    "random.shuffle(right_fist_files_gamma)\n",
    "print(f\"{len(left_fist_files)=}\")\n",
    "print(f\"{len(right_fist_files)=}\")\n",
    "\n",
    "subset_left = left_fist_files[:200]\n",
    "subset_right = right_fist_files[:200]\n",
    "subset_left_gamma = left_fist_files_gamma[:200]\n",
    "subset_right_gamma = right_fist_files_gamma[:200]\n",
    "\n",
    "\n",
    "# left_save_path = \"/scratch/s194101/concepts/random_left_concept_MMIDB_Alpha/\"\n",
    "# # left_save_path = \"/scratch/s194101/concepts/random_left_concept_MMIDB/\"\n",
    "# os.makedirs(left_save_path, exist_ok=True)\n",
    "# for file in subset_left:\n",
    "#     shutil.copy(file, left_save_path)\n",
    "\n",
    "# right_save_path = \"/scratch/s194101/concepts/random_right_concept_MMIDB_Alpha/\"\n",
    "# # right_save_path = \"/scratch/s194101/concepts/random_right_concept_MMIDB/\"\n",
    "# os.makedirs(right_save_path, exist_ok=True)\n",
    "# for file in subset_right:\n",
    "#     shutil.copy(file, right_save_path)\n",
    "\n",
    "# left_save_path_gamma = \"/scratch/s194101/concepts/random_left_concept_MMIDB_Gamma/\"\n",
    "# os.makedirs(left_save_path_gamma, exist_ok=True)\n",
    "# for file in subset_left_gamma:\n",
    "#     shutil.copy(file, left_save_path_gamma)\n",
    "\n",
    "# right_save_path_gamma = \"/scratch/s194101/concepts/random_right_concept_MMIDB_Gamma/\"\n",
    "# os.makedirs(right_save_path_gamma, exist_ok=True)\n",
    "# for file in subset_right_gamma:\n",
    "#     shutil.copy(file, right_save_path_gamma)\n",
    "\n",
    "\n",
    "\n",
    "\n"
   ]
  },
  {
   "cell_type": "code",
   "execution_count": 4,
   "metadata": {},
   "outputs": [
    {
     "name": "stdout",
     "output_type": "stream",
     "text": [
      "len(subset_left)=0\n",
      "len(subset_right)=0\n"
     ]
    }
   ],
   "source": [
    "sanity_check_concepts_dir = \"/scratch/s194101/concepts/sanity_check_concepts_MMIDB_alpha_new\"\n",
    "# isolate left and right (T1 and T2) concepts\n",
    "left_fist_files = glob(f\"{sanity_check_concepts_dir}/*/*_T1.pkl\")\n",
    "right_fist_files = glob(f\"{sanity_check_concepts_dir}/*/*_T2.pkl\")\n",
    "\n",
    "random.shuffle(left_fist_files)\n",
    "random.shuffle(right_fist_files)\n",
    "\n",
    "subset_left = left_fist_files # whole\n",
    "subset_right = right_fist_files # whole\n",
    "print(f\"{len(subset_left)=}\")\n",
    "print(f\"{len(subset_right)=}\")\n",
    "\n",
    "\n",
    "# left_save_path = \"/scratch/s194101/concepts/random_left_concept_MMIDB_Alpha_sanity_check_1000/\"\n",
    "# os.makedirs(left_save_path, exist_ok=True)\n",
    "# for file in subset_left:\n",
    "#     shutil.copy(file, left_save_path)\n",
    "\n",
    "# right_save_path = \"/scratch/s194101/concepts/random_right_concept_MMIDB_Alpha_sanity_check_1000/\"\n",
    "# os.makedirs(right_save_path, exist_ok=True)\n",
    "# for file in subset_right:\n",
    "#     shutil.copy(file, right_save_path)\n",
    "\n",
    "\n"
   ]
  },
  {
   "cell_type": "markdown",
   "metadata": {},
   "source": [
    "# TUH"
   ]
  },
  {
   "cell_type": "markdown",
   "metadata": {},
   "source": [
    "# make a random set of tuh concepts"
   ]
  },
  {
   "cell_type": "code",
   "execution_count": null,
   "metadata": {},
   "outputs": [
    {
     "name": "stdout",
     "output_type": "stream",
     "text": [
      "len(tuh_all_files)=19342\n",
      "len(tuh_alpha_files)=19342\n"
     ]
    }
   ],
   "source": [
    "tuh_concepts_all_dir = \"/scratch/s194101/concepts/TUH_clean_all_subtract_Truesigma_Trueabs_100.0_135454_131124\"\n",
    "tuh_concepts_alpha_dir = \"/scratch/s194101/concepts/TUH_clean_alpha_subtract_Truesigma_Trueabs_100.0_142440_131124\"\n",
    "\n",
    "tuh_all_files = glob(f\"{tuh_concepts_all_dir}/*/*.pkl\")\n",
    "tuh_alpha_files = glob(f\"{tuh_concepts_alpha_dir}/*/*.pkl\")\n",
    "print(f\"{len(tuh_all_files)=}\")\n",
    "print(f\"{len(tuh_alpha_files)=}\")\n",
    "\n",
    "random.shuffle(tuh_all_files)\n",
    "random.shuffle(tuh_alpha_files)\n",
    "\n",
    "subset_all = tuh_all_files[:1000]\n",
    "subset_alpha = tuh_alpha_files[:1000]\n",
    "\n",
    "# print(subset_all[:10])\n",
    "# print(subset_alpha[:10])\n",
    "\n",
    "all_save_path = \"/scratch/s194101/concepts/random_tuh_all_1000/\"\n",
    "os.makedirs(all_save_path, exist_ok=True)\n",
    "for file in subset_all:\n",
    "    shutil.copy(file, all_save_path)\n",
    "\n",
    "alpha_save_path = \"/scratch/s194101/concepts/random_tuh_alpha_1000/\"\n",
    "os.makedirs(alpha_save_path, exist_ok=True)\n",
    "for file in subset_alpha:\n",
    "    shutil.copy(file, alpha_save_path)\n",
    "\n",
    "# sanity check concepts\n",
    "# make subset that is alpha left hemisphere and alpha right hemisphere\n",
    "# tuh_lh_files = glob(f\"{tuh_concepts_alpha_dir}/*-lh/*.pkl\")\n",
    "# print(f\"{len(tuh_lh_files)=}\")\n",
    "# tuh_rh_files = glob(f\"{tuh_concepts_alpha_dir}/*-rh/*.pkl\")\n",
    "# print(f\"{len(tuh_rh_files)=}\")\n",
    "\n",
    "# random.shuffle(tuh_lh_files)\n",
    "# random.shuffle(tuh_rh_files)\n",
    "\n",
    "# subset_lh = tuh_lh_files[:200]\n",
    "# subset_rh = tuh_rh_files[:200]\n",
    "\n",
    "# lh_save_path = \"/scratch/s194101/concepts/random_tuh_alpha_lh/\"\n",
    "# os.makedirs(lh_save_path, exist_ok=True)\n",
    "# for file in subset_lh:\n",
    "#     shutil.copy(file, lh_save_path)\n",
    "\n",
    "# rh_save_path = \"/scratch/s194101/concepts/random_tuh_alpha_rh/\"\n",
    "# os.makedirs(rh_save_path, exist_ok=True)\n",
    "# for file in subset_rh:\n",
    "#     shutil.copy(file, rh_save_path)\n",
    "\n",
    "# make gamma only\n",
    "# tuh_gamma_files = glob(f\"{tuh_concepts_all_dir}/*Gamma*/*.pkl\")\n",
    "# print(f\"{len(tuh_gamma_files)=}\")\n",
    "# random.shuffle(tuh_gamma_files)\n",
    "# subset = tuh_gamma_files[:1000]\n",
    "# print(f\"{len(subset)=}\")\n",
    "\n",
    "# subset_save_path = \"/scratch/s194101/concepts/random_tuh_gamma_1000/\"\n",
    "# os.makedirs(subset_save_path, exist_ok=True)\n",
    "\n",
    "# for file in subset:\n",
    "#     shutil.copy(file, subset_save_path)\n",
    "\n"
   ]
  },
  {
   "cell_type": "markdown",
   "metadata": {},
   "source": [
    "# TUEV - random dir"
   ]
  },
  {
   "cell_type": "code",
   "execution_count": 2,
   "metadata": {},
   "outputs": [
    {
     "name": "stdout",
     "output_type": "stream",
     "text": [
      "len(tuev_files)=9758\n"
     ]
    }
   ],
   "source": [
    "tuev_dir_path = \"/scratch/s194101/concepts/TUEV\"\n",
    "\n",
    "tuev_files = glob(f\"{tuev_dir_path}/*/*.pkl\")\n",
    "print(f\"{len(tuev_files)=}\")\n",
    "random.shuffle(tuev_files)\n",
    "subset = tuev_files[:200]\n",
    "\n",
    "subset_save_path = \"/scratch/s194101/concepts/TUEV/random/\"\n",
    "os.makedirs(subset_save_path, exist_ok=True)\n",
    "for file in subset:\n",
    "    shutil.copy(file, subset_save_path)\n",
    "\n"
   ]
  },
  {
   "cell_type": "markdown",
   "metadata": {},
   "source": [
    "### smaller subsets of the tuev"
   ]
  },
  {
   "cell_type": "code",
   "execution_count": 9,
   "metadata": {},
   "outputs": [
    {
     "name": "stdout",
     "output_type": "stream",
     "text": [
      "len(tuev_files)=500\n"
     ]
    }
   ],
   "source": [
    "tuev_dir_path = \"/scratch/s194101/concepts/TUEV\"\n",
    "\n",
    "concepts = os.listdir(tuev_dir_path)\n",
    "\n",
    "# get number of files in each concept\n",
    "\n",
    "# for concept in concepts:\n",
    "#     if concept in [\"random\", \"eyem\"]:\n",
    "#         continue\n",
    "#     concept_files = glob(f\"{tuev_dir_path}/{concept}/*.pkl\")\n",
    "#     print(f\"{concept=}, {len(concept_files)=}\")\n",
    "#     random.shuffle(concept_files)\n",
    "\n",
    "#     subset = concept_files[:100]\n",
    "#     subset_save_path = f\"/scratch/s194101/concepts/TUEV_subset/{concept}/\"\n",
    "#     os.makedirs(subset_save_path, exist_ok=True)\n",
    "#     for file in subset:\n",
    "#         shutil.copy(file, subset_save_path)\n",
    "    \n",
    "\n",
    "# make a random selection of the concepts\n",
    "\n",
    "data_dir = \"/scratch/s194101/concepts/TUEV_subset\"\n",
    "tuev_files = glob(f\"{data_dir}/*/*.pkl\")\n",
    "print(f\"{len(tuev_files)=}\")\n",
    "random.shuffle(tuev_files)\n",
    "subset = tuev_files[:200]\n",
    "# print(f\"{len(subset)=}\")\n",
    "\n",
    "subset_save_path = \"/scratch/s194101/concepts/TUEV_subset/random/\"\n",
    "os.makedirs(subset_save_path, exist_ok=True)\n",
    "\n",
    "for file in subset:\n",
    "    shutil.copy(file, subset_save_path)\n",
    "    \n",
    "\n",
    "    \n",
    "\n",
    "\n",
    "\n"
   ]
  },
  {
   "cell_type": "markdown",
   "metadata": {},
   "source": [
    "# MMIDB subset of left and right hemisphere"
   ]
  },
  {
   "cell_type": "markdown",
   "metadata": {},
   "source": [
    "## Alpha"
   ]
  },
  {
   "cell_type": "code",
   "execution_count": null,
   "metadata": {},
   "outputs": [
    {
     "name": "stdout",
     "output_type": "stream",
     "text": [
      "len(files_lh)=9012\n",
      "len(files_rh)=9492\n"
     ]
    }
   ],
   "source": [
    "mmidb_alpha_data_dir = \"/scratch/s194101/concepts/sanity_check_concepts_MMIDB_alpha_no_baseline\"\n",
    "\n",
    "files_lh = glob(f\"{mmidb_alpha_data_dir}/*-lh/*.pkl\")\n",
    "print(f\"{len(files_lh)=}\")\n",
    "random.shuffle(files_lh)\n",
    "subset_lh = files_lh[:200]\n",
    "\n",
    "files_rh = glob(f\"{mmidb_alpha_data_dir}/*-rh/*.pkl\")\n",
    "print(f\"{len(files_rh)=}\")\n",
    "random.shuffle(files_rh)\n",
    "subset_rh = files_rh[:200]\n",
    "\n",
    "lh_save_path = \"/scratch/s194101/concepts/random_mmidb_alpha_no_baseline_lh/\"\n",
    "os.makedirs(lh_save_path, exist_ok=True)\n",
    "for file in subset_lh:\n",
    "    shutil.copy(file, lh_save_path)\n",
    "\n",
    "rh_save_path = \"/scratch/s194101/concepts/random_mmidb_alpha_no_baseline_rh/\"\n",
    "os.makedirs(rh_save_path, exist_ok=True)\n",
    "for file in subset_rh:\n",
    "    shutil.copy(file, rh_save_path)\n",
    "\n",
    "    \n"
   ]
  },
  {
   "cell_type": "markdown",
   "metadata": {},
   "source": [
    "### Only with T0"
   ]
  },
  {
   "cell_type": "code",
   "execution_count": null,
   "metadata": {},
   "outputs": [
    {
     "name": "stdout",
     "output_type": "stream",
     "text": [
      "len(files_lh)=4489\n",
      "len(files_rh)=4763\n"
     ]
    }
   ],
   "source": [
    "mmidb_alpha_data_dir = \"/scratch/s194101/concepts/sanity_check_concepts_MMIDB_alpha_no_baseline\"\n",
    "\n",
    "files_lh = glob(f\"{mmidb_alpha_data_dir}/*-lh/*_T0.pkl\")\n",
    "print(f\"{len(files_lh)=}\")\n",
    "random.shuffle(files_lh)\n",
    "subset_lh = files_lh[:200]\n",
    "\n",
    "files_rh = glob(f\"{mmidb_alpha_data_dir}/*-rh/*_T0.pkl\")\n",
    "print(f\"{len(files_rh)=}\")\n",
    "random.shuffle(files_rh)\n",
    "subset_rh = files_rh[:200]\n",
    "\n",
    "lh_save_path = \"/scratch/s194101/concepts/random_mmidb_alpha_no_baseline_T0_lh/\"\n",
    "os.makedirs(lh_save_path, exist_ok=True)\n",
    "for file in subset_lh:\n",
    "    shutil.copy(file, lh_save_path)\n",
    "\n",
    "rh_save_path = \"/scratch/s194101/concepts/random_mmidb_alpha_no_baseline_T0_rh/\"\n",
    "os.makedirs(rh_save_path, exist_ok=True)\n",
    "for file in subset_rh:\n",
    "    shutil.copy(file, rh_save_path)\n",
    "\n",
    "    "
   ]
  },
  {
   "cell_type": "markdown",
   "metadata": {},
   "source": [
    "### with baseline"
   ]
  },
  {
   "cell_type": "code",
   "execution_count": 5,
   "metadata": {},
   "outputs": [
    {
     "name": "stdout",
     "output_type": "stream",
     "text": [
      "len(files_lh_T0)=4289\n",
      "len(files_rh_T0)=4963\n",
      "len(files_T0)=9252\n"
     ]
    }
   ],
   "source": [
    "# mmidb_alpha_data_dir = \"/scratch/s194101/concepts/sanity_check_concepts_MMIDB_alpha_baseline\"\n",
    "\n",
    "# files_lh = glob(f\"{mmidb_alpha_data_dir}/*-lh/*.pkl\")\n",
    "# print(f\"{len(files_lh)=}\")\n",
    "# random.shuffle(files_lh)\n",
    "# subset_lh = files_lh[:200]\n",
    "\n",
    "# files_rh = glob(f\"{mmidb_alpha_data_dir}/*-rh/*.pkl\")\n",
    "# print(f\"{len(files_rh)=}\")\n",
    "# random.shuffle(files_rh)\n",
    "# subset_rh = files_rh[:200]\n",
    "\n",
    "# lh_save_path = \"/scratch/s194101/concepts/random_mmidb_alpha_baseline_lh/\"\n",
    "# os.makedirs(lh_save_path, exist_ok=True)\n",
    "# for file in subset_lh:\n",
    "#     shutil.copy(file, lh_save_path)\n",
    "\n",
    "# rh_save_path = \"/scratch/s194101/concepts/random_mmidb_alpha_baseline_rh/\"\n",
    "# os.makedirs(rh_save_path, exist_ok=True)\n",
    "# for file in subset_rh:\n",
    "#     shutil.copy(file, rh_save_path)\n",
    "\n",
    "\n",
    "# only T0\n",
    "mmidb_alpha_data_dir = \"/scratch/s194101/concepts/sanity_check_concepts_MMIDB_alpha_baseline\"\n",
    "files_lh_T0 = glob(f\"{mmidb_alpha_data_dir}/*-lh/*_T0.pkl\")\n",
    "print(f\"{len(files_lh_T0)=}\")\n",
    "random.shuffle(files_lh_T0)\n",
    "subset_lh = files_lh_T0[:200]\n",
    "\n",
    "files_rh_T0 = glob(f\"{mmidb_alpha_data_dir}/*-rh/*_T0.pkl\")\n",
    "print(f\"{len(files_rh_T0)=}\")\n",
    "random.shuffle(files_rh_T0)\n",
    "subset_rh = files_rh_T0[:200]\n",
    "\n",
    "# subset that is either lh or rh\n",
    "files_T0 = glob(f\"{mmidb_alpha_data_dir}/*/*_T0.pkl\")\n",
    "print(f\"{len(files_T0)=}\")\n",
    "random.shuffle(files_T0)\n",
    "subset = files_T0[:200]\n",
    "\n",
    "lh_save_path = \"/scratch/s194101/concepts/random_mmidb_alpha_baseline_T0_lh/\"\n",
    "os.makedirs(lh_save_path, exist_ok=True)\n",
    "for file in subset_lh:\n",
    "    shutil.copy(file, lh_save_path)\n",
    "\n",
    "rh_save_path = \"/scratch/s194101/concepts/random_mmidb_alpha_baseline_T0_rh/\"\n",
    "os.makedirs(rh_save_path, exist_ok=True)\n",
    "for file in subset_rh:\n",
    "    shutil.copy(file, rh_save_path)\n",
    "\n",
    "all_save_path = \"/scratch/s194101/concepts/random_mmidb_alpha_baseline_T0/\"\n",
    "os.makedirs(all_save_path, exist_ok=True)\n",
    "for file in subset:\n",
    "    shutil.copy(file, all_save_path)\n",
    "    \n",
    "    \n",
    "\n",
    "\n",
    "\n",
    "# with sigma\n",
    "# mmidb_alpha_data_dir = \"/scratch/s194101/concepts/sanity_check_concepts_MMIDB_alpha_baseline_with_sigma\"\n",
    "\n",
    "# files_lh = glob(f\"{mmidb_alpha_data_dir}/*-lh/*.pkl\")\n",
    "# print(f\"{len(files_lh)=}\")\n",
    "# random.shuffle(files_lh)\n",
    "# subset_lh = files_lh[:200]\n",
    "\n",
    "# files_rh = glob(f\"{mmidb_alpha_data_dir}/*-rh/*.pkl\")\n",
    "# print(f\"{len(files_rh)=}\")\n",
    "# random.shuffle(files_rh)\n",
    "# subset_rh = files_rh[:200]\n",
    "\n",
    "# lh_save_path = \"/scratch/s194101/concepts/random_mmidb_alpha_baseline_with_sigma_lh/\"\n",
    "# os.makedirs(lh_save_path, exist_ok=True)\n",
    "# for file in subset_lh:\n",
    "#     shutil.copy(file, lh_save_path)\n",
    "\n",
    "# rh_save_path = \"/scratch/s194101/concepts/random_mmidb_alpha_baseline_with_sigma_rh/\"\n",
    "# os.makedirs(rh_save_path, exist_ok=True)\n",
    "# for file in subset_rh:\n",
    "#     shutil.copy(file, rh_save_path)\n",
    "\n",
    "    \n"
   ]
  },
  {
   "cell_type": "markdown",
   "metadata": {},
   "source": [
    "## Gamma no baseline"
   ]
  },
  {
   "cell_type": "code",
   "execution_count": 4,
   "metadata": {},
   "outputs": [
    {
     "name": "stdout",
     "output_type": "stream",
     "text": [
      "len(files_lh)=2642\n",
      "len(files_rh)=3390\n"
     ]
    }
   ],
   "source": [
    "mmidb_all_data_dir = \"/scratch/s194101/concepts/sanity_check_concepts_MMIDB_all_no_baseline\"\n",
    "\n",
    "files_lh = glob(f\"{mmidb_all_data_dir}/Gamma_*-lh/*.pkl\")\n",
    "print(f\"{len(files_lh)=}\")\n",
    "random.shuffle(files_lh)\n",
    "subset_lh = files_lh[:200]\n",
    "\n",
    "files_rh = glob(f\"{mmidb_all_data_dir}/Gamma_*-rh/*.pkl\")\n",
    "print(f\"{len(files_rh)=}\")\n",
    "random.shuffle(files_rh)\n",
    "subset_rh = files_rh[:200]\n",
    "\n",
    "lh_save_path = \"/scratch/s194101/concepts/random_mmidb_gamma_no_baseline_lh/\"\n",
    "os.makedirs(lh_save_path, exist_ok=True)\n",
    "for file in subset_lh:\n",
    "    shutil.copy(file, lh_save_path)\n",
    "\n",
    "rh_save_path = \"/scratch/s194101/concepts/random_mmidb_gamma_no_baseline_rh/\"\n",
    "os.makedirs(rh_save_path, exist_ok=True)\n",
    "for file in subset_rh:\n",
    "    shutil.copy(file, rh_save_path)"
   ]
  },
  {
   "cell_type": "markdown",
   "metadata": {},
   "source": [
    "## Gamma baseline"
   ]
  },
  {
   "cell_type": "code",
   "execution_count": 16,
   "metadata": {},
   "outputs": [
    {
     "name": "stdout",
     "output_type": "stream",
     "text": [
      "len(files_gamma)=2218\n",
      "len(files_gamma_lh)=4566\n",
      "len(files_gamma_rh)=4686\n"
     ]
    }
   ],
   "source": [
    "data_dir = \"/scratch/s194101/concepts/sanity_check_concepts_MMIDB_all_baseline\"\n",
    "files_gamma = glob(f\"{data_dir}/*Gamma*/*_T0.pkl\")\n",
    "print(f\"{len(files_gamma)=}\")\n",
    "\n",
    "random.shuffle(files_gamma)\n",
    "subset = files_gamma[:200]\n",
    "# print(f\"{len(subset)=}\")\n",
    "\n",
    "# subset_save_path = \"/scratch/s194101/concepts/random_mmidb_gamma_baseline/\"\n",
    "# os.makedirs(subset_save_path, exist_ok=True)\n",
    "# for file in subset:\n",
    "#     shutil.copy(file, subset_save_path)\n",
    "\n",
    "# T1 and T2 (left fist / right fist)\n",
    "\n",
    "# files_gamma_T1 = glob(f\"{data_dir}/*Gamma*/*_T1.pkl\")\n",
    "# print(f\"{len(files_gamma_T1)=}\")\n",
    "# random.shuffle(files_gamma_T1)\n",
    "# subset = files_gamma_T1[:200]\n",
    "\n",
    "# files_gamma_T2 = glob(f\"{data_dir}/*Gamma*/*_T2.pkl\")\n",
    "# print(f\"{len(files_gamma_T2)=}\")\n",
    "# random.shuffle(files_gamma_T2)\n",
    "# subset = files_gamma_T2[:200]\n",
    "\n",
    "# subset_save_path_T1 = \"/scratch/s194101/concepts/random_mmidb_gamma_baseline_T1/\"\n",
    "# os.makedirs(subset_save_path_T1, exist_ok=True)\n",
    "# for file in subset:\n",
    "#     shutil.copy(file, subset_save_path_T1)\n",
    "\n",
    "# subset_save_path_T2 = \"/scratch/s194101/concepts/random_mmidb_gamma_baseline_T2/\"\n",
    "# os.makedirs(subset_save_path_T2, exist_ok=True)\n",
    "# for file in subset:\n",
    "#     shutil.copy(file, subset_save_path_T2)\n",
    "\n",
    "# lh and rh\n",
    "\n",
    "files_gamma_lh = glob(f\"{data_dir}/*-lh/*_T0.pkl\")\n",
    "print(f\"{len(files_gamma_lh)=}\")\n",
    "random.shuffle(files_gamma_lh)\n",
    "subset = files_gamma_lh[:200]\n",
    "\n",
    "files_gamma_rh = glob(f\"{data_dir}/*-rh/*_T0.pkl\")\n",
    "print(f\"{len(files_gamma_rh)=}\")\n",
    "random.shuffle(files_gamma_rh)\n",
    "subset = files_gamma_rh[:200]\n",
    "\n",
    "subset_save_path_lh = \"/scratch/s194101/concepts/random_mmidb_gamma_baseline_lh/\"\n",
    "os.makedirs(subset_save_path_lh, exist_ok=True)\n",
    "for file in subset:\n",
    "    shutil.copy(file, subset_save_path_lh)\n",
    "\n",
    "subset_save_path_rh = \"/scratch/s194101/concepts/random_mmidb_gamma_baseline_rh/\"\n",
    "os.makedirs(subset_save_path_rh, exist_ok=True)\n",
    "for file in subset:\n",
    "    shutil.copy(file, subset_save_path_rh)\n",
    "\n",
    "    \n",
    "\n",
    "\n",
    "\n"
   ]
  },
  {
   "cell_type": "code",
   "execution_count": null,
   "metadata": {},
   "outputs": [],
   "source": []
  },
  {
   "cell_type": "markdown",
   "metadata": {},
   "source": [
    "## make left-fist right-fist data with new concepts that are made where we also divide by std"
   ]
  },
  {
   "cell_type": "code",
   "execution_count": 12,
   "metadata": {},
   "outputs": [
    {
     "name": "stdout",
     "output_type": "stream",
     "text": [
      "['/scratch/s194101/concepts/sanity_check_concepts_MMIDB_alpha_no_baseline/Alpha_Inferior Frontal Cortex-lh/S041R03_2_Alpha_Inferior Frontal Cortex-lh_T1.pkl', '/scratch/s194101/concepts/sanity_check_concepts_MMIDB_alpha_no_baseline/Alpha_Inferior Frontal Cortex-rh/S007R03_5_Alpha_Inferior Frontal Cortex-rh_T1.pkl', '/scratch/s194101/concepts/sanity_check_concepts_MMIDB_alpha_no_baseline/Alpha_MT+ Complex and Neighboring Visual Areas-lh/S058R07_1_Alpha_MT+ Complex and Neighboring Visual Areas-lh_T1.pkl', '/scratch/s194101/concepts/sanity_check_concepts_MMIDB_alpha_no_baseline/Alpha_Auditory Association Cortex-rh/S044R07_5_Alpha_Auditory Association Cortex-rh_T1.pkl', '/scratch/s194101/concepts/sanity_check_concepts_MMIDB_alpha_no_baseline/Alpha_Inferior Frontal Cortex-lh/S024R07_2_Alpha_Inferior Frontal Cortex-lh_T1.pkl', '/scratch/s194101/concepts/sanity_check_concepts_MMIDB_alpha_no_baseline/Alpha_Paracentral Lobular and Mid Cingulate Cortex-lh/S040R12_5_Alpha_Paracentral Lobular and Mid Cingulate Cortex-lh_T1.pkl', '/scratch/s194101/concepts/sanity_check_concepts_MMIDB_alpha_no_baseline/Alpha_Orbital and Polar Frontal Cortex-lh/S035R08_0_Alpha_Orbital and Polar Frontal Cortex-lh_T1.pkl', '/scratch/s194101/concepts/sanity_check_concepts_MMIDB_alpha_no_baseline/Alpha_Orbital and Polar Frontal Cortex-rh/S102R12_5_Alpha_Orbital and Polar Frontal Cortex-rh_T1.pkl', '/scratch/s194101/concepts/sanity_check_concepts_MMIDB_alpha_no_baseline/Alpha_Orbital and Polar Frontal Cortex-lh/S074R07_1_Alpha_Orbital and Polar Frontal Cortex-lh_T1.pkl', '/scratch/s194101/concepts/sanity_check_concepts_MMIDB_alpha_no_baseline/Alpha_Lateral Temporal Cortex-lh/S082R03_0_Alpha_Lateral Temporal Cortex-lh_T1.pkl']\n",
      "['/scratch/s194101/concepts/sanity_check_concepts_MMIDB_alpha_no_baseline/Alpha_Orbital and Polar Frontal Cortex-rh/S083R11_3_Alpha_Orbital and Polar Frontal Cortex-rh_T2.pkl', '/scratch/s194101/concepts/sanity_check_concepts_MMIDB_alpha_no_baseline/Alpha_Dorsal Stream Visual Cortex-rh/S078R11_3_Alpha_Dorsal Stream Visual Cortex-rh_T2.pkl', '/scratch/s194101/concepts/sanity_check_concepts_MMIDB_alpha_no_baseline/Alpha_Inferior Frontal Cortex-rh/S078R03_2_Alpha_Inferior Frontal Cortex-rh_T2.pkl', '/scratch/s194101/concepts/sanity_check_concepts_MMIDB_alpha_no_baseline/Alpha_Orbital and Polar Frontal Cortex-rh/S102R04_5_Alpha_Orbital and Polar Frontal Cortex-rh_T2.pkl', '/scratch/s194101/concepts/sanity_check_concepts_MMIDB_alpha_no_baseline/Alpha_Inferior Frontal Cortex-rh/S077R03_5_Alpha_Inferior Frontal Cortex-rh_T2.pkl', '/scratch/s194101/concepts/sanity_check_concepts_MMIDB_alpha_no_baseline/Alpha_Superior Parietal Cortex-rh/S071R12_3_Alpha_Superior Parietal Cortex-rh_T2.pkl', '/scratch/s194101/concepts/sanity_check_concepts_MMIDB_alpha_no_baseline/Alpha_Orbital and Polar Frontal Cortex-lh/S021R04_4_Alpha_Orbital and Polar Frontal Cortex-lh_T2.pkl', '/scratch/s194101/concepts/sanity_check_concepts_MMIDB_alpha_no_baseline/Alpha_Orbital and Polar Frontal Cortex-rh/S031R12_5_Alpha_Orbital and Polar Frontal Cortex-rh_T2.pkl', '/scratch/s194101/concepts/sanity_check_concepts_MMIDB_alpha_no_baseline/Alpha_Inferior Frontal Cortex-rh/S039R11_1_Alpha_Inferior Frontal Cortex-rh_T2.pkl', '/scratch/s194101/concepts/sanity_check_concepts_MMIDB_alpha_no_baseline/Alpha_Orbital and Polar Frontal Cortex-rh/S084R03_1_Alpha_Orbital and Polar Frontal Cortex-rh_T2.pkl']\n"
     ]
    }
   ],
   "source": [
    "data_dir = \"/scratch/s194101/concepts/sanity_check_concepts_MMIDB_alpha_no_baseline\"\n",
    "# isolate left and right (T1 and T2) concepts\n",
    "left_fist_files = glob(f\"{data_dir}/*/*_T1.pkl\")\n",
    "right_fist_files = glob(f\"{data_dir}/*/*_T2.pkl\")\n",
    "\n",
    "random.shuffle(left_fist_files)\n",
    "random.shuffle(right_fist_files)\n",
    "\n",
    "subset_left = left_fist_files[:1000]\n",
    "subset_right = right_fist_files[:1000]\n",
    "\n",
    "print(subset_left[:10])\n",
    "print(subset_right[:10])\n",
    "\n",
    "left_save_path = \"/scratch/s194101/concepts/random_left_concept_MMIDB_Alpha_sanity_check_1000_no_baseline/\"\n",
    "os.makedirs(left_save_path, exist_ok=True)\n",
    "for file in subset_left:\n",
    "    shutil.copy(file, left_save_path)\n",
    "\n",
    "right_save_path = \"/scratch/s194101/concepts/random_right_concept_MMIDB_Alpha_sanity_check_1000_no_baseline/\"\n",
    "os.makedirs(right_save_path, exist_ok=True)\n",
    "for file in subset_right:\n",
    "    shutil.copy(file, right_save_path)\n"
   ]
  },
  {
   "cell_type": "markdown",
   "metadata": {},
   "source": [
    "# whole datasets, not only subsets"
   ]
  },
  {
   "cell_type": "markdown",
   "metadata": {},
   "source": [
    "## MMIDB"
   ]
  },
  {
   "cell_type": "markdown",
   "metadata": {},
   "source": [
    "### Divide mmidb alpha into folder of T1, T2 and lh-rh"
   ]
  },
  {
   "cell_type": "code",
   "execution_count": 15,
   "metadata": {},
   "outputs": [
    {
     "name": "stdout",
     "output_type": "stream",
     "text": [
      "len(left_fist_files)=4653\n",
      "len(right_fist_files)=4599\n"
     ]
    }
   ],
   "source": [
    "data_dir = \"/scratch/s194101/concepts/sanity_check_concepts_MMIDB_alpha_baseline\"\n",
    "# isolate left and right (T1 and T2) concepts\n",
    "left_fist_files = glob(f\"{data_dir}/*/*_T1.pkl\")\n",
    "right_fist_files = glob(f\"{data_dir}/*/*_T2.pkl\")\n",
    "\n",
    "random.shuffle(left_fist_files)\n",
    "random.shuffle(right_fist_files)\n",
    "\n",
    "print(f\"{len(left_fist_files)=}\")\n",
    "print(f\"{len(right_fist_files)=}\")\n",
    "\n",
    "\n",
    "left_save_path = \"/scratch/s194101/concepts/mmidb_alpha_baseline_T1_whole/\"\n",
    "os.makedirs(left_save_path, exist_ok=True)\n",
    "for file in left_fist_files:\n",
    "    shutil.copy(file, left_save_path)\n",
    "\n",
    "right_save_path = \"/scratch/s194101/concepts/mmidb_alpha_baseline_T2_whole/\"\n",
    "os.makedirs(right_save_path, exist_ok=True)\n",
    "\n",
    "for file in right_fist_files:\n",
    "    shutil.copy(file, right_save_path)"
   ]
  },
  {
   "cell_type": "markdown",
   "metadata": {},
   "source": [
    "### lh-rh"
   ]
  },
  {
   "cell_type": "code",
   "execution_count": 12,
   "metadata": {},
   "outputs": [
    {
     "name": "stdout",
     "output_type": "stream",
     "text": [
      "len(files_lh)=8539\n",
      "len(files_rh)=9965\n"
     ]
    }
   ],
   "source": [
    "data_dir = \"/scratch/s194101/concepts/sanity_check_concepts_MMIDB_alpha_baseline\"\n",
    "# isolate lh and rh\n",
    "files_lh = glob(f\"{data_dir}/*-lh/*.pkl\")\n",
    "files_rh = glob(f\"{data_dir}/*-rh/*.pkl\")\n",
    "print(f\"{len(files_lh)=}\")\n",
    "print(f\"{len(files_rh)=}\")\n",
    "\n",
    "\n",
    "random.shuffle(files_lh)\n",
    "random.shuffle(files_rh)\n",
    "\n",
    "save_path_lh = \"/scratch/s194101/concepts/mmidb_alpha_baseline_lh_whole/\"\n",
    "os.makedirs(save_path_lh, exist_ok=True)\n",
    "for file in files_lh:\n",
    "    shutil.copy(file, save_path_lh)\n",
    "\n",
    "save_path_rh = \"/scratch/s194101/concepts/mmidb_alpha_baseline_rh_whole/\"\n",
    "os.makedirs(save_path_rh, exist_ok=True)\n",
    "for file in files_rh:\n",
    "    shutil.copy(file, save_path_rh)"
   ]
  },
  {
   "cell_type": "markdown",
   "metadata": {},
   "source": [
    "## TUH"
   ]
  },
  {
   "cell_type": "code",
   "execution_count": 9,
   "metadata": {},
   "outputs": [
    {
     "name": "stdout",
     "output_type": "stream",
     "text": [
      "len(tuh_all_files)=19342\n",
      "len(tuh_alpha_files)=19342\n"
     ]
    }
   ],
   "source": [
    "tuh_concepts_all_dir = \"/scratch/s194101/concepts/TUH_clean_all_subtract_Truesigma_Trueabs_100.0_135454_131124\"\n",
    "tuh_concepts_alpha_dir = \"/scratch/s194101/concepts/TUH_clean_alpha_subtract_Truesigma_Trueabs_100.0_142440_131124\"\n",
    "\n",
    "tuh_all_files = glob(f\"{tuh_concepts_all_dir}/*/*.pkl\")\n",
    "tuh_alpha_files = glob(f\"{tuh_concepts_alpha_dir}/*/*.pkl\")\n",
    "print(f\"{len(tuh_all_files)=}\")\n",
    "print(f\"{len(tuh_alpha_files)=}\")\n",
    "\n",
    "random.shuffle(tuh_all_files)\n",
    "random.shuffle(tuh_alpha_files)\n",
    "\n",
    "subset_all = tuh_all_files # whole\n",
    "subset_alpha = tuh_alpha_files # whole\n",
    "\n",
    "# print(subset_all[:10])\n",
    "# print(subset_alpha[:10])\n",
    "\n",
    "all_save_path = \"/scratch/s194101/concepts/random_tuh_all_whole/\"\n",
    "os.makedirs(all_save_path, exist_ok=True)\n",
    "for file in subset_all:\n",
    "    shutil.copy(file, all_save_path)\n",
    "\n",
    "alpha_save_path = \"/scratch/s194101/concepts/random_tuh_alpha_whole/\"\n",
    "os.makedirs(alpha_save_path, exist_ok=True)\n",
    "for file in subset_alpha:\n",
    "    shutil.copy(file, alpha_save_path)"
   ]
  }
 ],
 "metadata": {
  "kernelspec": {
   "display_name": "myenv",
   "language": "python",
   "name": "python3"
  },
  "language_info": {
   "codemirror_mode": {
    "name": "ipython",
    "version": 3
   },
   "file_extension": ".py",
   "mimetype": "text/x-python",
   "name": "python",
   "nbconvert_exporter": "python",
   "pygments_lexer": "ipython3",
   "version": "3.11.9"
  }
 },
 "nbformat": 4,
 "nbformat_minor": 2
}
