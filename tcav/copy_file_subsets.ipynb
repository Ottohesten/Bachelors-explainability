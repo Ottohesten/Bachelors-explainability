{
 "cells": [
  {
   "cell_type": "code",
   "execution_count": 2,
   "metadata": {},
   "outputs": [],
   "source": [
    "from glob import glob\n",
    "import random\n",
    "import shutil\n",
    "import os"
   ]
  },
  {
   "cell_type": "markdown",
   "metadata": {},
   "source": [
    "#### Making a folder of random sub-concepts for random concept"
   ]
  },
  {
   "cell_type": "code",
   "execution_count": null,
   "metadata": {},
   "outputs": [],
   "source": [
    "# concept_dir_tuh = \"TUH_clean_all_subtract_Truesigma_Trueabs_100.0_105454_281024\"\n",
    "# concept_dir_mmidb = \"/scratch/s194101/concepts/sanity_check_concepts_MMIDB_alpha\"\n",
    "concept_dir_mmidb = \"/scratch/s194101/concepts/left_right_concepts_MMIDB\"\n",
    "\n",
    "concept_dir = concept_dir_mmidb"
   ]
  },
  {
   "cell_type": "code",
   "execution_count": null,
   "metadata": {},
   "outputs": [],
   "source": [
    "files = glob(f\"{concept_dir}/*/*.pkl\")\n",
    "files[:10]"
   ]
  },
  {
   "cell_type": "code",
   "execution_count": null,
   "metadata": {},
   "outputs": [],
   "source": [
    "random.shuffle(files)"
   ]
  },
  {
   "cell_type": "code",
   "execution_count": null,
   "metadata": {},
   "outputs": [],
   "source": [
    "subset = files[:200]\n",
    "subset"
   ]
  },
  {
   "cell_type": "code",
   "execution_count": null,
   "metadata": {},
   "outputs": [],
   "source": [
    "# subset_save_path = \"random_tuh/\"\n",
    "# subset_save_path = \"/scratch/s194101/concepts/random_mmidb/\"\n",
    "subset_save_path = \"/scratch/s194101/concepts/random_mmidb_labeled/\"\n",
    "os.makedirs(subset_save_path, exist_ok=True)\n",
    "\n",
    "for file in subset:\n",
    "    shutil.copy(file, subset_save_path)"
   ]
  },
  {
   "cell_type": "markdown",
   "metadata": {},
   "source": [
    "## new random mmidb subsets"
   ]
  },
  {
   "cell_type": "markdown",
   "metadata": {},
   "source": [
    "### mmidb alpha concepts"
   ]
  },
  {
   "cell_type": "code",
   "execution_count": null,
   "metadata": {},
   "outputs": [
    {
     "name": "stdout",
     "output_type": "stream",
     "text": [
      "len(files)=18504\n",
      "len(subset)=200\n"
     ]
    }
   ],
   "source": [
    "# only alpha concepts\n",
    "concept_dir_mmidb_alpha = \"/scratch/s194101/concepts/sanity_check_concepts_MMIDB_alpha_new\"\n",
    "files = glob(f\"{concept_dir_mmidb_alpha}/*/*.pkl\")\n",
    "print(f\"{len(files)=}\")\n",
    "random.shuffle(files)\n",
    "subset = files[:200]\n",
    "print(f\"{len(subset)=}\")\n",
    "subset_save_path = \"/scratch/s194101/concepts/random_mmidb_alpha_new/\"\n",
    "os.makedirs(subset_save_path, exist_ok=True)\n",
    "for file in subset:\n",
    "    shutil.copy(file, subset_save_path)\n"
   ]
  },
  {
   "cell_type": "markdown",
   "metadata": {},
   "source": [
    "### mmidb all concepts"
   ]
  },
  {
   "cell_type": "code",
   "execution_count": null,
   "metadata": {},
   "outputs": [],
   "source": [
    "# only alpha concepts\n",
    "concept_dir_mmidb_all = \"\"\n",
    "files = glob(f\"{concept_dir_mmidb_all}/*/*.pkl\")\n",
    "print(f\"{len(files)=}\")\n",
    "random.shuffle(files)\n",
    "subset = files[:200]\n",
    "print(f\"{len(subset)=}\")\n",
    "subset_save_path = \"/scratch/s194101/concepts/random_mmidb_all_new/\"\n",
    "os.makedirs(subset_save_path, exist_ok=True)\n",
    "for file in subset:\n",
    "    shutil.copy(file, subset_save_path)\n"
   ]
  },
  {
   "cell_type": "markdown",
   "metadata": {},
   "source": [
    "#### Isolate left fist data and right fist data"
   ]
  },
  {
   "cell_type": "code",
   "execution_count": null,
   "metadata": {},
   "outputs": [],
   "source": [
    "# in the runs we are working with T1 is left fist movememnt and T2 is right fist movement\n",
    "left_right_data_dir = \"/scratch/s194101/concepts/left_right_concepts_MMIDB/\"\n",
    "left_fist_files = glob(f\"{left_right_data_dir}/*Alpha*/*_T1.pkl\")\n",
    "right_fist_files = glob(f\"{left_right_data_dir}/*Alpha*/*_T2.pkl\")\n",
    "# left_fist_files = glob(f\"{left_right_data_dir}/*/*_T1.pkl\")\n",
    "# right_fist_files = glob(f\"{left_right_data_dir}/*/*_T2.pkl\")\n",
    "\n",
    "random.shuffle(left_fist_files)\n",
    "random.shuffle(right_fist_files)\n",
    "\n",
    "subset_left = left_fist_files[:200]\n",
    "subset_right = right_fist_files[:200]\n",
    "\n",
    "print(subset_left[:10])\n",
    "print(subset_right[:10])\n",
    "\n",
    "\n",
    "left_save_path = \"/scratch/s194101/concepts/random_left_concept_MMIDB_Alpha/\"\n",
    "# left_save_path = \"/scratch/s194101/concepts/random_left_concept_MMIDB/\"\n",
    "os.makedirs(left_save_path, exist_ok=True)\n",
    "for file in subset_left:\n",
    "    shutil.copy(file, left_save_path)\n",
    "\n",
    "right_save_path = \"/scratch/s194101/concepts/random_right_concept_MMIDB_Alpha/\"\n",
    "# right_save_path = \"/scratch/s194101/concepts/random_right_concept_MMIDB/\"\n",
    "os.makedirs(right_save_path, exist_ok=True)\n",
    "for file in subset_right:\n",
    "    shutil.copy(file, right_save_path)"
   ]
  },
  {
   "cell_type": "code",
   "execution_count": 24,
   "metadata": {},
   "outputs": [
    {
     "name": "stdout",
     "output_type": "stream",
     "text": [
      "['/scratch/s194101/concepts/sanity_check_concepts_MMIDB_alpha_new/Alpha_Orbital and Polar Frontal Cortex-rh/S095R07_2_Alpha_Orbital and Polar Frontal Cortex-rh_T1.pkl', '/scratch/s194101/concepts/sanity_check_concepts_MMIDB_alpha_new/Alpha_DorsoLateral Prefrontal Cortex-rh/S041R08_2_Alpha_DorsoLateral Prefrontal Cortex-rh_T1.pkl', '/scratch/s194101/concepts/sanity_check_concepts_MMIDB_alpha_new/Alpha_Orbital and Polar Frontal Cortex-lh/S037R08_0_Alpha_Orbital and Polar Frontal Cortex-lh_T1.pkl', '/scratch/s194101/concepts/sanity_check_concepts_MMIDB_alpha_new/Alpha_Orbital and Polar Frontal Cortex-rh/S103R08_1_Alpha_Orbital and Polar Frontal Cortex-rh_T1.pkl', '/scratch/s194101/concepts/sanity_check_concepts_MMIDB_alpha_new/Alpha_Orbital and Polar Frontal Cortex-rh/S070R03_1_Alpha_Orbital and Polar Frontal Cortex-rh_T1.pkl', '/scratch/s194101/concepts/sanity_check_concepts_MMIDB_alpha_new/Alpha_Auditory Association Cortex-rh/S073R07_1_Alpha_Auditory Association Cortex-rh_T1.pkl', '/scratch/s194101/concepts/sanity_check_concepts_MMIDB_alpha_new/Alpha_Inferior Frontal Cortex-lh/S078R11_5_Alpha_Inferior Frontal Cortex-lh_T1.pkl', '/scratch/s194101/concepts/sanity_check_concepts_MMIDB_alpha_new/Alpha_Superior Parietal Cortex-lh/S079R03_1_Alpha_Superior Parietal Cortex-lh_T1.pkl', '/scratch/s194101/concepts/sanity_check_concepts_MMIDB_alpha_new/Alpha_Orbital and Polar Frontal Cortex-rh/S010R12_0_Alpha_Orbital and Polar Frontal Cortex-rh_T1.pkl', '/scratch/s194101/concepts/sanity_check_concepts_MMIDB_alpha_new/Alpha_Orbital and Polar Frontal Cortex-lh/S036R12_0_Alpha_Orbital and Polar Frontal Cortex-lh_T1.pkl']\n",
      "['/scratch/s194101/concepts/sanity_check_concepts_MMIDB_alpha_new/Alpha_Paracentral Lobular and Mid Cingulate Cortex-rh/S034R12_0_Alpha_Paracentral Lobular and Mid Cingulate Cortex-rh_T2.pkl', '/scratch/s194101/concepts/sanity_check_concepts_MMIDB_alpha_new/Alpha_Orbital and Polar Frontal Cortex-lh/S072R08_7_Alpha_Orbital and Polar Frontal Cortex-lh_T2.pkl', '/scratch/s194101/concepts/sanity_check_concepts_MMIDB_alpha_new/Alpha_Inferior Frontal Cortex-rh/S049R07_7_Alpha_Inferior Frontal Cortex-rh_T2.pkl', '/scratch/s194101/concepts/sanity_check_concepts_MMIDB_alpha_new/Alpha_Orbital and Polar Frontal Cortex-lh/S083R07_5_Alpha_Orbital and Polar Frontal Cortex-lh_T2.pkl', '/scratch/s194101/concepts/sanity_check_concepts_MMIDB_alpha_new/Alpha_Orbital and Polar Frontal Cortex-rh/S031R11_4_Alpha_Orbital and Polar Frontal Cortex-rh_T2.pkl', '/scratch/s194101/concepts/sanity_check_concepts_MMIDB_alpha_new/Alpha_Orbital and Polar Frontal Cortex-lh/S043R07_5_Alpha_Orbital and Polar Frontal Cortex-lh_T2.pkl', '/scratch/s194101/concepts/sanity_check_concepts_MMIDB_alpha_new/Alpha_MT+ Complex and Neighboring Visual Areas-rh/S010R07_3_Alpha_MT+ Complex and Neighboring Visual Areas-rh_T2.pkl', '/scratch/s194101/concepts/sanity_check_concepts_MMIDB_alpha_new/Alpha_DorsoLateral Prefrontal Cortex-rh/S020R04_5_Alpha_DorsoLateral Prefrontal Cortex-rh_T2.pkl', '/scratch/s194101/concepts/sanity_check_concepts_MMIDB_alpha_new/Alpha_DorsoLateral Prefrontal Cortex-rh/S041R03_1_Alpha_DorsoLateral Prefrontal Cortex-rh_T2.pkl', '/scratch/s194101/concepts/sanity_check_concepts_MMIDB_alpha_new/Alpha_Inferior Frontal Cortex-rh/S100R12_2_Alpha_Inferior Frontal Cortex-rh_T2.pkl']\n"
     ]
    }
   ],
   "source": [
    "sanity_check_concepts_dir = \"/scratch/s194101/concepts/sanity_check_concepts_MMIDB_alpha_new\"\n",
    "# isolate left and right (T1 and T2) concepts\n",
    "left_fist_files = glob(f\"{sanity_check_concepts_dir}/*/*_T1.pkl\")\n",
    "right_fist_files = glob(f\"{sanity_check_concepts_dir}/*/*_T2.pkl\")\n",
    "\n",
    "random.shuffle(left_fist_files)\n",
    "random.shuffle(right_fist_files)\n",
    "\n",
    "subset_left = left_fist_files[:1000]\n",
    "subset_right = right_fist_files[:1000]\n",
    "\n",
    "print(subset_left[:10])\n",
    "print(subset_right[:10])\n",
    "\n",
    "left_save_path = \"/scratch/s194101/concepts/random_left_concept_MMIDB_Alpha_sanity_check_1000/\"\n",
    "os.makedirs(left_save_path, exist_ok=True)\n",
    "for file in subset_left:\n",
    "    shutil.copy(file, left_save_path)\n",
    "\n",
    "right_save_path = \"/scratch/s194101/concepts/random_right_concept_MMIDB_Alpha_sanity_check_1000/\"\n",
    "os.makedirs(right_save_path, exist_ok=True)\n",
    "for file in subset_right:\n",
    "    shutil.copy(file, right_save_path)\n",
    "\n",
    "\n"
   ]
  },
  {
   "cell_type": "markdown",
   "metadata": {},
   "source": [
    "# make a random set of tuh concepts"
   ]
  },
  {
   "cell_type": "code",
   "execution_count": 4,
   "metadata": {},
   "outputs": [
    {
     "name": "stdout",
     "output_type": "stream",
     "text": [
      "len(tuh_all_files)=19342\n",
      "len(tuh_alpha_files)=19342\n"
     ]
    }
   ],
   "source": [
    "tuh_concepts_all_dir = \"/scratch/s194101/concepts/TUH_clean_all_subtract_Truesigma_Trueabs_100.0_135454_131124\"\n",
    "tuh_concepts_alpha_dir = \"/scratch/s194101/concepts/TUH_clean_alpha_subtract_Truesigma_Trueabs_100.0_142440_131124\"\n",
    "\n",
    "tuh_all_files = glob(f\"{tuh_concepts_all_dir}/*/*.pkl\")\n",
    "tuh_alpha_files = glob(f\"{tuh_concepts_alpha_dir}/*/*.pkl\")\n",
    "print(f\"{len(tuh_all_files)=}\")\n",
    "print(f\"{len(tuh_alpha_files)=}\")\n",
    "\n",
    "random.shuffle(tuh_all_files)\n",
    "random.shuffle(tuh_alpha_files)\n",
    "\n",
    "subset_all = tuh_all_files[:1000]\n",
    "subset_alpha = tuh_alpha_files[:1000]\n",
    "\n",
    "# print(subset_all[:10])\n",
    "# print(subset_alpha[:10])\n",
    "\n",
    "all_save_path = \"/scratch/s194101/concepts/random_tuh_all_1000/\"\n",
    "os.makedirs(all_save_path, exist_ok=True)\n",
    "for file in subset_all:\n",
    "    shutil.copy(file, all_save_path)\n",
    "\n",
    "alpha_save_path = \"/scratch/s194101/concepts/random_tuh_alpha_1000/\"\n",
    "os.makedirs(alpha_save_path, exist_ok=True)\n",
    "for file in subset_alpha:\n",
    "    shutil.copy(file, alpha_save_path)\n",
    "\n",
    "# sanity check concepts"
   ]
  },
  {
   "cell_type": "markdown",
   "metadata": {},
   "source": [
    "# TUEV - random dir"
   ]
  },
  {
   "cell_type": "code",
   "execution_count": 2,
   "metadata": {},
   "outputs": [
    {
     "name": "stdout",
     "output_type": "stream",
     "text": [
      "len(tuev_files)=9758\n"
     ]
    }
   ],
   "source": [
    "tuev_dir_path = \"/scratch/s194101/concepts/TUEV\"\n",
    "\n",
    "tuev_files = glob(f\"{tuev_dir_path}/*/*.pkl\")\n",
    "print(f\"{len(tuev_files)=}\")\n",
    "random.shuffle(tuev_files)\n",
    "subset = tuev_files[:200]\n",
    "\n",
    "subset_save_path = \"/scratch/s194101/concepts/TUEV/random/\"\n",
    "os.makedirs(subset_save_path, exist_ok=True)\n",
    "for file in subset:\n",
    "    shutil.copy(file, subset_save_path)\n",
    "\n"
   ]
  },
  {
   "cell_type": "markdown",
   "metadata": {},
   "source": [
    "# MMIDB subset of left and right hemisphere"
   ]
  },
  {
   "cell_type": "markdown",
   "metadata": {},
   "source": [
    "## Alpha"
   ]
  },
  {
   "cell_type": "code",
   "execution_count": null,
   "metadata": {},
   "outputs": [
    {
     "name": "stdout",
     "output_type": "stream",
     "text": [
      "len(files_lh)=9012\n",
      "len(files_rh)=9492\n"
     ]
    }
   ],
   "source": [
    "mmidb_alpha_data_dir = \"/scratch/s194101/concepts/sanity_check_concepts_MMIDB_alpha_no_baseline\"\n",
    "\n",
    "files_lh = glob(f\"{mmidb_alpha_data_dir}/*-lh/*.pkl\")\n",
    "print(f\"{len(files_lh)=}\")\n",
    "random.shuffle(files_lh)\n",
    "subset_lh = files_lh[:200]\n",
    "\n",
    "files_rh = glob(f\"{mmidb_alpha_data_dir}/*-rh/*.pkl\")\n",
    "print(f\"{len(files_rh)=}\")\n",
    "random.shuffle(files_rh)\n",
    "subset_rh = files_rh[:200]\n",
    "\n",
    "lh_save_path = \"/scratch/s194101/concepts/random_mmidb_alpha_no_baseline_lh/\"\n",
    "os.makedirs(lh_save_path, exist_ok=True)\n",
    "for file in subset_lh:\n",
    "    shutil.copy(file, lh_save_path)\n",
    "\n",
    "rh_save_path = \"/scratch/s194101/concepts/random_mmidb_alpha_no_baseline_rh/\"\n",
    "os.makedirs(rh_save_path, exist_ok=True)\n",
    "for file in subset_rh:\n",
    "    shutil.copy(file, rh_save_path)\n",
    "\n",
    "    \n"
   ]
  },
  {
   "cell_type": "markdown",
   "metadata": {},
   "source": [
    "### Only with T0"
   ]
  },
  {
   "cell_type": "code",
   "execution_count": null,
   "metadata": {},
   "outputs": [
    {
     "name": "stdout",
     "output_type": "stream",
     "text": [
      "len(files_lh)=4489\n",
      "len(files_rh)=4763\n"
     ]
    }
   ],
   "source": [
    "mmidb_alpha_data_dir = \"/scratch/s194101/concepts/sanity_check_concepts_MMIDB_alpha_no_baseline\"\n",
    "\n",
    "files_lh = glob(f\"{mmidb_alpha_data_dir}/*-lh/*_T0.pkl\")\n",
    "print(f\"{len(files_lh)=}\")\n",
    "random.shuffle(files_lh)\n",
    "subset_lh = files_lh[:200]\n",
    "\n",
    "files_rh = glob(f\"{mmidb_alpha_data_dir}/*-rh/*_T0.pkl\")\n",
    "print(f\"{len(files_rh)=}\")\n",
    "random.shuffle(files_rh)\n",
    "subset_rh = files_rh[:200]\n",
    "\n",
    "lh_save_path = \"/scratch/s194101/concepts/random_mmidb_alpha_no_baseline_T0_lh/\"\n",
    "os.makedirs(lh_save_path, exist_ok=True)\n",
    "for file in subset_lh:\n",
    "    shutil.copy(file, lh_save_path)\n",
    "\n",
    "rh_save_path = \"/scratch/s194101/concepts/random_mmidb_alpha_no_baseline_T0_rh/\"\n",
    "os.makedirs(rh_save_path, exist_ok=True)\n",
    "for file in subset_rh:\n",
    "    shutil.copy(file, rh_save_path)\n",
    "\n",
    "    "
   ]
  },
  {
   "cell_type": "markdown",
   "metadata": {},
   "source": [
    "## Gamma"
   ]
  },
  {
   "cell_type": "code",
   "execution_count": 4,
   "metadata": {},
   "outputs": [
    {
     "name": "stdout",
     "output_type": "stream",
     "text": [
      "len(files_lh)=2642\n",
      "len(files_rh)=3390\n"
     ]
    }
   ],
   "source": [
    "mmidb_all_data_dir = \"/scratch/s194101/concepts/sanity_check_concepts_MMIDB_all_no_baseline\"\n",
    "\n",
    "files_lh = glob(f\"{mmidb_all_data_dir}/Gamma_*-lh/*.pkl\")\n",
    "print(f\"{len(files_lh)=}\")\n",
    "random.shuffle(files_lh)\n",
    "subset_lh = files_lh[:200]\n",
    "\n",
    "files_rh = glob(f\"{mmidb_all_data_dir}/Gamma_*-rh/*.pkl\")\n",
    "print(f\"{len(files_rh)=}\")\n",
    "random.shuffle(files_rh)\n",
    "subset_rh = files_rh[:200]\n",
    "\n",
    "lh_save_path = \"/scratch/s194101/concepts/random_mmidb_gamma_no_baseline_lh/\"\n",
    "os.makedirs(lh_save_path, exist_ok=True)\n",
    "for file in subset_lh:\n",
    "    shutil.copy(file, lh_save_path)\n",
    "\n",
    "rh_save_path = \"/scratch/s194101/concepts/random_mmidb_gamma_no_baseline_rh/\"\n",
    "os.makedirs(rh_save_path, exist_ok=True)\n",
    "for file in subset_rh:\n",
    "    shutil.copy(file, rh_save_path)"
   ]
  }
 ],
 "metadata": {
  "kernelspec": {
   "display_name": "myenv",
   "language": "python",
   "name": "python3"
  },
  "language_info": {
   "codemirror_mode": {
    "name": "ipython",
    "version": 3
   },
   "file_extension": ".py",
   "mimetype": "text/x-python",
   "name": "python",
   "nbconvert_exporter": "python",
   "pygments_lexer": "ipython3",
   "version": "3.11.9"
  }
 },
 "nbformat": 4,
 "nbformat_minor": 2
}
